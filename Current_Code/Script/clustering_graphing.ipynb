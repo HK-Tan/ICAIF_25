{
 "cells": [
  {
   "cell_type": "code",
   "execution_count": 1,
   "metadata": {},
   "outputs": [],
   "source": [
    "from scipy.optimize import linear_sum_assignment\n",
    "from sklearn.metrics import confusion_matrix\n",
    "\n",
    "from tqdm import tqdm\n",
    "\n",
    "def compute_clusters_over_time(labels_unaligned, num_days_to_cluster):\n",
    "\n",
    "    labels_list = []\n",
    "    for day in tqdm(range(num_days_to_cluster*20, 0, -20)):\n",
    "        # IZ: Find the optimal label alignment by solving the hungarian matching problem\n",
    "        if day == 0:\n",
    "            # For the first day, the initial labels are fine\n",
    "            labels_aligned = labels_unaligned[day]\n",
    "        else:\n",
    "            # For the second day onward, try to align the current labels with the most recent day\n",
    "            # labels_last = labels_list[-1]\n",
    "            labels_last = labels_unaligned[day-1]\n",
    "            # Compute the confusion matrix between the two labelings\n",
    "            conf_mat = confusion_matrix(labels_last, labels_unaligned[day])\n",
    "            # Compute the linear sum assignment / matching problem\n",
    "            row_ind, col_ind = linear_sum_assignment(-conf_mat)\n",
    "            mapping = dict(zip(col_ind, row_ind))\n",
    "            labels_aligned = np.vectorize(mapping.get)(labels_unaligned[day])\n",
    "\n",
    "        labels_list.append(labels_aligned)\n",
    "\n",
    "    labels_arr = np.stack(labels_list, axis=0)\n",
    "    return labels_arr"
   ]
  },
  {
   "cell_type": "code",
   "execution_count": 2,
   "metadata": {},
   "outputs": [],
   "source": [
    "import os\n",
    "PATH = os.path.dirname(os.getcwd())\n",
    "os.chdir(PATH + \"/Data/Cluster Labels\")"
   ]
  },
  {
   "cell_type": "code",
   "execution_count": 12,
   "metadata": {},
   "outputs": [
    {
     "name": "stdout",
     "output_type": "stream",
     "text": [
      "ticker      AA  AAA  AAC  AAG  AAI  AAIC  AAIR  AAL  AAM  AAN  ...  ZQK  ZTO  \\\n",
      "date                                                           ...             \n",
      "2000-12-29   5    2    6    7    3     2     7    2    7    2  ...    2    2   \n",
      "2001-01-02   3    6    0    1    7     6     7    6    7    6  ...    6    6   \n",
      "2001-01-03   1    1    2    7    6     1     7    1    6    1  ...    1    1   \n",
      "2001-01-04   7    0    1    6    7     0     6    0    7    0  ...    0    0   \n",
      "2001-01-05   4    0    4    6    4     0     6    0    4    0  ...    0    0   \n",
      "\n",
      "ticker      ZTR  ZTS  ZUO  ZVO  ZWS  ZX  ZYME  ZZ  \n",
      "date                                               \n",
      "2000-12-29    3    2    2    2    2   2     2   2  \n",
      "2001-01-02    7    6    6    6    6   6     6   6  \n",
      "2001-01-03    6    1    1    1    1   1     1   1  \n",
      "2001-01-04    7    0    0    0    0   0     0   0  \n",
      "2001-01-05    6    0    0    0    0   0     0   0  \n",
      "\n",
      "[5 rows x 6089 columns]\n",
      "ticker      AA  AAA  AAC  AAG  AAI  AAIC  AAIR  AAL  AAM  AAN  ...  ZQK  ZTO  \\\n",
      "date                                                           ...             \n",
      "2021-12-27   5    0    3    2    2     2     2    5    2    2  ...    2    0   \n",
      "2021-12-28   6    2    5    3    3     6     3    1    3    6  ...    3    2   \n",
      "2021-12-29   5    3    7    0    0     0     0    5    0    0  ...    0    3   \n",
      "2021-12-30   5    3    4    1    1     5     1    5    1    6  ...    1    3   \n",
      "2021-12-31   2    7    3    0    0     2     0    2    0    2  ...    0    7   \n",
      "\n",
      "ticker      ZTR  ZTS  ZUO  ZVO  ZWS  ZX  ZYME  ZZ  \n",
      "date                                               \n",
      "2021-12-27    0    5    1    1    0   2     0   2  \n",
      "2021-12-28    2    1    6    4    2   3     2   3  \n",
      "2021-12-29    0    5    2    2    3   0     2   0  \n",
      "2021-12-30    3    5    0    7    3   1     7   1  \n",
      "2021-12-31    7    4    2    4    7   0     7   0  \n",
      "\n",
      "[5 rows x 6089 columns]\n",
      "ticker            AA  AAA       AAC       AAG  AAI  AAIC      AAIR  AAL  \\\n",
      "date                                                                      \n",
      "2000-01-03 -0.013042  NaN  0.027780 -0.024693  NaN   NaN  0.006969  NaN   \n",
      "2000-01-04  0.010043  NaN -0.013986 -0.003604  NaN   NaN  0.013986  NaN   \n",
      "2000-01-05  0.047628  NaN -0.013986  0.003604  NaN   NaN  0.054067  NaN   \n",
      "2000-01-06 -0.011713  NaN  0.013986 -0.003604  NaN   NaN  0.065383  NaN   \n",
      "2000-01-07 -0.016118  NaN  0.013793  0.003604  NaN   NaN  0.006270  NaN   \n",
      "\n",
      "ticker           AAM  AAN  ...       ZQK  ZTO       ZTR  ZTS  ZUO  ZVO  ZWS  \\\n",
      "date                       ...                                                \n",
      "2000-01-03  0.143101  NaN  ... -0.037271  NaN  0.000000  NaN  NaN  NaN  NaN   \n",
      "2000-01-04  0.068993  NaN  ... -0.030371  NaN  0.018868  NaN  NaN  NaN  NaN   \n",
      "2000-01-05 -0.074108  NaN  ... -0.008929  NaN  0.009479  NaN  NaN  NaN  NaN   \n",
      "2000-01-06 -0.080043  NaN  ...  0.000000  NaN  0.009390  NaN  NaN  NaN  NaN   \n",
      "2000-01-07  0.000000  NaN  ...  0.004494  NaN  0.009217  NaN  NaN  NaN  NaN   \n",
      "\n",
      "ticker      ZX  ZYME  ZZ  \n",
      "date                      \n",
      "2000-01-03 NaN   NaN NaN  \n",
      "2000-01-04 NaN   NaN NaN  \n",
      "2000-01-05 NaN   NaN NaN  \n",
      "2000-01-06 NaN   NaN NaN  \n",
      "2000-01-07 NaN   NaN NaN  \n",
      "\n",
      "[5 rows x 6089 columns]\n",
      "ticker            AA     AAA       AAC  AAG  AAI      AAIC  AAIR       AAL  \\\n",
      "date                                                                         \n",
      "2021-12-27  0.024705  0.0000 -0.003075  NaN  NaN  0.000000   NaN  0.028470   \n",
      "2021-12-28 -0.001519  0.0002  0.000000  NaN  NaN  0.002837   NaN  0.027894   \n",
      "2021-12-29  0.008420  0.0004  0.000000  NaN  NaN -0.005698   NaN -0.019205   \n",
      "2021-12-30 -0.007907 -0.0004  0.000000  NaN  NaN  0.005747   NaN  0.005271   \n",
      "2021-12-31  0.007074  0.0000  0.000000  NaN  NaN  0.002861   NaN -0.006106   \n",
      "\n",
      "ticker      AAM       AAN  ...  ZQK       ZTO       ZTR       ZTS       ZUO  \\\n",
      "date                       ...                                                \n",
      "2021-12-27  NaN  0.011345  ...  NaN -0.014357 -0.003163  0.008637  0.018893   \n",
      "2021-12-28  NaN  0.006077  ...  NaN  0.000000 -0.005266 -0.011196 -0.029255   \n",
      "2021-12-29  NaN  0.003637  ...  NaN -0.003731 -0.001052  0.012260  0.000524   \n",
      "2021-12-30  NaN -0.010582  ...  NaN  0.051726  0.001057 -0.007680 -0.003672   \n",
      "2021-12-31  NaN  0.004065  ...  NaN  0.015715  0.004224 -0.004620 -0.018038   \n",
      "\n",
      "ticker           ZVO       ZWS  ZX      ZYME  ZZ  \n",
      "date                                              \n",
      "2021-12-27 -0.048790  0.003021 NaN -0.039051 NaN  \n",
      "2021-12-28 -0.037458  0.008217 NaN  0.001905 NaN  \n",
      "2021-12-29 -0.023347  0.002999 NaN -0.036838 NaN  \n",
      "2021-12-30  0.038915 -0.012886 NaN  0.072398 NaN  \n",
      "2021-12-31 -0.038615  0.007722 NaN  0.022833 NaN  \n",
      "\n",
      "[5 rows x 6089 columns]\n",
      "ticker      AA  AAA  AAC  AAG  AAI  AAIC  AAIR  AAL  AAM  AAN  ...  ZQK  ZTO  \\\n",
      "date                                                           ...             \n",
      "2000-12-29   5    0    6    0    3     0     0    0    7    0  ...    2    0   \n",
      "2001-01-02   3    0    6    0    7     0     0    0    7    0  ...    6    0   \n",
      "2001-01-03   1    0    2    0    6     0     0    0    6    0  ...    1    0   \n",
      "2001-01-04   7    0    1    0    7     0     0    0    7    0  ...    0    0   \n",
      "2001-01-05   4    0    4    0    4     0     0    0    4    0  ...    0    0   \n",
      "\n",
      "ticker      ZTR  ZTS  ZUO  ZVO  ZWS  ZX  ZYME  ZZ  \n",
      "date                                               \n",
      "2000-12-29    3    0    0    0    0   0     0   0  \n",
      "2001-01-02    7    0    0    0    0   0     0   0  \n",
      "2001-01-03    6    0    0    0    0   0     0   0  \n",
      "2001-01-04    7    0    0    0    0   0     0   0  \n",
      "2001-01-05    6    0    0    0    0   0     0   0  \n",
      "\n",
      "[5 rows x 6089 columns]\n",
      "ticker      AA  AAA  AAC  AAG  AAI  AAIC  AAIR  AAL  AAM  AAN  ...  ZQK  ZTO  \\\n",
      "date                                                           ...             \n",
      "2021-12-27   5    2    3    0    0     2     0    5    0    2  ...    0    2   \n",
      "2021-12-28   6    2    5    0    0     6     0    1    0    6  ...    0    2   \n",
      "2021-12-29   5    3    7    0    0     0     0    5    0    0  ...    0    3   \n",
      "2021-12-30   5    3    4    0    0     5     0    5    0    6  ...    0    3   \n",
      "2021-12-31   2    7    3    0    0     2     0    2    0    2  ...    0    7   \n",
      "\n",
      "ticker      ZTR  ZTS  ZUO  ZVO  ZWS  ZX  ZYME  ZZ  \n",
      "date                                               \n",
      "2021-12-27    2    5    1    1    2   0     2   0  \n",
      "2021-12-28    2    1    6    4    2   0     2   0  \n",
      "2021-12-29    0    5    2    2    3   0     2   0  \n",
      "2021-12-30    3    5    1    7    3   0     7   0  \n",
      "2021-12-31    7    4    2    4    7   0     7   0  \n",
      "\n",
      "[5 rows x 6089 columns]\n"
     ]
    },
    {
     "name": "stderr",
     "output_type": "stream",
     "text": [
      "100%|██████████| 10/10 [00:00<00:00, 199.70it/s]"
     ]
    },
    {
     "name": "stdout",
     "output_type": "stream",
     "text": [
      "[1 2 3 4 5 6 7]\n"
     ]
    },
    {
     "name": "stderr",
     "output_type": "stream",
     "text": [
      "\n"
     ]
    },
    {
     "data": {
      "application/vnd.plotly.v1+json": {
       "config": {
        "plotlyServerURL": "https://plot.ly"
       },
       "data": [
        {
         "link": {
          "source": [
           0,
           0,
           0,
           0,
           0,
           0,
           0,
           1,
           1,
           1,
           1,
           1,
           1,
           1,
           2,
           2,
           2,
           2,
           2,
           2,
           2,
           3,
           3,
           3,
           3,
           3,
           3,
           4,
           4,
           4,
           4,
           4,
           4,
           4,
           5,
           5,
           5,
           5,
           5,
           5,
           5,
           6,
           6,
           6,
           6,
           6,
           6,
           6,
           7,
           7,
           7,
           7,
           7,
           7,
           7,
           8,
           8,
           8,
           8,
           8,
           8,
           9,
           9,
           9,
           9,
           9,
           9,
           9,
           10,
           10,
           10,
           10,
           10,
           10,
           10,
           11,
           11,
           11,
           11,
           11,
           11,
           11,
           12,
           12,
           12,
           12,
           12,
           12,
           12,
           13,
           13,
           13,
           13,
           13,
           13,
           13,
           14,
           14,
           14,
           14,
           14,
           14,
           14,
           15,
           15,
           15,
           15,
           15,
           15,
           15,
           16,
           16,
           16,
           16,
           16,
           16,
           16,
           17,
           17,
           17,
           17,
           17,
           17,
           17,
           18,
           18,
           18,
           18,
           18,
           18,
           18,
           19,
           19,
           19,
           19,
           19,
           19,
           20,
           20,
           20,
           20,
           20,
           20,
           20,
           21,
           21,
           21,
           21,
           21,
           21,
           21,
           22,
           22,
           22,
           22,
           22,
           22,
           22,
           23,
           23,
           23,
           23,
           23,
           23,
           23,
           24,
           24,
           24,
           24,
           24,
           24,
           24,
           25,
           25,
           25,
           25,
           25,
           25,
           26,
           26,
           26,
           26,
           26,
           26,
           26,
           27,
           27,
           27,
           27,
           27,
           27,
           27,
           28,
           28,
           28,
           28,
           28,
           28,
           28,
           29,
           29,
           29,
           29,
           29,
           29,
           30,
           30,
           30,
           30,
           30,
           30,
           30,
           31,
           31,
           31,
           31,
           31,
           31,
           32,
           32,
           32,
           32,
           32,
           32,
           32,
           33,
           33,
           33,
           33,
           33,
           33,
           33,
           34,
           34,
           34,
           34,
           34,
           35,
           35,
           35,
           35,
           35,
           35,
           36,
           36,
           36,
           36,
           36,
           37,
           37,
           37,
           37,
           37,
           37,
           37,
           38,
           38,
           38,
           38,
           38,
           38,
           38,
           39,
           39,
           39,
           39,
           39,
           39,
           40,
           40,
           40,
           40,
           40,
           40,
           40,
           41,
           41,
           41,
           41,
           41,
           41,
           41,
           42,
           42,
           42,
           42,
           42,
           42,
           42,
           43,
           43,
           43,
           43,
           43,
           43,
           43,
           44,
           44,
           44,
           44,
           44,
           44,
           44,
           45,
           45,
           45,
           45,
           45,
           45,
           45,
           46,
           46,
           46,
           46,
           46,
           46,
           46,
           47,
           47,
           47,
           47,
           47,
           47,
           47,
           48,
           48,
           48,
           48,
           48,
           48,
           48,
           49,
           49,
           49,
           49,
           49,
           49,
           49,
           50,
           50,
           50,
           50,
           50,
           50,
           50,
           51,
           51,
           51,
           51,
           51,
           51,
           52,
           52,
           52,
           52,
           52,
           52,
           52,
           53,
           53,
           53,
           53,
           53,
           53,
           53,
           54,
           54,
           54,
           54,
           54,
           54,
           54,
           55,
           55,
           55,
           55,
           55,
           55,
           55,
           56,
           56,
           56,
           56,
           56,
           56,
           56,
           57,
           57,
           57,
           57,
           57,
           57,
           57,
           58,
           58,
           58,
           58,
           58,
           58,
           58,
           59,
           59,
           59,
           59,
           59,
           59,
           59,
           60,
           60,
           60,
           60,
           60,
           60,
           61,
           61,
           61,
           61,
           61,
           61,
           61,
           62,
           62,
           62,
           62,
           62,
           62,
           62
          ],
          "target": [
           7,
           8,
           9,
           10,
           11,
           12,
           13,
           7,
           8,
           9,
           10,
           11,
           12,
           13,
           7,
           8,
           9,
           10,
           11,
           12,
           13,
           7,
           9,
           10,
           11,
           12,
           13,
           7,
           8,
           9,
           10,
           11,
           12,
           13,
           7,
           8,
           9,
           10,
           11,
           12,
           13,
           7,
           8,
           9,
           10,
           11,
           12,
           13,
           14,
           15,
           16,
           17,
           18,
           19,
           20,
           14,
           15,
           16,
           17,
           18,
           20,
           14,
           15,
           16,
           17,
           18,
           19,
           20,
           14,
           15,
           16,
           17,
           18,
           19,
           20,
           14,
           15,
           16,
           17,
           18,
           19,
           20,
           14,
           15,
           16,
           17,
           18,
           19,
           20,
           14,
           15,
           16,
           17,
           18,
           19,
           20,
           21,
           22,
           23,
           24,
           25,
           26,
           27,
           21,
           22,
           23,
           24,
           25,
           26,
           27,
           21,
           22,
           23,
           24,
           25,
           26,
           27,
           21,
           22,
           23,
           24,
           25,
           26,
           27,
           21,
           22,
           23,
           24,
           25,
           26,
           27,
           21,
           22,
           23,
           24,
           26,
           27,
           21,
           22,
           23,
           24,
           25,
           26,
           27,
           28,
           29,
           30,
           31,
           32,
           33,
           34,
           28,
           29,
           30,
           31,
           32,
           33,
           34,
           28,
           29,
           30,
           31,
           32,
           33,
           34,
           28,
           29,
           30,
           31,
           32,
           33,
           34,
           28,
           29,
           30,
           32,
           33,
           34,
           28,
           29,
           30,
           31,
           32,
           33,
           34,
           28,
           29,
           30,
           31,
           32,
           33,
           34,
           35,
           36,
           37,
           38,
           39,
           40,
           41,
           35,
           37,
           38,
           39,
           40,
           41,
           35,
           36,
           37,
           38,
           39,
           40,
           41,
           36,
           37,
           38,
           39,
           40,
           41,
           35,
           36,
           37,
           38,
           39,
           40,
           41,
           35,
           36,
           37,
           38,
           39,
           40,
           41,
           36,
           38,
           39,
           40,
           41,
           42,
           43,
           44,
           45,
           46,
           47,
           43,
           44,
           45,
           46,
           47,
           42,
           43,
           44,
           45,
           46,
           47,
           48,
           42,
           43,
           44,
           45,
           46,
           47,
           48,
           43,
           44,
           45,
           46,
           47,
           48,
           42,
           43,
           44,
           45,
           46,
           47,
           48,
           42,
           43,
           44,
           45,
           46,
           47,
           48,
           49,
           50,
           51,
           52,
           53,
           54,
           55,
           49,
           50,
           51,
           52,
           53,
           54,
           55,
           49,
           50,
           51,
           52,
           53,
           54,
           55,
           49,
           50,
           51,
           52,
           53,
           54,
           55,
           49,
           50,
           51,
           52,
           53,
           54,
           55,
           49,
           50,
           51,
           52,
           53,
           54,
           55,
           49,
           50,
           51,
           52,
           53,
           54,
           55,
           56,
           57,
           58,
           59,
           60,
           61,
           62,
           56,
           57,
           58,
           59,
           60,
           61,
           62,
           56,
           57,
           58,
           59,
           61,
           62,
           56,
           57,
           58,
           59,
           60,
           61,
           62,
           56,
           57,
           58,
           59,
           60,
           61,
           62,
           56,
           57,
           58,
           59,
           60,
           61,
           62,
           56,
           57,
           58,
           59,
           60,
           61,
           62,
           63,
           64,
           65,
           66,
           67,
           68,
           69,
           63,
           64,
           65,
           66,
           67,
           68,
           69,
           63,
           64,
           65,
           66,
           67,
           68,
           69,
           63,
           64,
           65,
           66,
           67,
           68,
           69,
           63,
           65,
           66,
           67,
           68,
           69,
           63,
           64,
           65,
           66,
           67,
           68,
           69,
           63,
           64,
           65,
           66,
           67,
           68,
           69
          ],
          "value": [
           3,
           42,
           6,
           3,
           37,
           173,
           1,
           14,
           13,
           78,
           65,
           30,
           468,
           8,
           6,
           3,
           203,
           5,
           171,
           22,
           7,
           176,
           9,
           4,
           3,
           14,
           4,
           1,
           4,
           26,
           23,
           13,
           11,
           138,
           10,
           221,
           11,
           2,
           14,
           4,
           4,
           8,
           4,
           62,
           265,
           34,
           110,
           15,
           170,
           17,
           11,
           9,
           4,
           9,
           6,
           3,
           12,
           5,
           33,
           9,
           245,
           18,
           170,
           42,
           12,
           191,
           8,
           16,
           9,
           93,
           236,
           9,
           9,
           8,
           8,
           5,
           17,
           12,
           26,
           28,
           157,
           25,
           23,
           390,
           150,
           185,
           32,
           12,
           19,
           12,
           30,
           37,
           5,
           35,
           10,
           22,
           5,
           19,
           6,
           10,
           183,
           1,
           14,
           53,
           561,
           31,
           14,
           8,
           4,
           4,
           348,
           73,
           8,
           5,
           5,
           7,
           1,
           4,
           17,
           238,
           2,
           2,
           15,
           1,
           9,
           13,
           1,
           263,
           3,
           9,
           1,
           6,
           4,
           20,
           12,
           2,
           153,
           1,
           8,
           4,
           7,
           3,
           290,
           11,
           339,
           6,
           19,
           10,
           24,
           3,
           22,
           520,
           26,
           31,
           8,
           77,
           13,
           72,
           73,
           3,
           10,
           28,
           8,
           183,
           9,
           30,
           2,
           77,
           26,
           164,
           2,
           15,
           20,
           168,
           4,
           10,
           5,
           2,
           10,
           8,
           277,
           5,
           13,
           21,
           7,
           9,
           23,
           5,
           144,
           10,
           1,
           4,
           16,
           35,
           20,
           4,
           7,
           413,
           556,
           200,
           7,
           2,
           1,
           15,
           11,
           14,
           80,
           3,
           256,
           1,
           48,
           34,
           39,
           134,
           8,
           2,
           2,
           38,
           7,
           161,
           5,
           3,
           110,
           9,
           33,
           12,
           1,
           32,
           62,
           10,
           10,
           105,
           7,
           8,
           27,
           111,
           4,
           209,
           10,
           13,
           5,
           2,
           10,
           8,
           22,
           288,
           7,
           2,
           2,
           13,
           12,
           6,
           2,
           2,
           164,
           5,
           12,
           8,
           4,
           11,
           302,
           2,
           1,
           7,
           1,
           145,
           2,
           3,
           4,
           157,
           367,
           9,
           55,
           12,
           7,
           12,
           594,
           49,
           65,
           43,
           1,
           12,
           5,
           6,
           2,
           4,
           24,
           194,
           1,
           87,
           34,
           9,
           15,
           568,
           13,
           60,
           199,
           99,
           12,
           7,
           158,
           12,
           20,
           42,
           87,
           71,
           15,
           119,
           5,
           60,
           36,
           223,
           12,
           31,
           48,
           11,
           47,
           3,
           12,
           7,
           287,
           26,
           14,
           3,
           4,
           6,
           131,
           1,
           11,
           3,
           34,
           7,
           231,
           4,
           72,
           14,
           17,
           36,
           80,
           158,
           10,
           140,
           7,
           12,
           60,
           77,
           16,
           2,
           13,
           100,
           36,
           67,
           26,
           18,
           17,
           229,
           1,
           8,
           43,
           108,
           21,
           653,
           9,
           34,
           73,
           14,
           12,
           188,
           20,
           15,
           2,
           1,
           58,
           43,
           3,
           49,
           3,
           45,
           31,
           8,
           7,
           3,
           7,
           33,
           55,
           235,
           21,
           13,
           9,
           27,
           491,
           34,
           6,
           5,
           1,
           203,
           15,
           14,
           6,
           6,
           2,
           4,
           19,
           597,
           237,
           111,
           8,
           218,
           1,
           26,
           14,
           1,
           19,
           1,
           129,
           4,
           17,
           15,
           44,
           6,
           1,
           107,
           5,
           35,
           53,
           18,
           36
          ]
         },
         "node": {
          "color": [
           "#636EFA",
           "#EF553B",
           "#00CC96",
           "#AB63FA",
           "#FFA15A",
           "#19D3F3",
           "#FF6692",
           "#636EFA",
           "#EF553B",
           "#00CC96",
           "#AB63FA",
           "#FFA15A",
           "#19D3F3",
           "#FF6692",
           "#636EFA",
           "#EF553B",
           "#00CC96",
           "#AB63FA",
           "#FFA15A",
           "#19D3F3",
           "#FF6692",
           "#636EFA",
           "#EF553B",
           "#00CC96",
           "#AB63FA",
           "#FFA15A",
           "#19D3F3",
           "#FF6692",
           "#636EFA",
           "#EF553B",
           "#00CC96",
           "#AB63FA",
           "#FFA15A",
           "#19D3F3",
           "#FF6692",
           "#636EFA",
           "#EF553B",
           "#00CC96",
           "#AB63FA",
           "#FFA15A",
           "#19D3F3",
           "#FF6692",
           "#636EFA",
           "#EF553B",
           "#00CC96",
           "#AB63FA",
           "#FFA15A",
           "#19D3F3",
           "#FF6692",
           "#636EFA",
           "#EF553B",
           "#00CC96",
           "#AB63FA",
           "#FFA15A",
           "#19D3F3",
           "#FF6692",
           "#636EFA",
           "#EF553B",
           "#00CC96",
           "#AB63FA",
           "#FFA15A",
           "#19D3F3",
           "#FF6692",
           "#636EFA",
           "#EF553B",
           "#00CC96",
           "#AB63FA",
           "#FFA15A",
           "#19D3F3",
           "#FF6692"
          ],
          "label": [
           "Cluster 1",
           "Cluster 2",
           "Cluster 3",
           "Cluster 4",
           "Cluster 5",
           "Cluster 6",
           "Cluster 7",
           "Cluster 1",
           "Cluster 2",
           "Cluster 3",
           "Cluster 4",
           "Cluster 5",
           "Cluster 6",
           "Cluster 7",
           "Cluster 1",
           "Cluster 2",
           "Cluster 3",
           "Cluster 4",
           "Cluster 5",
           "Cluster 6",
           "Cluster 7",
           "Cluster 1",
           "Cluster 2",
           "Cluster 3",
           "Cluster 4",
           "Cluster 5",
           "Cluster 6",
           "Cluster 7",
           "Cluster 1",
           "Cluster 2",
           "Cluster 3",
           "Cluster 4",
           "Cluster 5",
           "Cluster 6",
           "Cluster 7",
           "Cluster 1",
           "Cluster 2",
           "Cluster 3",
           "Cluster 4",
           "Cluster 5",
           "Cluster 6",
           "Cluster 7",
           "Cluster 1",
           "Cluster 2",
           "Cluster 3",
           "Cluster 4",
           "Cluster 5",
           "Cluster 6",
           "Cluster 7",
           "Cluster 1",
           "Cluster 2",
           "Cluster 3",
           "Cluster 4",
           "Cluster 5",
           "Cluster 6",
           "Cluster 7",
           "Cluster 1",
           "Cluster 2",
           "Cluster 3",
           "Cluster 4",
           "Cluster 5",
           "Cluster 6",
           "Cluster 7",
           "Cluster 1",
           "Cluster 2",
           "Cluster 3",
           "Cluster 4",
           "Cluster 5",
           "Cluster 6",
           "Cluster 7"
          ],
          "line": {
           "color": "black",
           "width": 0.5
          },
          "pad": 15,
          "thickness": 20
         },
         "type": "sankey"
        }
       ],
       "layout": {
        "annotations": [
         {
          "font": {
           "size": 12
          },
          "showarrow": false,
          "text": "Day 0",
          "x": 0,
          "xref": "paper",
          "y": -0.1,
          "yref": "paper"
         },
         {
          "font": {
           "size": 12
          },
          "showarrow": false,
          "text": "Day 1",
          "x": 0.1111111111111111,
          "xref": "paper",
          "y": -0.1,
          "yref": "paper"
         },
         {
          "font": {
           "size": 12
          },
          "showarrow": false,
          "text": "Day 2",
          "x": 0.2222222222222222,
          "xref": "paper",
          "y": -0.1,
          "yref": "paper"
         },
         {
          "font": {
           "size": 12
          },
          "showarrow": false,
          "text": "Day 3",
          "x": 0.3333333333333333,
          "xref": "paper",
          "y": -0.1,
          "yref": "paper"
         },
         {
          "font": {
           "size": 12
          },
          "showarrow": false,
          "text": "Day 4",
          "x": 0.4444444444444444,
          "xref": "paper",
          "y": -0.1,
          "yref": "paper"
         },
         {
          "font": {
           "size": 12
          },
          "showarrow": false,
          "text": "Day 5",
          "x": 0.5555555555555556,
          "xref": "paper",
          "y": -0.1,
          "yref": "paper"
         },
         {
          "font": {
           "size": 12
          },
          "showarrow": false,
          "text": "Day 6",
          "x": 0.6666666666666666,
          "xref": "paper",
          "y": -0.1,
          "yref": "paper"
         },
         {
          "font": {
           "size": 12
          },
          "showarrow": false,
          "text": "Day 7",
          "x": 0.7777777777777777,
          "xref": "paper",
          "y": -0.1,
          "yref": "paper"
         },
         {
          "font": {
           "size": 12
          },
          "showarrow": false,
          "text": "Day 8",
          "x": 0.8888888888888888,
          "xref": "paper",
          "y": -0.1,
          "yref": "paper"
         },
         {
          "font": {
           "size": 12
          },
          "showarrow": false,
          "text": "Day 9",
          "x": 1,
          "xref": "paper",
          "y": -0.1,
          "yref": "paper"
         }
        ],
        "font": {
         "size": 10
        },
        "template": {
         "data": {
          "bar": [
           {
            "error_x": {
             "color": "#2a3f5f"
            },
            "error_y": {
             "color": "#2a3f5f"
            },
            "marker": {
             "line": {
              "color": "#E5ECF6",
              "width": 0.5
             },
             "pattern": {
              "fillmode": "overlay",
              "size": 10,
              "solidity": 0.2
             }
            },
            "type": "bar"
           }
          ],
          "barpolar": [
           {
            "marker": {
             "line": {
              "color": "#E5ECF6",
              "width": 0.5
             },
             "pattern": {
              "fillmode": "overlay",
              "size": 10,
              "solidity": 0.2
             }
            },
            "type": "barpolar"
           }
          ],
          "carpet": [
           {
            "aaxis": {
             "endlinecolor": "#2a3f5f",
             "gridcolor": "white",
             "linecolor": "white",
             "minorgridcolor": "white",
             "startlinecolor": "#2a3f5f"
            },
            "baxis": {
             "endlinecolor": "#2a3f5f",
             "gridcolor": "white",
             "linecolor": "white",
             "minorgridcolor": "white",
             "startlinecolor": "#2a3f5f"
            },
            "type": "carpet"
           }
          ],
          "choropleth": [
           {
            "colorbar": {
             "outlinewidth": 0,
             "ticks": ""
            },
            "type": "choropleth"
           }
          ],
          "contour": [
           {
            "colorbar": {
             "outlinewidth": 0,
             "ticks": ""
            },
            "colorscale": [
             [
              0,
              "#0d0887"
             ],
             [
              0.1111111111111111,
              "#46039f"
             ],
             [
              0.2222222222222222,
              "#7201a8"
             ],
             [
              0.3333333333333333,
              "#9c179e"
             ],
             [
              0.4444444444444444,
              "#bd3786"
             ],
             [
              0.5555555555555556,
              "#d8576b"
             ],
             [
              0.6666666666666666,
              "#ed7953"
             ],
             [
              0.7777777777777778,
              "#fb9f3a"
             ],
             [
              0.8888888888888888,
              "#fdca26"
             ],
             [
              1,
              "#f0f921"
             ]
            ],
            "type": "contour"
           }
          ],
          "contourcarpet": [
           {
            "colorbar": {
             "outlinewidth": 0,
             "ticks": ""
            },
            "type": "contourcarpet"
           }
          ],
          "heatmap": [
           {
            "colorbar": {
             "outlinewidth": 0,
             "ticks": ""
            },
            "colorscale": [
             [
              0,
              "#0d0887"
             ],
             [
              0.1111111111111111,
              "#46039f"
             ],
             [
              0.2222222222222222,
              "#7201a8"
             ],
             [
              0.3333333333333333,
              "#9c179e"
             ],
             [
              0.4444444444444444,
              "#bd3786"
             ],
             [
              0.5555555555555556,
              "#d8576b"
             ],
             [
              0.6666666666666666,
              "#ed7953"
             ],
             [
              0.7777777777777778,
              "#fb9f3a"
             ],
             [
              0.8888888888888888,
              "#fdca26"
             ],
             [
              1,
              "#f0f921"
             ]
            ],
            "type": "heatmap"
           }
          ],
          "histogram": [
           {
            "marker": {
             "pattern": {
              "fillmode": "overlay",
              "size": 10,
              "solidity": 0.2
             }
            },
            "type": "histogram"
           }
          ],
          "histogram2d": [
           {
            "colorbar": {
             "outlinewidth": 0,
             "ticks": ""
            },
            "colorscale": [
             [
              0,
              "#0d0887"
             ],
             [
              0.1111111111111111,
              "#46039f"
             ],
             [
              0.2222222222222222,
              "#7201a8"
             ],
             [
              0.3333333333333333,
              "#9c179e"
             ],
             [
              0.4444444444444444,
              "#bd3786"
             ],
             [
              0.5555555555555556,
              "#d8576b"
             ],
             [
              0.6666666666666666,
              "#ed7953"
             ],
             [
              0.7777777777777778,
              "#fb9f3a"
             ],
             [
              0.8888888888888888,
              "#fdca26"
             ],
             [
              1,
              "#f0f921"
             ]
            ],
            "type": "histogram2d"
           }
          ],
          "histogram2dcontour": [
           {
            "colorbar": {
             "outlinewidth": 0,
             "ticks": ""
            },
            "colorscale": [
             [
              0,
              "#0d0887"
             ],
             [
              0.1111111111111111,
              "#46039f"
             ],
             [
              0.2222222222222222,
              "#7201a8"
             ],
             [
              0.3333333333333333,
              "#9c179e"
             ],
             [
              0.4444444444444444,
              "#bd3786"
             ],
             [
              0.5555555555555556,
              "#d8576b"
             ],
             [
              0.6666666666666666,
              "#ed7953"
             ],
             [
              0.7777777777777778,
              "#fb9f3a"
             ],
             [
              0.8888888888888888,
              "#fdca26"
             ],
             [
              1,
              "#f0f921"
             ]
            ],
            "type": "histogram2dcontour"
           }
          ],
          "mesh3d": [
           {
            "colorbar": {
             "outlinewidth": 0,
             "ticks": ""
            },
            "type": "mesh3d"
           }
          ],
          "parcoords": [
           {
            "line": {
             "colorbar": {
              "outlinewidth": 0,
              "ticks": ""
             }
            },
            "type": "parcoords"
           }
          ],
          "pie": [
           {
            "automargin": true,
            "type": "pie"
           }
          ],
          "scatter": [
           {
            "fillpattern": {
             "fillmode": "overlay",
             "size": 10,
             "solidity": 0.2
            },
            "type": "scatter"
           }
          ],
          "scatter3d": [
           {
            "line": {
             "colorbar": {
              "outlinewidth": 0,
              "ticks": ""
             }
            },
            "marker": {
             "colorbar": {
              "outlinewidth": 0,
              "ticks": ""
             }
            },
            "type": "scatter3d"
           }
          ],
          "scattercarpet": [
           {
            "marker": {
             "colorbar": {
              "outlinewidth": 0,
              "ticks": ""
             }
            },
            "type": "scattercarpet"
           }
          ],
          "scattergeo": [
           {
            "marker": {
             "colorbar": {
              "outlinewidth": 0,
              "ticks": ""
             }
            },
            "type": "scattergeo"
           }
          ],
          "scattergl": [
           {
            "marker": {
             "colorbar": {
              "outlinewidth": 0,
              "ticks": ""
             }
            },
            "type": "scattergl"
           }
          ],
          "scattermap": [
           {
            "marker": {
             "colorbar": {
              "outlinewidth": 0,
              "ticks": ""
             }
            },
            "type": "scattermap"
           }
          ],
          "scattermapbox": [
           {
            "marker": {
             "colorbar": {
              "outlinewidth": 0,
              "ticks": ""
             }
            },
            "type": "scattermapbox"
           }
          ],
          "scatterpolar": [
           {
            "marker": {
             "colorbar": {
              "outlinewidth": 0,
              "ticks": ""
             }
            },
            "type": "scatterpolar"
           }
          ],
          "scatterpolargl": [
           {
            "marker": {
             "colorbar": {
              "outlinewidth": 0,
              "ticks": ""
             }
            },
            "type": "scatterpolargl"
           }
          ],
          "scatterternary": [
           {
            "marker": {
             "colorbar": {
              "outlinewidth": 0,
              "ticks": ""
             }
            },
            "type": "scatterternary"
           }
          ],
          "surface": [
           {
            "colorbar": {
             "outlinewidth": 0,
             "ticks": ""
            },
            "colorscale": [
             [
              0,
              "#0d0887"
             ],
             [
              0.1111111111111111,
              "#46039f"
             ],
             [
              0.2222222222222222,
              "#7201a8"
             ],
             [
              0.3333333333333333,
              "#9c179e"
             ],
             [
              0.4444444444444444,
              "#bd3786"
             ],
             [
              0.5555555555555556,
              "#d8576b"
             ],
             [
              0.6666666666666666,
              "#ed7953"
             ],
             [
              0.7777777777777778,
              "#fb9f3a"
             ],
             [
              0.8888888888888888,
              "#fdca26"
             ],
             [
              1,
              "#f0f921"
             ]
            ],
            "type": "surface"
           }
          ],
          "table": [
           {
            "cells": {
             "fill": {
              "color": "#EBF0F8"
             },
             "line": {
              "color": "white"
             }
            },
            "header": {
             "fill": {
              "color": "#C8D4E3"
             },
             "line": {
              "color": "white"
             }
            },
            "type": "table"
           }
          ]
         },
         "layout": {
          "annotationdefaults": {
           "arrowcolor": "#2a3f5f",
           "arrowhead": 0,
           "arrowwidth": 1
          },
          "autotypenumbers": "strict",
          "coloraxis": {
           "colorbar": {
            "outlinewidth": 0,
            "ticks": ""
           }
          },
          "colorscale": {
           "diverging": [
            [
             0,
             "#8e0152"
            ],
            [
             0.1,
             "#c51b7d"
            ],
            [
             0.2,
             "#de77ae"
            ],
            [
             0.3,
             "#f1b6da"
            ],
            [
             0.4,
             "#fde0ef"
            ],
            [
             0.5,
             "#f7f7f7"
            ],
            [
             0.6,
             "#e6f5d0"
            ],
            [
             0.7,
             "#b8e186"
            ],
            [
             0.8,
             "#7fbc41"
            ],
            [
             0.9,
             "#4d9221"
            ],
            [
             1,
             "#276419"
            ]
           ],
           "sequential": [
            [
             0,
             "#0d0887"
            ],
            [
             0.1111111111111111,
             "#46039f"
            ],
            [
             0.2222222222222222,
             "#7201a8"
            ],
            [
             0.3333333333333333,
             "#9c179e"
            ],
            [
             0.4444444444444444,
             "#bd3786"
            ],
            [
             0.5555555555555556,
             "#d8576b"
            ],
            [
             0.6666666666666666,
             "#ed7953"
            ],
            [
             0.7777777777777778,
             "#fb9f3a"
            ],
            [
             0.8888888888888888,
             "#fdca26"
            ],
            [
             1,
             "#f0f921"
            ]
           ],
           "sequentialminus": [
            [
             0,
             "#0d0887"
            ],
            [
             0.1111111111111111,
             "#46039f"
            ],
            [
             0.2222222222222222,
             "#7201a8"
            ],
            [
             0.3333333333333333,
             "#9c179e"
            ],
            [
             0.4444444444444444,
             "#bd3786"
            ],
            [
             0.5555555555555556,
             "#d8576b"
            ],
            [
             0.6666666666666666,
             "#ed7953"
            ],
            [
             0.7777777777777778,
             "#fb9f3a"
            ],
            [
             0.8888888888888888,
             "#fdca26"
            ],
            [
             1,
             "#f0f921"
            ]
           ]
          },
          "colorway": [
           "#636efa",
           "#EF553B",
           "#00cc96",
           "#ab63fa",
           "#FFA15A",
           "#19d3f3",
           "#FF6692",
           "#B6E880",
           "#FF97FF",
           "#FECB52"
          ],
          "font": {
           "color": "#2a3f5f"
          },
          "geo": {
           "bgcolor": "white",
           "lakecolor": "white",
           "landcolor": "#E5ECF6",
           "showlakes": true,
           "showland": true,
           "subunitcolor": "white"
          },
          "hoverlabel": {
           "align": "left"
          },
          "hovermode": "closest",
          "mapbox": {
           "style": "light"
          },
          "paper_bgcolor": "white",
          "plot_bgcolor": "#E5ECF6",
          "polar": {
           "angularaxis": {
            "gridcolor": "white",
            "linecolor": "white",
            "ticks": ""
           },
           "bgcolor": "#E5ECF6",
           "radialaxis": {
            "gridcolor": "white",
            "linecolor": "white",
            "ticks": ""
           }
          },
          "scene": {
           "xaxis": {
            "backgroundcolor": "#E5ECF6",
            "gridcolor": "white",
            "gridwidth": 2,
            "linecolor": "white",
            "showbackground": true,
            "ticks": "",
            "zerolinecolor": "white"
           },
           "yaxis": {
            "backgroundcolor": "#E5ECF6",
            "gridcolor": "white",
            "gridwidth": 2,
            "linecolor": "white",
            "showbackground": true,
            "ticks": "",
            "zerolinecolor": "white"
           },
           "zaxis": {
            "backgroundcolor": "#E5ECF6",
            "gridcolor": "white",
            "gridwidth": 2,
            "linecolor": "white",
            "showbackground": true,
            "ticks": "",
            "zerolinecolor": "white"
           }
          },
          "shapedefaults": {
           "line": {
            "color": "#2a3f5f"
           }
          },
          "ternary": {
           "aaxis": {
            "gridcolor": "white",
            "linecolor": "white",
            "ticks": ""
           },
           "baxis": {
            "gridcolor": "white",
            "linecolor": "white",
            "ticks": ""
           },
           "bgcolor": "#E5ECF6",
           "caxis": {
            "gridcolor": "white",
            "linecolor": "white",
            "ticks": ""
           }
          },
          "title": {
           "x": 0.05
          },
          "xaxis": {
           "automargin": true,
           "gridcolor": "white",
           "linecolor": "white",
           "ticks": "",
           "title": {
            "standoff": 15
           },
           "zerolinecolor": "white",
           "zerolinewidth": 2
          },
          "yaxis": {
           "automargin": true,
           "gridcolor": "white",
           "linecolor": "white",
           "ticks": "",
           "title": {
            "standoff": 15
           },
           "zerolinecolor": "white",
           "zerolinewidth": 2
          }
         }
        },
        "title": {
         "text": "Cluster Assignment Transitions Over Time"
        }
       }
      }
     },
     "metadata": {},
     "output_type": "display_data"
    }
   ],
   "source": [
    "import numpy as np\n",
    "import pandas as pd\n",
    "import plotly.graph_objects as go\n",
    "import plotly.express as px\n",
    "\n",
    "# labels = [pd.read_parquet(name) for name in os.listdir() if name.endswith(\".parquet\")]\n",
    "# labels = pd.concat(labels)\n",
    "labels = pd.read_parquet(r\"C:\\Users\\james\\ICAIF_25\\Current_Code\\Data\\Cluster Labels\\cluster_labels_8c_252d.parquet\")\n",
    "print(labels.head())\n",
    "print(labels.tail())\n",
    "\n",
    "df = pd.read_parquet(r\"C:\\Users\\james\\Downloads\\log_returns_w_NAs.parquet\")\n",
    "print(df.head())\n",
    "print(df.tail())\n",
    "\n",
    "NAs = labels[df.isna()].mode(axis=1)\n",
    "labels = labels.where(df.notna(), other=-1)\n",
    "labels = labels.where(labels != 0, other=NAs, axis='index').where(labels != -1, other=0)\n",
    "print(labels.head())\n",
    "print(labels.tail())\n",
    "\n",
    "assignments = compute_clusters_over_time(labels.values, num_days_to_cluster=10)\n",
    "\n",
    "all_unique_clusters = np.unique(assignments)\n",
    "unique_clusters = all_unique_clusters[all_unique_clusters != 0]\n",
    "print(unique_clusters)\n",
    "\n",
    "# --- KEY CHANGE 1: Create a consistent color mapping for clusters ---\n",
    "# Use a qualitative color scale from Plotly Express\n",
    "# The modulo operator (%) ensures we don't run out of colors if we have many clusters\n",
    "palette = px.colors.qualitative.Plotly\n",
    "cluster_color_map = {cluster: palette[i % len(palette)] for i, cluster in enumerate(unique_clusters)}\n",
    "\n",
    "# --- Create nodes and define their colors ---\n",
    "node_labels = []\n",
    "node_colors = [] # This new list will store the color for each node\n",
    "node_lookup = {}  # (day, cluster) -> node index\n",
    "\n",
    "for day in range(assignments.shape[0]):\n",
    "    # For Sankey, it's visually better if nodes are sorted\n",
    "    for cluster in sorted(unique_clusters):\n",
    "        # Create a unique label for the hover info, but the visual label can be simpler\n",
    "        label = f\"Cluster {cluster}\"\n",
    "        node_idx = len(node_labels)\n",
    "\n",
    "        node_labels.append(label)\n",
    "        # --- KEY CHANGE 2: Add the corresponding color from our map ---\n",
    "        node_colors.append(cluster_color_map[cluster])\n",
    "\n",
    "        node_lookup[(day, cluster)] = node_idx\n",
    "\n",
    "# Build links between days\n",
    "source = []\n",
    "target = []\n",
    "value = []\n",
    "\n",
    "for day in range(assignments.shape[0] - 1):\n",
    "    curr_clusters = assignments[day]\n",
    "    next_clusters = assignments[day + 1]\n",
    "\n",
    "    for cluster_from in unique_clusters:\n",
    "        for cluster_to in unique_clusters:\n",
    "            mask = (curr_clusters == cluster_from) & (next_clusters == cluster_to)\n",
    "            count = np.sum(mask)\n",
    "            if count > 0:\n",
    "                source.append(node_lookup[(day, cluster_from)])\n",
    "                target.append(node_lookup[(day + 1, cluster_to)])\n",
    "                value.append(count)\n",
    "\n",
    "# Build Sankey diagram\n",
    "fig = go.Figure(data=[go.Sankey(\n",
    "    node=dict(\n",
    "        pad=15,\n",
    "        thickness=20,\n",
    "        line=dict(color=\"black\", width=0.5),\n",
    "        label=node_labels,\n",
    "        color=node_colors\n",
    "    ),\n",
    "    link=dict(\n",
    "        source=source,\n",
    "        target=target,\n",
    "        value=value\n",
    "    )\n",
    ")])\n",
    "\n",
    "# Add day labels as annotations\n",
    "num_days = assignments.shape[0]\n",
    "x_positions = np.linspace(0, 1, num_days)  # Evenly spaced x for each stack\n",
    "\n",
    "annotations = []\n",
    "for i, x in enumerate(x_positions):\n",
    "    annotations.append(dict(\n",
    "        x=x,\n",
    "        y=-0.1,  # Position below the Sankey diagram\n",
    "        xref='paper',\n",
    "        yref='paper',\n",
    "        text=f\"Day {i}\",\n",
    "        showarrow=False,\n",
    "        font=dict(size=12)\n",
    "    ))\n",
    "\n",
    "fig.update_layout(\n",
    "    title_text=\"Cluster Assignment Transitions Over Time\",\n",
    "    font_size=10,\n",
    "    annotations=annotations\n",
    ")\n",
    "\n",
    "fig.show()\n"
   ]
  }
 ],
 "metadata": {
  "kernelspec": {
   "display_name": "285J",
   "language": "python",
   "name": "python3"
  },
  "language_info": {
   "codemirror_mode": {
    "name": "ipython",
    "version": 3
   },
   "file_extension": ".py",
   "mimetype": "text/x-python",
   "name": "python",
   "nbconvert_exporter": "python",
   "pygments_lexer": "ipython3",
   "version": "3.12.0"
  }
 },
 "nbformat": 4,
 "nbformat_minor": 2
}
