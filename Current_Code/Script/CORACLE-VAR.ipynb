{
 "cells": [
  {
   "cell_type": "markdown",
   "id": "a456527c",
   "metadata": {},
   "source": [
    "## CORACLE Set-up and Evaluation"
   ]
  },
  {
   "cell_type": "code",
   "execution_count": 1,
   "id": "82d36598",
   "metadata": {},
   "outputs": [
    {
     "name": "stdout",
     "output_type": "stream",
     "text": [
      "Current Working Directory: c:\\Users\\james\\ICAIF_25\\Current_Code\\Script\n",
      "Added to sys.path for custom modules: c:\\Users\\james\\ICAIF_25\\Current_Code\\Modules\n",
      "Data loaded and cleaned. Sample (first 5 rows/cols):\n",
      "ticker            AA       ABM       ABT       ADI       ADM\n",
      "date                                                        \n",
      "2000-01-03 -0.013042 -0.009188 -0.007117 -0.036071  0.000000\n",
      "2000-01-04  0.010043  0.012346 -0.012786 -0.044261  0.005277\n",
      "2000-01-05  0.047628 -0.006192  0.011111  0.014493 -0.015915\n",
      "2000-01-06 -0.011713  0.000000  0.032553 -0.027719  0.010695\n",
      "2000-01-07 -0.016118  0.003091  0.028573  0.033654  0.005249\n",
      "Shape of the cleaned data: (5279, 663)\n"
     ]
    }
   ],
   "source": [
    "### Data Processing\n",
    "\n",
    "## Ignore warnings\n",
    "import warnings\n",
    "warnings.filterwarnings(\"ignore\")\n",
    "# Helper imports\n",
    "import numpy as np\n",
    "import pandas as pd\n",
    "import os\n",
    "import sys\n",
    "\n",
    "from functools import reduce\n",
    "import matplotlib.pyplot as plt\n",
    "\n",
    "%matplotlib inline\n",
    "\n",
    "current_working_dir = os.getcwd()\n",
    "print(f\"Current Working Directory: {current_working_dir}\")\n",
    "project_root = os.path.dirname(current_working_dir)\n",
    "modules_path = os.path.join(project_root, 'Modules')\n",
    "if modules_path not in sys.path:\n",
    "    sys.path.append(modules_path)\n",
    "    print(f\"Added to sys.path for custom modules: {modules_path}\")\n",
    "\n",
    "####################################################################\n",
    "#### NYSE Daily Open-Close Returns\n",
    "####################################################################\n",
    "data_folder_path = os.path.join(project_root, 'Data')\n",
    "data_file_name = \"OPCL_20000103_20201231.csv\"\n",
    "data_file_path = os.path.join(data_folder_path, data_file_name) # So that we get to the file itself and not the folder it is in\n",
    "returns_df = pd.read_csv(data_file_path) # Assumes file exists and is readable\n",
    "returns_df.set_index('ticker', inplace=True)\n",
    "returns_df.columns = pd.to_datetime(returns_df.columns.str.lstrip('X'), format='%Y%m%d').strftime('%Y-%m-%d')\n",
    "returns_df_cleaned = returns_df.dropna().transpose() # Assumes dropna results in non-empty returns_df\n",
    "returns_df_cleaned.index = pd.to_datetime(returns_df_cleaned.index)\n",
    "returns_df_cleaned.index.name = 'date'\n",
    "print(\"Data loaded and cleaned. Sample (first 5 rows/cols):\")\n",
    "print(returns_df_cleaned.iloc[0:5,0:5])\n",
    "print(f\"Shape of the cleaned data: {returns_df_cleaned.shape}\")\n"
   ]
  },
  {
   "cell_type": "markdown",
   "id": "29a5637d",
   "metadata": {},
   "source": [
    "### Confounding Data"
   ]
  },
  {
   "cell_type": "code",
   "execution_count": 2,
   "id": "b4362806",
   "metadata": {},
   "outputs": [
    {
     "name": "stdout",
     "output_type": "stream",
     "text": [
      "Confounding Variables DataFrame constructed and cleaned. Sample (first 5 rows/cols):\n",
      "             DFF  T5YIE  USEPUINDXD  VIXCLS  DCOILWTICO  DTWEXBGS  DTWEXEMEGS\n",
      "date                                                                         \n",
      "2000-01-01  3.99    1.3       68.04   24.21       25.56  101.4155    100.9386\n",
      "2000-01-02  3.99    1.3      119.36   24.21       25.56  101.4155    100.9386\n",
      "2000-01-03  5.43    1.3       35.73   24.21       25.56  101.4155    100.9386\n",
      "2000-01-04  5.38    1.3      109.31   27.01       25.56  101.4155    100.9386\n",
      "2000-01-05  5.41    1.3      123.22   26.41       24.65  101.4155    100.9386\n",
      "Shape of the cleaned confounding variables data: (7671, 7)\n",
      "\n",
      "\n",
      "Filtering by trading dates ...\n",
      "\n",
      "\n",
      "Filtered Confounding Variables DataFrame:\n",
      "             DFF  T5YIE  USEPUINDXD  VIXCLS  DCOILWTICO  DTWEXBGS  DTWEXEMEGS\n",
      "date                                                                         \n",
      "2000-01-03  5.43    1.3       35.73   24.21       25.56  101.4155    100.9386\n",
      "2000-01-04  5.38    1.3      109.31   27.01       25.56  101.4155    100.9386\n",
      "2000-01-05  5.41    1.3      123.22   26.41       24.65  101.4155    100.9386\n",
      "2000-01-06  5.54    1.3       53.61   25.73       24.79  101.4155    100.9386\n",
      "2000-01-07  5.61    1.3       42.03   21.72       24.79  101.4155    100.9386\n",
      "Shape of the filtered confounding variables data: (5279, 7)\n"
     ]
    }
   ],
   "source": [
    "####################################################################\n",
    "#### Constructing the dataframe for the Confounding Variables\n",
    "####################################################################\n",
    "\n",
    "\"\"\"\n",
    "Data Source: Federal Reserve Economic Data (FRED)\n",
    "\n",
    "DFF -> Federal Funds Effective Rate\n",
    "T5YIE -> 5-Year Breakeven Inflation Rate (only from 2003)\n",
    "USEPUINDXD -> Economic Policy Uncertainty Index for United States; News-based, 7 days moving average\n",
    "VIX -> CBOE Volatility Index (VIX)\n",
    "DCOILWTICO -> West Texas Intermediate (WTI) Crude Oil Prices: Cushing, Oklahoma\n",
    "DTWEXBGS -> Broad U.S. Dollar Index: Trade Weighted Exchange Rate Index for Major Currencies (only from 2006)\n",
    "DTWEXEMEGS-> Broad U.S. Dollar Index: Trade Weighted Exchange Rate Index for Emerging Market Economies (only from 2006)\n",
    "\n",
    "Other Potential Data Sources:\n",
    "Gold Prices (Futures/Spot), etc.\n",
    "\"\"\"\n",
    "\n",
    "files = [\"DFF_20000103_20201231.csv\",\n",
    "         \"T5YIE_20030102_20201231.csv\",\n",
    "         \"USEPUINDXD_20000103_20201231.csv\",\n",
    "         \"VIX_20000103_20201231.csv\",\n",
    "         \"DCOILWTICO_20000103_20201231.csv\",\n",
    "         \"DTWEXBGS_20060102_20201231.csv\",\n",
    "         \"DTWEXEMEGS_20060102_20201231.csv\"\n",
    "         ]\n",
    "\n",
    "\n",
    "merged_confound_df = reduce(\n",
    "    lambda left, right: pd.merge(left, right, on=\"observation_date\", how=\"outer\"),\n",
    "    (pd.read_csv(os.path.join(data_folder_path, f), parse_dates=[0]) for f in files)\n",
    ")\n",
    "imputed_confound_df = merged_confound_df.interpolate(method='linear', limit_direction='both')\n",
    "imputed_confound_df.set_index('observation_date', inplace=True)\n",
    "imputed_confound_df.index.name = 'date'  # Renaming index to 'date'\n",
    "print(\"Confounding Variables DataFrame constructed and cleaned. Sample (first 5 rows/cols):\")\n",
    "print(imputed_confound_df.iloc[0:5,:])\n",
    "print(f\"Shape of the cleaned confounding variables data: {imputed_confound_df.shape}\")\n",
    "filtered_confound_df = imputed_confound_df[imputed_confound_df.index.isin(returns_df_cleaned.index)]\n",
    "print(\"\\n\")\n",
    "print(\"Filtering by trading dates ...\")\n",
    "print(\"\\n\")\n",
    "print(\"Filtered Confounding Variables DataFrame:\")\n",
    "print(filtered_confound_df.head())\n",
    "print(f\"Shape of the filtered confounding variables data: {filtered_confound_df.shape}\")"
   ]
  },
  {
   "cell_type": "markdown",
   "id": "6600c4d7",
   "metadata": {},
   "source": [
    "## ORACLE-VAR"
   ]
  },
  {
   "cell_type": "code",
   "execution_count": 3,
   "id": "54e8f83f",
   "metadata": {},
   "outputs": [
    {
     "name": "stdout",
     "output_type": "stream",
     "text": [
      "             DFF  T5YIE  USEPUINDXD  VIXCLS  DCOILWTICO  DTWEXBGS  DTWEXEMEGS\n",
      "date                                                                         \n",
      "2016-12-12  0.41   1.86       99.45   12.64       52.74  116.9161    122.3953\n",
      "2016-12-13  0.41   1.86      336.71   12.72       52.99  116.8029    122.3827\n",
      "2016-12-14  0.41   1.82       53.87   13.19       51.01  116.7332    122.3870\n",
      "2016-12-15  0.66   1.78      232.94   12.79       50.90  118.8072    123.7085\n",
      "2016-12-16  0.66   1.75       53.13   12.20       51.93  118.3584    123.4953\n",
      "(1020, 7)\n"
     ]
    }
   ],
   "source": [
    "from DML_tools_copy import *\n",
    "\n",
    "returns_df_cleaned_prep = returns_df_cleaned.iloc[-1020:]\n",
    "filtered_confound_df_prep = filtered_confound_df.loc[returns_df_cleaned_prep.index]\n",
    "print(filtered_confound_df_prep.head())\n",
    "print(filtered_confound_df_prep.shape)"
   ]
  },
  {
   "cell_type": "code",
   "execution_count": 4,
   "id": "7c7ba0c9",
   "metadata": {},
   "outputs": [
    {
     "data": {
      "text/plain": [
       "ticker\n",
       "AA     0.002172\n",
       "ABM    0.005565\n",
       "ABT    0.012129\n",
       "ADI    0.008361\n",
       "ADM    0.007367\n",
       "         ...   \n",
       "XLY    0.000435\n",
       "XOM   -0.006047\n",
       "XRX    0.017838\n",
       "YUM   -0.001657\n",
       "ZTR   -0.001138\n",
       "Name: 2020-12-31 00:00:00, Length: 663, dtype: float64"
      ]
     },
     "execution_count": 4,
     "metadata": {},
     "output_type": "execute_result"
    }
   ],
   "source": [
    "returns_df_cleaned.iloc[-1,:]"
   ]
  },
  {
   "cell_type": "code",
   "execution_count": null,
   "id": "8aaae026",
   "metadata": {},
   "outputs": [
    {
     "name": "stderr",
     "output_type": "stream",
     "text": [
      "  0%|          | 0/11 [00:00<?, ?it/s]"
     ]
    },
    {
     "name": "stdout",
     "output_type": "stream",
     "text": [
      "It is day 1008 out of 1019 days in the dataset.\n",
      "Validation errors for different p values: [(1, 0.012609044915838207), (2, 0.013048627824393425), (3, 0.014442337028122467), (4, 0.014778402177052974), (5, 0.01251400881189153)]\n"
     ]
    },
    {
     "name": "stderr",
     "output_type": "stream",
     "text": [
      "  9%|▉         | 1/11 [00:30<05:02, 30.25s/it]"
     ]
    },
    {
     "name": "stdout",
     "output_type": "stream",
     "text": [
      "It is day 1009 out of 1019 days in the dataset.\n",
      "Validation errors for different p values: [(1, 0.004455897171742914), (2, 0.0036244651477281113), (3, 0.0036505878036067743), (4, 0.004524969520241885), (5, 0.004961771707405288)]\n"
     ]
    },
    {
     "name": "stderr",
     "output_type": "stream",
     "text": [
      " 18%|█▊        | 2/11 [00:55<04:03, 27.07s/it]"
     ]
    },
    {
     "name": "stdout",
     "output_type": "stream",
     "text": [
      "It is day 1010 out of 1019 days in the dataset.\n",
      "Validation errors for different p values: [(1, 0.009394692984225655), (2, 0.00930949022470943), (3, 0.008374290960673911), (4, 0.009035569330582813), (5, 0.009626057784955004)]\n"
     ]
    },
    {
     "name": "stderr",
     "output_type": "stream",
     "text": [
      " 27%|██▋       | 3/11 [01:13<03:06, 23.32s/it]"
     ]
    },
    {
     "name": "stdout",
     "output_type": "stream",
     "text": [
      "It is day 1011 out of 1019 days in the dataset.\n",
      "Validation errors for different p values: [(1, 0.004060807684830788), (2, 0.0049581407704942775), (3, 0.004409249231719484), (4, 0.0045024225088569885), (5, 0.005223215507348569)]\n"
     ]
    },
    {
     "name": "stderr",
     "output_type": "stream",
     "text": [
      " 36%|███▋      | 4/11 [01:34<02:34, 22.14s/it]"
     ]
    },
    {
     "name": "stdout",
     "output_type": "stream",
     "text": [
      "It is day 1012 out of 1019 days in the dataset.\n",
      "Validation errors for different p values: [(1, 0.00824145803215846), (2, 0.009307956601479029), (3, 0.009421890269417863), (4, 0.010651314913300916), (5, 0.011809319770942774)]\n"
     ]
    },
    {
     "name": "stderr",
     "output_type": "stream",
     "text": [
      " 45%|████▌     | 5/11 [01:53<02:07, 21.23s/it]"
     ]
    },
    {
     "name": "stdout",
     "output_type": "stream",
     "text": [
      "It is day 1013 out of 1019 days in the dataset.\n",
      "Validation errors for different p values: [(1, 0.005917506510273994), (2, 0.005505109118574363), (3, 0.004805472341818484), (4, 0.0055175860099832535), (5, 0.005663952839715719)]\n"
     ]
    },
    {
     "name": "stderr",
     "output_type": "stream",
     "text": [
      " 55%|█████▍    | 6/11 [02:14<01:44, 20.97s/it]"
     ]
    },
    {
     "name": "stdout",
     "output_type": "stream",
     "text": [
      "It is day 1014 out of 1019 days in the dataset.\n",
      "Validation errors for different p values: [(1, 0.005885771303680587), (2, 0.007536603541432721), (3, 0.006890485367706053), (4, 0.006335263442008481), (5, 0.007618373732220808)]\n"
     ]
    },
    {
     "name": "stderr",
     "output_type": "stream",
     "text": [
      " 64%|██████▎   | 7/11 [02:34<01:22, 20.54s/it]"
     ]
    },
    {
     "name": "stdout",
     "output_type": "stream",
     "text": [
      "It is day 1015 out of 1019 days in the dataset.\n"
     ]
    }
   ],
   "source": [
    "results = rolling_window_OR_VAR_w_para_search(lookback_df = returns_df_cleaned_prep, confound_df = filtered_confound_df_prep,\n",
    "                                              days_valid = 1)"
   ]
  },
  {
   "cell_type": "code",
   "execution_count": 21,
   "id": "d53cfb22",
   "metadata": {},
   "outputs": [],
   "source": [
    "# import pickle\n",
    "\n",
    "# # Save the dictionary\n",
    "# #with open('result.pkl', 'wb') as f:\n",
    "# #    pickle.dump(results, f)\n",
    "\n",
    "# # Load the dictionary\n",
    "# with open('result.pkl', 'rb') as f:\n",
    "#     results = pickle.load(f)"
   ]
  },
  {
   "cell_type": "code",
   "execution_count": 22,
   "id": "3a8127a9",
   "metadata": {},
   "outputs": [
    {
     "name": "stdout",
     "output_type": "stream",
     "text": [
      "{'test_start': 1008, 'num_days': 1019, 'p_optimal': array([2., 5., 3., 4., 2., 3., 1., 1., 1., 2., 1.]), 'Y_hat_next_store': array([[ 0.00e+00,  9.04e-04, -1.88e-03,  1.01e-02, -7.42e-04,  3.47e-03,\n",
      "        -1.90e-03,  2.69e-04, -1.03e-04,  0.00e+00,  6.78e-03,  4.03e-03,\n",
      "         5.21e-03, -6.36e-03, -3.39e-04,  2.29e-03, -1.64e-03,  8.44e-03,\n",
      "         0.00e+00,  2.07e-03],\n",
      "       [ 0.00e+00, -9.15e-04, -1.15e-03, -4.74e-03, -4.13e-04,  1.07e-03,\n",
      "         1.03e-02, -3.37e-03,  4.87e-03,  0.00e+00,  1.19e-03, -2.47e-03,\n",
      "        -4.57e-03,  5.66e-03,  9.07e-03,  2.93e-03,  8.45e-05,  4.70e-03,\n",
      "         0.00e+00,  2.30e-03],\n",
      "       [ 0.00e+00,  4.73e-03,  3.32e-03,  4.26e-03,  2.48e-03,  3.78e-04,\n",
      "         1.81e-02, -7.13e-03,  5.12e-03,  0.00e+00, -5.97e-04,  8.56e-04,\n",
      "         4.32e-04,  2.21e-03,  2.16e-03, -3.51e-04,  2.76e-03, -3.33e-04,\n",
      "         0.00e+00,  2.82e-03],\n",
      "       [ 0.00e+00,  2.17e-03,  1.62e-03, -3.31e-03,  1.65e-03,  1.04e-03,\n",
      "        -4.92e-04, -3.87e-03,  3.01e-03,  0.00e+00, -2.31e-03, -7.59e-03,\n",
      "        -3.74e-03,  8.87e-04, -1.46e-03, -6.48e-04,  3.28e-03, -3.66e-03,\n",
      "         0.00e+00,  2.71e-03],\n",
      "       [ 0.00e+00, -3.88e-03, -3.88e-04, -2.62e-04, -1.86e-03, -1.42e-03,\n",
      "        -3.13e-04, -8.82e-04, -1.30e-03,  0.00e+00,  1.29e-03,  1.86e-03,\n",
      "         2.08e-03, -2.43e-03, -1.83e-03,  2.95e-03, -5.68e-03,  2.93e-03,\n",
      "         0.00e+00, -8.16e-04],\n",
      "       [ 0.00e+00, -1.62e-04,  7.62e-04, -1.08e-03,  6.14e-04,  2.01e-03,\n",
      "         1.00e-02,  5.04e-03,  1.80e-03,  0.00e+00, -1.71e-03,  5.11e-04,\n",
      "        -1.11e-03, -1.08e-03,  6.23e-03,  1.22e-03,  5.35e-04,  7.12e-04,\n",
      "         0.00e+00,  3.53e-03],\n",
      "       [ 0.00e+00,  1.42e-04, -5.66e-05,  8.81e-04,  9.56e-04,  3.99e-03,\n",
      "        -7.11e-04,  1.19e-03,  1.72e-04,  0.00e+00,  2.77e-03,  1.22e-03,\n",
      "         5.07e-04,  1.89e-03, -8.23e-04,  2.24e-03, -3.74e-03,  1.84e-03,\n",
      "         0.00e+00,  3.52e-04],\n",
      "       [ 0.00e+00,  2.48e-04,  1.96e-03, -3.67e-03,  5.16e-04, -3.24e-03,\n",
      "         1.23e-02,  1.48e-03,  1.98e-03,  0.00e+00, -3.17e-04,  1.28e-03,\n",
      "        -2.50e-03,  1.52e-03,  3.87e-03,  4.04e-04,  1.40e-03, -3.28e-03,\n",
      "         0.00e+00,  1.80e-03],\n",
      "       [ 0.00e+00, -7.20e-04,  7.95e-04,  1.38e-03,  6.73e-04, -8.78e-05,\n",
      "         4.33e-03, -1.79e-03,  2.18e-03,  0.00e+00,  1.50e-03,  1.80e-03,\n",
      "        -9.13e-05, -1.03e-03,  1.14e-03,  7.73e-04, -5.22e-04,  1.37e-03,\n",
      "         0.00e+00,  5.84e-04],\n",
      "       [ 0.00e+00,  1.64e-03,  1.25e-03,  7.75e-03, -1.78e-04,  1.62e-03,\n",
      "         1.37e-02,  3.07e-03,  1.10e-03,  0.00e+00,  5.94e-03,  3.72e-03,\n",
      "         4.90e-03, -3.07e-03, -2.12e-04,  1.67e-03,  1.31e-03,  6.38e-03,\n",
      "         0.00e+00,  3.29e-03],\n",
      "       [ 0.00e+00, -8.36e-04,  1.08e-03, -2.70e-03,  5.19e-04, -2.96e-03,\n",
      "         1.59e-03, -1.52e-04,  7.05e-04,  0.00e+00,  7.02e-04, -4.41e-04,\n",
      "        -2.59e-03,  2.17e-03,  2.26e-05,  9.92e-04, -8.23e-04, -8.85e-04,\n",
      "         0.00e+00,  7.80e-04]])}\n"
     ]
    }
   ],
   "source": [
    "## Using results, we will plot the overall PnL\n",
    "\n",
    "# First, we compute the PnL for each day.\n",
    "print(results)"
   ]
  },
  {
   "cell_type": "code",
   "execution_count": 23,
   "id": "de39c778",
   "metadata": {},
   "outputs": [
    {
     "data": {
      "image/png": "[encoded data removed]",
      "text/plain": [
       "<Figure size 1500x600 with 1 Axes>"
      ]
     },
     "metadata": {},
     "output_type": "display_data"
    }
   ],
   "source": [
    "import matplotlib.pyplot as plt\n",
    "import numpy as np\n",
    "\n",
    "# Extract p_optimal from your results dictionary\n",
    "p_optimal = results['p_optimal']\n",
    "days = np.arange(len(p_optimal))\n",
    "\n",
    "# Create the plot\n",
    "plt.figure(figsize=(15, 6))\n",
    "plt.bar(days, p_optimal)\n",
    "plt.xlabel('Day')\n",
    "plt.ylabel('p_optimal Value')\n",
    "plt.title('p_optimal Values Over Time')\n",
    "plt.grid(True, alpha=0.3)\n",
    "plt.show()"
   ]
  },
  {
   "cell_type": "code",
   "execution_count": null,
   "id": "cde34988",
   "metadata": {},
   "outputs": [
    {
     "name": "stdout",
     "output_type": "stream",
     "text": [
      "False\n",
      "            Cluster_1  Cluster_2  Cluster_3  Cluster_4  Cluster_5  Cluster_6  \\\n",
      "date                                                                           \n",
      "2020-12-16  -0.001024   0.004718  -0.007626  -0.014539  -0.014085  -0.003343   \n",
      "2020-12-17   0.008772   0.004484   0.005644   0.004682  -0.004158  -0.012904   \n",
      "2020-12-18   0.001102  -0.024178   0.000741  -0.010655  -0.001779   0.008463   \n",
      "2020-12-21   0.004915   0.009713   0.012269   0.024167   0.012482   0.002734   \n",
      "2020-12-22   0.004165  -0.002557  -0.002384  -0.012569   0.005917  -0.000506   \n",
      "\n",
      "               Cluster_7  Cluster_8  Cluster_9  Cluster_10  Cluster_11  \\\n",
      "date                                                                     \n",
      "2020-12-16  2.655999e-03  -0.013528  -0.021240   -0.003296    0.001817   \n",
      "2020-12-17  2.634999e-03   0.003188  -0.003667   -0.003879   -0.010363   \n",
      "2020-12-18  2.627999e-03  -0.008791  -0.007006    0.001171   -0.022890   \n",
      "2020-12-21 -1.587300e-02  -0.004252  -0.004583    0.019274    0.018839   \n",
      "2020-12-22  6.016892e-10  -0.001641  -0.001535   -0.003964   -0.017490   \n",
      "\n",
      "            Cluster_12  Cluster_13    Cluster_14  Cluster_15  Cluster_16  \\\n",
      "date                                                                       \n",
      "2020-12-16   -0.002462   -0.009361  9.896468e-15   -0.001949    0.006073   \n",
      "2020-12-17   -0.001889    0.018740 -1.438000e-03    0.009003    0.004533   \n",
      "2020-12-18   -0.008366   -0.007977 -4.326000e-03   -0.006733    0.001002   \n",
      "2020-12-21   -0.007746    0.002060 -1.448000e-03   -0.002101    0.007011   \n",
      "2020-12-22    0.006748   -0.021695  1.457000e-03   -0.003423    0.004978   \n",
      "\n",
      "            Cluster_17  Cluster_18  Cluster_19  Cluster_20  \n",
      "date                                                        \n",
      "2020-12-16   -0.005053   -0.007884   -0.015196    0.018332  \n",
      "2020-12-17    0.002089    0.007843    0.000635    0.009419  \n",
      "2020-12-18    0.003468   -0.006489   -0.005900   -0.016328  \n",
      "2020-12-21    0.012531   -0.007823    0.002429    0.004872  \n",
      "2020-12-22   -0.006036   -0.005215   -0.008123   -0.004335  \n",
      "             0         1         2         3         4         5         6   \\\n",
      "date                                                                          \n",
      "2020-12-16  0.0  0.000904 -0.001877  0.010097 -0.000742  0.003470 -0.001902   \n",
      "2020-12-17  0.0 -0.000915 -0.001147 -0.004735 -0.000413  0.001069  0.010269   \n",
      "2020-12-18  0.0  0.004735  0.003324  0.004261  0.002485  0.000378  0.018116   \n",
      "2020-12-21  0.0  0.002167  0.001617 -0.003306  0.001652  0.001042 -0.000492   \n",
      "2020-12-22  0.0 -0.003884 -0.000388 -0.000262 -0.001860 -0.001423 -0.000313   \n",
      "\n",
      "                  7         8    9         10        11        12        13  \\\n",
      "date                                                                          \n",
      "2020-12-16  0.000269 -0.000103  0.0  0.006785  0.004032  0.005209 -0.006359   \n",
      "2020-12-17 -0.003366  0.004872  0.0  0.001191 -0.002468 -0.004567  0.005663   \n",
      "2020-12-18 -0.007127  0.005120  0.0 -0.000597  0.000856  0.000432  0.002214   \n",
      "2020-12-21 -0.003873  0.003013  0.0 -0.002310 -0.007588 -0.003739  0.000887   \n",
      "2020-12-22 -0.000882 -0.001295  0.0  0.001292  0.001860  0.002082 -0.002430   \n",
      "\n",
      "                  14        15        16        17   18        19  \n",
      "date                                                               \n",
      "2020-12-16 -0.000339  0.002291 -0.001641  0.008436  0.0  0.002065  \n",
      "2020-12-17  0.009072  0.002935  0.000085  0.004699  0.0  0.002296  \n",
      "2020-12-18  0.002165 -0.000351  0.002760 -0.000333  0.0  0.002822  \n",
      "2020-12-21 -0.001459 -0.000648  0.003281 -0.003659  0.0  0.002708  \n",
      "2020-12-22 -0.001830  0.002946 -0.005684  0.002926  0.0 -0.000816  \n",
      "(11, 20)\n",
      "(11, 20)\n"
     ]
    },
    {
     "data": {
      "text/plain": [
       "'\\nExample\\nforecasted_returns = [[3,4],\\n                      [2,1],\\n                      [5,6]]\\nEach column is an asset, and each row is a day (prediction for next three days, for 2 assets)\\n\\nactual_returns     = [[4,4],\\n                      [5,1],\\n                      [5,7]]\\n\\ncalculate_pnl returns a a series of PnL values for each day based on the strategy specified;\\n\\nshape = [[1.04],\\n         [0.978],\\n         [1.01]]\\n    where each value is the PnL for that day based on the strategy (these are cumulative PnL)\\n\\n'"
      ]
     },
     "execution_count": 24,
     "metadata": {},
     "output_type": "execute_result"
    }
   ],
   "source": [
    "from DML_tools import calculate_pnl\n",
    "forecasted_returns = pd.DataFrame(results['Y_hat_next_store'],\n",
    "                                  index=returns_df_cleaned_prep.index[-1020+252*4+1:])#,\n",
    "                                #   columns=returns_df_cleaned_prep.columns)\n",
    "actual_returns = calculate_weighted_cluster_portfolio_returns(returns_df_cleaned_prep.iloc[-1020+252*4+1:], 20, .001)\n",
    "print(actual_returns.equals(forecasted_returns))\n",
    "print(actual_returns.head())\n",
    "print(forecasted_returns.head())\n",
    "print(forecasted_returns.shape)\n",
    "print(actual_returns.shape)\n",
    "\n",
    "pnl_series_n = calculate_pnl(forecasted_returns, actual_returns, contrarian = False, pnl_strategy=\"naive\")\n",
    "pnl_series_w = calculate_pnl(forecasted_returns, actual_returns, contrarian = False, pnl_strategy=\"weighted\")\n",
    "pnl_series_t = calculate_pnl(forecasted_returns, actual_returns, contrarian = False, pnl_strategy=\"top\")\n",
    "# print(pnl_series_n.head())\n",
    "\n",
    "'''\n",
    "Example\n",
    "forecasted_returns = [[3,4],\n",
    "                      [2,1],\n",
    "                      [5,6]]\n",
    "Each column is an asset, and each row is a day (prediction for next three days, for 2 assets)\n",
    "\n",
    "actual_returns     = [[4,4],\n",
    "                      [5,1],\n",
    "                      [5,7]]\n",
    "\n",
    "calculate_pnl returns a a series of PnL values for each day based on the strategy specified;\n",
    "\n",
    "shape = [[1.04],\n",
    "         [0.978],\n",
    "         [1.01]]\n",
    "    where each value is the PnL for that day based on the strategy (these are cumulative PnL)\n",
    "\n",
    "'''"
   ]
  },
  {
   "cell_type": "code",
   "execution_count": 25,
   "id": "78cb0f34",
   "metadata": {},
   "outputs": [
    {
     "data": {
      "image/png": "[encoded data removed]",
      "text/plain": [
       "<Figure size 1200x600 with 1 Axes>"
      ]
     },
     "metadata": {},
     "output_type": "display_data"
    }
   ],
   "source": [
    "import matplotlib.pyplot as plt\n",
    "\n",
    "# Create the plot\n",
    "plt.figure(figsize=(12, 6))\n",
    "plt.plot(pnl_series_n, color='blue', label='Naive Strategy', linewidth=2)\n",
    "plt.plot(pnl_series_w, color='red', label='Weighted Strategy', linewidth=2)\n",
    "plt.plot(pnl_series_t, color='green', label='Top Strategy', linewidth=2)\n",
    "\n",
    "# Customize the plot\n",
    "plt.title('PnL Comparison Across Different Strategies', fontsize=16)\n",
    "plt.xlabel('Time', fontsize=12)\n",
    "plt.ylabel('PnL', fontsize=12)\n",
    "plt.legend(loc='best')\n",
    "plt.grid(True, alpha=0.3)\n",
    "plt.tight_layout()\n",
    "\n",
    "plt.savefig('pnl_comparison.png')\n",
    "plt.show()"
   ]
  },
  {
   "cell_type": "code",
   "execution_count": null,
   "id": "f6daf414",
   "metadata": {},
   "outputs": [
    {
     "name": "stdout",
     "output_type": "stream",
     "text": [
      "Naive: 0.0000% annualized, Sharpe: nan\n",
      "Weighted: 0.0000% annualized, Sharpe: nan\n",
      "Top: 0.0000% annualized, Sharpe: nan\n"
     ]
    }
   ],
   "source": [
    "import numpy as np\n",
    "\n",
    "# One-liner function\n",
    "def get_metrics(series):\n",
    "    daily_rets = series.diff().dropna()\n",
    "    ann_ret = series.iloc[-1] * (252 / len(series))\n",
    "    sharpe = (daily_rets.mean() * 252) / (daily_rets.std() * np.sqrt(252))\n",
    "    return ann_ret*100, sharpe\n",
    "\n",
    "# Get metrics for all strategies\n",
    "for name, series in [(\"Naive\", pnl_series_n), (\"Weighted\", pnl_series_w), (\"Top\", pnl_series_t)]:\n",
    "    ann_ret, sharpe = get_metrics(series)\n",
    "    print(f\"{name}: {ann_ret:.4f}% annualized, Sharpe: {sharpe:.4f}\")"
   ]
  }
 ],
 "metadata": {
  "kernelspec": {
   "display_name": "285J",
   "language": "python",
   "name": "python3"
  },
  "language_info": {
   "codemirror_mode": {
    "name": "ipython",
    "version": 3
   },
   "file_extension": ".py",
   "mimetype": "text/x-python",
   "name": "python",
   "nbconvert_exporter": "python",
   "pygments_lexer": "ipython3",
   "version": "3.12.0"
  }
 },
 "nbformat": 4,
 "nbformat_minor": 5
}
