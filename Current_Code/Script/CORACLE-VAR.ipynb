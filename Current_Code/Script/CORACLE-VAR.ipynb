{
 "cells": [
  {
   "cell_type": "markdown",
   "id": "a456527c",
   "metadata": {},
   "source": [
    "## CORACLE Set-up and Evaluation"
   ]
  },
  {
   "cell_type": "code",
   "execution_count": 1,
   "id": "82d36598",
   "metadata": {},
   "outputs": [
    {
     "name": "stdout",
     "output_type": "stream",
     "text": [
      "Current Working Directory: c:\\Users\\james\\ICAIF_25\\Current_Code\\Script\n",
      "Added to sys.path for custom modules: c:\\Users\\james\\ICAIF_25\\Current_Code\\Modules\n",
      "Data loaded and cleaned. Sample (first 5 rows/cols):\n",
      "ticker            AA       ABM       ABT       ADI       ADM\n",
      "date                                                        \n",
      "2000-01-03 -0.013042 -0.009188 -0.007117 -0.036071  0.000000\n",
      "2000-01-04  0.010043  0.012346 -0.012786 -0.044261  0.005277\n",
      "2000-01-05  0.047628 -0.006192  0.011111  0.014493 -0.015915\n",
      "2000-01-06 -0.011713  0.000000  0.032553 -0.027719  0.010695\n",
      "2000-01-07 -0.016118  0.003091  0.028573  0.033654  0.005249\n",
      "Shape of the cleaned data: (5279, 663)\n"
     ]
    }
   ],
   "source": [
    "### Data Processing\n",
    "\n",
    "## Ignore warnings\n",
    "import warnings\n",
    "warnings.filterwarnings(\"ignore\")\n",
    "# Helper imports\n",
    "import numpy as np\n",
    "import pandas as pd\n",
    "import os\n",
    "import sys\n",
    "\n",
    "from functools import reduce\n",
    "import matplotlib.pyplot as plt\n",
    "\n",
    "%matplotlib inline\n",
    "\n",
    "current_working_dir = os.getcwd()\n",
    "print(f\"Current Working Directory: {current_working_dir}\")\n",
    "project_root = os.path.dirname(current_working_dir)\n",
    "modules_path = os.path.join(project_root, 'Modules')\n",
    "if modules_path not in sys.path:\n",
    "    sys.path.append(modules_path)\n",
    "    print(f\"Added to sys.path for custom modules: {modules_path}\")\n",
    "\n",
    "####################################################################\n",
    "#### NYSE Daily Open-Close Returns\n",
    "####################################################################\n",
    "data_folder_path = os.path.join(project_root, 'Data')\n",
    "data_file_name = \"OPCL_20000103_20201231.csv\"\n",
    "data_file_path = os.path.join(data_folder_path, data_file_name) # So that we get to the file itself and not the folder it is in\n",
    "returns_df = pd.read_csv(data_file_path) # Assumes file exists and is readable\n",
    "returns_df.set_index('ticker', inplace=True)\n",
    "returns_df.columns = pd.to_datetime(returns_df.columns.str.lstrip('X'), format='%Y%m%d').strftime('%Y-%m-%d')\n",
    "returns_df_cleaned = returns_df.dropna().transpose() # Assumes dropna results in non-empty returns_df\n",
    "returns_df_cleaned.index = pd.to_datetime(returns_df_cleaned.index)\n",
    "returns_df_cleaned.index.name = 'date'\n",
    "print(\"Data loaded and cleaned. Sample (first 5 rows/cols):\")\n",
    "print(returns_df_cleaned.iloc[0:5,0:5])\n",
    "print(f\"Shape of the cleaned data: {returns_df_cleaned.shape}\")\n"
   ]
  },
  {
   "cell_type": "markdown",
   "id": "29a5637d",
   "metadata": {},
   "source": [
    "### Confounding Data"
   ]
  },
  {
   "cell_type": "code",
   "execution_count": 2,
   "id": "b4362806",
   "metadata": {},
   "outputs": [
    {
     "name": "stdout",
     "output_type": "stream",
     "text": [
      "Confounding Variables DataFrame constructed and cleaned. Sample (first 5 rows/cols):\n",
      "             DFF  T5YIE  USEPUINDXD  VIXCLS  DCOILWTICO  DTWEXBGS  DTWEXEMEGS\n",
      "date                                                                         \n",
      "2000-01-01  3.99    1.3       68.04   24.21       25.56  101.4155    100.9386\n",
      "2000-01-02  3.99    1.3      119.36   24.21       25.56  101.4155    100.9386\n",
      "2000-01-03  5.43    1.3       35.73   24.21       25.56  101.4155    100.9386\n",
      "2000-01-04  5.38    1.3      109.31   27.01       25.56  101.4155    100.9386\n",
      "2000-01-05  5.41    1.3      123.22   26.41       24.65  101.4155    100.9386\n",
      "Shape of the cleaned confounding variables data: (7671, 7)\n",
      "\n",
      "\n",
      "Filtering by trading dates ...\n",
      "\n",
      "\n",
      "Filtered Confounding Variables DataFrame:\n",
      "             DFF  T5YIE  USEPUINDXD  VIXCLS  DCOILWTICO  DTWEXBGS  DTWEXEMEGS\n",
      "date                                                                         \n",
      "2000-01-03  5.43    1.3       35.73   24.21       25.56  101.4155    100.9386\n",
      "2000-01-04  5.38    1.3      109.31   27.01       25.56  101.4155    100.9386\n",
      "2000-01-05  5.41    1.3      123.22   26.41       24.65  101.4155    100.9386\n",
      "2000-01-06  5.54    1.3       53.61   25.73       24.79  101.4155    100.9386\n",
      "2000-01-07  5.61    1.3       42.03   21.72       24.79  101.4155    100.9386\n",
      "Shape of the filtered confounding variables data: (5279, 7)\n"
     ]
    }
   ],
   "source": [
    "####################################################################\n",
    "#### Constructing the dataframe for the Confounding Variables\n",
    "####################################################################\n",
    "\n",
    "\"\"\"\n",
    "Data Source: Federal Reserve Economic Data (FRED)\n",
    "\n",
    "DFF -> Federal Funds Effective Rate\n",
    "T5YIE -> 5-Year Breakeven Inflation Rate (only from 2003)\n",
    "USEPUINDXD -> Economic Policy Uncertainty Index for United States; News-based, 7 days moving average\n",
    "VIX -> CBOE Volatility Index (VIX)\n",
    "DCOILWTICO -> West Texas Intermediate (WTI) Crude Oil Prices: Cushing, Oklahoma\n",
    "DTWEXBGS -> Broad U.S. Dollar Index: Trade Weighted Exchange Rate Index for Major Currencies (only from 2006)\n",
    "DTWEXEMEGS-> Broad U.S. Dollar Index: Trade Weighted Exchange Rate Index for Emerging Market Economies (only from 2006)\n",
    "\n",
    "Other Potential Data Sources:\n",
    "Gold Prices (Futures/Spot), etc.\n",
    "\"\"\"\n",
    "\n",
    "files = [\"DFF_20000103_20201231.csv\",\n",
    "         \"T5YIE_20030102_20201231.csv\",\n",
    "         \"USEPUINDXD_20000103_20201231.csv\",\n",
    "         \"VIX_20000103_20201231.csv\",\n",
    "         \"DCOILWTICO_20000103_20201231.csv\",\n",
    "         \"DTWEXBGS_20060102_20201231.csv\",\n",
    "         \"DTWEXEMEGS_20060102_20201231.csv\"\n",
    "         ]\n",
    "\n",
    "\n",
    "merged_confound_df = reduce(\n",
    "    lambda left, right: pd.merge(left, right, on=\"observation_date\", how=\"outer\"),\n",
    "    (pd.read_csv(os.path.join(data_folder_path, f), parse_dates=[0]) for f in files)\n",
    ")\n",
    "imputed_confound_df = merged_confound_df.interpolate(method='linear', limit_direction='both')\n",
    "imputed_confound_df.set_index('observation_date', inplace=True)\n",
    "imputed_confound_df.index.name = 'date'  # Renaming index to 'date'\n",
    "print(\"Confounding Variables DataFrame constructed and cleaned. Sample (first 5 rows/cols):\")\n",
    "print(imputed_confound_df.iloc[0:5,:])\n",
    "print(f\"Shape of the cleaned confounding variables data: {imputed_confound_df.shape}\")\n",
    "filtered_confound_df = imputed_confound_df[imputed_confound_df.index.isin(returns_df_cleaned.index)]\n",
    "print(\"\\n\")\n",
    "print(\"Filtering by trading dates ...\")\n",
    "print(\"\\n\")\n",
    "print(\"Filtered Confounding Variables DataFrame:\")\n",
    "print(filtered_confound_df.head())\n",
    "print(f\"Shape of the filtered confounding variables data: {filtered_confound_df.shape}\")"
   ]
  },
  {
   "cell_type": "markdown",
   "id": "6600c4d7",
   "metadata": {},
   "source": [
    "## ORACLE-VAR"
   ]
  },
  {
   "cell_type": "code",
   "execution_count": 3,
   "id": "54e8f83f",
   "metadata": {},
   "outputs": [
    {
     "name": "stdout",
     "output_type": "stream",
     "text": [
      "             DFF  T5YIE  USEPUINDXD  VIXCLS  DCOILWTICO  DTWEXBGS  DTWEXEMEGS\n",
      "date                                                                         \n",
      "2016-12-12  0.41   1.86       99.45   12.64       52.74  116.9161    122.3953\n",
      "2016-12-13  0.41   1.86      336.71   12.72       52.99  116.8029    122.3827\n",
      "2016-12-14  0.41   1.82       53.87   13.19       51.01  116.7332    122.3870\n",
      "2016-12-15  0.66   1.78      232.94   12.79       50.90  118.8072    123.7085\n",
      "2016-12-16  0.66   1.75       53.13   12.20       51.93  118.3584    123.4953\n",
      "(1020, 7)\n"
     ]
    }
   ],
   "source": [
    "from DML_tools_copy import *\n",
    "\n",
    "returns_df_cleaned_prep = returns_df_cleaned.iloc[-1020:]\n",
    "filtered_confound_df_prep = filtered_confound_df.loc[returns_df_cleaned_prep.index]\n",
    "print(filtered_confound_df_prep.head())\n",
    "print(filtered_confound_df_prep.shape)"
   ]
  },
  {
   "cell_type": "code",
   "execution_count": 4,
   "id": "7c7ba0c9",
   "metadata": {},
   "outputs": [
    {
     "data": {
      "text/plain": [
       "ticker\n",
       "AA     0.002172\n",
       "ABM    0.005565\n",
       "ABT    0.012129\n",
       "ADI    0.008361\n",
       "ADM    0.007367\n",
       "         ...   \n",
       "XLY    0.000435\n",
       "XOM   -0.006047\n",
       "XRX    0.017838\n",
       "YUM   -0.001657\n",
       "ZTR   -0.001138\n",
       "Name: 2020-12-31 00:00:00, Length: 663, dtype: float64"
      ]
     },
     "execution_count": 4,
     "metadata": {},
     "output_type": "execute_result"
    }
   ],
   "source": [
    "returns_df_cleaned.iloc[-1,:]"
   ]
  },
  {
   "cell_type": "code",
   "execution_count": 5,
   "id": "8aaae026",
   "metadata": {},
   "outputs": [
    {
     "name": "stdout",
     "output_type": "stream",
     "text": [
      "It is day 1008 out of 1019 days in the dataset.\n",
      "Validation errors for different p values: [(1, 0.0018053262767876448), (2, 0.0017963654617755536), (3, 0.0015440320766022357), (4, 0.0013570987296302316), (5, 0.0014293212761063985)]\n",
      "It is day 1009 out of 1019 days in the dataset.\n",
      "Validation errors for different p values: [(1, 0.0023956497978829183), (2, 0.0016644481536637807), (3, 0.001473476588525437), (4, 0.001517515732016857), (5, 0.0017584070397973963)]\n",
      "It is day 1010 out of 1019 days in the dataset.\n",
      "Validation errors for different p values: [(1, 0.0029320373538368463), (2, 0.003225520184044199), (3, 0.003496989659638367), (4, 0.0030165072670312342), (5, 0.003953404681322265)]\n",
      "It is day 1011 out of 1019 days in the dataset.\n",
      "Validation errors for different p values: [(1, 0.0016315244318383236), (2, 0.001402909239468757), (3, 0.0014814455226339967), (4, 0.0014510029971229839), (5, 0.0014165957723751368)]\n",
      "It is day 1012 out of 1019 days in the dataset.\n",
      "Validation errors for different p values: [(1, 0.0038758659266482447), (2, 0.003962927223990954), (3, 0.004152374620933387), (4, 0.004140158622937144), (5, 0.003514344588771734)]\n",
      "It is day 1013 out of 1019 days in the dataset.\n",
      "Validation errors for different p values: [(1, 0.0029082799143876556), (2, 0.0029693167199038462), (3, 0.0034384629278304346), (4, 0.0029371977765012226), (5, 0.002931848336996333)]\n",
      "It is day 1014 out of 1019 days in the dataset.\n",
      "Validation errors for different p values: [(1, 0.00271482799025158), (2, 0.002002543432557543), (3, 0.002596823035414505), (4, 0.0027633337212498803), (5, 0.002506826221861682)]\n",
      "It is day 1015 out of 1019 days in the dataset.\n",
      "Validation errors for different p values: [(1, 0.0012893419375438477), (2, 0.0012984594975030883), (3, 0.0013031707812823094), (4, 0.0012176648782744244), (5, 0.001206198926881522)]\n",
      "It is day 1016 out of 1019 days in the dataset.\n",
      "Validation errors for different p values: [(1, 0.0021661867794360566), (2, 0.002237496058585493), (3, 0.002726707276312093), (4, 0.0038762125017501523), (5, 0.004222109226310071)]\n",
      "It is day 1017 out of 1019 days in the dataset.\n",
      "Validation errors for different p values: [(1, 0.0041598929771121075), (2, 0.004338102805461333), (3, 0.0043650509684752675), (4, 0.00427659152214643), (5, 0.004729000226362794)]\n",
      "It is day 1018 out of 1019 days in the dataset.\n",
      "Validation errors for different p values: [(1, 0.0030297445804453203), (2, 0.0024520957245965447), (3, 0.0027380475564646118), (4, 0.002321083544502116), (5, 0.002444486282237277)]\n"
     ]
    }
   ],
   "source": [
    "results = rolling_window_OR_VAR_w_para_search(whole_df = returns_df_cleaned_prep, confound_df = filtered_confound_df_prep,\n",
    "                                              days_valid = 1)"
   ]
  },
  {
   "cell_type": "code",
   "execution_count": 6,
   "id": "d53cfb22",
   "metadata": {},
   "outputs": [],
   "source": [
    "# import pickle\n",
    "\n",
    "# # Save the dictionary\n",
    "# #with open('result.pkl', 'wb') as f:\n",
    "# #    pickle.dump(results, f)\n",
    "\n",
    "# # Load the dictionary\n",
    "# with open('result.pkl', 'rb') as f:\n",
    "#     results = pickle.load(f)"
   ]
  },
  {
   "cell_type": "code",
   "execution_count": 7,
   "id": "3a8127a9",
   "metadata": {},
   "outputs": [
    {
     "name": "stdout",
     "output_type": "stream",
     "text": [
      "{'test_start': 1008, 'num_days': 1019, 'p_optimal': array([4., 3., 1., 2., 5., 1., 2., 5., 1., 1., 4.]), 'Y_hat_next_store': array([[ 0.00e+00,  0.00e+00,  0.00e+00,  0.00e+00,  0.00e+00,  0.00e+00,\n",
      "         0.00e+00, -1.70e-03,  1.79e-03,  8.39e-04,  0.00e+00,  0.00e+00,\n",
      "         5.19e-04,  1.53e-03,  1.36e-03,  0.00e+00,  0.00e+00,  0.00e+00,\n",
      "         0.00e+00,  4.01e-03],\n",
      "       [ 0.00e+00,  0.00e+00,  0.00e+00,  0.00e+00,  0.00e+00,  0.00e+00,\n",
      "         0.00e+00, -4.92e-03,  1.31e-03,  2.21e-03,  0.00e+00,  0.00e+00,\n",
      "         2.46e-03,  7.25e-03,  2.72e-03,  0.00e+00,  0.00e+00,  0.00e+00,\n",
      "         0.00e+00, -1.04e-02],\n",
      "       [ 0.00e+00,  0.00e+00,  0.00e+00,  0.00e+00,  0.00e+00,  0.00e+00,\n",
      "         0.00e+00, -1.82e-03, -3.16e-03,  4.94e-04,  0.00e+00,  0.00e+00,\n",
      "         1.11e-03, -4.85e-03, -2.13e-03,  0.00e+00,  0.00e+00,  0.00e+00,\n",
      "         0.00e+00,  1.26e-03],\n",
      "       [ 0.00e+00,  0.00e+00,  0.00e+00,  0.00e+00,  0.00e+00,  0.00e+00,\n",
      "         0.00e+00,  8.92e-04, -3.50e-03, -1.22e-03,  0.00e+00,  0.00e+00,\n",
      "         3.14e-04, -4.14e-03, -8.52e-04,  0.00e+00,  0.00e+00,  0.00e+00,\n",
      "         0.00e+00,  2.51e-03],\n",
      "       [ 0.00e+00,  0.00e+00,  0.00e+00,  0.00e+00,  0.00e+00,  0.00e+00,\n",
      "         0.00e+00,  4.88e-03, -6.56e-04,  7.92e-04,  0.00e+00,  0.00e+00,\n",
      "        -3.87e-03,  2.34e-03, -2.15e-03,  0.00e+00,  0.00e+00,  0.00e+00,\n",
      "         0.00e+00,  1.57e-02],\n",
      "       [ 0.00e+00,  0.00e+00,  0.00e+00,  0.00e+00,  0.00e+00,  0.00e+00,\n",
      "         0.00e+00,  1.07e-03, -1.10e-03, -8.95e-05,  0.00e+00,  0.00e+00,\n",
      "         2.20e-03, -9.11e-04,  1.73e-03,  0.00e+00,  0.00e+00,  0.00e+00,\n",
      "         0.00e+00, -7.00e-05],\n",
      "       [ 0.00e+00,  0.00e+00,  0.00e+00,  0.00e+00,  0.00e+00,  0.00e+00,\n",
      "         0.00e+00,  6.04e-03, -3.17e-04, -2.19e-03,  0.00e+00,  0.00e+00,\n",
      "         6.96e-04, -2.49e-04,  2.85e-03,  0.00e+00,  0.00e+00,  0.00e+00,\n",
      "         0.00e+00,  4.52e-03],\n",
      "       [ 0.00e+00,  0.00e+00,  0.00e+00,  0.00e+00,  0.00e+00,  0.00e+00,\n",
      "         0.00e+00,  1.20e-02, -4.30e-03, -1.67e-03,  0.00e+00,  0.00e+00,\n",
      "         3.37e-03, -2.64e-03, -5.24e-03,  0.00e+00,  0.00e+00,  0.00e+00,\n",
      "         0.00e+00,  3.39e-02],\n",
      "       [ 0.00e+00,  0.00e+00,  0.00e+00,  0.00e+00,  0.00e+00,  0.00e+00,\n",
      "         0.00e+00, -1.52e-03,  2.01e-03,  1.11e-03,  0.00e+00,  0.00e+00,\n",
      "         1.67e-03,  4.60e-03, -7.63e-04,  0.00e+00,  0.00e+00,  0.00e+00,\n",
      "         0.00e+00,  5.33e-03],\n",
      "       [ 0.00e+00,  0.00e+00,  0.00e+00,  0.00e+00,  0.00e+00,  0.00e+00,\n",
      "         0.00e+00,  3.23e-03, -2.57e-03, -1.07e-03,  0.00e+00,  0.00e+00,\n",
      "         1.31e-03, -5.32e-03,  9.62e-05,  0.00e+00,  0.00e+00,  0.00e+00,\n",
      "         0.00e+00,  1.12e-02],\n",
      "       [ 0.00e+00,  0.00e+00,  0.00e+00,  0.00e+00,  0.00e+00,  0.00e+00,\n",
      "         0.00e+00,  6.45e-04,  2.11e-03,  7.43e-04,  0.00e+00,  0.00e+00,\n",
      "         2.49e-03,  3.33e-03,  9.83e-04,  0.00e+00,  0.00e+00,  0.00e+00,\n",
      "         0.00e+00,  1.63e-03]])}\n"
     ]
    }
   ],
   "source": [
    "## Using results, we will plot the overall PnL\n",
    "\n",
    "# First, we compute the PnL for each day.\n",
    "print(results)"
   ]
  },
  {
   "cell_type": "code",
   "execution_count": 8,
   "id": "de39c778",
   "metadata": {},
   "outputs": [
    {
     "data": {
      "image/png": "[encoded data removed]",
      "text/plain": [
       "<Figure size 1500x600 with 1 Axes>"
      ]
     },
     "metadata": {},
     "output_type": "display_data"
    }
   ],
   "source": [
    "import matplotlib.pyplot as plt\n",
    "import numpy as np\n",
    "\n",
    "# Extract p_optimal from your results dictionary\n",
    "p_optimal = results['p_optimal']\n",
    "days = np.arange(len(p_optimal))\n",
    "\n",
    "# Create the plot\n",
    "plt.figure(figsize=(15, 6))\n",
    "plt.bar(days, p_optimal)\n",
    "plt.xlabel('Day')\n",
    "plt.ylabel('p_optimal Value')\n",
    "plt.title('p_optimal Values Over Time')\n",
    "plt.grid(True, alpha=0.3)\n",
    "plt.show()"
   ]
  },
  {
   "cell_type": "code",
   "execution_count": 9,
   "id": "cde34988",
   "metadata": {},
   "outputs": [
    {
     "name": "stdout",
     "output_type": "stream",
     "text": [
      "False\n",
      "             0    1    2         3    4    5         6    7    8    9   \\\n",
      "date                                                                     \n",
      "2020-12-16  0.0  0.0  0.0  0.006073  0.0  0.0 -0.001899  0.0  0.0  0.0   \n",
      "2020-12-17  0.0  0.0  0.0  0.004533  0.0  0.0  0.002816  0.0  0.0  0.0   \n",
      "2020-12-18  0.0  0.0  0.0  0.001002  0.0  0.0 -0.008471  0.0  0.0  0.0   \n",
      "2020-12-21  0.0  0.0  0.0  0.007011  0.0  0.0  0.011364  0.0  0.0  0.0   \n",
      "2020-12-22  0.0  0.0  0.0  0.004978  0.0  0.0  0.002829  0.0  0.0  0.0   \n",
      "\n",
      "                  10   11   12   13   14        15   16   17        18  \\\n",
      "date                                                                     \n",
      "2020-12-16  0.009817  0.0  0.0  0.0  0.0  0.009850  0.0  0.0 -0.016830   \n",
      "2020-12-17  0.009886  0.0  0.0  0.0  0.0  0.003844  0.0  0.0 -0.004127   \n",
      "2020-12-18 -0.038938  0.0  0.0  0.0  0.0 -0.023612  0.0  0.0 -0.006226   \n",
      "2020-12-21 -0.002157  0.0  0.0  0.0  0.0 -0.004175  0.0  0.0  0.002776   \n",
      "2020-12-22 -0.031887  0.0  0.0  0.0  0.0 -0.022967  0.0  0.0 -0.002081   \n",
      "\n",
      "                  19  \n",
      "date                  \n",
      "2020-12-16  0.061705  \n",
      "2020-12-17  0.008600  \n",
      "2020-12-18 -0.026619  \n",
      "2020-12-21  0.004421  \n",
      "2020-12-22 -0.010668  \n",
      "             0    1    2    3    4    5    6         7         8         9   \\\n",
      "date                                                                          \n",
      "2020-12-16  0.0  0.0  0.0  0.0  0.0  0.0  0.0 -0.001700  0.001790  0.000839   \n",
      "2020-12-17  0.0  0.0  0.0  0.0  0.0  0.0  0.0 -0.004920  0.001311  0.002214   \n",
      "2020-12-18  0.0  0.0  0.0  0.0  0.0  0.0  0.0 -0.001816 -0.003161  0.000494   \n",
      "2020-12-21  0.0  0.0  0.0  0.0  0.0  0.0  0.0  0.000892 -0.003501 -0.001217   \n",
      "2020-12-22  0.0  0.0  0.0  0.0  0.0  0.0  0.0  0.004879 -0.000656  0.000792   \n",
      "\n",
      "             10   11        12        13        14   15   16   17   18  \\\n",
      "date                                                                     \n",
      "2020-12-16  0.0  0.0  0.000519  0.001532  0.001359  0.0  0.0  0.0  0.0   \n",
      "2020-12-17  0.0  0.0  0.002464  0.007252  0.002717  0.0  0.0  0.0  0.0   \n",
      "2020-12-18  0.0  0.0  0.001110 -0.004849 -0.002126  0.0  0.0  0.0  0.0   \n",
      "2020-12-21  0.0  0.0  0.000314 -0.004143 -0.000852  0.0  0.0  0.0  0.0   \n",
      "2020-12-22  0.0  0.0 -0.003866  0.002336 -0.002152  0.0  0.0  0.0  0.0   \n",
      "\n",
      "                  19  \n",
      "date                  \n",
      "2020-12-16  0.004009  \n",
      "2020-12-17 -0.010424  \n",
      "2020-12-18  0.001260  \n",
      "2020-12-21  0.002507  \n",
      "2020-12-22  0.015651  \n",
      "(11, 20)\n",
      "(11, 20)\n",
      "Daily portfolio returns (percentage change): date\n",
      "2020-12-16    0.009093\n",
      "2020-12-17   -0.001234\n",
      "2020-12-18   -0.003753\n",
      "2020-12-21    0.000633\n",
      "2020-12-22   -0.001516\n",
      "2020-12-23   -0.006551\n",
      "2020-12-24   -0.000955\n",
      "2020-12-28   -0.001303\n",
      "2020-12-29   -0.002298\n",
      "2020-12-30    0.000271\n",
      "2020-12-31    0.001812\n",
      "dtype: float64\n",
      "Daily portfolio returns (percentage change): date\n",
      "2020-12-16    0.021721\n",
      "2020-12-17   -0.002876\n",
      "2020-12-18   -0.002234\n",
      "2020-12-21    0.000827\n",
      "2020-12-22   -0.005475\n",
      "2020-12-23   -0.000448\n",
      "2020-12-24   -0.001793\n",
      "2020-12-28   -0.004896\n",
      "2020-12-29   -0.005044\n",
      "2020-12-30    0.000856\n",
      "2020-12-31    0.001731\n",
      "dtype: float64\n",
      "Daily portfolio returns (percentage change): date\n",
      "2020-12-16    0.000000\n",
      "2020-12-17   -0.001440\n",
      "2020-12-18    0.000000\n",
      "2020-12-21    0.000000\n",
      "2020-12-22   -0.002653\n",
      "2020-12-23    0.000000\n",
      "2020-12-24    0.000000\n",
      "2020-12-28   -0.001520\n",
      "2020-12-29    0.000000\n",
      "2020-12-30    0.000632\n",
      "2020-12-31    0.000000\n",
      "dtype: float64\n",
      "date\n",
      "2020-12-16    0.009093\n",
      "2020-12-17    0.007848\n",
      "2020-12-18    0.004066\n",
      "2020-12-21    0.004701\n",
      "2020-12-22    0.003178\n",
      "dtype: float64\n"
     ]
    },
    {
     "data": {
      "text/plain": [
       "'\\nExample\\nforecasted_returns = [[3,4],\\n                      [2,1],\\n                      [5,6]]\\nEach column is an asset, and each row is a day (prediction for next three days, for 2 assets)\\n\\nactual_returns     = [[4,4],\\n                      [5,1],\\n                      [5,7]]\\n\\ncalculate_pnl returns a a series of PnL values for each day based on the strategy specified;\\n\\nshape = [[1.04],\\n         [0.978],\\n         [1.01]]\\n    where each value is the PnL for that day based on the strategy (these are cumulative PnL)\\n\\n'"
      ]
     },
     "execution_count": 9,
     "metadata": {},
     "output_type": "execute_result"
    }
   ],
   "source": [
    "from DML_tools import calculate_pnl\n",
    "forecasted_returns = pd.DataFrame(results['Y_hat_next_store'],\n",
    "                                  index=returns_df_cleaned_prep.index[-1020+252*4+1:])#,\n",
    "                                #   columns=returns_df_cleaned_prep.columns)\n",
    "actual_df = calculate_weighted_cluster_portfolio_returns(returns_df_cleaned_prep, 252*4, 20, .01)\n",
    "actual_returns = actual_df.iloc[-1020+252*4+1:]\n",
    "print(actual_returns.equals(forecasted_returns))\n",
    "print(actual_returns.head())\n",
    "print(forecasted_returns.head())\n",
    "print(forecasted_returns.shape)\n",
    "print(actual_returns.shape)\n",
    "\n",
    "pnl_series_n, _ = calculate_pnl(forecasted_returns, actual_returns, contrarian = False, pnl_strategy=\"naive\")\n",
    "pnl_series_w, _ = calculate_pnl(forecasted_returns, actual_returns, contrarian = False, pnl_strategy=\"weighted\")\n",
    "pnl_series_t, _ = calculate_pnl(forecasted_returns, actual_returns, contrarian = False, pnl_strategy=\"top\")\n",
    "print(pnl_series_n.head())\n",
    "\n",
    "'''\n",
    "Example\n",
    "forecasted_returns = [[3,4],\n",
    "                      [2,1],\n",
    "                      [5,6]]\n",
    "Each column is an asset, and each row is a day (prediction for next three days, for 2 assets)\n",
    "\n",
    "actual_returns     = [[4,4],\n",
    "                      [5,1],\n",
    "                      [5,7]]\n",
    "\n",
    "calculate_pnl returns a a series of PnL values for each day based on the strategy specified;\n",
    "\n",
    "shape = [[1.04],\n",
    "         [0.978],\n",
    "         [1.01]]\n",
    "    where each value is the PnL for that day based on the strategy (these are cumulative PnL)\n",
    "\n",
    "'''"
   ]
  },
  {
   "cell_type": "code",
   "execution_count": 10,
   "id": "78cb0f34",
   "metadata": {},
   "outputs": [
    {
     "data": {
      "image/png": "[encoded data removed]",
      "text/plain": [
       "<Figure size 1200x600 with 1 Axes>"
      ]
     },
     "metadata": {},
     "output_type": "display_data"
    }
   ],
   "source": [
    "import matplotlib.pyplot as plt\n",
    "\n",
    "# Create the plot\n",
    "plt.figure(figsize=(12, 6))\n",
    "plt.plot(pnl_series_n, color='blue', label='Naive Strategy', linewidth=2)\n",
    "plt.plot(pnl_series_w, color='red', label='Weighted Strategy', linewidth=2)\n",
    "plt.plot(pnl_series_t, color='green', label='Top Strategy', linewidth=2)\n",
    "\n",
    "# Customize the plot\n",
    "plt.title('PnL Comparison Across Different Strategies', fontsize=16)\n",
    "plt.xlabel('Time', fontsize=12)\n",
    "plt.ylabel('PnL', fontsize=12)\n",
    "plt.legend(loc='best')\n",
    "plt.grid(True, alpha=0.3)\n",
    "plt.tight_layout()\n",
    "\n",
    "plt.savefig('pnl_comparison.png')\n",
    "plt.show()"
   ]
  },
  {
   "cell_type": "code",
   "execution_count": 11,
   "id": "f6daf414",
   "metadata": {},
   "outputs": [
    {
     "name": "stdout",
     "output_type": "stream",
     "text": [
      "Naive: -13.4287% annualized, Sharpe: -10.0194\n",
      "Weighted: 4.7838% annualized, Sharpe: -11.6572\n",
      "Top: -11.3933% annualized, Sharpe: -7.7656\n"
     ]
    }
   ],
   "source": [
    "import numpy as np\n",
    "\n",
    "# One-liner function\n",
    "def get_metrics(series):\n",
    "    daily_rets = series.diff().dropna()\n",
    "    ann_ret = series.iloc[-1] * (252 / len(series))\n",
    "    sharpe = (daily_rets.mean() * 252) / (daily_rets.std() * np.sqrt(252))\n",
    "    return ann_ret*100, sharpe\n",
    "\n",
    "# Get metrics for all strategies\n",
    "for name, series in [(\"Naive\", pnl_series_n), (\"Weighted\", pnl_series_w), (\"Top\", pnl_series_t)]:\n",
    "    ann_ret, sharpe = get_metrics(series)\n",
    "    print(f\"{name}: {ann_ret:.4f}% annualized, Sharpe: {sharpe:.4f}\")"
   ]
  }
 ],
 "metadata": {
  "kernelspec": {
   "display_name": "285J",
   "language": "python",
   "name": "python3"
  },
  "language_info": {
   "codemirror_mode": {
    "name": "ipython",
    "version": 3
   },
   "file_extension": ".py",
   "mimetype": "text/x-python",
   "name": "python",
   "nbconvert_exporter": "python",
   "pygments_lexer": "ipython3",
   "version": "3.12.0"
  }
 },
 "nbformat": 4,
 "nbformat_minor": 5
}
