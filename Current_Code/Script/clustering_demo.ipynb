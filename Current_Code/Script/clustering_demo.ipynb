{
 "cells": [
  {
   "cell_type": "markdown",
   "id": "faf974dc",
   "metadata": {},
   "source": [
    "## Import data"
   ]
  },
  {
   "cell_type": "code",
   "execution_count": 36,
   "id": "a5f33a47",
   "metadata": {},
   "outputs": [
    {
     "name": "stdout",
     "output_type": "stream",
     "text": [
      "Current Working Directory: n:\\GitHub\\ICAIF_25\\Current_Code\\Script\n",
      "Data loaded and cleaned. Sample (first 5 rows/cols):\n",
      "ticker            AA       ABM       ABT       ADI       ADM\n",
      "date                                                        \n",
      "2000-01-03 -0.013042 -0.009188 -0.007117 -0.036071  0.000000\n",
      "2000-01-04  0.010043  0.012346 -0.012786 -0.044261  0.005277\n",
      "2000-01-05  0.047628 -0.006192  0.011111  0.014493 -0.015915\n",
      "2000-01-06 -0.011713  0.000000  0.032553 -0.027719  0.010695\n",
      "2000-01-07 -0.016118  0.003091  0.028573  0.033654  0.005249\n",
      "Shape of the cleaned data: (5279, 663)\n"
     ]
    }
   ],
   "source": [
    "### Data Processing\n",
    "\n",
    "## Ignore warnings\n",
    "import warnings\n",
    "warnings.filterwarnings(\"ignore\")\n",
    "# Helper imports\n",
    "import numpy as np\n",
    "import pandas as pd\n",
    "import os\n",
    "import sys\n",
    "\n",
    "from functools import reduce\n",
    "import matplotlib.pyplot as plt\n",
    "\n",
    "%matplotlib inline\n",
    "\n",
    "current_working_dir = os.getcwd()\n",
    "print(f\"Current Working Directory: {current_working_dir}\")\n",
    "project_root = os.path.dirname(current_working_dir)\n",
    "modules_path = os.path.join(project_root, 'Modules')\n",
    "if modules_path not in sys.path:\n",
    "    sys.path.append(modules_path)\n",
    "    print(f\"Added to sys.path for custom modules: {modules_path}\")\n",
    "\n",
    "####################################################################\n",
    "#### NYSE Daily Open-Close Returns\n",
    "####################################################################\n",
    "data_folder_path = os.path.join(project_root, 'Data')\n",
    "data_file_name = \"OPCL_20000103_20201231.csv\"   \n",
    "data_file_path = os.path.join(data_folder_path, data_file_name) # So that we get to the file itself and not the folder it is in\n",
    "returns_df = pd.read_csv(data_file_path) # Assumes file exists and is readable\n",
    "returns_df.set_index('ticker', inplace=True)\n",
    "returns_df.columns = pd.to_datetime(returns_df.columns.str.lstrip('X'), format='%Y%m%d').strftime('%Y-%m-%d')\n",
    "returns_df_cleaned = returns_df.dropna().transpose() # Assumes dropna results in non-empty returns_df\n",
    "returns_df_cleaned.index = pd.to_datetime(returns_df_cleaned.index)\n",
    "returns_df_cleaned.index.name = 'date'\n",
    "print(\"Data loaded and cleaned. Sample (first 5 rows/cols):\")\n",
    "print(returns_df_cleaned.iloc[0:5,0:5])\n",
    "print(f\"Shape of the cleaned data: {returns_df_cleaned.shape}\")\n"
   ]
  },
  {
   "cell_type": "code",
   "execution_count": 2,
   "id": "6fde7d08",
   "metadata": {},
   "outputs": [],
   "source": [
    "# print(returns_df_cleaned)\n",
    "# print(returns_df_cleaned[:50])"
   ]
  },
  {
   "cell_type": "markdown",
   "id": "ecacb470",
   "metadata": {},
   "source": [
    "# Clustering Visualization"
   ]
  },
  {
   "cell_type": "code",
   "execution_count": 22,
   "id": "56ca0709",
   "metadata": {},
   "outputs": [],
   "source": [
    "from signet.cluster import Cluster\n",
    "from scipy import sparse\n",
    "\n",
    "from scipy.optimize import linear_sum_assignment\n",
    "from sklearn.metrics import confusion_matrix\n",
    "\n",
    "\n",
    "def calculate_weighted_cluster_portfolio_returns(asset_returns_df, n_clusters_to_form=10, \n",
    "                                                 sigma_for_gaussian_weights=.05) -> pd.DataFrame:\n",
    "    \"\"\"\n",
    "    Calculates weighted returns for asset clusters using a streamlined, vectorized approach.\n",
    "\n",
    "    NOTE: This version has no error handling and assumes perfect input data.\n",
    "\n",
    "    Args:\n",
    "        asset_returns_df (pd.DataFrame): DataFrame of asset returns.\n",
    "            Rows are timestamps, columns are asset tickers.\n",
    "        n_clusters_to_form (int): The desired number of clusters to form.\n",
    "        sigma_for_gaussian_weights (float): Sigma value used in the Gaussian\n",
    "            weight calculation (controls the spread of weights).\n",
    "\n",
    "    Returns:\n",
    "        pd.DataFrame: DataFrame containing the weighted returns for each cluster.\n",
    "    \"\"\"\n",
    "    # --- 1. Calculate Correlation Matrix (More Efficiently) ---\n",
    "    # Pearson correlation is invariant to scaling, so StandardScaler is redundant.\n",
    "    correlation_matrix_df = asset_returns_df.corr(method='pearson').fillna(0)\n",
    "\n",
    "    # --- 2. Apply Clustering Algorithm (with Vectorized SIGNET Prep) ---\n",
    "    # Vectorize the creation of positive and negative correlation matrices.\n",
    "    pos_corr = np.maximum(correlation_matrix_df.values, 0)\n",
    "    neg_corr = np.maximum(-correlation_matrix_df.values, 0)\n",
    "    signet_data = (sparse.csc_matrix(pos_corr), sparse.csc_matrix(neg_corr))\n",
    "\n",
    "    num_assets = correlation_matrix_df.shape[0]\n",
    "    effective_n_clusters = min(n_clusters_to_form, num_assets)\n",
    "\n",
    "    # Assuming 'Cluster' is an external class with a 'SPONGE_sym' method\n",
    "    cluster_obj = Cluster(signet_data)\n",
    "    labels = cluster_obj.SPONGE_sym(effective_n_clusters)\n",
    "\n",
    "    return np.array(labels)\n",
    "\n",
    "def compute_clusters_over_time(returns_df_cleaned, num_days_to_cluster, lookback_period=252*4, \n",
    "                               n_clusters_to_form=10, sigma_for_gaussian_weights=.05):\n",
    "    \n",
    "    labels_list = []\n",
    "    for day in range(num_days_to_cluster):\n",
    "        lookback_window = returns_df_cleaned[day:day+lookback_period]\n",
    "        labels_unaligned = calculate_weighted_cluster_portfolio_returns(lookback_window, n_clusters_to_form, sigma_for_gaussian_weights)\n",
    "\n",
    "        # IZ: Find the optimal label alignment by solving the hungarian matching problem\n",
    "        if day == 0:\n",
    "            # For the first day, the initial labels are fine\n",
    "            labels_aligned = labels_unaligned\n",
    "        else:\n",
    "            # For the second day onward, try to align the current labels with the most recent day\n",
    "            labels_last = labels_list[-1]\n",
    "            # Compute the confusion matrix between the two labeligns\n",
    "            conf_mat = confusion_matrix(labels_last, labels_unaligned)\n",
    "            # Compute the linear sum assignment / matching problem\n",
    "            row_ind, col_ind = linear_sum_assignment(-conf_mat)\n",
    "            mapping = dict(zip(col_ind, row_ind))\n",
    "            labels_aligned = np.vectorize(mapping.get)(labels_unaligned)\n",
    "\n",
    "        labels_list.append(labels_aligned)\n",
    "\n",
    "    labels_arr = np.stack(labels_list, axis=0)\n",
    "    return labels_arr\n",
    "\n",
    "\n",
    "labels = compute_clusters_over_time(returns_df_cleaned, num_days_to_cluster=20, lookback_period=252*4, n_clusters_to_form=10, sigma_for_gaussian_weights=.05)"
   ]
  },
  {
   "cell_type": "code",
   "execution_count": 28,
   "id": "17afd4cf",
   "metadata": {},
   "outputs": [
    {
     "data": {
      "application/vnd.plotly.v1+json": {
       "config": {
        "plotlyServerURL": "https://plot.ly"
       },
       "data": [
        {
         "link": {
          "source": [
           0,
           0,
           0,
           0,
           1,
           1,
           1,
           1,
           1,
           2,
           2,
           2,
           2,
           3,
           3,
           4,
           4,
           5,
           5,
           6,
           6,
           7,
           8,
           8,
           9,
           9,
           9,
           9,
           10,
           11,
           11,
           11,
           11,
           12,
           12,
           13,
           14,
           14,
           14,
           14,
           14,
           15,
           15,
           16,
           16,
           16,
           16,
           17,
           18,
           18,
           19,
           19,
           19,
           19,
           19,
           20,
           20,
           20,
           20,
           21,
           21,
           22,
           22,
           22,
           23,
           23,
           23,
           23,
           24,
           24,
           24,
           24,
           24,
           25,
           26,
           27,
           28,
           28,
           28,
           28,
           29,
           29,
           29,
           29,
           29,
           29,
           29,
           30,
           30,
           30,
           30,
           31,
           31,
           32,
           32,
           33,
           33,
           33,
           33,
           33,
           33,
           33,
           34,
           34,
           34,
           35,
           36,
           36,
           36,
           36,
           37,
           38,
           38,
           38,
           39,
           39,
           39,
           39,
           39,
           40,
           40,
           40,
           40,
           40,
           41,
           41,
           41,
           41,
           42,
           42,
           43,
           44,
           44,
           44,
           44,
           45,
           45,
           45,
           46,
           47,
           48,
           48,
           49,
           49,
           50,
           50,
           50,
           50,
           51,
           51,
           51,
           51,
           52,
           52,
           52,
           53,
           53,
           54,
           54,
           54,
           54,
           55,
           55,
           56,
           56,
           57,
           58,
           58,
           59,
           59,
           60,
           60,
           60,
           61,
           61,
           61,
           61,
           62,
           62,
           62,
           62,
           62,
           63,
           64,
           64,
           64,
           64,
           64,
           65,
           65,
           66,
           66,
           66,
           66,
           67,
           68,
           68,
           69,
           69,
           70,
           70,
           70,
           70,
           71,
           71,
           71,
           72,
           72,
           72,
           72,
           73,
           73,
           73,
           73,
           73,
           73,
           73,
           74,
           74,
           74,
           75,
           75,
           76,
           76,
           76,
           77,
           78,
           78,
           79,
           79,
           79,
           80,
           80,
           80,
           80,
           81,
           81,
           82,
           82,
           83,
           83,
           83,
           84,
           84,
           84,
           84,
           85,
           85,
           86,
           86,
           86,
           87,
           88,
           88,
           88,
           88,
           88,
           89
          ],
          "target": [
           11,
           14,
           15,
           18,
           11,
           13,
           14,
           15,
           16,
           12,
           13,
           14,
           19,
           12,
           13,
           11,
           14,
           13,
           15,
           11,
           16,
           17,
           15,
           18,
           10,
           11,
           14,
           19,
           22,
           20,
           21,
           24,
           29,
           22,
           23,
           23,
           20,
           21,
           22,
           24,
           29,
           21,
           25,
           20,
           22,
           26,
           29,
           27,
           20,
           28,
           21,
           23,
           24,
           28,
           29,
           30,
           31,
           34,
           36,
           31,
           33,
           32,
           38,
           39,
           32,
           33,
           38,
           39,
           30,
           31,
           33,
           34,
           39,
           35,
           36,
           37,
           30,
           36,
           38,
           39,
           30,
           31,
           33,
           34,
           35,
           36,
           39,
           40,
           41,
           44,
           46,
           40,
           41,
           42,
           43,
           40,
           41,
           42,
           43,
           44,
           45,
           48,
           40,
           41,
           44,
           45,
           40,
           41,
           44,
           46,
           47,
           42,
           43,
           48,
           40,
           42,
           43,
           44,
           49,
           50,
           51,
           52,
           54,
           59,
           50,
           51,
           54,
           59,
           52,
           58,
           53,
           50,
           52,
           54,
           59,
           52,
           55,
           56,
           56,
           57,
           51,
           58,
           51,
           55,
           60,
           61,
           64,
           66,
           61,
           62,
           64,
           66,
           62,
           68,
           69,
           62,
           68,
           60,
           61,
           64,
           69,
           65,
           66,
           65,
           66,
           67,
           63,
           68,
           64,
           69,
           70,
           73,
           74,
           70,
           71,
           73,
           74,
           72,
           73,
           74,
           75,
           78,
           78,
           70,
           71,
           73,
           74,
           79,
           70,
           75,
           73,
           74,
           75,
           76,
           77,
           72,
           78,
           70,
           79,
           80,
           81,
           84,
           89,
           80,
           81,
           84,
           82,
           83,
           86,
           88,
           80,
           81,
           82,
           84,
           85,
           86,
           88,
           80,
           81,
           84,
           83,
           85,
           80,
           85,
           86,
           87,
           83,
           88,
           80,
           82,
           89,
           90,
           91,
           94,
           99,
           94,
           99,
           92,
           96,
           90,
           92,
           93,
           92,
           94,
           95,
           99,
           91,
           95,
           90,
           93,
           96,
           97,
           90,
           91,
           92,
           93,
           98,
           99
          ],
          "value": [
           95,
           61,
           1,
           2,
           103,
           2,
           2,
           1,
           1,
           22,
           5,
           1,
           1,
           9,
           4,
           16,
           218,
           1,
           31,
           1,
           40,
           6,
           1,
           22,
           1,
           2,
           1,
           13,
           1,
           66,
           73,
           14,
           64,
           30,
           1,
           12,
           31,
           1,
           1,
           198,
           52,
           1,
           33,
           2,
           1,
           37,
           1,
           6,
           3,
           21,
           1,
           1,
           4,
           3,
           5,
           73,
           8,
           18,
           3,
           72,
           4,
           12,
           11,
           10,
           1,
           8,
           3,
           2,
           5,
           2,
           5,
           202,
           2,
           33,
           37,
           6,
           20,
           1,
           2,
           1,
           62,
           19,
           6,
           32,
           1,
           1,
           1,
           124,
           7,
           6,
           23,
           1,
           100,
           12,
           1,
           10,
           2,
           1,
           7,
           1,
           1,
           1,
           55,
           15,
           182,
           34,
           2,
           2,
           37,
           1,
           6,
           2,
           2,
           12,
           1,
           10,
           2,
           1,
           2,
           171,
           8,
           2,
           10,
           2,
           24,
           29,
           72,
           1,
           17,
           8,
           12,
           101,
           2,
           91,
           33,
           1,
           32,
           2,
           24,
           6,
           1,
           12,
           1,
           1,
           154,
           6,
           132,
           4,
           30,
           1,
           2,
           6,
           19,
           2,
           1,
           8,
           4,
           13,
           64,
           90,
           6,
           32,
           1,
           1,
           25,
           6,
           1,
           19,
           1,
           35,
           123,
           38,
           6,
           13,
           81,
           4,
           2,
           19,
           4,
           1,
           1,
           3,
           1,
           7,
           1,
           4,
           212,
           1,
           1,
           32,
           10,
           1,
           1,
           24,
           6,
           12,
           13,
           2,
           40,
           111,
           24,
           8,
           3,
           1,
           79,
           2,
           14,
           7,
           9,
           1,
           49,
           3,
           2,
           2,
           1,
           1,
           2,
           9,
           2,
           211,
           1,
           33,
           2,
           21,
           1,
           6,
           5,
           12,
           1,
           1,
           39,
           4,
           2,
           162,
           5,
           103,
           5,
           10,
           7,
           1,
           2,
           10,
           1,
           213,
           1,
           8,
           22,
           33,
           2,
           5,
           4,
           6,
           3,
           1,
           7,
           3,
           1,
           42
          ]
         },
         "node": {
          "label": [
           "Cluster 0",
           "Cluster 1",
           "Cluster 2",
           "Cluster 3",
           "Cluster 4",
           "Cluster 5",
           "Cluster 6",
           "Cluster 7",
           "Cluster 8",
           "Cluster 9",
           "Cluster 0",
           "Cluster 1",
           "Cluster 2",
           "Cluster 3",
           "Cluster 4",
           "Cluster 5",
           "Cluster 6",
           "Cluster 7",
           "Cluster 8",
           "Cluster 9",
           "Cluster 0",
           "Cluster 1",
           "Cluster 2",
           "Cluster 3",
           "Cluster 4",
           "Cluster 5",
           "Cluster 6",
           "Cluster 7",
           "Cluster 8",
           "Cluster 9",
           "Cluster 0",
           "Cluster 1",
           "Cluster 2",
           "Cluster 3",
           "Cluster 4",
           "Cluster 5",
           "Cluster 6",
           "Cluster 7",
           "Cluster 8",
           "Cluster 9",
           "Cluster 0",
           "Cluster 1",
           "Cluster 2",
           "Cluster 3",
           "Cluster 4",
           "Cluster 5",
           "Cluster 6",
           "Cluster 7",
           "Cluster 8",
           "Cluster 9",
           "Cluster 0",
           "Cluster 1",
           "Cluster 2",
           "Cluster 3",
           "Cluster 4",
           "Cluster 5",
           "Cluster 6",
           "Cluster 7",
           "Cluster 8",
           "Cluster 9",
           "Cluster 0",
           "Cluster 1",
           "Cluster 2",
           "Cluster 3",
           "Cluster 4",
           "Cluster 5",
           "Cluster 6",
           "Cluster 7",
           "Cluster 8",
           "Cluster 9",
           "Cluster 0",
           "Cluster 1",
           "Cluster 2",
           "Cluster 3",
           "Cluster 4",
           "Cluster 5",
           "Cluster 6",
           "Cluster 7",
           "Cluster 8",
           "Cluster 9",
           "Cluster 0",
           "Cluster 1",
           "Cluster 2",
           "Cluster 3",
           "Cluster 4",
           "Cluster 5",
           "Cluster 6",
           "Cluster 7",
           "Cluster 8",
           "Cluster 9",
           "Cluster 0",
           "Cluster 1",
           "Cluster 2",
           "Cluster 3",
           "Cluster 4",
           "Cluster 5",
           "Cluster 6",
           "Cluster 7",
           "Cluster 8",
           "Cluster 9"
          ],
          "line": {
           "color": "black",
           "width": 0.5
          },
          "pad": 15,
          "thickness": 20
         },
         "type": "sankey"
        }
       ],
       "layout": {
        "annotations": [
         {
          "font": {
           "size": 12
          },
          "showarrow": false,
          "text": "Day 0",
          "x": 0,
          "xref": "paper",
          "y": -0.1,
          "yref": "paper"
         },
         {
          "font": {
           "size": 12
          },
          "showarrow": false,
          "text": "Day 1",
          "x": 0.1111111111111111,
          "xref": "paper",
          "y": -0.1,
          "yref": "paper"
         },
         {
          "font": {
           "size": 12
          },
          "showarrow": false,
          "text": "Day 2",
          "x": 0.2222222222222222,
          "xref": "paper",
          "y": -0.1,
          "yref": "paper"
         },
         {
          "font": {
           "size": 12
          },
          "showarrow": false,
          "text": "Day 3",
          "x": 0.3333333333333333,
          "xref": "paper",
          "y": -0.1,
          "yref": "paper"
         },
         {
          "font": {
           "size": 12
          },
          "showarrow": false,
          "text": "Day 4",
          "x": 0.4444444444444444,
          "xref": "paper",
          "y": -0.1,
          "yref": "paper"
         },
         {
          "font": {
           "size": 12
          },
          "showarrow": false,
          "text": "Day 5",
          "x": 0.5555555555555556,
          "xref": "paper",
          "y": -0.1,
          "yref": "paper"
         },
         {
          "font": {
           "size": 12
          },
          "showarrow": false,
          "text": "Day 6",
          "x": 0.6666666666666666,
          "xref": "paper",
          "y": -0.1,
          "yref": "paper"
         },
         {
          "font": {
           "size": 12
          },
          "showarrow": false,
          "text": "Day 7",
          "x": 0.7777777777777777,
          "xref": "paper",
          "y": -0.1,
          "yref": "paper"
         },
         {
          "font": {
           "size": 12
          },
          "showarrow": false,
          "text": "Day 8",
          "x": 0.8888888888888888,
          "xref": "paper",
          "y": -0.1,
          "yref": "paper"
         },
         {
          "font": {
           "size": 12
          },
          "showarrow": false,
          "text": "Day 9",
          "x": 1,
          "xref": "paper",
          "y": -0.1,
          "yref": "paper"
         }
        ],
        "font": {
         "size": 10
        },
        "template": {
         "data": {
          "bar": [
           {
            "error_x": {
             "color": "#2a3f5f"
            },
            "error_y": {
             "color": "#2a3f5f"
            },
            "marker": {
             "line": {
              "color": "#E5ECF6",
              "width": 0.5
             },
             "pattern": {
              "fillmode": "overlay",
              "size": 10,
              "solidity": 0.2
             }
            },
            "type": "bar"
           }
          ],
          "barpolar": [
           {
            "marker": {
             "line": {
              "color": "#E5ECF6",
              "width": 0.5
             },
             "pattern": {
              "fillmode": "overlay",
              "size": 10,
              "solidity": 0.2
             }
            },
            "type": "barpolar"
           }
          ],
          "carpet": [
           {
            "aaxis": {
             "endlinecolor": "#2a3f5f",
             "gridcolor": "white",
             "linecolor": "white",
             "minorgridcolor": "white",
             "startlinecolor": "#2a3f5f"
            },
            "baxis": {
             "endlinecolor": "#2a3f5f",
             "gridcolor": "white",
             "linecolor": "white",
             "minorgridcolor": "white",
             "startlinecolor": "#2a3f5f"
            },
            "type": "carpet"
           }
          ],
          "choropleth": [
           {
            "colorbar": {
             "outlinewidth": 0,
             "ticks": ""
            },
            "type": "choropleth"
           }
          ],
          "contour": [
           {
            "colorbar": {
             "outlinewidth": 0,
             "ticks": ""
            },
            "colorscale": [
             [
              0,
              "#0d0887"
             ],
             [
              0.1111111111111111,
              "#46039f"
             ],
             [
              0.2222222222222222,
              "#7201a8"
             ],
             [
              0.3333333333333333,
              "#9c179e"
             ],
             [
              0.4444444444444444,
              "#bd3786"
             ],
             [
              0.5555555555555556,
              "#d8576b"
             ],
             [
              0.6666666666666666,
              "#ed7953"
             ],
             [
              0.7777777777777778,
              "#fb9f3a"
             ],
             [
              0.8888888888888888,
              "#fdca26"
             ],
             [
              1,
              "#f0f921"
             ]
            ],
            "type": "contour"
           }
          ],
          "contourcarpet": [
           {
            "colorbar": {
             "outlinewidth": 0,
             "ticks": ""
            },
            "type": "contourcarpet"
           }
          ],
          "heatmap": [
           {
            "colorbar": {
             "outlinewidth": 0,
             "ticks": ""
            },
            "colorscale": [
             [
              0,
              "#0d0887"
             ],
             [
              0.1111111111111111,
              "#46039f"
             ],
             [
              0.2222222222222222,
              "#7201a8"
             ],
             [
              0.3333333333333333,
              "#9c179e"
             ],
             [
              0.4444444444444444,
              "#bd3786"
             ],
             [
              0.5555555555555556,
              "#d8576b"
             ],
             [
              0.6666666666666666,
              "#ed7953"
             ],
             [
              0.7777777777777778,
              "#fb9f3a"
             ],
             [
              0.8888888888888888,
              "#fdca26"
             ],
             [
              1,
              "#f0f921"
             ]
            ],
            "type": "heatmap"
           }
          ],
          "histogram": [
           {
            "marker": {
             "pattern": {
              "fillmode": "overlay",
              "size": 10,
              "solidity": 0.2
             }
            },
            "type": "histogram"
           }
          ],
          "histogram2d": [
           {
            "colorbar": {
             "outlinewidth": 0,
             "ticks": ""
            },
            "colorscale": [
             [
              0,
              "#0d0887"
             ],
             [
              0.1111111111111111,
              "#46039f"
             ],
             [
              0.2222222222222222,
              "#7201a8"
             ],
             [
              0.3333333333333333,
              "#9c179e"
             ],
             [
              0.4444444444444444,
              "#bd3786"
             ],
             [
              0.5555555555555556,
              "#d8576b"
             ],
             [
              0.6666666666666666,
              "#ed7953"
             ],
             [
              0.7777777777777778,
              "#fb9f3a"
             ],
             [
              0.8888888888888888,
              "#fdca26"
             ],
             [
              1,
              "#f0f921"
             ]
            ],
            "type": "histogram2d"
           }
          ],
          "histogram2dcontour": [
           {
            "colorbar": {
             "outlinewidth": 0,
             "ticks": ""
            },
            "colorscale": [
             [
              0,
              "#0d0887"
             ],
             [
              0.1111111111111111,
              "#46039f"
             ],
             [
              0.2222222222222222,
              "#7201a8"
             ],
             [
              0.3333333333333333,
              "#9c179e"
             ],
             [
              0.4444444444444444,
              "#bd3786"
             ],
             [
              0.5555555555555556,
              "#d8576b"
             ],
             [
              0.6666666666666666,
              "#ed7953"
             ],
             [
              0.7777777777777778,
              "#fb9f3a"
             ],
             [
              0.8888888888888888,
              "#fdca26"
             ],
             [
              1,
              "#f0f921"
             ]
            ],
            "type": "histogram2dcontour"
           }
          ],
          "mesh3d": [
           {
            "colorbar": {
             "outlinewidth": 0,
             "ticks": ""
            },
            "type": "mesh3d"
           }
          ],
          "parcoords": [
           {
            "line": {
             "colorbar": {
              "outlinewidth": 0,
              "ticks": ""
             }
            },
            "type": "parcoords"
           }
          ],
          "pie": [
           {
            "automargin": true,
            "type": "pie"
           }
          ],
          "scatter": [
           {
            "fillpattern": {
             "fillmode": "overlay",
             "size": 10,
             "solidity": 0.2
            },
            "type": "scatter"
           }
          ],
          "scatter3d": [
           {
            "line": {
             "colorbar": {
              "outlinewidth": 0,
              "ticks": ""
             }
            },
            "marker": {
             "colorbar": {
              "outlinewidth": 0,
              "ticks": ""
             }
            },
            "type": "scatter3d"
           }
          ],
          "scattercarpet": [
           {
            "marker": {
             "colorbar": {
              "outlinewidth": 0,
              "ticks": ""
             }
            },
            "type": "scattercarpet"
           }
          ],
          "scattergeo": [
           {
            "marker": {
             "colorbar": {
              "outlinewidth": 0,
              "ticks": ""
             }
            },
            "type": "scattergeo"
           }
          ],
          "scattergl": [
           {
            "marker": {
             "colorbar": {
              "outlinewidth": 0,
              "ticks": ""
             }
            },
            "type": "scattergl"
           }
          ],
          "scattermap": [
           {
            "marker": {
             "colorbar": {
              "outlinewidth": 0,
              "ticks": ""
             }
            },
            "type": "scattermap"
           }
          ],
          "scattermapbox": [
           {
            "marker": {
             "colorbar": {
              "outlinewidth": 0,
              "ticks": ""
             }
            },
            "type": "scattermapbox"
           }
          ],
          "scatterpolar": [
           {
            "marker": {
             "colorbar": {
              "outlinewidth": 0,
              "ticks": ""
             }
            },
            "type": "scatterpolar"
           }
          ],
          "scatterpolargl": [
           {
            "marker": {
             "colorbar": {
              "outlinewidth": 0,
              "ticks": ""
             }
            },
            "type": "scatterpolargl"
           }
          ],
          "scatterternary": [
           {
            "marker": {
             "colorbar": {
              "outlinewidth": 0,
              "ticks": ""
             }
            },
            "type": "scatterternary"
           }
          ],
          "surface": [
           {
            "colorbar": {
             "outlinewidth": 0,
             "ticks": ""
            },
            "colorscale": [
             [
              0,
              "#0d0887"
             ],
             [
              0.1111111111111111,
              "#46039f"
             ],
             [
              0.2222222222222222,
              "#7201a8"
             ],
             [
              0.3333333333333333,
              "#9c179e"
             ],
             [
              0.4444444444444444,
              "#bd3786"
             ],
             [
              0.5555555555555556,
              "#d8576b"
             ],
             [
              0.6666666666666666,
              "#ed7953"
             ],
             [
              0.7777777777777778,
              "#fb9f3a"
             ],
             [
              0.8888888888888888,
              "#fdca26"
             ],
             [
              1,
              "#f0f921"
             ]
            ],
            "type": "surface"
           }
          ],
          "table": [
           {
            "cells": {
             "fill": {
              "color": "#EBF0F8"
             },
             "line": {
              "color": "white"
             }
            },
            "header": {
             "fill": {
              "color": "#C8D4E3"
             },
             "line": {
              "color": "white"
             }
            },
            "type": "table"
           }
          ]
         },
         "layout": {
          "annotationdefaults": {
           "arrowcolor": "#2a3f5f",
           "arrowhead": 0,
           "arrowwidth": 1
          },
          "autotypenumbers": "strict",
          "coloraxis": {
           "colorbar": {
            "outlinewidth": 0,
            "ticks": ""
           }
          },
          "colorscale": {
           "diverging": [
            [
             0,
             "#8e0152"
            ],
            [
             0.1,
             "#c51b7d"
            ],
            [
             0.2,
             "#de77ae"
            ],
            [
             0.3,
             "#f1b6da"
            ],
            [
             0.4,
             "#fde0ef"
            ],
            [
             0.5,
             "#f7f7f7"
            ],
            [
             0.6,
             "#e6f5d0"
            ],
            [
             0.7,
             "#b8e186"
            ],
            [
             0.8,
             "#7fbc41"
            ],
            [
             0.9,
             "#4d9221"
            ],
            [
             1,
             "#276419"
            ]
           ],
           "sequential": [
            [
             0,
             "#0d0887"
            ],
            [
             0.1111111111111111,
             "#46039f"
            ],
            [
             0.2222222222222222,
             "#7201a8"
            ],
            [
             0.3333333333333333,
             "#9c179e"
            ],
            [
             0.4444444444444444,
             "#bd3786"
            ],
            [
             0.5555555555555556,
             "#d8576b"
            ],
            [
             0.6666666666666666,
             "#ed7953"
            ],
            [
             0.7777777777777778,
             "#fb9f3a"
            ],
            [
             0.8888888888888888,
             "#fdca26"
            ],
            [
             1,
             "#f0f921"
            ]
           ],
           "sequentialminus": [
            [
             0,
             "#0d0887"
            ],
            [
             0.1111111111111111,
             "#46039f"
            ],
            [
             0.2222222222222222,
             "#7201a8"
            ],
            [
             0.3333333333333333,
             "#9c179e"
            ],
            [
             0.4444444444444444,
             "#bd3786"
            ],
            [
             0.5555555555555556,
             "#d8576b"
            ],
            [
             0.6666666666666666,
             "#ed7953"
            ],
            [
             0.7777777777777778,
             "#fb9f3a"
            ],
            [
             0.8888888888888888,
             "#fdca26"
            ],
            [
             1,
             "#f0f921"
            ]
           ]
          },
          "colorway": [
           "#636efa",
           "#EF553B",
           "#00cc96",
           "#ab63fa",
           "#FFA15A",
           "#19d3f3",
           "#FF6692",
           "#B6E880",
           "#FF97FF",
           "#FECB52"
          ],
          "font": {
           "color": "#2a3f5f"
          },
          "geo": {
           "bgcolor": "white",
           "lakecolor": "white",
           "landcolor": "#E5ECF6",
           "showlakes": true,
           "showland": true,
           "subunitcolor": "white"
          },
          "hoverlabel": {
           "align": "left"
          },
          "hovermode": "closest",
          "mapbox": {
           "style": "light"
          },
          "paper_bgcolor": "white",
          "plot_bgcolor": "#E5ECF6",
          "polar": {
           "angularaxis": {
            "gridcolor": "white",
            "linecolor": "white",
            "ticks": ""
           },
           "bgcolor": "#E5ECF6",
           "radialaxis": {
            "gridcolor": "white",
            "linecolor": "white",
            "ticks": ""
           }
          },
          "scene": {
           "xaxis": {
            "backgroundcolor": "#E5ECF6",
            "gridcolor": "white",
            "gridwidth": 2,
            "linecolor": "white",
            "showbackground": true,
            "ticks": "",
            "zerolinecolor": "white"
           },
           "yaxis": {
            "backgroundcolor": "#E5ECF6",
            "gridcolor": "white",
            "gridwidth": 2,
            "linecolor": "white",
            "showbackground": true,
            "ticks": "",
            "zerolinecolor": "white"
           },
           "zaxis": {
            "backgroundcolor": "#E5ECF6",
            "gridcolor": "white",
            "gridwidth": 2,
            "linecolor": "white",
            "showbackground": true,
            "ticks": "",
            "zerolinecolor": "white"
           }
          },
          "shapedefaults": {
           "line": {
            "color": "#2a3f5f"
           }
          },
          "ternary": {
           "aaxis": {
            "gridcolor": "white",
            "linecolor": "white",
            "ticks": ""
           },
           "baxis": {
            "gridcolor": "white",
            "linecolor": "white",
            "ticks": ""
           },
           "bgcolor": "#E5ECF6",
           "caxis": {
            "gridcolor": "white",
            "linecolor": "white",
            "ticks": ""
           }
          },
          "title": {
           "x": 0.05
          },
          "xaxis": {
           "automargin": true,
           "gridcolor": "white",
           "linecolor": "white",
           "ticks": "",
           "title": {
            "standoff": 15
           },
           "zerolinecolor": "white",
           "zerolinewidth": 2
          },
          "yaxis": {
           "automargin": true,
           "gridcolor": "white",
           "linecolor": "white",
           "ticks": "",
           "title": {
            "standoff": 15
           },
           "zerolinecolor": "white",
           "zerolinewidth": 2
          }
         }
        },
        "title": {
         "text": "Cluster Assignment Transitions Over Time"
        }
       }
      }
     },
     "metadata": {},
     "output_type": "display_data"
    }
   ],
   "source": [
    "import numpy as np\n",
    "import plotly.graph_objects as go\n",
    "\n",
    "# Example clustering assignments (replace with your data)\n",
    "assignments = labels[:10]\n",
    "\n",
    "unique_clusters = np.unique(assignments)\n",
    "cluster_to_index = {c: i for i, c in enumerate(unique_clusters)}\n",
    "\n",
    "# Create nodes: one for each (day, cluster) combination\n",
    "nodes = []\n",
    "node_lookup = {}  # (day, cluster) -> node index\n",
    "\n",
    "for day in range(assignments.shape[0]):\n",
    "    for cluster in unique_clusters:\n",
    "        label = f\"Cluster {cluster}\"\n",
    "        node_idx = len(nodes)\n",
    "        nodes.append(label)\n",
    "        node_lookup[(day, cluster)] = node_idx\n",
    "\n",
    "# Build links between days\n",
    "source = []\n",
    "target = []\n",
    "value = []\n",
    "\n",
    "for day in range(assignments.shape[0] - 1):\n",
    "    curr_clusters = assignments[day]\n",
    "    next_clusters = assignments[day + 1]\n",
    "    \n",
    "    for cluster_from in unique_clusters:\n",
    "        for cluster_to in unique_clusters:\n",
    "            mask = (curr_clusters == cluster_from) & (next_clusters == cluster_to)\n",
    "            count = np.sum(mask)\n",
    "            if count > 0:\n",
    "                source.append(node_lookup[(day, cluster_from)])\n",
    "                target.append(node_lookup[(day + 1, cluster_to)])\n",
    "                value.append(count)\n",
    "\n",
    "# Build Sankey diagram\n",
    "fig = go.Figure(data=[go.Sankey(\n",
    "    node=dict(\n",
    "        pad=15,\n",
    "        thickness=20,\n",
    "        line=dict(color=\"black\", width=0.5),\n",
    "        label=nodes\n",
    "    ),\n",
    "    link=dict(\n",
    "        source=source,\n",
    "        target=target,\n",
    "        value=value\n",
    "    )\n",
    ")])\n",
    "\n",
    "# Add day labels as annotations\n",
    "num_days = assignments.shape[0]\n",
    "x_positions = np.linspace(0, 1, num_days)  # Evenly spaced x for each stack\n",
    "\n",
    "annotations = []\n",
    "for i, x in enumerate(x_positions):\n",
    "    annotations.append(dict(\n",
    "        x=x,\n",
    "        y=-0.1,  # Position below the Sankey diagram\n",
    "        xref='paper',\n",
    "        yref='paper',\n",
    "        text=f\"Day {i}\",\n",
    "        showarrow=False,\n",
    "        font=dict(size=12)\n",
    "    ))\n",
    "\n",
    "fig.update_layout(\n",
    "    title_text=\"Cluster Assignment Transitions Over Time\",\n",
    "    font_size=10,\n",
    "    annotations=annotations\n",
    ")\n",
    "\n",
    "fig.show()\n"
   ]
  },
  {
   "cell_type": "markdown",
   "id": "c1b43a8a",
   "metadata": {},
   "source": [
    "# Sector Name Lookup"
   ]
  },
  {
   "cell_type": "code",
   "execution_count": 46,
   "id": "efd769aa",
   "metadata": {},
   "outputs": [
    {
     "name": "stdout",
     "output_type": "stream",
     "text": [
      "  ETF_ticker  Sector_code Individual_ticker             Sector_name\n",
      "0        XLK            1                 A  Information_Technology\n",
      "1        XLB            2                AA               Materials\n",
      "2        XLY            3               AAN  Consumer_Discretionary\n",
      "3        XLI            4              AAON             Industrials\n",
      "4        XLY            3               AAP  Consumer_Discretionary\n",
      "Perfect agreement between ETF_ticker, Sector_code, and Sector_name.\n",
      "['Information_Technology' 'Materials' 'Consumer_Discretionary'\n",
      " 'Industrials' 'Financials' 'Health_Care' 'Energy' 'Consumer_Staples'\n",
      " 'Utilities' 'Telecommunications_Services']\n",
      "SP1500 sectors dataset has 1459 individual companies in it\n",
      "There are 233 tickers in the time series not found in the SP1500 Sectors dataset out of 663 total\n",
      "Lookup table exported to ticker_sector_lookup.csv\n"
     ]
    }
   ],
   "source": [
    "# import os\n",
    "# os.path.abspath(os.getcwd())\n",
    "\n",
    "sectors_df = pd.read_csv(r\"..\\Data\\Sectors_SP1500.csv\", header=0, names=[\"ETF_ticker\", \"Sector_code\", \"Individual_ticker\", \"Sector_name\"])\n",
    "print(sectors_df.head())\n",
    "\n",
    "all_mappings = sectors_df[[\"ETF_ticker\", \"Sector_code\", \"Sector_name\"]].drop_duplicates()\n",
    "\n",
    "# Count unique ETF_Ticker values\n",
    "num_unique_etf = sectors_df[\"ETF_ticker\"].nunique()\n",
    "\n",
    "# If these counts match, mappings are consistent\n",
    "if len(all_mappings) == num_unique_etf:\n",
    "    print(\"Perfect agreement between ETF_ticker, Sector_code, and Sector_name.\")\n",
    "else:\n",
    "    print(\"Inconsistencies found in the mappings.\")\n",
    "\n",
    "print(sectors_df[\"Sector_name\"].unique())\n",
    "\n",
    "ticker_to_sector = dict(zip(sectors_df[\"Individual_ticker\"], sectors_df[\"Sector_code\"]))\n",
    "print(f\"SP1500 sectors dataset has {len(ticker_to_sector.keys())} individual companies in it\")\n",
    "# print(ticker_to_sector.keys())\n",
    "dataset_tickers = returns_df_cleaned.columns.to_list()\n",
    "missing = [s for s in dataset_tickers if s not in ticker_to_sector]\n",
    "missing_count = len(missing)\n",
    "print(f\"There are {missing_count} tickers in the time series not found in the SP1500 Sectors dataset out of {len(dataset_tickers)} total\")\n",
    "\n",
    "# Convert to DataFrame\n",
    "lookup_df = pd.DataFrame(list(ticker_to_sector.items()), columns=[\"Ticker\", \"Sector_Code\"])\n",
    "\n",
    "# Export to CSV\n",
    "lookup_df.to_csv(\"../Data/ticker_sector_lookup.csv\", index=False)\n",
    "\n",
    "print(\"Lookup table exported to ticker_sector_lookup.csv\")\n"
   ]
  },
  {
   "cell_type": "code",
   "execution_count": null,
   "id": "07778b1d",
   "metadata": {},
   "outputs": [
    {
     "name": "stdout",
     "output_type": "stream",
     "text": [
      "Perfect agreement between ETF_ticker, Sector_code, and Sector_name.\n"
     ]
    }
   ],
   "source": []
  },
  {
   "cell_type": "code",
   "execution_count": null,
   "id": "38b3cb23",
   "metadata": {},
   "outputs": [
    {
     "ename": "SyntaxError",
     "evalue": "incomplete input (2079608571.py, line 20)",
     "output_type": "error",
     "traceback": [
      "\u001b[1;36m  Cell \u001b[1;32mIn[3], line 20\u001b[1;36m\u001b[0m\n\u001b[1;33m    print(f\"Draw {i}: {sym}: Sector = {sector}, Industry = {industry}\")\u001b[0m\n\u001b[1;37m                                                                       ^\u001b[0m\n\u001b[1;31mSyntaxError\u001b[0m\u001b[1;31m:\u001b[0m incomplete input\n"
     ]
    }
   ],
   "source": [
    "# Try to pull up-to-date sector codes from yfinance\n",
    "\n",
    "# import yfinance as yf\n",
    "# import time\n",
    "# import math\n",
    "\n",
    "# tickers = returns_df_cleaned.columns.to_list()\n",
    "\n",
    "# yfinance_data = pd.DataFrame(columns=[\"ticker\", \"sector\", \"industry\"])\n",
    "\n",
    "# period=50\n",
    "# for i in range(math.ceil(len(tickers)/period)):\n",
    "#     time.sleep(1)\n",
    "#     tickers_sublist = tickers[i*period:(i+1)*period]\n",
    "#     tickers_sublist_str = \" \".join(tickers_sublist)\n",
    "#     t = yf.Tickers(tickers_sublist_str)\n",
    "#     for sym in tickers_sublist:\n",
    "#         sector = t.tickers[sym].info.get('sector')\n",
    "#         industry = t.tickers[sym].info.get('industry')\n",
    "#         pd.concat([yfinance_data, pd.Series([sym, sector, industry])], ignore_index=True)\n",
    "#         print(f\"Draw {i}: {sym}: Sector = {sector}, Industry = {industry}\")"
   ]
  }
 ],
 "metadata": {
  "kernelspec": {
   "display_name": "Python 3",
   "language": "python",
   "name": "python3"
  },
  "language_info": {
   "codemirror_mode": {
    "name": "ipython",
    "version": 3
   },
   "file_extension": ".py",
   "mimetype": "text/x-python",
   "name": "python",
   "nbconvert_exporter": "python",
   "pygments_lexer": "ipython3",
   "version": "3.11.4"
  }
 },
 "nbformat": 4,
 "nbformat_minor": 5
}
