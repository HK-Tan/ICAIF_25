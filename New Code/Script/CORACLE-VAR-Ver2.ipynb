{
 "cells": [
  {
   "cell_type": "markdown",
   "id": "a456527c",
   "metadata": {},
   "source": [
    "## CORACLE Set-up and Evaluation"
   ]
  },
  {
   "cell_type": "code",
   "execution_count": 9,
   "id": "82d36598",
   "metadata": {},
   "outputs": [
    {
     "name": "stdout",
     "output_type": "stream",
     "text": [
      "Current Working Directory: c:\\Users\\hktan\\OneDrive - University of California\\Codes\\ICAIF_25\\New Code\\Script\n",
      "Data loaded and cleaned. Sample (first 5 rows/cols):\n",
      "ticker            AA       ABM       ABT       ADI       ADM\n",
      "date                                                        \n",
      "2000-01-03 -0.013042 -0.009188 -0.007117 -0.036071  0.000000\n",
      "2000-01-04  0.010043  0.012346 -0.012786 -0.044261  0.005277\n",
      "2000-01-05  0.047628 -0.006192  0.011111  0.014493 -0.015915\n",
      "2000-01-06 -0.011713  0.000000  0.032553 -0.027719  0.010695\n",
      "2000-01-07 -0.016118  0.003091  0.028573  0.033654  0.005249\n",
      "Shape of the cleaned data: (5279, 663)\n"
     ]
    }
   ],
   "source": [
    "### Data Processing\n",
    "\n",
    "## Ignore warnings\n",
    "import warnings\n",
    "warnings.filterwarnings(\"ignore\")\n",
    "# Helper imports\n",
    "import numpy as np\n",
    "import pandas as pd\n",
    "import os\n",
    "import sys\n",
    "\n",
    "from functools import reduce\n",
    "import matplotlib.pyplot as plt\n",
    "\n",
    "%matplotlib inline\n",
    "\n",
    "current_working_dir = os.getcwd()\n",
    "print(f\"Current Working Directory: {current_working_dir}\")\n",
    "project_root = os.path.dirname(current_working_dir)\n",
    "modules_path = os.path.join(project_root, 'Modules')\n",
    "if modules_path not in sys.path:\n",
    "    sys.path.append(modules_path)\n",
    "    print(f\"Added to sys.path for custom modules: {modules_path}\")\n",
    "\n",
    "####################################################################\n",
    "#### NYSE Daily Open-Close Returns\n",
    "####################################################################\n",
    "data_folder_path = os.path.join(project_root, 'Data')\n",
    "data_file_name = \"OPCL_20000103_20201231.csv\"   \n",
    "data_file_path = os.path.join(data_folder_path, data_file_name) # So that we get to the file itself and not the folder it is in\n",
    "returns_df = pd.read_csv(data_file_path) # Assumes file exists and is readable\n",
    "returns_df.set_index('ticker', inplace=True)\n",
    "returns_df.columns = pd.to_datetime(returns_df.columns.str.lstrip('X'), format='%Y%m%d').strftime('%Y-%m-%d')\n",
    "returns_df_cleaned = returns_df.dropna().transpose() # Assumes dropna results in non-empty returns_df\n",
    "returns_df_cleaned.index = pd.to_datetime(returns_df_cleaned.index)\n",
    "returns_df_cleaned.index.name = 'date'\n",
    "print(\"Data loaded and cleaned. Sample (first 5 rows/cols):\")\n",
    "print(returns_df_cleaned.iloc[0:5,0:5])\n",
    "print(f\"Shape of the cleaned data: {returns_df_cleaned.shape}\")\n"
   ]
  },
  {
   "cell_type": "markdown",
   "id": "29a5637d",
   "metadata": {},
   "source": [
    "### Confounding Data"
   ]
  },
  {
   "cell_type": "code",
   "execution_count": 6,
   "id": "b4362806",
   "metadata": {},
   "outputs": [
    {
     "name": "stdout",
     "output_type": "stream",
     "text": [
      "Confounding Variables DataFrame constructed and cleaned. Sample (first 5 rows/cols):\n",
      "             DFF  T5YIE  USEPUINDXD  VIXCLS  DCOILWTICO  DTWEXBGS  DTWEXEMEGS\n",
      "date                                                                         \n",
      "2000-01-01  3.99    1.3       68.04   24.21       25.56  101.4155    100.9386\n",
      "2000-01-02  3.99    1.3      119.36   24.21       25.56  101.4155    100.9386\n",
      "2000-01-03  5.43    1.3       35.73   24.21       25.56  101.4155    100.9386\n",
      "2000-01-04  5.38    1.3      109.31   27.01       25.56  101.4155    100.9386\n",
      "2000-01-05  5.41    1.3      123.22   26.41       24.65  101.4155    100.9386\n",
      "Shape of the cleaned confounding variables data: (7671, 7)\n",
      "\n",
      "\n",
      "Filtering by trading dates ...\n",
      "\n",
      "\n",
      "Filtered Confounding Variables DataFrame:\n",
      "             DFF  T5YIE  USEPUINDXD  VIXCLS  DCOILWTICO  DTWEXBGS  DTWEXEMEGS\n",
      "date                                                                         \n",
      "2000-01-03  5.43    1.3       35.73   24.21       25.56  101.4155    100.9386\n",
      "2000-01-04  5.38    1.3      109.31   27.01       25.56  101.4155    100.9386\n",
      "2000-01-05  5.41    1.3      123.22   26.41       24.65  101.4155    100.9386\n",
      "2000-01-06  5.54    1.3       53.61   25.73       24.79  101.4155    100.9386\n",
      "2000-01-07  5.61    1.3       42.03   21.72       24.79  101.4155    100.9386\n",
      "Shape of the filtered confounding variables data: (5279, 7)\n"
     ]
    }
   ],
   "source": [
    "####################################################################\n",
    "#### Constructing the dataframe for the Confounding Variables\n",
    "####################################################################\n",
    "\n",
    "\"\"\"\n",
    "Data Source: Federal Reserve Economic Data (FRED)\n",
    "\n",
    "DFF -> Federal Funds Effective Rate\n",
    "T5YIE -> 5-Year Breakeven Inflation Rate (only from 2003)\n",
    "USEPUINDXD -> Economic Policy Uncertainty Index for United States; News-based, 7 days moving average\n",
    "VIX -> CBOE Volatility Index (VIX)\n",
    "DCOILWTICO -> West Texas Intermediate (WTI) Crude Oil Prices: Cushing, Oklahoma\n",
    "DTWEXBGS -> Broad U.S. Dollar Index: Trade Weighted Exchange Rate Index for Major Currencies (only from 2006)\n",
    "DTWEXEMEGS-> Broad U.S. Dollar Index: Trade Weighted Exchange Rate Index for Emerging Market Economies (only from 2006)\n",
    "\n",
    "Other Potential Data Sources:\n",
    "Gold Prices (Futures/Spot), etc.\n",
    "\"\"\"\n",
    "\n",
    "files = [\"DFF_20000103_20201231.csv\",\n",
    "         \"T5YIE_20030102_20201231.csv\",\n",
    "         \"USEPUINDXD_20000103_20201231.csv\",\n",
    "         \"VIX_20000103_20201231.csv\",\n",
    "         \"DCOILWTICO_20000103_20201231.csv\",\n",
    "         \"DTWEXBGS_20060102_20201231.csv\",\n",
    "         \"DTWEXEMEGS_20060102_20201231.csv\"\n",
    "         ]\n",
    "\n",
    "\n",
    "merged_confound_df = reduce(\n",
    "    lambda left, right: pd.merge(left, right, on=\"observation_date\", how=\"outer\"),\n",
    "    (pd.read_csv(os.path.join(data_folder_path, f), parse_dates=[0]) for f in files)\n",
    ")\n",
    "imputed_confound_df = merged_confound_df.interpolate(method='linear', limit_direction='both')\n",
    "imputed_confound_df.set_index('observation_date', inplace=True)\n",
    "imputed_confound_df.index.name = 'date'  # Renaming index to 'date'\n",
    "print(\"Confounding Variables DataFrame constructed and cleaned. Sample (first 5 rows/cols):\")\n",
    "print(imputed_confound_df.iloc[0:5,:])\n",
    "print(f\"Shape of the cleaned confounding variables data: {imputed_confound_df.shape}\")\n",
    "filtered_confound_df = imputed_confound_df[imputed_confound_df.index.isin(returns_df_cleaned.index)]\n",
    "print(\"\\n\")\n",
    "print(\"Filtering by trading dates ...\")\n",
    "print(\"\\n\")\n",
    "print(\"Filtered Confounding Variables DataFrame:\")\n",
    "print(filtered_confound_df.head())\n",
    "print(f\"Shape of the filtered confounding variables data: {filtered_confound_df.shape}\")"
   ]
  },
  {
   "cell_type": "markdown",
   "id": "6600c4d7",
   "metadata": {},
   "source": [
    "## ORACLE-VAR"
   ]
  },
  {
   "cell_type": "markdown",
   "id": "0ef6e83b",
   "metadata": {},
   "source": []
  }
 ],
 "metadata": {
  "kernelspec": {
   "display_name": "econml_env",
   "language": "python",
   "name": "python3"
  },
  "language_info": {
   "codemirror_mode": {
    "name": "ipython",
    "version": 3
   },
   "file_extension": ".py",
   "mimetype": "text/x-python",
   "name": "python",
   "nbconvert_exporter": "python",
   "pygments_lexer": "ipython3",
   "version": "3.11.10"
  }
 },
 "nbformat": 4,
 "nbformat_minor": 5
}
