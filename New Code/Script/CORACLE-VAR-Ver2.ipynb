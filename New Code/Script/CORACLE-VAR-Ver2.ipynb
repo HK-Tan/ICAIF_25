{
 "cells": [
  {
   "cell_type": "markdown",
   "id": "a456527c",
   "metadata": {},
   "source": [
    "## CORACLE Set-up and Evaluation"
   ]
  },
  {
   "cell_type": "code",
   "execution_count": 1,
   "id": "82d36598",
   "metadata": {},
   "outputs": [
    {
     "name": "stdout",
     "output_type": "stream",
     "text": [
      "Current Working Directory: c:\\Users\\hktan\\OneDrive - University of California\\Codes\\ICAIF_25\\New Code\\Script\n",
      "Added to sys.path for custom modules: c:\\Users\\hktan\\OneDrive - University of California\\Codes\\ICAIF_25\\New Code\\Modules\n",
      "Data loaded and cleaned. Sample (first 5 rows/cols):\n",
      "ticker            AA       ABM       ABT       ADI       ADM\n",
      "date                                                        \n",
      "2000-01-03 -0.013042 -0.009188 -0.007117 -0.036071  0.000000\n",
      "2000-01-04  0.010043  0.012346 -0.012786 -0.044261  0.005277\n",
      "2000-01-05  0.047628 -0.006192  0.011111  0.014493 -0.015915\n",
      "2000-01-06 -0.011713  0.000000  0.032553 -0.027719  0.010695\n",
      "2000-01-07 -0.016118  0.003091  0.028573  0.033654  0.005249\n",
      "Shape of the cleaned data: (5279, 663)\n"
     ]
    }
   ],
   "source": [
    "### Data Processing\n",
    "\n",
    "## Ignore warnings\n",
    "import warnings\n",
    "warnings.filterwarnings(\"ignore\")\n",
    "# Helper imports\n",
    "import numpy as np\n",
    "import pandas as pd\n",
    "import os\n",
    "import sys\n",
    "\n",
    "from functools import reduce\n",
    "import matplotlib.pyplot as plt\n",
    "\n",
    "%matplotlib inline\n",
    "\n",
    "current_working_dir = os.getcwd()\n",
    "print(f\"Current Working Directory: {current_working_dir}\")\n",
    "project_root = os.path.dirname(current_working_dir)\n",
    "modules_path = os.path.join(project_root, 'Modules')\n",
    "if modules_path not in sys.path:\n",
    "    sys.path.append(modules_path)\n",
    "    print(f\"Added to sys.path for custom modules: {modules_path}\")\n",
    "\n",
    "####################################################################\n",
    "#### NYSE Daily Open-Close Returns\n",
    "####################################################################\n",
    "data_folder_path = os.path.join(project_root, 'Data')\n",
    "data_file_name = \"OPCL_20000103_20201231.csv\"   \n",
    "data_file_path = os.path.join(data_folder_path, data_file_name) # So that we get to the file itself and not the folder it is in\n",
    "returns_df = pd.read_csv(data_file_path) # Assumes file exists and is readable\n",
    "returns_df.set_index('ticker', inplace=True)\n",
    "returns_df.columns = pd.to_datetime(returns_df.columns.str.lstrip('X'), format='%Y%m%d').strftime('%Y-%m-%d')\n",
    "returns_df_cleaned = returns_df.dropna().transpose() # Assumes dropna results in non-empty returns_df\n",
    "returns_df_cleaned.index = pd.to_datetime(returns_df_cleaned.index)\n",
    "returns_df_cleaned.index.name = 'date'\n",
    "print(\"Data loaded and cleaned. Sample (first 5 rows/cols):\")\n",
    "print(returns_df_cleaned.iloc[0:5,0:5])\n",
    "print(f\"Shape of the cleaned data: {returns_df_cleaned.shape}\")\n"
   ]
  },
  {
   "cell_type": "markdown",
   "id": "29a5637d",
   "metadata": {},
   "source": [
    "### Confounding Data"
   ]
  },
  {
   "cell_type": "code",
   "execution_count": 2,
   "id": "b4362806",
   "metadata": {},
   "outputs": [
    {
     "name": "stdout",
     "output_type": "stream",
     "text": [
      "Confounding Variables DataFrame constructed and cleaned. Sample (first 5 rows/cols):\n",
      "             DFF  T5YIE  USEPUINDXD  VIXCLS  DCOILWTICO  DTWEXBGS  DTWEXEMEGS\n",
      "date                                                                         \n",
      "2000-01-01  3.99    1.3       68.04   24.21       25.56  101.4155    100.9386\n",
      "2000-01-02  3.99    1.3      119.36   24.21       25.56  101.4155    100.9386\n",
      "2000-01-03  5.43    1.3       35.73   24.21       25.56  101.4155    100.9386\n",
      "2000-01-04  5.38    1.3      109.31   27.01       25.56  101.4155    100.9386\n",
      "2000-01-05  5.41    1.3      123.22   26.41       24.65  101.4155    100.9386\n",
      "Shape of the cleaned confounding variables data: (7671, 7)\n",
      "\n",
      "\n",
      "Filtering by trading dates ...\n",
      "\n",
      "\n",
      "Filtered Confounding Variables DataFrame:\n",
      "             DFF  T5YIE  USEPUINDXD  VIXCLS  DCOILWTICO  DTWEXBGS  DTWEXEMEGS\n",
      "date                                                                         \n",
      "2000-01-03  5.43    1.3       35.73   24.21       25.56  101.4155    100.9386\n",
      "2000-01-04  5.38    1.3      109.31   27.01       25.56  101.4155    100.9386\n",
      "2000-01-05  5.41    1.3      123.22   26.41       24.65  101.4155    100.9386\n",
      "2000-01-06  5.54    1.3       53.61   25.73       24.79  101.4155    100.9386\n",
      "2000-01-07  5.61    1.3       42.03   21.72       24.79  101.4155    100.9386\n",
      "Shape of the filtered confounding variables data: (5279, 7)\n"
     ]
    }
   ],
   "source": [
    "####################################################################\n",
    "#### Constructing the dataframe for the Confounding Variables\n",
    "####################################################################\n",
    "\n",
    "\"\"\"\n",
    "Data Source: Federal Reserve Economic Data (FRED)\n",
    "\n",
    "DFF -> Federal Funds Effective Rate\n",
    "T5YIE -> 5-Year Breakeven Inflation Rate (only from 2003)\n",
    "USEPUINDXD -> Economic Policy Uncertainty Index for United States; News-based, 7 days moving average\n",
    "VIX -> CBOE Volatility Index (VIX)\n",
    "DCOILWTICO -> West Texas Intermediate (WTI) Crude Oil Prices: Cushing, Oklahoma\n",
    "DTWEXBGS -> Broad U.S. Dollar Index: Trade Weighted Exchange Rate Index for Major Currencies (only from 2006)\n",
    "DTWEXEMEGS-> Broad U.S. Dollar Index: Trade Weighted Exchange Rate Index for Emerging Market Economies (only from 2006)\n",
    "\n",
    "Other Potential Data Sources:\n",
    "Gold Prices (Futures/Spot), etc.\n",
    "\"\"\"\n",
    "\n",
    "files = [\"DFF_20000103_20201231.csv\",\n",
    "         \"T5YIE_20030102_20201231.csv\",\n",
    "         \"USEPUINDXD_20000103_20201231.csv\",\n",
    "         \"VIX_20000103_20201231.csv\",\n",
    "         \"DCOILWTICO_20000103_20201231.csv\",\n",
    "         \"DTWEXBGS_20060102_20201231.csv\",\n",
    "         \"DTWEXEMEGS_20060102_20201231.csv\"\n",
    "         ]\n",
    "\n",
    "\n",
    "merged_confound_df = reduce(\n",
    "    lambda left, right: pd.merge(left, right, on=\"observation_date\", how=\"outer\"),\n",
    "    (pd.read_csv(os.path.join(data_folder_path, f), parse_dates=[0]) for f in files)\n",
    ")\n",
    "imputed_confound_df = merged_confound_df.interpolate(method='linear', limit_direction='both')\n",
    "imputed_confound_df.set_index('observation_date', inplace=True)\n",
    "imputed_confound_df.index.name = 'date'  # Renaming index to 'date'\n",
    "print(\"Confounding Variables DataFrame constructed and cleaned. Sample (first 5 rows/cols):\")\n",
    "print(imputed_confound_df.iloc[0:5,:])\n",
    "print(f\"Shape of the cleaned confounding variables data: {imputed_confound_df.shape}\")\n",
    "filtered_confound_df = imputed_confound_df[imputed_confound_df.index.isin(returns_df_cleaned.index)]\n",
    "print(\"\\n\")\n",
    "print(\"Filtering by trading dates ...\")\n",
    "print(\"\\n\")\n",
    "print(\"Filtered Confounding Variables DataFrame:\")\n",
    "print(filtered_confound_df.head())\n",
    "print(f\"Shape of the filtered confounding variables data: {filtered_confound_df.shape}\")"
   ]
  },
  {
   "cell_type": "markdown",
   "id": "6600c4d7",
   "metadata": {},
   "source": [
    "## ORACLE-VAR"
   ]
  },
  {
   "cell_type": "code",
   "execution_count": 6,
   "id": "54e8f83f",
   "metadata": {},
   "outputs": [
    {
     "name": "stdout",
     "output_type": "stream",
     "text": [
      "             DFF  T5YIE  USEPUINDXD  VIXCLS  DCOILWTICO  DTWEXBGS  DTWEXEMEGS\n",
      "date                                                                         \n",
      "2015-01-16  0.13   1.19       50.91   20.95       48.49  103.2189    104.3290\n",
      "2015-01-20  0.12   1.19       74.06   19.89       46.79  103.5233    104.5760\n",
      "2015-01-21  0.12   1.17       43.82   18.85       47.85  103.7858    104.5846\n",
      "2015-01-22  0.12   1.19       85.21   16.40       45.93  103.9271    104.2139\n",
      "2015-01-23  0.12   1.21       82.90   16.66       45.26  104.3676    104.4282\n",
      "(1500, 7)\n",
      "It is day 1008 out of 1499 days in the dataset.\n"
     ]
    },
    {
     "ename": "ValueError",
     "evalue": "could not broadcast input array from shape (100,) into shape (20,)",
     "output_type": "error",
     "traceback": [
      "\u001b[31m---------------------------------------------------------------------------\u001b[39m",
      "\u001b[31mValueError\u001b[39m                                Traceback (most recent call last)",
      "\u001b[36mCell\u001b[39m\u001b[36m \u001b[39m\u001b[32mIn[6]\u001b[39m\u001b[32m, line 8\u001b[39m\n\u001b[32m      5\u001b[39m \u001b[38;5;28mprint\u001b[39m(filtered_confound_df_prep.head())\n\u001b[32m      6\u001b[39m \u001b[38;5;28mprint\u001b[39m(filtered_confound_df_prep.shape)\n\u001b[32m----> \u001b[39m\u001b[32m8\u001b[39m results = \u001b[43mrolling_window_OR_VAR_w_para_search\u001b[49m\u001b[43m(\u001b[49m\u001b[43mY_df\u001b[49m\u001b[43m \u001b[49m\u001b[43m=\u001b[49m\u001b[43m \u001b[49m\u001b[43mreturns_df_cleaned_prep\u001b[49m\u001b[43m,\u001b[49m\u001b[43m \u001b[49m\u001b[43mconfound_df\u001b[49m\u001b[43m \u001b[49m\u001b[43m=\u001b[49m\u001b[43m \u001b[49m\u001b[43mfiltered_confound_df_prep\u001b[49m\u001b[43m,\u001b[49m\n\u001b[32m      9\u001b[39m \u001b[43m                                              \u001b[49m\u001b[43mdays_valid\u001b[49m\u001b[43m=\u001b[49m\u001b[32;43m2\u001b[39;49m\u001b[43m)\u001b[49m\n",
      "\u001b[36mFile \u001b[39m\u001b[32mc:\\Users\\hktan\\OneDrive - University of California\\Codes\\ICAIF_25\\New Code\\Modules\\DML_tools.py:287\u001b[39m, in \u001b[36mrolling_window_OR_VAR_w_para_search\u001b[39m\u001b[34m(Y_df, confound_df, p_max, model_y_name, model_t_name, model_y_params, model_t_params, cv_folds, lookback_days, days_valid, error_metric)\u001b[39m\n\u001b[32m    285\u001b[39m     Y_base = np.mean(np.array(Y_base_folds), axis = \u001b[32m0\u001b[39m) \u001b[38;5;66;03m# Average estimators over the folds \u001b[39;00m\n\u001b[32m    286\u001b[39m     theta = est.const_marginal_ate()\n\u001b[32m--> \u001b[39m\u001b[32m287\u001b[39m     \u001b[43mY_hat_next_store\u001b[49m\u001b[43m[\u001b[49m\u001b[43mday_idx\u001b[49m\u001b[43m-\u001b[49m\u001b[43mtest_start\u001b[49m\u001b[43m,\u001b[49m\u001b[43m:\u001b[49m\u001b[43m]\u001b[49m = Y_base + T_df_test @ theta.T\n\u001b[32m    289\u001b[39m result = {\n\u001b[32m    290\u001b[39m     \u001b[33m'\u001b[39m\u001b[33mtest_start\u001b[39m\u001b[33m'\u001b[39m: test_start,\n\u001b[32m    291\u001b[39m     \u001b[33m'\u001b[39m\u001b[33mnum_days\u001b[39m\u001b[33m'\u001b[39m: num_days,\n\u001b[32m    292\u001b[39m     \u001b[33m'\u001b[39m\u001b[33mp_optimal\u001b[39m\u001b[33m'\u001b[39m: p_optimal,\n\u001b[32m    293\u001b[39m     \u001b[33m'\u001b[39m\u001b[33mY_hat_next_store\u001b[39m\u001b[33m'\u001b[39m: Y_hat_next_store,\n\u001b[32m    294\u001b[39m }\n\u001b[32m    296\u001b[39m \u001b[38;5;28;01mreturn\u001b[39;00m result\n",
      "\u001b[31mValueError\u001b[39m: could not broadcast input array from shape (100,) into shape (20,)"
     ]
    }
   ],
   "source": [
    "from DML_tools import *\n",
    "\n",
    "returns_df_cleaned_prep = returns_df_cleaned.iloc[-1500:,:20]\n",
    "filtered_confound_df_prep = filtered_confound_df.loc[returns_df_cleaned_prep.index]\n",
    "print(filtered_confound_df_prep.head())\n",
    "print(filtered_confound_df_prep.shape)\n",
    "\n",
    "results = rolling_window_OR_VAR_w_para_search(Y_df = returns_df_cleaned_prep, confound_df = filtered_confound_df_prep,\n",
    "                                              days_valid=2)"
   ]
  }
 ],
 "metadata": {
  "kernelspec": {
   "display_name": "econml_env",
   "language": "python",
   "name": "python3"
  },
  "language_info": {
   "codemirror_mode": {
    "name": "ipython",
    "version": 3
   },
   "file_extension": ".py",
   "mimetype": "text/x-python",
   "name": "python",
   "nbconvert_exporter": "python",
   "pygments_lexer": "ipython3",
   "version": "3.11.10"
  }
 },
 "nbformat": 4,
 "nbformat_minor": 5
}
