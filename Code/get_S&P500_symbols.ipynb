{
 "cells": [
  {
   "cell_type": "code",
   "execution_count": 30,
   "id": "2a0a6408-cf52-4203-999c-802b32afc954",
   "metadata": {},
   "outputs": [
    {
     "name": "stdout",
     "output_type": "stream",
     "text": [
      "<Response [200]>\n"
     ]
    }
   ],
   "source": [
    "from bs4 import BeautifulSoup\n",
    "import requests \n",
    "import pandas as pd\n",
    "\n",
    "res = requests.get(\"https://en.wikipedia.org/wiki/List_of_S%26P_500_companies\")\n",
    "print(res)\n",
    "soup = BeautifulSoup(res.text, \"lxml\")"
   ]
  },
  {
   "cell_type": "code",
   "execution_count": 31,
   "id": "f56a2d48-739b-4592-b97b-773a0ce408ac",
   "metadata": {},
   "outputs": [],
   "source": [
    "tickers =  []\n",
    "\n",
    "table = soup.find_all('table', class_ = \"wikitable sortable\")\n",
    "rows = table[0].find_all('tr')[1:]\n",
    "\n",
    "\n",
    "for row in rows :\n",
    "    tickers.append(row.find('td').text[:-1])\n",
    "\n"
   ]
  },
  {
   "cell_type": "code",
   "execution_count": 36,
   "id": "0d0e15ca-46d4-4ad5-86e7-71e5b2929cfc",
   "metadata": {},
   "outputs": [
    {
     "name": "stdout",
     "output_type": "stream",
     "text": [
      "    Symbols of S&P 500\n",
      "0                  MMM\n",
      "1                  AOS\n",
      "2                  ABT\n",
      "3                 ABBV\n",
      "4                  ACN\n",
      "..                 ...\n",
      "497                YUM\n",
      "498               ZBRA\n",
      "499                ZBH\n",
      "500               ZION\n",
      "501                ZTS\n",
      "\n",
      "[502 rows x 1 columns]\n"
     ]
    }
   ],
   "source": [
    "df_tickers = pd.DataFrame(tickers, columns = ['Symbols of S&P 500'])\n",
    "print(df_tickers)\n",
    "df_tickers.to_csv('Portfolio_clustering_project/Code/S&P500_symbols.csv', index=False)"
   ]
  }
 ],
 "metadata": {
  "kernelspec": {
   "display_name": "Python 3 (ipykernel)",
   "language": "python",
   "name": "python3"
  },
  "language_info": {
   "codemirror_mode": {
    "name": "ipython",
    "version": 3
   },
   "file_extension": ".py",
   "mimetype": "text/x-python",
   "name": "python",
   "nbconvert_exporter": "python",
   "pygments_lexer": "ipython3",
   "version": "3.11.4"
  }
 },
 "nbformat": 4,
 "nbformat_minor": 5
}
