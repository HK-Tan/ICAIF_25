{
 "cells": [
  {
   "cell_type": "markdown",
   "metadata": {},
   "source": [
    "# **STANDARD NOTEBOOK TO GET RESULTS**"
   ]
  },
  {
   "cell_type": "markdown",
   "metadata": {},
   "source": [
    "## 1. Clean the Data"
   ]
  },
  {
   "cell_type": "code",
   "execution_count": 1,
   "metadata": {},
   "outputs": [],
   "source": [
    "import pandas as pd \n",
    "import process\n",
    "import numpy as np \n",
    "# Jerome path : r'C:\\Users\\33640\\OneDrive\\Documents\\GitHub\\Portfolio_clustering_project\\Data\\DataBase.csv'\n",
    "# Nail path : '/Users/khelifanail/Documents/GitHub/Portfolio_clustering_project/Data/DataBase.csv'\n",
    "df = pd.read_csv(r'/Users/khelifanail/Documents/GitHub/Portfolio_clustering_project/Data/DataBase.csv')\n",
    "\n",
    "df.set_index('ticker', inplace=True)\n",
    "\n",
    "df.columns = pd.to_datetime(df.columns.str[1:], format='%Y%m%d').strftime('%d/%m/%Y')\n",
    "\n",
    "df_cleaned = df.fillna(0) # Utilisez la méthode fillna(0) pour remplacer les NaN par 0"
   ]
  },
  {
   "cell_type": "markdown",
   "metadata": {},
   "source": [
    "## 2. Run the code\n",
    "\n",
    "Once the run is completed, you have: \n",
    "* the overall return -> overall return\n",
    "* the PnL associated to the strategy\n",
    "* the daily PnL associated to the strategy\n",
    "* the Sharpe Ratio associated to the strategy"
   ]
  },
  {
   "cell_type": "code",
   "execution_count": 6,
   "metadata": {},
   "outputs": [],
   "source": [
    "import warnings \n",
    "warnings.filterwarnings(\"ignore\") ## so that there are no polluting warnings as output of this cell\n",
    "\n",
    "##################################################################### PARAMETERS #####################################################################\n",
    "lookback_window_0 = [4213, 4273]\n",
    "number_of_clusters = 38\n",
    "sigma = 10e-2\n",
    "clustering_method = 'signed_laplacian' \n",
    "number_of_repetition = 25\n",
    "number_of_window=250\n",
    "evaluation_window = 1\n",
    "eta_values = np.linspace(0.001, 0.02, 20)\n",
    "np.set_printoptions(precision=4, suppress=True)\n",
    "######################################################################################################################################################\n",
    "\n",
    "\n",
    "overall_return, PnL, portfolio_value, sharpe_ratio, daily_PnL = process.sliding_window(df_cleaned=df_cleaned, lookback_window_0=lookback_window_0, number_of_clusters=number_of_clusters, sigma=sigma, clustering_method=clustering_method, number_of_repetition=number_of_repetition, number_of_window=number_of_window, evaluation_window=evaluation_window, eta=0.01)"
   ]
  },
  {
   "cell_type": "markdown",
   "metadata": {},
   "source": [
    "## 3. Save the results to csv files (APPLY THE CELLS ONLY ONCE AS IT CREATES 3 FILES !!)"
   ]
  },
  {
   "cell_type": "code",
   "execution_count": null,
   "metadata": {},
   "outputs": [],
   "source": [
    "year = '2018'\n",
    "clustering_method = 'SL'\n",
    "\n",
    "process.save_to_csv(year=year, clustering_method=clustering_method)\n"
   ]
  },
  {
   "cell_type": "markdown",
   "metadata": {},
   "source": [
    "## 4. Get SP500 data for comparison"
   ]
  },
  {
   "cell_type": "code",
   "execution_count": null,
   "metadata": {},
   "outputs": [],
   "source": [
    "start_date = '2017-01-01'\n",
    "end_date = '2017-12-31'\n",
    "\n",
    "sp500_PnL = process.get_sp500_PnL(start_date, end_date)"
   ]
  },
  {
   "cell_type": "markdown",
   "metadata": {},
   "source": [
    "## 5. Plot Portfolio Cumulative PnL vs SP500 Cumulative PnL"
   ]
  },
  {
   "cell_type": "code",
   "execution_count": null,
   "metadata": {},
   "outputs": [],
   "source": [
    "import matplotlib.pyplot as plt\n",
    "import seaborn as sns\n",
    "\n",
    "\n",
    "# Calculate the cumulative returns\n",
    "portfolio_cumulative = pd.DataFrame(index = sp500_PnL.iloc[:-1].index, columns=[f'Portfolio Performance in {year}'], data=PnL)\n",
    "\n",
    "# Set Seaborn style\n",
    "sns.set(style=\"whitegrid\")\n",
    "\n",
    "# Plot the relative performance using Seaborn\n",
    "plt.figure(figsize=(10, 6))\n",
    "sns.lineplot(data=portfolio_cumulative)\n",
    "sns.lineplot(data=sp500_PnL.cumsum(), label=f'S&P 500 Index in {year}')\n",
    "plt.xlabel('Days')\n",
    "plt.ylabel('Cumulated Profits and Losses')\n",
    "plt.title(f'Portfolio Relative Performance vs S&P 500 in {year} - {clustering_method}')\n",
    "plt.legend()\n",
    "plt.show()"
   ]
  },
  {
   "cell_type": "markdown",
   "metadata": {},
   "source": [
    "# 6. Plot portfolio value alone"
   ]
  },
  {
   "cell_type": "code",
   "execution_count": null,
   "metadata": {},
   "outputs": [],
   "source": [
    "import seaborn as sns\n",
    "import matplotlib.pyplot as plt\n",
    "import numpy as np\n",
    "\n",
    "# Création de l'axe des abscisses (nombre de jours)\n",
    "\n",
    "portfolio_value = pd.DataFrame(index = sp500_PnL.index, columns=[f'Portfolio Value in {year}'], data=portfolio_value)\n",
    "\n",
    "# Configuration de seaborn pour un style agréable\n",
    "sns.set(style=\"whitegrid\")\n",
    "\n",
    "# Tracer la PnL cumulative avec seaborn\n",
    "plt.figure(figsize=(10, 6))\n",
    "sns.lineplot(portfolio_value, color='blue')\n",
    "\n",
    "# Ajouter des titres et des légendes\n",
    "plt.title(f'Portfolio Value of Time for an Initial Investment of $1 in {year} - {clustering_method}')\n",
    "plt.xlabel('Days')\n",
    "plt.ylabel('Portfolio Value')\n",
    "\n",
    "# Afficher le graphique\n",
    "plt.show()"
   ]
  },
  {
   "cell_type": "markdown",
   "metadata": {},
   "source": [
    "# 7. Barplot Daily PnL vs SP500"
   ]
  },
  {
   "cell_type": "code",
   "execution_count": null,
   "metadata": {},
   "outputs": [],
   "source": [
    "import seaborn as sns\n",
    "import matplotlib.pyplot as plt\n",
    "import numpy as np\n",
    "\n",
    "# Création de l'axe des abscisses (nombre de jours)\n",
    "days = np.arange(1, len(daily_PnL) + 1)\n",
    "\n",
    "# Configuration de seaborn pour un style agréable\n",
    "sns.set(style=\"whitegrid\")\n",
    "\n",
    "# Tracer l'évolution quotidienne de la PnL sous forme de diagramme à barres avec seaborn\n",
    "plt.figure(figsize=(12, 6))\n",
    "ax = sns.barplot(x=days, y=daily_PnL, color='blue', width=0.8, label='Portfolio Daily PnL')  # Ajustez la largeur ici\n",
    "ax = sns.barplot(x=days, y=sp500_PnL.iloc[:-1], color='red', width=0.8, label='SP500 Index Daily PnL')\n",
    "\n",
    "# Rotation des étiquettes de l'axe des abscisses de 45 degrés avec un ajustement\n",
    "ax.set_xticks(np.arange(0,251,10))\n",
    "ax.set_xticklabels(ax.get_xticks(), rotation=90, ha='right', rotation_mode='anchor')\n",
    "\n",
    "# Ajouter des titres et des légendes\n",
    "plt.title('Daily PnL Evolution')\n",
    "plt.xlabel('Days')\n",
    "plt.ylabel('Daily PnL')\n",
    "plt.legend()\n",
    "\n",
    "# Afficher le graphique\n",
    "plt.show()"
   ]
  },
  {
   "cell_type": "markdown",
   "metadata": {},
   "source": [
    "# 8. Plot everything (SPONGE vs Signed Laplacian vs SP500)"
   ]
  },
  {
   "cell_type": "code",
   "execution_count": null,
   "metadata": {},
   "outputs": [],
   "source": [
    "import matplotlib.pyplot as plt\n",
    "import seaborn as sns\n",
    "import numpy as np\n",
    "\n",
    "\n",
    "# Calculate the cumulative returns\n",
    "portfolio_cumulative_SL = pd.DataFrame(index=sp500_PnL.iloc[:-1].index, columns=['Signed Laplacian Portfolio Performance in 2017'], data=PnL)\n",
    "portfolio_cumulative_SPONGE = pd.DataFrame(index=sp500_PnL.iloc[:-1].index, columns=['SPONGE Portfolio Performance in 2017'], data=PnL_SPONGE.values)\n",
    "\n",
    "# Combine dataframes for seaborn plotting\n",
    "combined_df = pd.concat([portfolio_cumulative_SL, portfolio_cumulative_SPONGE, sp500_PnL.cumsum()], axis=1)\n",
    "combined_df.columns = ['Signed Laplacian', 'SPONGE', 'S&P 500 Index in 2017']\n",
    "\n",
    "# Set Seaborn style\n",
    "sns.set(style=\"whitegrid\")\n",
    "\n",
    "# Plot the relative performance using Seaborn\n",
    "plt.figure(figsize=(10, 6))\n",
    "sns.lineplot(data=combined_df, palette=['blue', 'red', 'green'])\n",
    "plt.xlabel('Days')\n",
    "plt.ylabel('Cumulated Profits and Losses')\n",
    "plt.title('Portfolio Relative Performance vs S&P 500 in 2017')\n",
    "plt.legend()\n",
    "plt.show()"
   ]
  }
 ],
 "metadata": {
  "kernelspec": {
   "display_name": "Python 3",
   "language": "python",
   "name": "python3"
  },
  "language_info": {
   "codemirror_mode": {
    "name": "ipython",
    "version": 3
   },
   "file_extension": ".py",
   "mimetype": "text/x-python",
   "name": "python",
   "nbconvert_exporter": "python",
   "pygments_lexer": "ipython3",
   "version": "3.11.5"
  },
  "orig_nbformat": 4
 },
 "nbformat": 4,
 "nbformat_minor": 2
}
