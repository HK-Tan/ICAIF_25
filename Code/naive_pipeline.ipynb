{
 "cells": [
  {
   "cell_type": "markdown",
   "metadata": {},
   "source": [
    "# **STANDARD NOTEBOOK TO GET RESULTS**"
   ]
  },
  {
   "cell_type": "markdown",
   "metadata": {},
   "source": [
    "## 1. Clean the Data"
   ]
  },
  {
   "cell_type": "code",
   "execution_count": 2,
   "metadata": {},
   "outputs": [],
   "source": [
    "import pandas as pd \n",
    "import numpy as np \n",
    "# Jerome path : r'C:\\Users\\33640\\OneDrive\\Documents\\GitHub\\Portfolio_clustering_project\\Data\\DataBase.csv'\n",
    "# Nail path : '/Users/khelifanail/Documents/GitHub/Portfolio_clustering_project/Data/DataBase.csv'\n",
    "df = pd.read_csv(r'/Users/khelifanail/Documents/GitHub/Portfolio_clustering_project/Data/DataBase.csv')\n",
    "\n",
    "df.set_index('ticker', inplace=True)\n",
    "\n",
    "df.columns = pd.to_datetime(df.columns.str[1:], format='%Y%m%d').strftime('%d/%m/%Y')\n",
    "\n",
    "df_cleaned = df.fillna(0) # Utilisez la méthode fillna(0) pour remplacer les NaN par 0\n",
    "\n",
    "df_cleaned = df_cleaned.transpose() ## WE WANT COLUMNS TO BE VECTOR OF RETURN FOR A GIVEN TICKER"
   ]
  },
  {
   "cell_type": "code",
   "execution_count": 15,
   "metadata": {},
   "outputs": [
    {
     "name": "stdout",
     "output_type": "stream",
     "text": [
      "step 1/50, portfolio value: 1.0070\n",
      "step 2/50, portfolio value: 1.0020\n",
      "step 3/50, portfolio value: 1.0136\n",
      "step 4/50, portfolio value: 0.9988\n",
      "step 5/50, portfolio value: 0.9796\n",
      "step 6/50, portfolio value: 0.9605\n",
      "step 7/50, portfolio value: 0.9752\n",
      "step 8/50, portfolio value: 0.9527\n",
      "step 9/50, portfolio value: 0.9811\n",
      "step 10/50, portfolio value: 0.9706\n",
      "step 11/50, portfolio value: 0.9644\n",
      "step 12/50, portfolio value: 0.9306\n",
      "step 13/50, portfolio value: 0.9502\n",
      "step 14/50, portfolio value: 0.9392\n",
      "step 15/50, portfolio value: 0.9329\n",
      "step 16/50, portfolio value: 0.9217\n",
      "step 17/50, portfolio value: 0.9127\n",
      "step 18/50, portfolio value: 0.9302\n",
      "step 19/50, portfolio value: 0.9332\n",
      "step 20/50, portfolio value: 0.9329\n",
      "step 21/50, portfolio value: 0.9325\n",
      "step 22/50, portfolio value: 0.9420\n",
      "step 23/50, portfolio value: 0.9373\n",
      "step 24/50, portfolio value: 0.9385\n",
      "step 25/50, portfolio value: 0.9236\n",
      "step 26/50, portfolio value: 0.9370\n",
      "step 27/50, portfolio value: 0.9297\n",
      "step 28/50, portfolio value: 0.9376\n",
      "step 29/50, portfolio value: 0.9318\n",
      "step 30/50, portfolio value: 0.9430\n",
      "step 31/50, portfolio value: 0.9312\n",
      "step 32/50, portfolio value: 0.9430\n",
      "step 33/50, portfolio value: 0.9451\n",
      "step 34/50, portfolio value: 0.9399\n",
      "step 35/50, portfolio value: 0.9398\n",
      "step 36/50, portfolio value: 0.9404\n",
      "step 37/50, portfolio value: 0.9301\n",
      "step 38/50, portfolio value: 0.9191\n",
      "step 39/50, portfolio value: 0.9083\n",
      "step 40/50, portfolio value: 0.8797\n",
      "step 41/50, portfolio value: 0.8662\n",
      "step 42/50, portfolio value: 0.8523\n",
      "step 43/50, portfolio value: 0.8623\n",
      "step 44/50, portfolio value: 0.8515\n",
      "step 45/50, portfolio value: 0.8452\n",
      "step 46/50, portfolio value: 0.8647\n",
      "step 47/50, portfolio value: 0.8282\n",
      "step 48/50, portfolio value: 0.7973\n",
      "step 49/50, portfolio value: 0.7461\n",
      "step 50/50, portfolio value: 0.7690\n"
     ]
    }
   ],
   "source": [
    "import EMA_CV\n",
    "import warnings \n",
    "\n",
    "warnings.filterwarnings(\"ignore\") ## so that there are no polluting warnings as output of this cell\n",
    "\n",
    "##################################################################### PARAMETERS #####################################################################\n",
    "historical_data = df_cleaned\n",
    "number_of_window = 50\n",
    "lookback_window = [4424,4524] ## so that the difference is a multiple of 5 --> year 2016\n",
    "evaluation_window = 5\n",
    "\n",
    "overall_return, PnL, portfolio_value, daily_PnL = EMA_CV.naive_sliding_window(historical_data=historical_data, lookback_window=lookback_window, evaluation_window=evaluation_window, number_of_window=number_of_window)\n",
    "\n",
    "## 4524:4774 = 02/01/2018 --> 31/12/2018"
   ]
  },
  {
   "cell_type": "code",
   "execution_count": null,
   "metadata": {},
   "outputs": [],
   "source": []
  }
 ],
 "metadata": {
  "kernelspec": {
   "display_name": "Python 3",
   "language": "python",
   "name": "python3"
  },
  "language_info": {
   "codemirror_mode": {
    "name": "ipython",
    "version": 3
   },
   "file_extension": ".py",
   "mimetype": "text/x-python",
   "name": "python",
   "nbconvert_exporter": "python",
   "pygments_lexer": "ipython3",
   "version": "3.11.5"
  },
  "orig_nbformat": 4
 },
 "nbformat": 4,
 "nbformat_minor": 2
}
