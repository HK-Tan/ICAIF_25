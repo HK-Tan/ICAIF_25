{
 "cells": [
  {
   "cell_type": "code",
   "execution_count": 108,
   "metadata": {},
   "outputs": [],
   "source": [
    "import pandas as pd\n",
    "import numpy as np\n",
    "import yfinance as yf\n",
    "import plotly.express as px\n",
    "import module1 \n",
    "import matplotlib.pyplot as plt\n",
    "import plotly.express as px"
   ]
  },
  {
   "cell_type": "code",
   "execution_count": 103,
   "metadata": {},
   "outputs": [],
   "source": [
    "ticker_list = [\"AAPL\", \"MSFT\", \"AMZN\", \"NVDA\", \"GOOGL\", \"TSLA\", \"META\", \"UNH\", \"JPM\", \"JNJ\", \"XOM\", \"V\", \"PG\", \"AVGO\", \"LLY\", \"HD\", \"MA\", \"CVX\", \"MRK\", \"ABBV\", \"PEP\", \"COST\", \"ADBE\", \"KO\", \"WMT\", \"BAC\", \"CSCO\", \"MCD\", \"TMO\", \"CRM\", \"ACN\", \"PFE\", \"NFLX\", \"CMCSA\", \"ABT\", \"LIN\", \"AMD\", \"ORCL\", \"DHR\", \"WFC\", \"DIS\", \"TXN\", \"PM\", \"CAT\", \"INTC\", \"NEE\", \"UNP\", \"INTU\", \"COP\", \"VZ\", \"LOW\", \"NKE\", \"QCOM\", \"UPS\", \"IBM\", \"BA\", \"BMY\", \"HON\", \"SPGI\", \"AMAT\", \"RTX\", \"AMGN\", \"GE\", \"SBUX\", \"GS\", \"MS\", \"DE\", \"NOW\", \"PLD\", \"MDT\", \"ELV\", \"ISRG\", \"BLK\", \"BKNG\", \"ADP\", \"MDLZ\", \"LMT\", \"T\", \"TJX\", \"AXP\", \"SCHW\", \"ADI\", \"CVS\", \"MMC\", \"GILD\", \"LRCX\", \"SYK\", \"VRTX\", \"C\", \"AMT\", \"ETN\", \"CI\", \"CB\", \"ZTS\", \"REGN\", \"SLB\", \"MO\", \"TMUS\", \"FI\", \"EOG\", \"BDX\", \"MU\", \"PGR\", \"SO\", \"BSX\", \"CME\", \"PANW\", \"PYPL\", \"EQIX\", \"DUK\", \"ITW\", \"KLAC\", \"SNPS\", \"CSX\", \"ATVI\", \"AON\", \"SHW\", \"CL\", \"NOC\", \"CDNS\", \"ICE\", \"APD\", \"FCX\", \"FDX\", \"TGT\", \"HUM\", \"WM\", \"MMM\", \"MCK\", \"MPC\", \"ORLY\", \"HCA\", \"NXPI\", \"USB\", \"EMR\", \"PXD\", \"PH\", \"PNC\", \"CMG\", \"MCO\", \"APH\", \"ROP\", \"MAR\", \"NSC\", \"GM\", \"F\", \"GD\", \"PSX\", \"MCHP\", \"FTNT\", \"CARR\", \"EW\", \"MSI\", \"AJG\", \"TT\", \"DXCM\", \"ADM\", \"TDG\", \"AZO\", \"VLO\", \"CCI\", \"PSA\", \"OXY\", \"SRE\", \"ECL\", \"TEL\", \"AIG\", \"ON\", \"PCAR\", \"MNST\", \"ANET\", \"CHTR\", \"GIS\", \"ADSK\", \"STZ\", \"NUE\", \"MSCI\", \"KMB\", \"CTAS\", \"COF\", \"TFC\", \"JCI\", \"AFL\", \"D\", \"IDXX\", \"AEP\", \"WMB\", \"WELL\", \"MET\", \"EXC\", \"HLT\", \"IQV\", \"PAYX\", \"EL\", \"CTVA\", \"O\", \"TRV\", \"ROST\"]\n",
    "start = \"2022-01-01\"\n",
    "end = \"2022-02-01\"\n",
    "\n",
    "data = module1.get_returns(start, end, ticker_list)"
   ]
  },
  {
   "cell_type": "code",
   "execution_count": 123,
   "metadata": {},
   "outputs": [],
   "source": [
    "x = data.index \n",
    "y = data.iloc[:, 0]"
   ]
  },
  {
   "cell_type": "code",
   "execution_count": 126,
   "metadata": {},
   "outputs": [
    {
     "data": {
      "text/plain": [
       "\"fig = px.line(data, x = x, y = y, title='série temporelle')\\nfig.show()\""
      ]
     },
     "execution_count": 126,
     "metadata": {},
     "output_type": "execute_result"
    }
   ],
   "source": [
    "\"\"\"fig = px.line(data, x = x, y = y, title='série temporelle')\n",
    "fig.show()\"\"\""
   ]
  },
  {
   "cell_type": "code",
   "execution_count": null,
   "metadata": {},
   "outputs": [],
   "source": []
  }
 ],
 "metadata": {
  "kernelspec": {
   "display_name": "Python 3",
   "language": "python",
   "name": "python3"
  },
  "language_info": {
   "codemirror_mode": {
    "name": "ipython",
    "version": 3
   },
   "file_extension": ".py",
   "mimetype": "text/x-python",
   "name": "python",
   "nbconvert_exporter": "python",
   "pygments_lexer": "ipython3",
   "version": "3.11.5"
  },
  "orig_nbformat": 4
 },
 "nbformat": 4,
 "nbformat_minor": 2
}
