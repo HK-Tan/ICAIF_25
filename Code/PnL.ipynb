{
  "cells": [
    {
      "cell_type": "code",
      "execution_count": 1,
      "metadata": {},
      "outputs": [],
      "source": [
        "from Main_modules.PnL_utilities import _calculate_weighted_cluster_returns_functional, _fit_var_and_forecast_functional, calculate_pnl_torch, _define_clusters_and_centroids_functional\n",
        "import torch\n",
        "import pandas as pd\n",
        "from tqdm import tqdm\n",
        "import matplotlib.pyplot as plt\n",
        "import seaborn as sns\n",
        "import torch.func as func\n",
        "import numpy as np\n",
        "\n",
        "device = torch.device(\"cuda\" if torch.cuda.is_available() else \"cpu\")"
      ]
    },
    {
      "cell_type": "code",
      "execution_count": 2,
      "metadata": {},
      "outputs": [],
      "source": [
        "# --- REFACTORED Main processing function for a single window ---\n",
        "def single_window_iteration_processor_refactored(\n",
        "    lookback_asset_returns_item,\n",
        "    eval_asset_returns_item_padded,\n",
        "    current_eval_len_for_window,\n",
        "    window_idx_batch,\n",
        "    initial_n_clusters_config_static,\n",
        "    cluster_method_static,\n",
        "    var_order_static,\n",
        "    sigma_for_weights_static,\n",
        "    max_eval_len_static,\n",
        "    run_naive_var_comparison_static,\n",
        "    num_assets_overall_static,\n",
        "    device_static\n",
        "):\n",
        "    actual_eval_asset_returns_item = eval_asset_returns_item_padded\n",
        "\n",
        "    cluster_defs, cluster_names_ord, actual_n_clust_formed, _ = _define_clusters_and_centroids_functional(\n",
        "        lookback_asset_returns_item, initial_n_clusters_config_static, cluster_method_static, device_static\n",
        "    )\n",
        "\n",
        "    # Removed 'if cluster_names_ord:'\n",
        "    lookback_cluster_returns = _calculate_weighted_cluster_returns_functional(\n",
        "        data_slice_for_returns_calc=lookback_asset_returns_item,\n",
        "        data_slice_for_centroid_weights_calc=lookback_asset_returns_item,\n",
        "        cluster_definitions=cluster_defs,\n",
        "        cluster_names_ordered=cluster_names_ord,\n",
        "        sigma_for_weights=sigma_for_weights_static\n",
        "    )\n",
        "\n",
        "    # print(lookback_cluster_returns)\n",
        "\n",
        "    # Removed 'if lookback_cluster_returns.numel() > 0 and lookback_cluster_returns.shape[1] > 0:'\n",
        "    forecasted_cluster_returns_raw = _fit_var_and_forecast_functional(\n",
        "        lookback_cluster_returns, actual_n_clust_formed, var_order_static,\n",
        "        current_eval_len_for_window, device_static\n",
        "    )\n",
        "\n",
        "\n",
        "    # Removed 'if current_eval_len_for_window > 0:'\n",
        "    true_eval_cluster_returns_raw = _calculate_weighted_cluster_returns_functional(\n",
        "        data_slice_for_returns_calc=actual_eval_asset_returns_item,\n",
        "        data_slice_for_centroid_weights_calc=lookback_asset_returns_item,\n",
        "        cluster_definitions=cluster_defs,\n",
        "        cluster_names_ordered=cluster_names_ord,\n",
        "        sigma_for_weights=sigma_for_weights_static\n",
        "    )\n",
        "\n",
        "    pnl_c_tensor = calculate_pnl_torch(forecasted_cluster_returns_raw, true_eval_cluster_returns_raw)\n",
        "    # Removed 'if pnl_c_tensor.numel() > 0:'\n",
        "    pnl_c_val = pnl_c_tensor.mean().to(torch.float32)\n",
        "    # Removed 'if torch.isnan(pnl_c_val):'\n",
        "\n",
        "    pnl_n_val = torch.tensor(0.0, dtype=torch.float32, device=device_static)\n",
        "    forecasted_naive_returns_raw = torch.tensor(0.0, dtype=torch.float32, device=device_static)\n",
        "    true_eval_naive_returns_raw = torch.tensor(0.0, dtype=torch.float32, device=device_static)\n",
        "\n",
        "    if run_naive_var_comparison_static:\n",
        "        # Removed 'if lookback_asset_returns_item.numel() > 0 and lookback_asset_returns_item.shape[1] > 0 :'\n",
        "        forecasted_naive_returns_raw = _fit_var_and_forecast_functional(\n",
        "            lookback_asset_returns_item, num_assets_overall_static, var_order_static,\n",
        "            current_eval_len_for_window, device_static\n",
        "        )\n",
        "\n",
        "        # Removed 'if current_eval_len_for_window > 0:'\n",
        "        true_eval_naive_returns_raw = actual_eval_asset_returns_item\n",
        "\n",
        "        pnl_n_tensor = calculate_pnl_torch(forecasted_naive_returns_raw, forecasted_naive_returns_raw)\n",
        "        # Removed 'if pnl_n_tensor.numel() > 0:'\n",
        "        pnl_n_val = pnl_n_tensor.mean().to(torch.float32)\n",
        "        # Removed 'if torch.isnan(pnl_n_val):'\n",
        "\n",
        "    return (pnl_c_val, forecasted_cluster_returns_raw, true_eval_cluster_returns_raw,\n",
        "            pnl_n_val, forecasted_naive_returns_raw, true_eval_naive_returns_raw,\n",
        "            window_idx_batch\n",
        "           )\n",
        "\n",
        "# --- REFACTORED Main sliding window function ---\n",
        "def run_sliding_window_var_evaluation_vmap(\n",
        "    asset_returns_tensor, initial_lookback_len, eval_len, n_clusters_config,\n",
        "    cluster_method, var_order, sigma_intra_cluster, num_windows,\n",
        "    device=None, store_sample_forecasts=True, run_naive_var_comparison=True\n",
        "):\n",
        "    # Removed 'if device is None:' device will be asset_returns_tensor.device if not passed\n",
        "    effective_device = device if device is not None else asset_returns_tensor.device\n",
        "\n",
        "    num_assets_overall = asset_returns_tensor.shape[1]\n",
        "    tensor_total_len = asset_returns_tensor.shape[0]\n",
        "\n",
        "    base_lookback_start_indices = torch.arange(num_windows, device=effective_device) * eval_len\n",
        "    base_lookback_end_indices = base_lookback_start_indices + initial_lookback_len\n",
        "\n",
        "    valid_mask_initial = (base_lookback_end_indices <= tensor_total_len) & \\\n",
        "                         (base_lookback_end_indices < tensor_total_len)\n",
        "\n",
        "    filtered_lb_start_indices = base_lookback_start_indices[valid_mask_initial]\n",
        "    filtered_lb_end_indices = base_lookback_end_indices[valid_mask_initial]\n",
        "    original_window_indices_filtered = torch.arange(num_windows, device=effective_device)[valid_mask_initial]\n",
        "\n",
        "    # Removed 'if len(filtered_lb_start_indices) == 0:' and early return\n",
        "\n",
        "    num_potentially_valid_windows = len(filtered_lb_start_indices)\n",
        "    current_eval_lens_for_filtered = torch.full((num_potentially_valid_windows,), eval_len, dtype=torch.long, device=effective_device)\n",
        "    for i in range(num_potentially_valid_windows): # This loop might be empty if num_potentially_valid_windows is 0\n",
        "        max_possible_eval_len = tensor_total_len - filtered_lb_end_indices[i]\n",
        "        current_eval_lens_for_filtered[i] = min(eval_len, max_possible_eval_len)\n",
        "\n",
        "    valid_mask_eval_len = current_eval_lens_for_filtered > 0\n",
        "\n",
        "    final_lookback_start_indices = filtered_lb_start_indices[valid_mask_eval_len]\n",
        "    final_lookback_end_indices = filtered_lb_end_indices[valid_mask_eval_len]\n",
        "    final_current_eval_lens = current_eval_lens_for_filtered[valid_mask_eval_len]\n",
        "    final_original_window_indices_batch = original_window_indices_filtered[valid_mask_eval_len]\n",
        "\n",
        "    # Removed 'if len(final_lookback_start_indices) == 0:' and early return\n",
        "\n",
        "    actual_num_windows_to_process = len(final_lookback_start_indices)\n",
        "\n",
        "    batched_lookback_slices = []\n",
        "    batched_eval_slices_padded = []\n",
        "\n",
        "    # for _ in repeat_for_robustness:\n",
        "    #   for p in lag_orders_to_test:\n",
        "    #       for k in num_clusters_to_test:\n",
        "    for s in range(actual_num_windows_to_process): # This loop might be empty\n",
        "        start = final_lookback_start_indices[s]\n",
        "        end = final_lookback_end_indices[s]\n",
        "\n",
        "        lb_slice = asset_returns_tensor[start:end, :]\n",
        "        batched_lookback_slices.append(lb_slice)\n",
        "\n",
        "        eval_s = end\n",
        "        current_L = final_current_eval_lens[s].item()\n",
        "        eval_e = eval_s + current_L\n",
        "        ev_slice_actual = asset_returns_tensor[eval_s:eval_e, :]\n",
        "\n",
        "        # # Padding logic kept for vmap compatibility\n",
        "        # if current_L < eval_len:\n",
        "        #     padding = torch.zeros((eval_len - current_L, num_assets_overall),\n",
        "        #                           dtype=asset_returns_tensor.dtype, device=effective_device)\n",
        "        #     ev_slice_padded = torch.cat([ev_slice_actual, padding], dim=0)\n",
        "        # elif current_L == eval_len:\n",
        "        #     ev_slice_padded = ev_slice_actual\n",
        "        # else:\n",
        "        #     ev_slice_padded = ev_slice_actual[:eval_len,:]\n",
        "\n",
        "        batched_eval_slices_padded.append(ev_slice_actual)\n",
        "\n",
        "    # These stacks will error if their respective lists are empty (e.g., actual_num_windows_to_process is 0)\n",
        "    final_batched_lookback_data = torch.stack(batched_lookback_slices)\n",
        "    final_batched_eval_data_padded = torch.stack(batched_eval_slices_padded)\n",
        "\n",
        "\n",
        "    vmapped_processor = func.vmap(\n",
        "        single_window_iteration_processor_refactored,\n",
        "        in_dims=(0, 0, None, 0,\n",
        "                   None, None, None, None, None, None, None, None),\n",
        "        out_dims=0, randomness='different'\n",
        "    )\n",
        "\n",
        "    all_pnl_c_vals, all_forecast_c, all_actual_c, \\\n",
        "    all_pnl_n_vals, all_forecast_n, all_actual_n, \\\n",
        "    processed_window_indices = vmapped_processor(\n",
        "        final_batched_lookback_data,\n",
        "        final_batched_eval_data_padded,\n",
        "        eval_len,\n",
        "        final_original_window_indices_batch,\n",
        "        n_clusters_config,\n",
        "        cluster_method,\n",
        "        var_order,\n",
        "        sigma_intra_cluster,\n",
        "        eval_len,\n",
        "        run_naive_var_comparison,\n",
        "        num_assets_overall,\n",
        "        effective_device\n",
        "    )\n",
        "\n",
        "    all_window_pnl_cluster_dicts = []\n",
        "    all_window_pnl_naive_dicts = []\n",
        "\n",
        "    for i in range(actual_num_windows_to_process): # This loop might be empty\n",
        "        win_id = processed_window_indices[i].item()\n",
        "\n",
        "        # Removed filter 'if all_pnl_c_vals[i].item() != 0.0 or all_forecast_c[i].abs().sum() > 1e-9:'\n",
        "        all_window_pnl_cluster_dicts.append({\n",
        "             'Window_ID': win_id, 'Avg_Window_PNL': all_pnl_c_vals[i].item(),\n",
        "             'VAR_Order': var_order, 'Method': 'Clustered VAR'\n",
        "         })\n",
        "\n",
        "        if run_naive_var_comparison:\n",
        "            # Removed filter for naive pnl/forecast values\n",
        "            all_window_pnl_naive_dicts.append({\n",
        "                'Window_ID': win_id, 'Avg_Window_PNL': all_pnl_n_vals[i].item(),\n",
        "                'VAR_Order': var_order, 'Method': 'Naive VAR'\n",
        "            })\n",
        "\n",
        "    sample_forecast_c, sample_actual_c, sample_win_idx = None, None, -1\n",
        "    # Removed 'and actual_num_windows_to_process > 0' from condition\n",
        "    if store_sample_forecasts:\n",
        "        sample_idx_in_batch = 0 # Will error if actual_num_windows_to_process is 0\n",
        "        actual_eval_len_for_sample = final_current_eval_lens[sample_idx_in_batch].item()\n",
        "\n",
        "        sample_forecast_c = all_forecast_c[sample_idx_in_batch, :actual_eval_len_for_sample, :].clone()\n",
        "        sample_actual_c = all_actual_c[sample_idx_in_batch, :actual_eval_len_for_sample, :].clone()\n",
        "        sample_win_idx = processed_window_indices[sample_idx_in_batch].item()\n",
        "\n",
        "    return {\n",
        "        'cluster_avg_pnl_list': all_window_pnl_cluster_dicts,\n",
        "        'naive_avg_pnl_list': all_window_pnl_naive_dicts,\n",
        "        'sample_forecast_cluster': sample_forecast_c,\n",
        "        'sample_actual_cluster': sample_actual_c,\n",
        "        'sample_window_idx_cluster': sample_win_idx,\n",
        "        'var_order_for_sample': var_order\n",
        "    }\n"
      ]
    },
    {
      "cell_type": "code",
      "execution_count": 3,
      "metadata": {},
      "outputs": [],
      "source": [
        "# --- REFACTORED Main processing function for a single window ---\n",
        "def single_window_iteration_processor_refactored(\n",
        "    lookback_asset_returns_item,\n",
        "    eval_asset_returns_item_padded,\n",
        "    current_eval_len_for_window,\n",
        "    window_idx_batch,\n",
        "    initial_n_clusters_config_static,\n",
        "    cluster_method_static,\n",
        "    var_order_static,\n",
        "    sigma_for_weights_static,\n",
        "    max_eval_len_static,\n",
        "    run_naive_var_comparison_static,\n",
        "    num_assets_overall_static,\n",
        "    device_static\n",
        "):\n",
        "    actual_eval_asset_returns_item = eval_asset_returns_item_padded\n",
        "\n",
        "    cluster_defs, cluster_names_ord, actual_n_clust_formed, _ = _define_clusters_and_centroids_functional(\n",
        "        lookback_asset_returns_item, initial_n_clusters_config_static, cluster_method_static, device_static\n",
        "    )\n",
        "\n",
        "    # Removed 'if cluster_names_ord:'\n",
        "    lookback_cluster_returns = _calculate_weighted_cluster_returns_functional(\n",
        "        data_slice_for_returns_calc=lookback_asset_returns_item,\n",
        "        data_slice_for_centroid_weights_calc=lookback_asset_returns_item,\n",
        "        cluster_definitions=cluster_defs,\n",
        "        cluster_names_ordered=cluster_names_ord,\n",
        "        sigma_for_weights=sigma_for_weights_static\n",
        "    )\n",
        "\n",
        "    # print(lookback_cluster_returns)\n",
        "\n",
        "    # Removed 'if lookback_cluster_returns.numel() > 0 and lookback_cluster_returns.shape[1] > 0:'\n",
        "    forecasted_cluster_returns_raw = _fit_var_and_forecast_functional(\n",
        "        lookback_cluster_returns, actual_n_clust_formed, var_order_static,\n",
        "        current_eval_len_for_window, device_static\n",
        "    )\n",
        "\n",
        "\n",
        "    # Removed 'if current_eval_len_for_window > 0:'\n",
        "    true_eval_cluster_returns_raw = _calculate_weighted_cluster_returns_functional(\n",
        "        data_slice_for_returns_calc=actual_eval_asset_returns_item,\n",
        "        data_slice_for_centroid_weights_calc=lookback_asset_returns_item,\n",
        "        cluster_definitions=cluster_defs,\n",
        "        cluster_names_ordered=cluster_names_ord,\n",
        "        sigma_for_weights=sigma_for_weights_static\n",
        "    )\n",
        "\n",
        "    pnl_c_tensor = calculate_pnl_torch(forecasted_cluster_returns_raw, true_eval_cluster_returns_raw)\n",
        "    # Removed 'if pnl_c_tensor.numel() > 0:'\n",
        "    pnl_c_val = pnl_c_tensor.mean().to(torch.float32)\n",
        "    # Removed 'if torch.isnan(pnl_c_val):'\n",
        "\n",
        "    pnl_n_val = torch.tensor(0.0, dtype=torch.float32, device=device_static)\n",
        "    forecasted_naive_returns_raw = torch.tensor(0.0, dtype=torch.float32, device=device_static)\n",
        "    true_eval_naive_returns_raw = torch.tensor(0.0, dtype=torch.float32, device=device_static)\n",
        "\n",
        "    if run_naive_var_comparison_static:\n",
        "        # Removed 'if lookback_asset_returns_item.numel() > 0 and lookback_asset_returns_item.shape[1] > 0 :'\n",
        "        forecasted_naive_returns_raw = _fit_var_and_forecast_functional(\n",
        "            lookback_asset_returns_item, num_assets_overall_static, var_order_static,\n",
        "            current_eval_len_for_window, device_static\n",
        "        )\n",
        "\n",
        "        # Removed 'if current_eval_len_for_window > 0:'\n",
        "        true_eval_naive_returns_raw = actual_eval_asset_returns_item\n",
        "\n",
        "        pnl_n_tensor = calculate_pnl_torch(forecasted_naive_returns_raw, forecasted_naive_returns_raw)\n",
        "        # Removed 'if pnl_n_tensor.numel() > 0:'\n",
        "        pnl_n_val = pnl_n_tensor.mean().to(torch.float32)\n",
        "        # Removed 'if torch.isnan(pnl_n_val):'\n",
        "\n",
        "    return (pnl_c_val, forecasted_cluster_returns_raw, true_eval_cluster_returns_raw,\n",
        "            pnl_n_val, forecasted_naive_returns_raw, true_eval_naive_returns_raw,\n",
        "            window_idx_batch\n",
        "           )\n",
        "\n",
        "# --- REFACTORED Main sliding window function ---\n",
        "def run_sliding_window_var_evaluation_vmap(\n",
        "    asset_returns_tensor, initial_lookback_len, eval_len, n_clusters_config,\n",
        "    cluster_method, var_order, sigma_intra_cluster, num_windows,\n",
        "    device=None, store_sample_forecasts=True, run_naive_var_comparison=True\n",
        "):\n",
        "    # Removed 'if device is None:' device will be asset_returns_tensor.device if not passed\n",
        "    effective_device = device if device is not None else asset_returns_tensor.device\n",
        "\n",
        "    num_assets_overall = asset_returns_tensor.shape[1]\n",
        "    tensor_total_len = asset_returns_tensor.shape[0]\n",
        "\n",
        "    base_lookback_start_indices = torch.arange(num_windows, device=effective_device) * eval_len\n",
        "    base_lookback_end_indices = base_lookback_start_indices + initial_lookback_len\n",
        "\n",
        "    valid_mask_initial = (base_lookback_end_indices <= tensor_total_len) & \\\n",
        "                         (base_lookback_end_indices < tensor_total_len)\n",
        "\n",
        "    filtered_lb_start_indices = base_lookback_start_indices[valid_mask_initial]\n",
        "    filtered_lb_end_indices = base_lookback_end_indices[valid_mask_initial]\n",
        "    original_window_indices_filtered = torch.arange(num_windows, device=effective_device)[valid_mask_initial]\n",
        "\n",
        "    # Removed 'if len(filtered_lb_start_indices) == 0:' and early return\n",
        "\n",
        "    num_potentially_valid_windows = len(filtered_lb_start_indices)\n",
        "    current_eval_lens_for_filtered = torch.full((num_potentially_valid_windows,), eval_len, dtype=torch.long, device=effective_device)\n",
        "    for i in range(num_potentially_valid_windows): # This loop might be empty if num_potentially_valid_windows is 0\n",
        "        max_possible_eval_len = tensor_total_len - filtered_lb_end_indices[i]\n",
        "        current_eval_lens_for_filtered[i] = min(eval_len, max_possible_eval_len)\n",
        "\n",
        "    valid_mask_eval_len = current_eval_lens_for_filtered > 0\n",
        "\n",
        "    final_lookback_start_indices = filtered_lb_start_indices[valid_mask_eval_len]\n",
        "    final_lookback_end_indices = filtered_lb_end_indices[valid_mask_eval_len]\n",
        "    final_current_eval_lens = current_eval_lens_for_filtered[valid_mask_eval_len]\n",
        "    final_original_window_indices_batch = original_window_indices_filtered[valid_mask_eval_len]\n",
        "\n",
        "    # Removed 'if len(final_lookback_start_indices) == 0:' and early return\n",
        "\n",
        "    actual_num_windows_to_process = len(final_lookback_start_indices)\n",
        "\n",
        "    batched_lookback_slices = []\n",
        "    batched_eval_slices_padded = []\n",
        "\n",
        "    # for _ in repeat_for_robustness:\n",
        "    #   for p in lag_orders_to_test:\n",
        "    #       for k in num_clusters_to_test:\n",
        "    for s in range(actual_num_windows_to_process): # This loop might be empty\n",
        "        start = final_lookback_start_indices[s]\n",
        "        end = final_lookback_end_indices[s]\n",
        "\n",
        "        lb_slice = asset_returns_tensor[start:end, :]\n",
        "        batched_lookback_slices.append(lb_slice)\n",
        "\n",
        "        eval_s = end\n",
        "        current_L = final_current_eval_lens[s].item()\n",
        "        eval_e = eval_s + current_L\n",
        "        ev_slice_actual = asset_returns_tensor[eval_s:eval_e, :]\n",
        "\n",
        "        # # Padding logic kept for vmap compatibility\n",
        "        # if current_L < eval_len:\n",
        "        #     padding = torch.zeros((eval_len - current_L, num_assets_overall),\n",
        "        #                           dtype=asset_returns_tensor.dtype, device=effective_device)\n",
        "        #     ev_slice_padded = torch.cat([ev_slice_actual, padding], dim=0)\n",
        "        # elif current_L == eval_len:\n",
        "        #     ev_slice_padded = ev_slice_actual\n",
        "        # else:\n",
        "        #     ev_slice_padded = ev_slice_actual[:eval_len,:]\n",
        "\n",
        "        batched_eval_slices_padded.append(ev_slice_actual)\n",
        "\n",
        "    # These stacks will error if their respective lists are empty (e.g., actual_num_windows_to_process is 0)\n",
        "    final_batched_lookback_data = torch.stack(batched_lookback_slices)\n",
        "    final_batched_eval_data_padded = torch.stack(batched_eval_slices_padded)\n",
        "\n",
        "\n",
        "    vmapped_processor = func.vmap(\n",
        "        single_window_iteration_processor_refactored,\n",
        "        in_dims=(0, 0, None, 0,\n",
        "                   None, None, None, None, None, None, None, None),\n",
        "        out_dims=0, randomness='different'\n",
        "    )\n",
        "\n",
        "    all_pnl_c_vals, all_forecast_c, all_actual_c, \\\n",
        "    all_pnl_n_vals, all_forecast_n, all_actual_n, \\\n",
        "    processed_window_indices = vmapped_processor(\n",
        "        final_batched_lookback_data,\n",
        "        final_batched_eval_data_padded,\n",
        "        eval_len,\n",
        "        final_original_window_indices_batch,\n",
        "        n_clusters_config,\n",
        "        cluster_method,\n",
        "        var_order,\n",
        "        sigma_intra_cluster,\n",
        "        eval_len,\n",
        "        run_naive_var_comparison,\n",
        "        num_assets_overall,\n",
        "        effective_device\n",
        "    )\n",
        "\n",
        "    all_window_pnl_cluster_dicts = []\n",
        "    all_window_pnl_naive_dicts = []\n",
        "\n",
        "    for i in range(actual_num_windows_to_process): # This loop might be empty\n",
        "        win_id = processed_window_indices[i].item()\n",
        "\n",
        "        # Removed filter 'if all_pnl_c_vals[i].item() != 0.0 or all_forecast_c[i].abs().sum() > 1e-9:'\n",
        "        all_window_pnl_cluster_dicts.append({\n",
        "             'Window_ID': win_id, 'Avg_Window_PNL': all_pnl_c_vals[i].item(),\n",
        "             'VAR_Order': var_order, 'Method': 'Clustered VAR'\n",
        "         })\n",
        "\n",
        "        if run_naive_var_comparison:\n",
        "            # Removed filter for naive pnl/forecast values\n",
        "            all_window_pnl_naive_dicts.append({\n",
        "                'Window_ID': win_id, 'Avg_Window_PNL': all_pnl_n_vals[i].item(),\n",
        "                'VAR_Order': var_order, 'Method': 'Naive VAR'\n",
        "            })\n",
        "\n",
        "    sample_forecast_c, sample_actual_c, sample_win_idx = None, None, -1\n",
        "    # Removed 'and actual_num_windows_to_process > 0' from condition\n",
        "    if store_sample_forecasts:\n",
        "        sample_idx_in_batch = 0 # Will error if actual_num_windows_to_process is 0\n",
        "        actual_eval_len_for_sample = final_current_eval_lens[sample_idx_in_batch].item()\n",
        "\n",
        "        sample_forecast_c = all_forecast_c[sample_idx_in_batch, :actual_eval_len_for_sample, :].clone()\n",
        "        sample_actual_c = all_actual_c[sample_idx_in_batch, :actual_eval_len_for_sample, :].clone()\n",
        "        sample_win_idx = processed_window_indices[sample_idx_in_batch].item()\n",
        "\n",
        "    return {\n",
        "        'cluster_avg_pnl_list': all_window_pnl_cluster_dicts,\n",
        "        'naive_avg_pnl_list': all_window_pnl_naive_dicts,\n",
        "        'sample_forecast_cluster': sample_forecast_c,\n",
        "        'sample_actual_cluster': sample_actual_c,\n",
        "        'sample_window_idx_cluster': sample_win_idx,\n",
        "        'var_order_for_sample': var_order\n",
        "    }\n"
      ]
    },
    {
      "cell_type": "code",
      "execution_count": 4,
      "metadata": {},
      "outputs": [],
      "source": [
        "# --- REFACTORED Main processing function for a single window ---\n",
        "def single_window_iteration_processor_refactored(\n",
        "    lookback_asset_returns_item,\n",
        "    eval_asset_returns_item_padded,\n",
        "    current_eval_len_for_window,\n",
        "    window_idx_batch,\n",
        "    initial_n_clusters_config_static,\n",
        "    cluster_method_static,\n",
        "    var_order_static,\n",
        "    sigma_for_weights_static,\n",
        "    max_eval_len_static,\n",
        "    run_naive_var_comparison_static,\n",
        "    num_assets_overall_static,\n",
        "    device_static\n",
        "):\n",
        "    actual_eval_asset_returns_item = eval_asset_returns_item_padded\n",
        "\n",
        "    cluster_defs, cluster_names_ord, actual_n_clust_formed, _ = _define_clusters_and_centroids_functional(\n",
        "        lookback_asset_returns_item, initial_n_clusters_config_static, cluster_method_static, device_static\n",
        "    )\n",
        "\n",
        "    # Removed 'if cluster_names_ord:'\n",
        "    lookback_cluster_returns = _calculate_weighted_cluster_returns_functional(\n",
        "        data_slice_for_returns_calc=lookback_asset_returns_item,\n",
        "        data_slice_for_centroid_weights_calc=lookback_asset_returns_item,\n",
        "        cluster_definitions=cluster_defs,\n",
        "        cluster_names_ordered=cluster_names_ord,\n",
        "        sigma_for_weights=sigma_for_weights_static\n",
        "    )\n",
        "\n",
        "    # print(lookback_cluster_returns)\n",
        "\n",
        "    # Removed 'if lookback_cluster_returns.numel() > 0 and lookback_cluster_returns.shape[1] > 0:'\n",
        "    forecasted_cluster_returns_raw = _fit_var_and_forecast_functional(\n",
        "        lookback_cluster_returns, actual_n_clust_formed, var_order_static,\n",
        "        current_eval_len_for_window, device_static\n",
        "    )\n",
        "\n",
        "\n",
        "    # Removed 'if current_eval_len_for_window > 0:'\n",
        "    true_eval_cluster_returns_raw = _calculate_weighted_cluster_returns_functional(\n",
        "        data_slice_for_returns_calc=actual_eval_asset_returns_item,\n",
        "        data_slice_for_centroid_weights_calc=lookback_asset_returns_item,\n",
        "        cluster_definitions=cluster_defs,\n",
        "        cluster_names_ordered=cluster_names_ord,\n",
        "        sigma_for_weights=sigma_for_weights_static\n",
        "    )\n",
        "\n",
        "    pnl_c_tensor = calculate_pnl_torch(forecasted_cluster_returns_raw, true_eval_cluster_returns_raw)\n",
        "    # Removed 'if pnl_c_tensor.numel() > 0:'\n",
        "    pnl_c_val = pnl_c_tensor.mean().to(torch.float32)\n",
        "    # Removed 'if torch.isnan(pnl_c_val):'\n",
        "\n",
        "    pnl_n_val = torch.tensor(0.0, dtype=torch.float32, device=device_static)\n",
        "    forecasted_naive_returns_raw = torch.tensor(0.0, dtype=torch.float32, device=device_static)\n",
        "    true_eval_naive_returns_raw = torch.tensor(0.0, dtype=torch.float32, device=device_static)\n",
        "\n",
        "    if run_naive_var_comparison_static:\n",
        "        # Removed 'if lookback_asset_returns_item.numel() > 0 and lookback_asset_returns_item.shape[1] > 0 :'\n",
        "        forecasted_naive_returns_raw = _fit_var_and_forecast_functional(\n",
        "            lookback_asset_returns_item, num_assets_overall_static, var_order_static,\n",
        "            current_eval_len_for_window, device_static\n",
        "        )\n",
        "\n",
        "        # Removed 'if current_eval_len_for_window > 0:'\n",
        "        true_eval_naive_returns_raw = actual_eval_asset_returns_item\n",
        "\n",
        "        pnl_n_tensor = calculate_pnl_torch(forecasted_naive_returns_raw, forecasted_naive_returns_raw)\n",
        "        # Removed 'if pnl_n_tensor.numel() > 0:'\n",
        "        pnl_n_val = pnl_n_tensor.mean().to(torch.float32)\n",
        "        # Removed 'if torch.isnan(pnl_n_val):'\n",
        "\n",
        "    return (pnl_c_val, forecasted_cluster_returns_raw, true_eval_cluster_returns_raw,\n",
        "            pnl_n_val, forecasted_naive_returns_raw, true_eval_naive_returns_raw,\n",
        "            window_idx_batch\n",
        "           )\n",
        "\n",
        "# --- REFACTORED Main sliding window function ---\n",
        "def run_sliding_window_var_evaluation_vmap(\n",
        "    asset_returns_tensor, initial_lookback_len, eval_len, n_clusters_config,\n",
        "    cluster_method, var_order, sigma_intra_cluster, num_windows,\n",
        "    device=None, store_sample_forecasts=True, run_naive_var_comparison=True\n",
        "):\n",
        "    # Removed 'if device is None:' device will be asset_returns_tensor.device if not passed\n",
        "    effective_device = device if device is not None else asset_returns_tensor.device\n",
        "\n",
        "    num_assets_overall = asset_returns_tensor.shape[1]\n",
        "    tensor_total_len = asset_returns_tensor.shape[0]\n",
        "\n",
        "    base_lookback_start_indices = torch.arange(num_windows, device=effective_device) * eval_len\n",
        "    base_lookback_end_indices = base_lookback_start_indices + initial_lookback_len\n",
        "\n",
        "    valid_mask_initial = (base_lookback_end_indices <= tensor_total_len) & \\\n",
        "                         (base_lookback_end_indices < tensor_total_len)\n",
        "\n",
        "    filtered_lb_start_indices = base_lookback_start_indices[valid_mask_initial]\n",
        "    filtered_lb_end_indices = base_lookback_end_indices[valid_mask_initial]\n",
        "    original_window_indices_filtered = torch.arange(num_windows, device=effective_device)[valid_mask_initial]\n",
        "\n",
        "    # Removed 'if len(filtered_lb_start_indices) == 0:' and early return\n",
        "\n",
        "    num_potentially_valid_windows = len(filtered_lb_start_indices)\n",
        "    current_eval_lens_for_filtered = torch.full((num_potentially_valid_windows,), eval_len, dtype=torch.long, device=effective_device)\n",
        "    for i in range(num_potentially_valid_windows): # This loop might be empty if num_potentially_valid_windows is 0\n",
        "        max_possible_eval_len = tensor_total_len - filtered_lb_end_indices[i]\n",
        "        current_eval_lens_for_filtered[i] = min(eval_len, max_possible_eval_len)\n",
        "\n",
        "    valid_mask_eval_len = current_eval_lens_for_filtered > 0\n",
        "\n",
        "    final_lookback_start_indices = filtered_lb_start_indices[valid_mask_eval_len]\n",
        "    final_lookback_end_indices = filtered_lb_end_indices[valid_mask_eval_len]\n",
        "    final_current_eval_lens = current_eval_lens_for_filtered[valid_mask_eval_len]\n",
        "    final_original_window_indices_batch = original_window_indices_filtered[valid_mask_eval_len]\n",
        "\n",
        "    # Removed 'if len(final_lookback_start_indices) == 0:' and early return\n",
        "\n",
        "    actual_num_windows_to_process = len(final_lookback_start_indices)\n",
        "\n",
        "    batched_lookback_slices = []\n",
        "    batched_eval_slices_padded = []\n",
        "\n",
        "    # for _ in repeat_for_robustness:\n",
        "    #   for p in lag_orders_to_test:\n",
        "    #       for k in num_clusters_to_test:\n",
        "    for s in range(actual_num_windows_to_process): # This loop might be empty\n",
        "        start = final_lookback_start_indices[s]\n",
        "        end = final_lookback_end_indices[s]\n",
        "\n",
        "        lb_slice = asset_returns_tensor[start:end, :]\n",
        "        batched_lookback_slices.append(lb_slice)\n",
        "\n",
        "        eval_s = end\n",
        "        current_L = final_current_eval_lens[s].item()\n",
        "        eval_e = eval_s + current_L\n",
        "        ev_slice_actual = asset_returns_tensor[eval_s:eval_e, :]\n",
        "\n",
        "        # # Padding logic kept for vmap compatibility\n",
        "        # if current_L < eval_len:\n",
        "        #     padding = torch.zeros((eval_len - current_L, num_assets_overall),\n",
        "        #                           dtype=asset_returns_tensor.dtype, device=effective_device)\n",
        "        #     ev_slice_padded = torch.cat([ev_slice_actual, padding], dim=0)\n",
        "        # elif current_L == eval_len:\n",
        "        #     ev_slice_padded = ev_slice_actual\n",
        "        # else:\n",
        "        #     ev_slice_padded = ev_slice_actual[:eval_len,:]\n",
        "\n",
        "        batched_eval_slices_padded.append(ev_slice_actual)\n",
        "\n",
        "    # These stacks will error if their respective lists are empty (e.g., actual_num_windows_to_process is 0)\n",
        "    final_batched_lookback_data = torch.stack(batched_lookback_slices)\n",
        "    final_batched_eval_data_padded = torch.stack(batched_eval_slices_padded)\n",
        "\n",
        "\n",
        "    vmapped_processor = func.vmap(\n",
        "        single_window_iteration_processor_refactored,\n",
        "        in_dims=(0, 0, None, 0,\n",
        "                   None, None, None, None, None, None, None, None),\n",
        "        out_dims=0, randomness='different'\n",
        "    )\n",
        "\n",
        "    all_pnl_c_vals, all_forecast_c, all_actual_c, \\\n",
        "    all_pnl_n_vals, all_forecast_n, all_actual_n, \\\n",
        "    processed_window_indices = vmapped_processor(\n",
        "        final_batched_lookback_data,\n",
        "        final_batched_eval_data_padded,\n",
        "        eval_len,\n",
        "        final_original_window_indices_batch,\n",
        "        n_clusters_config,\n",
        "        cluster_method,\n",
        "        var_order,\n",
        "        sigma_intra_cluster,\n",
        "        eval_len,\n",
        "        run_naive_var_comparison,\n",
        "        num_assets_overall,\n",
        "        effective_device\n",
        "    )\n",
        "\n",
        "    all_window_pnl_cluster_dicts = []\n",
        "    all_window_pnl_naive_dicts = []\n",
        "\n",
        "    for i in range(actual_num_windows_to_process): # This loop might be empty\n",
        "        win_id = processed_window_indices[i].item()\n",
        "\n",
        "        # Removed filter 'if all_pnl_c_vals[i].item() != 0.0 or all_forecast_c[i].abs().sum() > 1e-9:'\n",
        "        all_window_pnl_cluster_dicts.append({\n",
        "             'Window_ID': win_id, 'Avg_Window_PNL': all_pnl_c_vals[i].item(),\n",
        "             'VAR_Order': var_order, 'Method': 'Clustered VAR'\n",
        "         })\n",
        "\n",
        "        if run_naive_var_comparison:\n",
        "            # Removed filter for naive pnl/forecast values\n",
        "            all_window_pnl_naive_dicts.append({\n",
        "                'Window_ID': win_id, 'Avg_Window_PNL': all_pnl_n_vals[i].item(),\n",
        "                'VAR_Order': var_order, 'Method': 'Naive VAR'\n",
        "            })\n",
        "\n",
        "    sample_forecast_c, sample_actual_c, sample_win_idx = None, None, -1\n",
        "    # Removed 'and actual_num_windows_to_process > 0' from condition\n",
        "    if store_sample_forecasts:\n",
        "        sample_idx_in_batch = 0 # Will error if actual_num_windows_to_process is 0\n",
        "        actual_eval_len_for_sample = final_current_eval_lens[sample_idx_in_batch].item()\n",
        "\n",
        "        sample_forecast_c = all_forecast_c[sample_idx_in_batch, :actual_eval_len_for_sample, :].clone()\n",
        "        sample_actual_c = all_actual_c[sample_idx_in_batch, :actual_eval_len_for_sample, :].clone()\n",
        "        sample_win_idx = processed_window_indices[sample_idx_in_batch].item()\n",
        "\n",
        "    return {\n",
        "        'cluster_avg_pnl_list': all_window_pnl_cluster_dicts,\n",
        "        'naive_avg_pnl_list': all_window_pnl_naive_dicts,\n",
        "        'sample_forecast_cluster': sample_forecast_c,\n",
        "        'sample_actual_cluster': sample_actual_c,\n",
        "        'sample_window_idx_cluster': sample_win_idx,\n",
        "        'var_order_for_sample': var_order\n",
        "    }\n"
      ]
    },
    {
      "cell_type": "code",
      "execution_count": 5,
      "metadata": {},
      "outputs": [],
      "source": [
        "# --- REFACTORED Main processing function for a single window ---\n",
        "def single_window_iteration_processor_refactored(\n",
        "    lookback_asset_returns_item,\n",
        "    eval_asset_returns_item_padded,\n",
        "    current_eval_len_for_window,\n",
        "    window_idx_batch,\n",
        "    initial_n_clusters_config_static,\n",
        "    cluster_method_static,\n",
        "    var_order_static,\n",
        "    sigma_for_weights_static,\n",
        "    max_eval_len_static,\n",
        "    run_naive_var_comparison_static,\n",
        "    num_assets_overall_static,\n",
        "    device_static\n",
        "):\n",
        "    actual_eval_asset_returns_item = eval_asset_returns_item_padded\n",
        "\n",
        "    cluster_defs, cluster_names_ord, actual_n_clust_formed, _ = _define_clusters_and_centroids_functional(\n",
        "        lookback_asset_returns_item, initial_n_clusters_config_static, cluster_method_static, device_static\n",
        "    )\n",
        "\n",
        "    # Removed 'if cluster_names_ord:'\n",
        "    lookback_cluster_returns = _calculate_weighted_cluster_returns_functional(\n",
        "        data_slice_for_returns_calc=lookback_asset_returns_item,\n",
        "        data_slice_for_centroid_weights_calc=lookback_asset_returns_item,\n",
        "        cluster_definitions=cluster_defs,\n",
        "        cluster_names_ordered=cluster_names_ord,\n",
        "        sigma_for_weights=sigma_for_weights_static\n",
        "    )\n",
        "\n",
        "    # print(lookback_cluster_returns)\n",
        "\n",
        "    # Removed 'if lookback_cluster_returns.numel() > 0 and lookback_cluster_returns.shape[1] > 0:'\n",
        "    forecasted_cluster_returns_raw = _fit_var_and_forecast_functional(\n",
        "        lookback_cluster_returns, actual_n_clust_formed, var_order_static,\n",
        "        current_eval_len_for_window, device_static\n",
        "    )\n",
        "\n",
        "\n",
        "    # Removed 'if current_eval_len_for_window > 0:'\n",
        "    true_eval_cluster_returns_raw = _calculate_weighted_cluster_returns_functional(\n",
        "        data_slice_for_returns_calc=actual_eval_asset_returns_item,\n",
        "        data_slice_for_centroid_weights_calc=lookback_asset_returns_item,\n",
        "        cluster_definitions=cluster_defs,\n",
        "        cluster_names_ordered=cluster_names_ord,\n",
        "        sigma_for_weights=sigma_for_weights_static\n",
        "    )\n",
        "\n",
        "    pnl_c_tensor = calculate_pnl_torch(forecasted_cluster_returns_raw, true_eval_cluster_returns_raw)\n",
        "    # Removed 'if pnl_c_tensor.numel() > 0:'\n",
        "    pnl_c_val = pnl_c_tensor.mean().to(torch.float32)\n",
        "    # Removed 'if torch.isnan(pnl_c_val):'\n",
        "\n",
        "    pnl_n_val = torch.tensor(0.0, dtype=torch.float32, device=device_static)\n",
        "    forecasted_naive_returns_raw = torch.tensor(0.0, dtype=torch.float32, device=device_static)\n",
        "    true_eval_naive_returns_raw = torch.tensor(0.0, dtype=torch.float32, device=device_static)\n",
        "\n",
        "    if run_naive_var_comparison_static:\n",
        "        # Removed 'if lookback_asset_returns_item.numel() > 0 and lookback_asset_returns_item.shape[1] > 0 :'\n",
        "        forecasted_naive_returns_raw = _fit_var_and_forecast_functional(\n",
        "            lookback_asset_returns_item, num_assets_overall_static, var_order_static,\n",
        "            current_eval_len_for_window, device_static\n",
        "        )\n",
        "\n",
        "        # Removed 'if current_eval_len_for_window > 0:'\n",
        "        true_eval_naive_returns_raw = actual_eval_asset_returns_item\n",
        "\n",
        "        pnl_n_tensor = calculate_pnl_torch(forecasted_naive_returns_raw, forecasted_naive_returns_raw)\n",
        "        # Removed 'if pnl_n_tensor.numel() > 0:'\n",
        "        pnl_n_val = pnl_n_tensor.mean().to(torch.float32)\n",
        "        # Removed 'if torch.isnan(pnl_n_val):'\n",
        "\n",
        "    return (pnl_c_val, forecasted_cluster_returns_raw, true_eval_cluster_returns_raw,\n",
        "            pnl_n_val, forecasted_naive_returns_raw, true_eval_naive_returns_raw,\n",
        "            window_idx_batch\n",
        "           )\n",
        "\n",
        "# --- REFACTORED Main sliding window function ---\n",
        "def run_sliding_window_var_evaluation_vmap(\n",
        "    asset_returns_tensor, initial_lookback_len, eval_len, n_clusters_config,\n",
        "    cluster_method, var_order, sigma_intra_cluster, num_windows,\n",
        "    device=None, store_sample_forecasts=True, run_naive_var_comparison=True\n",
        "):\n",
        "    # Removed 'if device is None:' device will be asset_returns_tensor.device if not passed\n",
        "    effective_device = device if device is not None else asset_returns_tensor.device\n",
        "\n",
        "    num_assets_overall = asset_returns_tensor.shape[1]\n",
        "    tensor_total_len = asset_returns_tensor.shape[0]\n",
        "\n",
        "    base_lookback_start_indices = torch.arange(num_windows, device=effective_device) * eval_len\n",
        "    base_lookback_end_indices = base_lookback_start_indices + initial_lookback_len\n",
        "\n",
        "    valid_mask_initial = (base_lookback_end_indices <= tensor_total_len) & \\\n",
        "                         (base_lookback_end_indices < tensor_total_len)\n",
        "\n",
        "    filtered_lb_start_indices = base_lookback_start_indices[valid_mask_initial]\n",
        "    filtered_lb_end_indices = base_lookback_end_indices[valid_mask_initial]\n",
        "    original_window_indices_filtered = torch.arange(num_windows, device=effective_device)[valid_mask_initial]\n",
        "\n",
        "    # Removed 'if len(filtered_lb_start_indices) == 0:' and early return\n",
        "\n",
        "    num_potentially_valid_windows = len(filtered_lb_start_indices)\n",
        "    current_eval_lens_for_filtered = torch.full((num_potentially_valid_windows,), eval_len, dtype=torch.long, device=effective_device)\n",
        "    for i in range(num_potentially_valid_windows): # This loop might be empty if num_potentially_valid_windows is 0\n",
        "        max_possible_eval_len = tensor_total_len - filtered_lb_end_indices[i]\n",
        "        current_eval_lens_for_filtered[i] = min(eval_len, max_possible_eval_len)\n",
        "\n",
        "    valid_mask_eval_len = current_eval_lens_for_filtered > 0\n",
        "\n",
        "    final_lookback_start_indices = filtered_lb_start_indices[valid_mask_eval_len]\n",
        "    final_lookback_end_indices = filtered_lb_end_indices[valid_mask_eval_len]\n",
        "    final_current_eval_lens = current_eval_lens_for_filtered[valid_mask_eval_len]\n",
        "    final_original_window_indices_batch = original_window_indices_filtered[valid_mask_eval_len]\n",
        "\n",
        "    # Removed 'if len(final_lookback_start_indices) == 0:' and early return\n",
        "\n",
        "    actual_num_windows_to_process = len(final_lookback_start_indices)\n",
        "\n",
        "    batched_lookback_slices = []\n",
        "    batched_eval_slices_padded = []\n",
        "\n",
        "    # for _ in repeat_for_robustness:\n",
        "    #   for p in lag_orders_to_test:\n",
        "    #       for k in num_clusters_to_test:\n",
        "    for s in range(actual_num_windows_to_process): # This loop might be empty\n",
        "        start = final_lookback_start_indices[s]\n",
        "        end = final_lookback_end_indices[s]\n",
        "\n",
        "        lb_slice = asset_returns_tensor[start:end, :]\n",
        "        batched_lookback_slices.append(lb_slice)\n",
        "\n",
        "        eval_s = end\n",
        "        current_L = final_current_eval_lens[s].item()\n",
        "        eval_e = eval_s + current_L\n",
        "        ev_slice_actual = asset_returns_tensor[eval_s:eval_e, :]\n",
        "\n",
        "        # # Padding logic kept for vmap compatibility\n",
        "        # if current_L < eval_len:\n",
        "        #     padding = torch.zeros((eval_len - current_L, num_assets_overall),\n",
        "        #                           dtype=asset_returns_tensor.dtype, device=effective_device)\n",
        "        #     ev_slice_padded = torch.cat([ev_slice_actual, padding], dim=0)\n",
        "        # elif current_L == eval_len:\n",
        "        #     ev_slice_padded = ev_slice_actual\n",
        "        # else:\n",
        "        #     ev_slice_padded = ev_slice_actual[:eval_len,:]\n",
        "\n",
        "        batched_eval_slices_padded.append(ev_slice_actual)\n",
        "\n",
        "    # These stacks will error if their respective lists are empty (e.g., actual_num_windows_to_process is 0)\n",
        "    final_batched_lookback_data = torch.stack(batched_lookback_slices)\n",
        "    final_batched_eval_data_padded = torch.stack(batched_eval_slices_padded)\n",
        "\n",
        "\n",
        "    vmapped_processor = func.vmap(\n",
        "        single_window_iteration_processor_refactored,\n",
        "        in_dims=(0, 0, None, 0,\n",
        "                   None, None, None, None, None, None, None, None),\n",
        "        out_dims=0, randomness='different'\n",
        "    )\n",
        "\n",
        "    all_pnl_c_vals, all_forecast_c, all_actual_c, \\\n",
        "    all_pnl_n_vals, all_forecast_n, all_actual_n, \\\n",
        "    processed_window_indices = vmapped_processor(\n",
        "        final_batched_lookback_data,\n",
        "        final_batched_eval_data_padded,\n",
        "        eval_len,\n",
        "        final_original_window_indices_batch,\n",
        "        n_clusters_config,\n",
        "        cluster_method,\n",
        "        var_order,\n",
        "        sigma_intra_cluster,\n",
        "        eval_len,\n",
        "        run_naive_var_comparison,\n",
        "        num_assets_overall,\n",
        "        effective_device\n",
        "    )\n",
        "\n",
        "    all_window_pnl_cluster_dicts = []\n",
        "    all_window_pnl_naive_dicts = []\n",
        "\n",
        "    for i in range(actual_num_windows_to_process): # This loop might be empty\n",
        "        win_id = processed_window_indices[i].item()\n",
        "\n",
        "        # Removed filter 'if all_pnl_c_vals[i].item() != 0.0 or all_forecast_c[i].abs().sum() > 1e-9:'\n",
        "        all_window_pnl_cluster_dicts.append({\n",
        "             'Window_ID': win_id, 'Avg_Window_PNL': all_pnl_c_vals[i].item(),\n",
        "             'VAR_Order': var_order, 'Method': 'Clustered VAR'\n",
        "         })\n",
        "\n",
        "        if run_naive_var_comparison:\n",
        "            # Removed filter for naive pnl/forecast values\n",
        "            all_window_pnl_naive_dicts.append({\n",
        "                'Window_ID': win_id, 'Avg_Window_PNL': all_pnl_n_vals[i].item(),\n",
        "                'VAR_Order': var_order, 'Method': 'Naive VAR'\n",
        "            })\n",
        "\n",
        "    sample_forecast_c, sample_actual_c, sample_win_idx = None, None, -1\n",
        "    # Removed 'and actual_num_windows_to_process > 0' from condition\n",
        "    if store_sample_forecasts:\n",
        "        sample_idx_in_batch = 0 # Will error if actual_num_windows_to_process is 0\n",
        "        actual_eval_len_for_sample = final_current_eval_lens[sample_idx_in_batch].item()\n",
        "\n",
        "        sample_forecast_c = all_forecast_c[sample_idx_in_batch, :actual_eval_len_for_sample, :].clone()\n",
        "        sample_actual_c = all_actual_c[sample_idx_in_batch, :actual_eval_len_for_sample, :].clone()\n",
        "        sample_win_idx = processed_window_indices[sample_idx_in_batch].item()\n",
        "\n",
        "    return {\n",
        "        'cluster_avg_pnl_list': all_window_pnl_cluster_dicts,\n",
        "        'naive_avg_pnl_list': all_window_pnl_naive_dicts,\n",
        "        'sample_forecast_cluster': sample_forecast_c,\n",
        "        'sample_actual_cluster': sample_actual_c,\n",
        "        'sample_window_idx_cluster': sample_win_idx,\n",
        "        'var_order_for_sample': var_order\n",
        "    }\n"
      ]
    },
    {
      "cell_type": "code",
      "execution_count": 6,
      "metadata": {},
      "outputs": [],
      "source": [
        "# --- REFACTORED Main processing function for a single window ---\n",
        "def single_window_iteration_processor_refactored(\n",
        "    lookback_asset_returns_item,\n",
        "    eval_asset_returns_item_padded,\n",
        "    current_eval_len_for_window,\n",
        "    window_idx_batch,\n",
        "    initial_n_clusters_config_static,\n",
        "    cluster_method_static,\n",
        "    var_order_static,\n",
        "    sigma_for_weights_static,\n",
        "    max_eval_len_static,\n",
        "    run_naive_var_comparison_static,\n",
        "    num_assets_overall_static,\n",
        "    device_static\n",
        "):\n",
        "    actual_eval_asset_returns_item = eval_asset_returns_item_padded\n",
        "\n",
        "    cluster_defs, cluster_names_ord, actual_n_clust_formed, _ = _define_clusters_and_centroids_functional(\n",
        "        lookback_asset_returns_item, initial_n_clusters_config_static, cluster_method_static, device_static\n",
        "    )\n",
        "\n",
        "    # Removed 'if cluster_names_ord:'\n",
        "    lookback_cluster_returns = _calculate_weighted_cluster_returns_functional(\n",
        "        data_slice_for_returns_calc=lookback_asset_returns_item,\n",
        "        data_slice_for_centroid_weights_calc=lookback_asset_returns_item,\n",
        "        cluster_definitions=cluster_defs,\n",
        "        cluster_names_ordered=cluster_names_ord,\n",
        "        sigma_for_weights=sigma_for_weights_static\n",
        "    )\n",
        "\n",
        "    # print(lookback_cluster_returns)\n",
        "\n",
        "    # Removed 'if lookback_cluster_returns.numel() > 0 and lookback_cluster_returns.shape[1] > 0:'\n",
        "    forecasted_cluster_returns_raw = _fit_var_and_forecast_functional(\n",
        "        lookback_cluster_returns, actual_n_clust_formed, var_order_static,\n",
        "        current_eval_len_for_window, device_static\n",
        "    )\n",
        "\n",
        "\n",
        "    # Removed 'if current_eval_len_for_window > 0:'\n",
        "    true_eval_cluster_returns_raw = _calculate_weighted_cluster_returns_functional(\n",
        "        data_slice_for_returns_calc=actual_eval_asset_returns_item,\n",
        "        data_slice_for_centroid_weights_calc=lookback_asset_returns_item,\n",
        "        cluster_definitions=cluster_defs,\n",
        "        cluster_names_ordered=cluster_names_ord,\n",
        "        sigma_for_weights=sigma_for_weights_static\n",
        "    )\n",
        "\n",
        "    pnl_c_tensor = calculate_pnl_torch(forecasted_cluster_returns_raw, true_eval_cluster_returns_raw)\n",
        "    # Removed 'if pnl_c_tensor.numel() > 0:'\n",
        "    pnl_c_val = pnl_c_tensor.mean().to(torch.float32)\n",
        "    # Removed 'if torch.isnan(pnl_c_val):'\n",
        "\n",
        "    pnl_n_val = torch.tensor(0.0, dtype=torch.float32, device=device_static)\n",
        "    forecasted_naive_returns_raw = torch.tensor(0.0, dtype=torch.float32, device=device_static)\n",
        "    true_eval_naive_returns_raw = torch.tensor(0.0, dtype=torch.float32, device=device_static)\n",
        "\n",
        "    if run_naive_var_comparison_static:\n",
        "        # Removed 'if lookback_asset_returns_item.numel() > 0 and lookback_asset_returns_item.shape[1] > 0 :'\n",
        "        forecasted_naive_returns_raw = _fit_var_and_forecast_functional(\n",
        "            lookback_asset_returns_item, num_assets_overall_static, var_order_static,\n",
        "            current_eval_len_for_window, device_static\n",
        "        )\n",
        "\n",
        "        # Removed 'if current_eval_len_for_window > 0:'\n",
        "        true_eval_naive_returns_raw = actual_eval_asset_returns_item\n",
        "\n",
        "        pnl_n_tensor = calculate_pnl_torch(forecasted_naive_returns_raw, forecasted_naive_returns_raw)\n",
        "        # Removed 'if pnl_n_tensor.numel() > 0:'\n",
        "        pnl_n_val = pnl_n_tensor.mean().to(torch.float32)\n",
        "        # Removed 'if torch.isnan(pnl_n_val):'\n",
        "\n",
        "    return (pnl_c_val, forecasted_cluster_returns_raw, true_eval_cluster_returns_raw,\n",
        "            pnl_n_val, forecasted_naive_returns_raw, true_eval_naive_returns_raw,\n",
        "            window_idx_batch\n",
        "           )\n",
        "\n",
        "# --- REFACTORED Main sliding window function ---\n",
        "def run_sliding_window_var_evaluation_vmap(\n",
        "    asset_returns_tensor, initial_lookback_len, eval_len, n_clusters_config,\n",
        "    cluster_method, var_order, sigma_intra_cluster, num_windows,\n",
        "    device=None, store_sample_forecasts=True, run_naive_var_comparison=True\n",
        "):\n",
        "    # Removed 'if device is None:' device will be asset_returns_tensor.device if not passed\n",
        "    effective_device = device if device is not None else asset_returns_tensor.device\n",
        "\n",
        "    num_assets_overall = asset_returns_tensor.shape[1]\n",
        "    tensor_total_len = asset_returns_tensor.shape[0]\n",
        "\n",
        "    base_lookback_start_indices = torch.arange(num_windows, device=effective_device) * eval_len\n",
        "    base_lookback_end_indices = base_lookback_start_indices + initial_lookback_len\n",
        "\n",
        "    valid_mask_initial = (base_lookback_end_indices <= tensor_total_len) & \\\n",
        "                         (base_lookback_end_indices < tensor_total_len)\n",
        "\n",
        "    filtered_lb_start_indices = base_lookback_start_indices[valid_mask_initial]\n",
        "    filtered_lb_end_indices = base_lookback_end_indices[valid_mask_initial]\n",
        "    original_window_indices_filtered = torch.arange(num_windows, device=effective_device)[valid_mask_initial]\n",
        "\n",
        "    # Removed 'if len(filtered_lb_start_indices) == 0:' and early return\n",
        "\n",
        "    num_potentially_valid_windows = len(filtered_lb_start_indices)\n",
        "    current_eval_lens_for_filtered = torch.full((num_potentially_valid_windows,), eval_len, dtype=torch.long, device=effective_device)\n",
        "    for i in range(num_potentially_valid_windows): # This loop might be empty if num_potentially_valid_windows is 0\n",
        "        max_possible_eval_len = tensor_total_len - filtered_lb_end_indices[i]\n",
        "        current_eval_lens_for_filtered[i] = min(eval_len, max_possible_eval_len)\n",
        "\n",
        "    valid_mask_eval_len = current_eval_lens_for_filtered > 0\n",
        "\n",
        "    final_lookback_start_indices = filtered_lb_start_indices[valid_mask_eval_len]\n",
        "    final_lookback_end_indices = filtered_lb_end_indices[valid_mask_eval_len]\n",
        "    final_current_eval_lens = current_eval_lens_for_filtered[valid_mask_eval_len]\n",
        "    final_original_window_indices_batch = original_window_indices_filtered[valid_mask_eval_len]\n",
        "\n",
        "    # Removed 'if len(final_lookback_start_indices) == 0:' and early return\n",
        "\n",
        "    actual_num_windows_to_process = len(final_lookback_start_indices)\n",
        "\n",
        "    batched_lookback_slices = []\n",
        "    batched_eval_slices_padded = []\n",
        "\n",
        "    # for _ in repeat_for_robustness:\n",
        "    #   for p in lag_orders_to_test:\n",
        "    #       for k in num_clusters_to_test:\n",
        "    for s in range(actual_num_windows_to_process): # This loop might be empty\n",
        "        start = final_lookback_start_indices[s]\n",
        "        end = final_lookback_end_indices[s]\n",
        "\n",
        "        lb_slice = asset_returns_tensor[start:end, :]\n",
        "        batched_lookback_slices.append(lb_slice)\n",
        "\n",
        "        eval_s = end\n",
        "        current_L = final_current_eval_lens[s].item()\n",
        "        eval_e = eval_s + current_L\n",
        "        ev_slice_actual = asset_returns_tensor[eval_s:eval_e, :]\n",
        "\n",
        "        # # Padding logic kept for vmap compatibility\n",
        "        # if current_L < eval_len:\n",
        "        #     padding = torch.zeros((eval_len - current_L, num_assets_overall),\n",
        "        #                           dtype=asset_returns_tensor.dtype, device=effective_device)\n",
        "        #     ev_slice_padded = torch.cat([ev_slice_actual, padding], dim=0)\n",
        "        # elif current_L == eval_len:\n",
        "        #     ev_slice_padded = ev_slice_actual\n",
        "        # else:\n",
        "        #     ev_slice_padded = ev_slice_actual[:eval_len,:]\n",
        "\n",
        "        batched_eval_slices_padded.append(ev_slice_actual)\n",
        "\n",
        "    # These stacks will error if their respective lists are empty (e.g., actual_num_windows_to_process is 0)\n",
        "    final_batched_lookback_data = torch.stack(batched_lookback_slices)\n",
        "    final_batched_eval_data_padded = torch.stack(batched_eval_slices_padded)\n",
        "\n",
        "\n",
        "    vmapped_processor = func.vmap(\n",
        "        single_window_iteration_processor_refactored,\n",
        "        in_dims=(0, 0, None, 0,\n",
        "                   None, None, None, None, None, None, None, None),\n",
        "        out_dims=0, randomness='different'\n",
        "    )\n",
        "\n",
        "    all_pnl_c_vals, all_forecast_c, all_actual_c, \\\n",
        "    all_pnl_n_vals, all_forecast_n, all_actual_n, \\\n",
        "    processed_window_indices = vmapped_processor(\n",
        "        final_batched_lookback_data,\n",
        "        final_batched_eval_data_padded,\n",
        "        eval_len,\n",
        "        final_original_window_indices_batch,\n",
        "        n_clusters_config,\n",
        "        cluster_method,\n",
        "        var_order,\n",
        "        sigma_intra_cluster,\n",
        "        eval_len,\n",
        "        run_naive_var_comparison,\n",
        "        num_assets_overall,\n",
        "        effective_device\n",
        "    )\n",
        "\n",
        "    all_window_pnl_cluster_dicts = []\n",
        "    all_window_pnl_naive_dicts = []\n",
        "\n",
        "    for i in range(actual_num_windows_to_process): # This loop might be empty\n",
        "        win_id = processed_window_indices[i].item()\n",
        "\n",
        "        # Removed filter 'if all_pnl_c_vals[i].item() != 0.0 or all_forecast_c[i].abs().sum() > 1e-9:'\n",
        "        all_window_pnl_cluster_dicts.append({\n",
        "             'Window_ID': win_id, 'Avg_Window_PNL': all_pnl_c_vals[i].item(),\n",
        "             'VAR_Order': var_order, 'Method': 'Clustered VAR'\n",
        "         })\n",
        "\n",
        "        if run_naive_var_comparison:\n",
        "            # Removed filter for naive pnl/forecast values\n",
        "            all_window_pnl_naive_dicts.append({\n",
        "                'Window_ID': win_id, 'Avg_Window_PNL': all_pnl_n_vals[i].item(),\n",
        "                'VAR_Order': var_order, 'Method': 'Naive VAR'\n",
        "            })\n",
        "\n",
        "    sample_forecast_c, sample_actual_c, sample_win_idx = None, None, -1\n",
        "    # Removed 'and actual_num_windows_to_process > 0' from condition\n",
        "    if store_sample_forecasts:\n",
        "        sample_idx_in_batch = 0 # Will error if actual_num_windows_to_process is 0\n",
        "        actual_eval_len_for_sample = final_current_eval_lens[sample_idx_in_batch].item()\n",
        "\n",
        "        sample_forecast_c = all_forecast_c[sample_idx_in_batch, :actual_eval_len_for_sample, :].clone()\n",
        "        sample_actual_c = all_actual_c[sample_idx_in_batch, :actual_eval_len_for_sample, :].clone()\n",
        "        sample_win_idx = processed_window_indices[sample_idx_in_batch].item()\n",
        "\n",
        "    return {\n",
        "        'cluster_avg_pnl_list': all_window_pnl_cluster_dicts,\n",
        "        'naive_avg_pnl_list': all_window_pnl_naive_dicts,\n",
        "        'sample_forecast_cluster': sample_forecast_c,\n",
        "        'sample_actual_cluster': sample_actual_c,\n",
        "        'sample_window_idx_cluster': sample_win_idx,\n",
        "        'var_order_for_sample': var_order\n",
        "    }\n"
      ]
    },
    {
      "cell_type": "code",
      "execution_count": 7,
      "metadata": {},
      "outputs": [],
      "source": [
        "# --- REFACTORED Main processing function for a single window ---\n",
        "def single_window_iteration_processor_refactored(\n",
        "    lookback_asset_returns_item,\n",
        "    eval_asset_returns_item_padded,\n",
        "    current_eval_len_for_window,\n",
        "    window_idx_batch,\n",
        "    initial_n_clusters_config_static,\n",
        "    cluster_method_static,\n",
        "    var_order_static,\n",
        "    sigma_for_weights_static,\n",
        "    max_eval_len_static,\n",
        "    run_naive_var_comparison_static,\n",
        "    num_assets_overall_static,\n",
        "    device_static\n",
        "):\n",
        "    actual_eval_asset_returns_item = eval_asset_returns_item_padded\n",
        "\n",
        "    cluster_defs, cluster_names_ord, actual_n_clust_formed, _ = _define_clusters_and_centroids_functional(\n",
        "        lookback_asset_returns_item, initial_n_clusters_config_static, cluster_method_static, device_static\n",
        "    )\n",
        "\n",
        "    # Removed 'if cluster_names_ord:'\n",
        "    lookback_cluster_returns = _calculate_weighted_cluster_returns_functional(\n",
        "        data_slice_for_returns_calc=lookback_asset_returns_item,\n",
        "        data_slice_for_centroid_weights_calc=lookback_asset_returns_item,\n",
        "        cluster_definitions=cluster_defs,\n",
        "        cluster_names_ordered=cluster_names_ord,\n",
        "        sigma_for_weights=sigma_for_weights_static\n",
        "    )\n",
        "\n",
        "    # print(lookback_cluster_returns)\n",
        "\n",
        "    # Removed 'if lookback_cluster_returns.numel() > 0 and lookback_cluster_returns.shape[1] > 0:'\n",
        "    forecasted_cluster_returns_raw = _fit_var_and_forecast_functional(\n",
        "        lookback_cluster_returns, actual_n_clust_formed, var_order_static,\n",
        "        current_eval_len_for_window, device_static\n",
        "    )\n",
        "\n",
        "\n",
        "    # Removed 'if current_eval_len_for_window > 0:'\n",
        "    true_eval_cluster_returns_raw = _calculate_weighted_cluster_returns_functional(\n",
        "        data_slice_for_returns_calc=actual_eval_asset_returns_item,\n",
        "        data_slice_for_centroid_weights_calc=lookback_asset_returns_item,\n",
        "        cluster_definitions=cluster_defs,\n",
        "        cluster_names_ordered=cluster_names_ord,\n",
        "        sigma_for_weights=sigma_for_weights_static\n",
        "    )\n",
        "\n",
        "    pnl_c_tensor = calculate_pnl_torch(forecasted_cluster_returns_raw, true_eval_cluster_returns_raw)\n",
        "    # Removed 'if pnl_c_tensor.numel() > 0:'\n",
        "    pnl_c_val = pnl_c_tensor.mean().to(torch.float32)\n",
        "    # Removed 'if torch.isnan(pnl_c_val):'\n",
        "\n",
        "    pnl_n_val = torch.tensor(0.0, dtype=torch.float32, device=device_static)\n",
        "    forecasted_naive_returns_raw = torch.tensor(0.0, dtype=torch.float32, device=device_static)\n",
        "    true_eval_naive_returns_raw = torch.tensor(0.0, dtype=torch.float32, device=device_static)\n",
        "\n",
        "    if run_naive_var_comparison_static:\n",
        "        # Removed 'if lookback_asset_returns_item.numel() > 0 and lookback_asset_returns_item.shape[1] > 0 :'\n",
        "        forecasted_naive_returns_raw = _fit_var_and_forecast_functional(\n",
        "            lookback_asset_returns_item, num_assets_overall_static, var_order_static,\n",
        "            current_eval_len_for_window, device_static\n",
        "        )\n",
        "\n",
        "        # Removed 'if current_eval_len_for_window > 0:'\n",
        "        true_eval_naive_returns_raw = actual_eval_asset_returns_item\n",
        "\n",
        "        pnl_n_tensor = calculate_pnl_torch(forecasted_naive_returns_raw, forecasted_naive_returns_raw)\n",
        "        # Removed 'if pnl_n_tensor.numel() > 0:'\n",
        "        pnl_n_val = pnl_n_tensor.mean().to(torch.float32)\n",
        "        # Removed 'if torch.isnan(pnl_n_val):'\n",
        "\n",
        "    return (pnl_c_val, forecasted_cluster_returns_raw, true_eval_cluster_returns_raw,\n",
        "            pnl_n_val, forecasted_naive_returns_raw, true_eval_naive_returns_raw,\n",
        "            window_idx_batch\n",
        "           )\n",
        "\n",
        "# --- REFACTORED Main sliding window function ---\n",
        "def run_sliding_window_var_evaluation_vmap(\n",
        "    asset_returns_tensor, initial_lookback_len, eval_len, n_clusters_config,\n",
        "    cluster_method, var_order, sigma_intra_cluster, num_windows,\n",
        "    device=None, store_sample_forecasts=True, run_naive_var_comparison=True\n",
        "):\n",
        "    # Removed 'if device is None:' device will be asset_returns_tensor.device if not passed\n",
        "    effective_device = device if device is not None else asset_returns_tensor.device\n",
        "\n",
        "    num_assets_overall = asset_returns_tensor.shape[1]\n",
        "    tensor_total_len = asset_returns_tensor.shape[0]\n",
        "\n",
        "    base_lookback_start_indices = torch.arange(num_windows, device=effective_device) * eval_len\n",
        "    base_lookback_end_indices = base_lookback_start_indices + initial_lookback_len\n",
        "\n",
        "    valid_mask_initial = (base_lookback_end_indices <= tensor_total_len) & \\\n",
        "                         (base_lookback_end_indices < tensor_total_len)\n",
        "\n",
        "    filtered_lb_start_indices = base_lookback_start_indices[valid_mask_initial]\n",
        "    filtered_lb_end_indices = base_lookback_end_indices[valid_mask_initial]\n",
        "    original_window_indices_filtered = torch.arange(num_windows, device=effective_device)[valid_mask_initial]\n",
        "\n",
        "    # Removed 'if len(filtered_lb_start_indices) == 0:' and early return\n",
        "\n",
        "    num_potentially_valid_windows = len(filtered_lb_start_indices)\n",
        "    current_eval_lens_for_filtered = torch.full((num_potentially_valid_windows,), eval_len, dtype=torch.long, device=effective_device)\n",
        "    for i in range(num_potentially_valid_windows): # This loop might be empty if num_potentially_valid_windows is 0\n",
        "        max_possible_eval_len = tensor_total_len - filtered_lb_end_indices[i]\n",
        "        current_eval_lens_for_filtered[i] = min(eval_len, max_possible_eval_len)\n",
        "\n",
        "    valid_mask_eval_len = current_eval_lens_for_filtered > 0\n",
        "\n",
        "    final_lookback_start_indices = filtered_lb_start_indices[valid_mask_eval_len]\n",
        "    final_lookback_end_indices = filtered_lb_end_indices[valid_mask_eval_len]\n",
        "    final_current_eval_lens = current_eval_lens_for_filtered[valid_mask_eval_len]\n",
        "    final_original_window_indices_batch = original_window_indices_filtered[valid_mask_eval_len]\n",
        "\n",
        "    # Removed 'if len(final_lookback_start_indices) == 0:' and early return\n",
        "\n",
        "    actual_num_windows_to_process = len(final_lookback_start_indices)\n",
        "\n",
        "    batched_lookback_slices = []\n",
        "    batched_eval_slices_padded = []\n",
        "\n",
        "    # for _ in repeat_for_robustness:\n",
        "    #   for p in lag_orders_to_test:\n",
        "    #       for k in num_clusters_to_test:\n",
        "    for s in range(actual_num_windows_to_process): # This loop might be empty\n",
        "        start = final_lookback_start_indices[s]\n",
        "        end = final_lookback_end_indices[s]\n",
        "\n",
        "        lb_slice = asset_returns_tensor[start:end, :]\n",
        "        batched_lookback_slices.append(lb_slice)\n",
        "\n",
        "        eval_s = end\n",
        "        current_L = final_current_eval_lens[s].item()\n",
        "        eval_e = eval_s + current_L\n",
        "        ev_slice_actual = asset_returns_tensor[eval_s:eval_e, :]\n",
        "\n",
        "        # # Padding logic kept for vmap compatibility\n",
        "        # if current_L < eval_len:\n",
        "        #     padding = torch.zeros((eval_len - current_L, num_assets_overall),\n",
        "        #                           dtype=asset_returns_tensor.dtype, device=effective_device)\n",
        "        #     ev_slice_padded = torch.cat([ev_slice_actual, padding], dim=0)\n",
        "        # elif current_L == eval_len:\n",
        "        #     ev_slice_padded = ev_slice_actual\n",
        "        # else:\n",
        "        #     ev_slice_padded = ev_slice_actual[:eval_len,:]\n",
        "\n",
        "        batched_eval_slices_padded.append(ev_slice_actual)\n",
        "\n",
        "    # These stacks will error if their respective lists are empty (e.g., actual_num_windows_to_process is 0)\n",
        "    final_batched_lookback_data = torch.stack(batched_lookback_slices)\n",
        "    final_batched_eval_data_padded = torch.stack(batched_eval_slices_padded)\n",
        "\n",
        "\n",
        "    vmapped_processor = func.vmap(\n",
        "        single_window_iteration_processor_refactored,\n",
        "        in_dims=(0, 0, None, 0,\n",
        "                   None, None, None, None, None, None, None, None),\n",
        "        out_dims=0, randomness='different'\n",
        "    )\n",
        "\n",
        "    all_pnl_c_vals, all_forecast_c, all_actual_c, \\\n",
        "    all_pnl_n_vals, all_forecast_n, all_actual_n, \\\n",
        "    processed_window_indices = vmapped_processor(\n",
        "        final_batched_lookback_data,\n",
        "        final_batched_eval_data_padded,\n",
        "        eval_len,\n",
        "        final_original_window_indices_batch,\n",
        "        n_clusters_config,\n",
        "        cluster_method,\n",
        "        var_order,\n",
        "        sigma_intra_cluster,\n",
        "        eval_len,\n",
        "        run_naive_var_comparison,\n",
        "        num_assets_overall,\n",
        "        effective_device\n",
        "    )\n",
        "\n",
        "    all_window_pnl_cluster_dicts = []\n",
        "    all_window_pnl_naive_dicts = []\n",
        "\n",
        "    for i in range(actual_num_windows_to_process): # This loop might be empty\n",
        "        win_id = processed_window_indices[i].item()\n",
        "\n",
        "        # Removed filter 'if all_pnl_c_vals[i].item() != 0.0 or all_forecast_c[i].abs().sum() > 1e-9:'\n",
        "        all_window_pnl_cluster_dicts.append({\n",
        "             'Window_ID': win_id, 'Avg_Window_PNL': all_pnl_c_vals[i].item(),\n",
        "             'VAR_Order': var_order, 'Method': 'Clustered VAR'\n",
        "         })\n",
        "\n",
        "        if run_naive_var_comparison:\n",
        "            # Removed filter for naive pnl/forecast values\n",
        "            all_window_pnl_naive_dicts.append({\n",
        "                'Window_ID': win_id, 'Avg_Window_PNL': all_pnl_n_vals[i].item(),\n",
        "                'VAR_Order': var_order, 'Method': 'Naive VAR'\n",
        "            })\n",
        "\n",
        "    sample_forecast_c, sample_actual_c, sample_win_idx = None, None, -1\n",
        "    # Removed 'and actual_num_windows_to_process > 0' from condition\n",
        "    if store_sample_forecasts:\n",
        "        sample_idx_in_batch = 0 # Will error if actual_num_windows_to_process is 0\n",
        "        actual_eval_len_for_sample = final_current_eval_lens[sample_idx_in_batch].item()\n",
        "\n",
        "        sample_forecast_c = all_forecast_c[sample_idx_in_batch, :actual_eval_len_for_sample, :].clone()\n",
        "        sample_actual_c = all_actual_c[sample_idx_in_batch, :actual_eval_len_for_sample, :].clone()\n",
        "        sample_win_idx = processed_window_indices[sample_idx_in_batch].item()\n",
        "\n",
        "    return {\n",
        "        'cluster_avg_pnl_list': all_window_pnl_cluster_dicts,\n",
        "        'naive_avg_pnl_list': all_window_pnl_naive_dicts,\n",
        "        'sample_forecast_cluster': sample_forecast_c,\n",
        "        'sample_actual_cluster': sample_actual_c,\n",
        "        'sample_window_idx_cluster': sample_win_idx,\n",
        "        'var_order_for_sample': var_order\n",
        "    }\n"
      ]
    },
    {
      "cell_type": "code",
      "execution_count": 8,
      "metadata": {},
      "outputs": [],
      "source": [
        "# --- REFACTORED Main processing function for a single window ---\n",
        "def single_window_iteration_processor_refactored(\n",
        "    lookback_asset_returns_item,\n",
        "    eval_asset_returns_item_padded,\n",
        "    current_eval_len_for_window,\n",
        "    window_idx_batch,\n",
        "    initial_n_clusters_config_static,\n",
        "    cluster_method_static,\n",
        "    var_order_static,\n",
        "    sigma_for_weights_static,\n",
        "    max_eval_len_static,\n",
        "    run_naive_var_comparison_static,\n",
        "    num_assets_overall_static,\n",
        "    device_static\n",
        "):\n",
        "    actual_eval_asset_returns_item = eval_asset_returns_item_padded\n",
        "\n",
        "    cluster_defs, cluster_names_ord, actual_n_clust_formed, _ = _define_clusters_and_centroids_functional(\n",
        "        lookback_asset_returns_item, initial_n_clusters_config_static, cluster_method_static, device_static\n",
        "    )\n",
        "\n",
        "    # Removed 'if cluster_names_ord:'\n",
        "    lookback_cluster_returns = _calculate_weighted_cluster_returns_functional(\n",
        "        data_slice_for_returns_calc=lookback_asset_returns_item,\n",
        "        data_slice_for_centroid_weights_calc=lookback_asset_returns_item,\n",
        "        cluster_definitions=cluster_defs,\n",
        "        cluster_names_ordered=cluster_names_ord,\n",
        "        sigma_for_weights=sigma_for_weights_static\n",
        "    )\n",
        "\n",
        "    # print(lookback_cluster_returns)\n",
        "\n",
        "    # Removed 'if lookback_cluster_returns.numel() > 0 and lookback_cluster_returns.shape[1] > 0:'\n",
        "    forecasted_cluster_returns_raw = _fit_var_and_forecast_functional(\n",
        "        lookback_cluster_returns, actual_n_clust_formed, var_order_static,\n",
        "        current_eval_len_for_window, device_static\n",
        "    )\n",
        "\n",
        "\n",
        "    # Removed 'if current_eval_len_for_window > 0:'\n",
        "    true_eval_cluster_returns_raw = _calculate_weighted_cluster_returns_functional(\n",
        "        data_slice_for_returns_calc=actual_eval_asset_returns_item,\n",
        "        data_slice_for_centroid_weights_calc=lookback_asset_returns_item,\n",
        "        cluster_definitions=cluster_defs,\n",
        "        cluster_names_ordered=cluster_names_ord,\n",
        "        sigma_for_weights=sigma_for_weights_static\n",
        "    )\n",
        "\n",
        "    pnl_c_tensor = calculate_pnl_torch(forecasted_cluster_returns_raw, true_eval_cluster_returns_raw)\n",
        "    # Removed 'if pnl_c_tensor.numel() > 0:'\n",
        "    pnl_c_val = pnl_c_tensor.mean().to(torch.float32)\n",
        "    # Removed 'if torch.isnan(pnl_c_val):'\n",
        "\n",
        "    pnl_n_val = torch.tensor(0.0, dtype=torch.float32, device=device_static)\n",
        "    forecasted_naive_returns_raw = torch.tensor(0.0, dtype=torch.float32, device=device_static)\n",
        "    true_eval_naive_returns_raw = torch.tensor(0.0, dtype=torch.float32, device=device_static)\n",
        "\n",
        "    if run_naive_var_comparison_static:\n",
        "        # Removed 'if lookback_asset_returns_item.numel() > 0 and lookback_asset_returns_item.shape[1] > 0 :'\n",
        "        forecasted_naive_returns_raw = _fit_var_and_forecast_functional(\n",
        "            lookback_asset_returns_item, num_assets_overall_static, var_order_static,\n",
        "            current_eval_len_for_window, device_static\n",
        "        )\n",
        "\n",
        "        # Removed 'if current_eval_len_for_window > 0:'\n",
        "        true_eval_naive_returns_raw = actual_eval_asset_returns_item\n",
        "\n",
        "        pnl_n_tensor = calculate_pnl_torch(forecasted_naive_returns_raw, forecasted_naive_returns_raw)\n",
        "        # Removed 'if pnl_n_tensor.numel() > 0:'\n",
        "        pnl_n_val = pnl_n_tensor.mean().to(torch.float32)\n",
        "        # Removed 'if torch.isnan(pnl_n_val):'\n",
        "\n",
        "    return (pnl_c_val, forecasted_cluster_returns_raw, true_eval_cluster_returns_raw,\n",
        "            pnl_n_val, forecasted_naive_returns_raw, true_eval_naive_returns_raw,\n",
        "            window_idx_batch\n",
        "           )\n",
        "\n",
        "# --- REFACTORED Main sliding window function ---\n",
        "def run_sliding_window_var_evaluation_vmap(\n",
        "    asset_returns_tensor, initial_lookback_len, eval_len, n_clusters_config,\n",
        "    cluster_method, var_order, sigma_intra_cluster, num_windows,\n",
        "    device=None, store_sample_forecasts=True, run_naive_var_comparison=True\n",
        "):\n",
        "    effective_device = device if device is not None else asset_returns_tensor.device\n",
        "\n",
        "    num_assets_overall = asset_returns_tensor.shape[1]\n",
        "    tensor_total_len = asset_returns_tensor.shape[0]\n",
        "\n",
        "    base_lookback_start_indices = torch.arange(num_windows, device=effective_device) * eval_len\n",
        "    base_lookback_end_indices = base_lookback_start_indices + initial_lookback_len\n",
        "\n",
        "    valid_mask_initial = (base_lookback_end_indices <= tensor_total_len) & \\\n",
        "                         (base_lookback_end_indices < tensor_total_len)\n",
        "\n",
        "    filtered_lb_start_indices = base_lookback_start_indices[valid_mask_initial]\n",
        "    filtered_lb_end_indices = base_lookback_end_indices[valid_mask_initial]\n",
        "    original_window_indices_filtered = torch.arange(num_windows, device=effective_device)[valid_mask_initial]\n",
        "\n",
        "    num_potentially_valid_windows = len(filtered_lb_start_indices)\n",
        "    current_eval_lens_for_filtered = torch.full((num_potentially_valid_windows,), eval_len, dtype=torch.long, device=effective_device)\n",
        "    for i in range(num_potentially_valid_windows):\n",
        "        max_possible_eval_len = tensor_total_len - filtered_lb_end_indices[i]\n",
        "        current_eval_lens_for_filtered[i] = min(eval_len, max_possible_eval_len)\n",
        "\n",
        "    valid_mask_eval_len = current_eval_lens_for_filtered > 0\n",
        "\n",
        "    final_lookback_start_indices = filtered_lb_start_indices[valid_mask_eval_len]\n",
        "    final_lookback_end_indices = filtered_lb_end_indices[valid_mask_eval_len]\n",
        "    final_current_eval_lens = current_eval_lens_for_filtered[valid_mask_eval_len]\n",
        "    final_original_window_indices_batch = original_window_indices_filtered[valid_mask_eval_len]\n",
        "\n",
        "    actual_num_windows_to_process = len(final_lookback_start_indices)\n",
        "\n",
        "    all_pnl_c_vals = []\n",
        "    all_forecast_c = []\n",
        "    all_actual_c = []\n",
        "    all_pnl_n_vals = []\n",
        "    all_forecast_n = []\n",
        "    all_actual_n = []\n",
        "    processed_window_indices = []\n",
        "\n",
        "    for s in range(actual_num_windows_to_process):\n",
        "        start = final_lookback_start_indices[s]\n",
        "        end = final_lookback_end_indices[s]\n",
        "        lb_slice = asset_returns_tensor[start:end, :]\n",
        "\n",
        "        eval_s = end\n",
        "        current_L = final_current_eval_lens[s].item()\n",
        "        eval_e = eval_s + current_L\n",
        "        ev_slice_actual = asset_returns_tensor[eval_s:eval_e, :]\n",
        "\n",
        "        result = single_window_iteration_processor_refactored(\n",
        "            lookback_asset_returns_item=lb_slice,\n",
        "            eval_asset_returns_item_padded=ev_slice_actual,\n",
        "            current_eval_len_for_window=current_L,\n",
        "            window_idx_batch=final_original_window_indices_batch[s],\n",
        "            initial_n_clusters_config_static=n_clusters_config,\n",
        "            cluster_method_static=cluster_method,\n",
        "            var_order_static=var_order,\n",
        "            sigma_for_weights_static=sigma_intra_cluster,\n",
        "            max_eval_len_static=eval_len,\n",
        "            run_naive_var_comparison_static=run_naive_var_comparison,\n",
        "            num_assets_overall_static=num_assets_overall,\n",
        "            device_static=effective_device\n",
        "        )\n",
        "\n",
        "        pnl_c_val, forecast_c, actual_c, pnl_n_val, forecast_n, actual_n, win_idx = result\n",
        "\n",
        "        all_pnl_c_vals.append(pnl_c_val)\n",
        "        all_forecast_c.append(forecast_c)\n",
        "        all_actual_c.append(actual_c)\n",
        "        all_pnl_n_vals.append(pnl_n_val)\n",
        "        all_forecast_n.append(forecast_n)\n",
        "        all_actual_n.append(actual_n)\n",
        "        processed_window_indices.append(win_idx)\n",
        "\n",
        "    all_pnl_c_vals = torch.stack(all_pnl_c_vals)\n",
        "    all_forecast_c = torch.stack(all_forecast_c)\n",
        "    all_actual_c = torch.stack(all_actual_c)\n",
        "    all_pnl_n_vals = torch.stack(all_pnl_n_vals)\n",
        "    all_forecast_n = torch.stack(all_forecast_n)\n",
        "    all_actual_n = torch.stack(all_actual_n)\n",
        "    processed_window_indices = torch.tensor(processed_window_indices, device=effective_device)\n",
        "\n",
        "    all_window_pnl_cluster_dicts = []\n",
        "    all_window_pnl_naive_dicts = []\n",
        "\n",
        "    for i in range(actual_num_windows_to_process):\n",
        "        win_id = processed_window_indices[i].item()\n",
        "        all_window_pnl_cluster_dicts.append({\n",
        "            'Window_ID': win_id,\n",
        "            'Avg_Window_PNL': all_pnl_c_vals[i].item(),\n",
        "            'VAR_Order': var_order,\n",
        "            'Method': 'Clustered VAR'\n",
        "        })\n",
        "\n",
        "        if run_naive_var_comparison:\n",
        "            all_window_pnl_naive_dicts.append({\n",
        "                'Window_ID': win_id,\n",
        "                'Avg_Window_PNL': all_pnl_n_vals[i].item(),\n",
        "                'VAR_Order': var_order,\n",
        "                'Method': 'Naive VAR'\n",
        "            })\n",
        "\n",
        "    sample_forecast_c, sample_actual_c, sample_win_idx = None, None, -1\n",
        "    if store_sample_forecasts:\n",
        "        sample_idx_in_batch = 0\n",
        "        actual_eval_len_for_sample = final_current_eval_lens[sample_idx_in_batch].item()\n",
        "\n",
        "        sample_forecast_c = all_forecast_c[sample_idx_in_batch, :actual_eval_len_for_sample, :].clone()\n",
        "        sample_actual_c = all_actual_c[sample_idx_in_batch, :actual_eval_len_for_sample, :].clone()\n",
        "        sample_win_idx = processed_window_indices[sample_idx_in_batch].item()\n",
        "\n",
        "    return {\n",
        "        'cluster_avg_pnl_list': all_window_pnl_cluster_dicts,\n",
        "        'naive_avg_pnl_list': all_window_pnl_naive_dicts,\n",
        "        'sample_forecast_cluster': sample_forecast_c,\n",
        "        'sample_actual_cluster': sample_actual_c,\n",
        "        'sample_window_idx_cluster': sample_win_idx,\n",
        "        'var_order_for_sample': var_order\n",
        "    }\n"
      ]
    },
    {
      "cell_type": "code",
      "execution_count": 9,
      "metadata": {},
      "outputs": [
        {
          "name": "stdout",
          "output_type": "stream",
          "text": [
            "Data loaded and cleaned. Sample (first 5 rows/cols):\n",
            "ticker            AA       ABM       ABT       ADI       ADM\n",
            "2000-01-03 -0.013042 -0.009188 -0.007117 -0.036071  0.000000\n",
            "2000-01-04  0.010043  0.012346 -0.012786 -0.044261  0.005277\n",
            "2000-01-05  0.047628 -0.006192  0.011111  0.014493 -0.015915\n",
            "2000-01-06 -0.011713  0.000000  0.032553 -0.027719  0.010695\n",
            "2000-01-07 -0.016118  0.003091  0.028573  0.033654  0.005249\n",
            "Shape of the cleaned data: (5279, 663)\n"
          ]
        },
        {
          "name": "stderr",
          "output_type": "stream",
          "text": [
            "VAR Order Grid Search:   0%|          | 0/3 [00:00<?, ?it/s]"
          ]
        },
        {
          "name": "stdout",
          "output_type": "stream",
          "text": [
            "running k-means on cuda..\n"
          ]
        },
        {
          "name": "stderr",
          "output_type": "stream",
          "text": [
            "[running kmeans]: 8it [00:00, 20.89it/s, center_shift=0.000000, iteration=8, tol=0.000100]\n"
          ]
        },
        {
          "name": "stdout",
          "output_type": "stream",
          "text": [
            "running k-means on cuda..\n"
          ]
        },
        {
          "name": "stderr",
          "output_type": "stream",
          "text": [
            "[running kmeans]: 3it [00:00, 28.36it/s, center_shift=0.000000, iteration=3, tol=0.000100]\n"
          ]
        },
        {
          "name": "stdout",
          "output_type": "stream",
          "text": [
            "running k-means on cuda..\n"
          ]
        },
        {
          "name": "stderr",
          "output_type": "stream",
          "text": [
            "[running kmeans]: 3it [00:00, 30.31it/s, center_shift=0.000000, iteration=3, tol=0.000100]\n"
          ]
        },
        {
          "name": "stdout",
          "output_type": "stream",
          "text": [
            "running k-means on cuda..\n"
          ]
        },
        {
          "name": "stderr",
          "output_type": "stream",
          "text": [
            "[running kmeans]: 11it [00:00, 29.84it/s, center_shift=0.000000, iteration=11, tol=0.000100]\n"
          ]
        },
        {
          "name": "stdout",
          "output_type": "stream",
          "text": [
            "running k-means on cuda..\n"
          ]
        },
        {
          "name": "stderr",
          "output_type": "stream",
          "text": [
            "[running kmeans]: 3it [00:00, 32.35it/s, center_shift=0.000000, iteration=3, tol=0.000100]\n"
          ]
        },
        {
          "name": "stdout",
          "output_type": "stream",
          "text": [
            "running k-means on cuda..\n"
          ]
        },
        {
          "name": "stderr",
          "output_type": "stream",
          "text": [
            "[running kmeans]: 7it [00:00, 37.23it/s, center_shift=0.000000, iteration=7, tol=0.000100]\n"
          ]
        },
        {
          "name": "stdout",
          "output_type": "stream",
          "text": [
            "running k-means on cuda..\n"
          ]
        },
        {
          "name": "stderr",
          "output_type": "stream",
          "text": [
            "[running kmeans]: 3it [00:00, 39.38it/s, center_shift=0.000000, iteration=3, tol=0.000100]\n"
          ]
        },
        {
          "name": "stdout",
          "output_type": "stream",
          "text": [
            "running k-means on cuda..\n"
          ]
        },
        {
          "name": "stderr",
          "output_type": "stream",
          "text": [
            "[running kmeans]: 2it [00:00, 35.87it/s, center_shift=0.000000, iteration=2, tol=0.000100]\n"
          ]
        },
        {
          "name": "stdout",
          "output_type": "stream",
          "text": [
            "running k-means on cuda..\n"
          ]
        },
        {
          "name": "stderr",
          "output_type": "stream",
          "text": [
            "[running kmeans]: 5it [00:00, 32.93it/s, center_shift=0.000000, iteration=5, tol=0.000100]\n"
          ]
        },
        {
          "name": "stdout",
          "output_type": "stream",
          "text": [
            "running k-means on cuda..\n"
          ]
        },
        {
          "name": "stderr",
          "output_type": "stream",
          "text": [
            "[running kmeans]: 6it [00:00, 37.41it/s, center_shift=0.000000, iteration=6, tol=0.000100]\n"
          ]
        },
        {
          "name": "stdout",
          "output_type": "stream",
          "text": [
            "running k-means on cuda..\n"
          ]
        },
        {
          "name": "stderr",
          "output_type": "stream",
          "text": [
            "[running kmeans]: 6it [00:00, 33.13it/s, center_shift=0.000000, iteration=6, tol=0.000100]\n"
          ]
        },
        {
          "name": "stdout",
          "output_type": "stream",
          "text": [
            "running k-means on cuda..\n"
          ]
        },
        {
          "name": "stderr",
          "output_type": "stream",
          "text": [
            "[running kmeans]: 3it [00:00, 36.43it/s, center_shift=0.000000, iteration=3, tol=0.000100]\n"
          ]
        },
        {
          "name": "stdout",
          "output_type": "stream",
          "text": [
            "running k-means on cuda..\n"
          ]
        },
        {
          "name": "stderr",
          "output_type": "stream",
          "text": [
            "[running kmeans]: 4it [00:00, 35.73it/s, center_shift=0.000000, iteration=4, tol=0.000100]\n"
          ]
        },
        {
          "name": "stdout",
          "output_type": "stream",
          "text": [
            "running k-means on cuda..\n"
          ]
        },
        {
          "name": "stderr",
          "output_type": "stream",
          "text": [
            "[running kmeans]: 3it [00:00, 36.13it/s, center_shift=0.000000, iteration=3, tol=0.000100]\n"
          ]
        },
        {
          "name": "stdout",
          "output_type": "stream",
          "text": [
            "running k-means on cuda..\n"
          ]
        },
        {
          "name": "stderr",
          "output_type": "stream",
          "text": [
            "[running kmeans]: 3it [00:00, 29.93it/s, center_shift=0.000000, iteration=3, tol=0.000100]\n"
          ]
        },
        {
          "name": "stdout",
          "output_type": "stream",
          "text": [
            "running k-means on cuda..\n"
          ]
        },
        {
          "name": "stderr",
          "output_type": "stream",
          "text": [
            "[running kmeans]: 7it [00:00, 32.46it/s, center_shift=0.000000, iteration=7, tol=0.000100]\n"
          ]
        },
        {
          "name": "stdout",
          "output_type": "stream",
          "text": [
            "running k-means on cuda..\n"
          ]
        },
        {
          "name": "stderr",
          "output_type": "stream",
          "text": [
            "[running kmeans]: 5it [00:00, 32.07it/s, center_shift=0.000000, iteration=5, tol=0.000100]\n"
          ]
        },
        {
          "name": "stdout",
          "output_type": "stream",
          "text": [
            "running k-means on cuda..\n"
          ]
        },
        {
          "name": "stderr",
          "output_type": "stream",
          "text": [
            "[running kmeans]: 4it [00:00, 36.28it/s, center_shift=0.000000, iteration=4, tol=0.000100]\n"
          ]
        },
        {
          "name": "stdout",
          "output_type": "stream",
          "text": [
            "running k-means on cuda..\n"
          ]
        },
        {
          "name": "stderr",
          "output_type": "stream",
          "text": [
            "[running kmeans]: 3it [00:00, 37.26it/s, center_shift=0.000000, iteration=3, tol=0.000100]\n"
          ]
        },
        {
          "name": "stdout",
          "output_type": "stream",
          "text": [
            "running k-means on cuda..\n"
          ]
        },
        {
          "name": "stderr",
          "output_type": "stream",
          "text": [
            "[running kmeans]: 3it [00:00, 27.13it/s, center_shift=0.000000, iteration=3, tol=0.000100]\n"
          ]
        },
        {
          "name": "stdout",
          "output_type": "stream",
          "text": [
            "running k-means on cuda..\n"
          ]
        },
        {
          "name": "stderr",
          "output_type": "stream",
          "text": [
            "[running kmeans]: 3it [00:00, 30.06it/s, center_shift=0.000000, iteration=3, tol=0.000100]\n"
          ]
        },
        {
          "name": "stdout",
          "output_type": "stream",
          "text": [
            "running k-means on cuda..\n"
          ]
        },
        {
          "name": "stderr",
          "output_type": "stream",
          "text": [
            "[running kmeans]: 9it [00:00, 36.86it/s, center_shift=0.000000, iteration=9, tol=0.000100]\n"
          ]
        },
        {
          "name": "stdout",
          "output_type": "stream",
          "text": [
            "running k-means on cuda..\n"
          ]
        },
        {
          "name": "stderr",
          "output_type": "stream",
          "text": [
            "[running kmeans]: 2it [00:00, 36.66it/s, center_shift=0.000000, iteration=2, tol=0.000100]\n"
          ]
        },
        {
          "name": "stdout",
          "output_type": "stream",
          "text": [
            "running k-means on cuda..\n"
          ]
        },
        {
          "name": "stderr",
          "output_type": "stream",
          "text": [
            "[running kmeans]: 12it [00:00, 36.14it/s, center_shift=0.000000, iteration=12, tol=0.000100]\n"
          ]
        },
        {
          "name": "stdout",
          "output_type": "stream",
          "text": [
            "running k-means on cuda..\n"
          ]
        },
        {
          "name": "stderr",
          "output_type": "stream",
          "text": [
            "[running kmeans]: 2it [00:00, 26.27it/s, center_shift=0.000000, iteration=2, tol=0.000100]\n",
            "VAR Order Grid Search:  33%|███▎      | 1/3 [00:05<00:11,  5.70s/it]"
          ]
        },
        {
          "name": "stdout",
          "output_type": "stream",
          "text": [
            "running k-means on cuda..\n"
          ]
        },
        {
          "name": "stderr",
          "output_type": "stream",
          "text": [
            "[running kmeans]: 9it [00:00, 36.02it/s, center_shift=0.000000, iteration=9, tol=0.000100]\n"
          ]
        },
        {
          "name": "stdout",
          "output_type": "stream",
          "text": [
            "running k-means on cuda..\n"
          ]
        },
        {
          "name": "stderr",
          "output_type": "stream",
          "text": [
            "[running kmeans]: 3it [00:00, 34.22it/s, center_shift=0.000000, iteration=3, tol=0.000100]\n"
          ]
        },
        {
          "name": "stdout",
          "output_type": "stream",
          "text": [
            "running k-means on cuda..\n"
          ]
        },
        {
          "name": "stderr",
          "output_type": "stream",
          "text": [
            "[running kmeans]: 5it [00:00, 32.59it/s, center_shift=0.000000, iteration=5, tol=0.000100]\n"
          ]
        },
        {
          "name": "stdout",
          "output_type": "stream",
          "text": [
            "running k-means on cuda..\n"
          ]
        },
        {
          "name": "stderr",
          "output_type": "stream",
          "text": [
            "[running kmeans]: 4it [00:00, 35.65it/s, center_shift=0.000000, iteration=4, tol=0.000100]\n"
          ]
        },
        {
          "name": "stdout",
          "output_type": "stream",
          "text": [
            "running k-means on cuda..\n"
          ]
        },
        {
          "name": "stderr",
          "output_type": "stream",
          "text": [
            "[running kmeans]: 5it [00:00, 35.55it/s, center_shift=0.000000, iteration=5, tol=0.000100]\n"
          ]
        },
        {
          "name": "stdout",
          "output_type": "stream",
          "text": [
            "running k-means on cuda..\n"
          ]
        },
        {
          "name": "stderr",
          "output_type": "stream",
          "text": [
            "[running kmeans]: 5it [00:00, 30.20it/s, center_shift=0.000000, iteration=5, tol=0.000100]\n"
          ]
        },
        {
          "name": "stdout",
          "output_type": "stream",
          "text": [
            "running k-means on cuda..\n"
          ]
        },
        {
          "name": "stderr",
          "output_type": "stream",
          "text": [
            "[running kmeans]: 4it [00:00, 34.69it/s, center_shift=0.000000, iteration=4, tol=0.000100]"
          ]
        },
        {
          "name": "stdout",
          "output_type": "stream",
          "text": [
            "running k-means on cuda..\n"
          ]
        },
        {
          "name": "stderr",
          "output_type": "stream",
          "text": [
            "\n",
            "[running kmeans]: 4it [00:00, 34.30it/s, center_shift=0.000000, iteration=4, tol=0.000100]\n"
          ]
        },
        {
          "name": "stdout",
          "output_type": "stream",
          "text": [
            "running k-means on cuda..\n"
          ]
        },
        {
          "name": "stderr",
          "output_type": "stream",
          "text": [
            "[running kmeans]: 4it [00:00, 33.32it/s, center_shift=0.000000, iteration=4, tol=0.000100]\n"
          ]
        },
        {
          "name": "stdout",
          "output_type": "stream",
          "text": [
            "running k-means on cuda..\n"
          ]
        },
        {
          "name": "stderr",
          "output_type": "stream",
          "text": [
            "[running kmeans]: 4it [00:00, 33.40it/s, center_shift=0.000000, iteration=4, tol=0.000100]"
          ]
        },
        {
          "name": "stdout",
          "output_type": "stream",
          "text": [
            "running k-means on cuda..\n"
          ]
        },
        {
          "name": "stderr",
          "output_type": "stream",
          "text": [
            "\n",
            "[running kmeans]: 4it [00:00, 34.17it/s, center_shift=0.000000, iteration=4, tol=0.000100]\n"
          ]
        },
        {
          "name": "stdout",
          "output_type": "stream",
          "text": [
            "running k-means on cuda..\n"
          ]
        },
        {
          "name": "stderr",
          "output_type": "stream",
          "text": [
            "[running kmeans]: 6it [00:00, 27.03it/s, center_shift=0.000000, iteration=6, tol=0.000100]\n"
          ]
        },
        {
          "name": "stdout",
          "output_type": "stream",
          "text": [
            "running k-means on cuda..\n"
          ]
        },
        {
          "name": "stderr",
          "output_type": "stream",
          "text": [
            "[running kmeans]: 3it [00:00, 34.96it/s, center_shift=0.000000, iteration=3, tol=0.000100]\n"
          ]
        },
        {
          "name": "stdout",
          "output_type": "stream",
          "text": [
            "running k-means on cuda..\n"
          ]
        },
        {
          "name": "stderr",
          "output_type": "stream",
          "text": [
            "[running kmeans]: 3it [00:00, 36.83it/s, center_shift=0.000000, iteration=3, tol=0.000100]\n"
          ]
        },
        {
          "name": "stdout",
          "output_type": "stream",
          "text": [
            "running k-means on cuda..\n"
          ]
        },
        {
          "name": "stderr",
          "output_type": "stream",
          "text": [
            "[running kmeans]: 3it [00:00, 36.43it/s, center_shift=0.000000, iteration=3, tol=0.000100]\n"
          ]
        },
        {
          "name": "stdout",
          "output_type": "stream",
          "text": [
            "running k-means on cuda..\n"
          ]
        },
        {
          "name": "stderr",
          "output_type": "stream",
          "text": [
            "[running kmeans]: 4it [00:00, 32.95it/s, center_shift=0.000000, iteration=4, tol=0.000100]\n"
          ]
        },
        {
          "name": "stdout",
          "output_type": "stream",
          "text": [
            "running k-means on cuda..\n"
          ]
        },
        {
          "name": "stderr",
          "output_type": "stream",
          "text": [
            "[running kmeans]: 2it [00:00, 32.69it/s, center_shift=0.000000, iteration=2, tol=0.000100]\n"
          ]
        },
        {
          "name": "stdout",
          "output_type": "stream",
          "text": [
            "running k-means on cuda..\n"
          ]
        },
        {
          "name": "stderr",
          "output_type": "stream",
          "text": [
            "[running kmeans]: 3it [00:00, 34.27it/s, center_shift=0.000000, iteration=3, tol=0.000100]\n"
          ]
        },
        {
          "name": "stdout",
          "output_type": "stream",
          "text": [
            "running k-means on cuda..\n"
          ]
        },
        {
          "name": "stderr",
          "output_type": "stream",
          "text": [
            "[running kmeans]: 2it [00:00, 25.60it/s, center_shift=0.000000, iteration=2, tol=0.000100]\n"
          ]
        },
        {
          "name": "stdout",
          "output_type": "stream",
          "text": [
            "running k-means on cuda..\n"
          ]
        },
        {
          "name": "stderr",
          "output_type": "stream",
          "text": [
            "[running kmeans]: 3it [00:00, 32.62it/s, center_shift=0.000000, iteration=3, tol=0.000100]\n"
          ]
        },
        {
          "name": "stdout",
          "output_type": "stream",
          "text": [
            "running k-means on cuda..\n"
          ]
        },
        {
          "name": "stderr",
          "output_type": "stream",
          "text": [
            "[running kmeans]: 3it [00:00, 34.00it/s, center_shift=0.000000, iteration=3, tol=0.000100]\n"
          ]
        },
        {
          "name": "stdout",
          "output_type": "stream",
          "text": [
            "running k-means on cuda..\n"
          ]
        },
        {
          "name": "stderr",
          "output_type": "stream",
          "text": [
            "[running kmeans]: 3it [00:00, 38.32it/s, center_shift=0.000000, iteration=3, tol=0.000100]\n"
          ]
        },
        {
          "name": "stdout",
          "output_type": "stream",
          "text": [
            "running k-means on cuda..\n"
          ]
        },
        {
          "name": "stderr",
          "output_type": "stream",
          "text": [
            "[running kmeans]: 4it [00:00, 35.06it/s, center_shift=0.000000, iteration=4, tol=0.000100]"
          ]
        },
        {
          "name": "stdout",
          "output_type": "stream",
          "text": [
            "running k-means on cuda..\n"
          ]
        },
        {
          "name": "stderr",
          "output_type": "stream",
          "text": [
            "\n",
            "[running kmeans]: 6it [00:00, 36.25it/s, center_shift=0.000000, iteration=6, tol=0.000100]\n"
          ]
        },
        {
          "name": "stdout",
          "output_type": "stream",
          "text": [
            "running k-means on cuda..\n"
          ]
        },
        {
          "name": "stderr",
          "output_type": "stream",
          "text": [
            "[running kmeans]: 4it [00:00, 32.79it/s, center_shift=0.000000, iteration=4, tol=0.000100]\n",
            "VAR Order Grid Search:  67%|██████▋   | 2/3 [00:10<00:05,  5.18s/it]"
          ]
        },
        {
          "name": "stdout",
          "output_type": "stream",
          "text": [
            "running k-means on cuda..\n"
          ]
        },
        {
          "name": "stderr",
          "output_type": "stream",
          "text": [
            "[running kmeans]: 12it [00:00, 34.87it/s, center_shift=0.000000, iteration=12, tol=0.000100]\n"
          ]
        },
        {
          "name": "stdout",
          "output_type": "stream",
          "text": [
            "running k-means on cuda..\n"
          ]
        },
        {
          "name": "stderr",
          "output_type": "stream",
          "text": [
            "[running kmeans]: 7it [00:00, 35.56it/s, center_shift=0.000000, iteration=7, tol=0.000100]\n"
          ]
        },
        {
          "name": "stdout",
          "output_type": "stream",
          "text": [
            "running k-means on cuda..\n"
          ]
        },
        {
          "name": "stderr",
          "output_type": "stream",
          "text": [
            "[running kmeans]: 6it [00:00, 34.86it/s, center_shift=0.000000, iteration=6, tol=0.000100]\n"
          ]
        },
        {
          "name": "stdout",
          "output_type": "stream",
          "text": [
            "running k-means on cuda..\n"
          ]
        },
        {
          "name": "stderr",
          "output_type": "stream",
          "text": [
            "[running kmeans]: 6it [00:00, 27.99it/s, center_shift=0.000000, iteration=6, tol=0.000100]\n"
          ]
        },
        {
          "name": "stdout",
          "output_type": "stream",
          "text": [
            "running k-means on cuda..\n"
          ]
        },
        {
          "name": "stderr",
          "output_type": "stream",
          "text": [
            "[running kmeans]: 5it [00:00, 33.07it/s, center_shift=0.000000, iteration=5, tol=0.000100]\n"
          ]
        },
        {
          "name": "stdout",
          "output_type": "stream",
          "text": [
            "running k-means on cuda..\n"
          ]
        },
        {
          "name": "stderr",
          "output_type": "stream",
          "text": [
            "[running kmeans]: 10it [00:00, 30.97it/s, center_shift=0.000000, iteration=10, tol=0.000100]\n"
          ]
        },
        {
          "name": "stdout",
          "output_type": "stream",
          "text": [
            "running k-means on cuda..\n"
          ]
        },
        {
          "name": "stderr",
          "output_type": "stream",
          "text": [
            "[running kmeans]: 5it [00:00, 36.36it/s, center_shift=0.000000, iteration=5, tol=0.000100]\n"
          ]
        },
        {
          "name": "stdout",
          "output_type": "stream",
          "text": [
            "running k-means on cuda..\n"
          ]
        },
        {
          "name": "stderr",
          "output_type": "stream",
          "text": [
            "[running kmeans]: 3it [00:00, 23.07it/s, center_shift=0.000000, iteration=3, tol=0.000100]\n"
          ]
        },
        {
          "name": "stdout",
          "output_type": "stream",
          "text": [
            "running k-means on cuda..\n"
          ]
        },
        {
          "name": "stderr",
          "output_type": "stream",
          "text": [
            "[running kmeans]: 3it [00:00, 33.40it/s, center_shift=0.000000, iteration=3, tol=0.000100]\n"
          ]
        },
        {
          "name": "stdout",
          "output_type": "stream",
          "text": [
            "running k-means on cuda..\n"
          ]
        },
        {
          "name": "stderr",
          "output_type": "stream",
          "text": [
            "[running kmeans]: 5it [00:00, 31.65it/s, center_shift=0.000000, iteration=5, tol=0.000100]\n"
          ]
        },
        {
          "name": "stdout",
          "output_type": "stream",
          "text": [
            "running k-means on cuda..\n"
          ]
        },
        {
          "name": "stderr",
          "output_type": "stream",
          "text": [
            "[running kmeans]: 2it [00:00, 33.79it/s, center_shift=0.000000, iteration=2, tol=0.000100]\n"
          ]
        },
        {
          "name": "stdout",
          "output_type": "stream",
          "text": [
            "running k-means on cuda..\n"
          ]
        },
        {
          "name": "stderr",
          "output_type": "stream",
          "text": [
            "[running kmeans]: 4it [00:00, 34.18it/s, center_shift=0.000000, iteration=4, tol=0.000100]\n"
          ]
        },
        {
          "name": "stdout",
          "output_type": "stream",
          "text": [
            "running k-means on cuda..\n"
          ]
        },
        {
          "name": "stderr",
          "output_type": "stream",
          "text": [
            "[running kmeans]: 4it [00:00, 31.83it/s, center_shift=0.000000, iteration=4, tol=0.000100]\n"
          ]
        },
        {
          "name": "stdout",
          "output_type": "stream",
          "text": [
            "running k-means on cuda..\n"
          ]
        },
        {
          "name": "stderr",
          "output_type": "stream",
          "text": [
            "[running kmeans]: 4it [00:00, 28.48it/s, center_shift=0.000000, iteration=4, tol=0.000100]\n"
          ]
        },
        {
          "name": "stdout",
          "output_type": "stream",
          "text": [
            "running k-means on cuda..\n"
          ]
        },
        {
          "name": "stderr",
          "output_type": "stream",
          "text": [
            "[running kmeans]: 8it [00:00, 35.05it/s, center_shift=0.000000, iteration=8, tol=0.000100]\n"
          ]
        },
        {
          "name": "stdout",
          "output_type": "stream",
          "text": [
            "running k-means on cuda..\n"
          ]
        },
        {
          "name": "stderr",
          "output_type": "stream",
          "text": [
            "[running kmeans]: 4it [00:00, 29.17it/s, center_shift=0.000000, iteration=4, tol=0.000100]\n"
          ]
        },
        {
          "name": "stdout",
          "output_type": "stream",
          "text": [
            "running k-means on cuda..\n"
          ]
        },
        {
          "name": "stderr",
          "output_type": "stream",
          "text": [
            "[running kmeans]: 3it [00:00, 33.25it/s, center_shift=0.000000, iteration=3, tol=0.000100]\n"
          ]
        },
        {
          "name": "stdout",
          "output_type": "stream",
          "text": [
            "running k-means on cuda..\n"
          ]
        },
        {
          "name": "stderr",
          "output_type": "stream",
          "text": [
            "[running kmeans]: 4it [00:00, 30.15it/s, center_shift=0.000000, iteration=4, tol=0.000100]\n"
          ]
        },
        {
          "name": "stdout",
          "output_type": "stream",
          "text": [
            "running k-means on cuda..\n"
          ]
        },
        {
          "name": "stderr",
          "output_type": "stream",
          "text": [
            "[running kmeans]: 3it [00:00, 34.36it/s, center_shift=0.000000, iteration=3, tol=0.000100]\n"
          ]
        },
        {
          "name": "stdout",
          "output_type": "stream",
          "text": [
            "running k-means on cuda..\n"
          ]
        },
        {
          "name": "stderr",
          "output_type": "stream",
          "text": [
            "[running kmeans]: 3it [00:00, 28.98it/s, center_shift=0.000000, iteration=3, tol=0.000100]\n"
          ]
        },
        {
          "name": "stdout",
          "output_type": "stream",
          "text": [
            "running k-means on cuda..\n"
          ]
        },
        {
          "name": "stderr",
          "output_type": "stream",
          "text": [
            "[running kmeans]: 4it [00:00, 30.53it/s, center_shift=0.000000, iteration=4, tol=0.000100]\n"
          ]
        },
        {
          "name": "stdout",
          "output_type": "stream",
          "text": [
            "running k-means on cuda..\n"
          ]
        },
        {
          "name": "stderr",
          "output_type": "stream",
          "text": [
            "[running kmeans]: 6it [00:00, 30.28it/s, center_shift=0.000000, iteration=6, tol=0.000100]\n"
          ]
        },
        {
          "name": "stdout",
          "output_type": "stream",
          "text": [
            "running k-means on cuda..\n"
          ]
        },
        {
          "name": "stderr",
          "output_type": "stream",
          "text": [
            "[running kmeans]: 4it [00:00, 31.87it/s, center_shift=0.000000, iteration=4, tol=0.000100]\n"
          ]
        },
        {
          "name": "stdout",
          "output_type": "stream",
          "text": [
            "running k-means on cuda..\n"
          ]
        },
        {
          "name": "stderr",
          "output_type": "stream",
          "text": [
            "[running kmeans]: 3it [00:00, 31.40it/s, center_shift=0.000000, iteration=3, tol=0.000100]\n"
          ]
        },
        {
          "name": "stdout",
          "output_type": "stream",
          "text": [
            "running k-means on cuda..\n"
          ]
        },
        {
          "name": "stderr",
          "output_type": "stream",
          "text": [
            "[running kmeans]: 3it [00:00, 35.06it/s, center_shift=0.000000, iteration=3, tol=0.000100]\n",
            "VAR Order Grid Search: 100%|██████████| 3/3 [00:16<00:00,  5.49s/it]"
          ]
        },
        {
          "name": "stdout",
          "output_type": "stream",
          "text": [
            "\n",
            "--- Grid Search Completed ---\n"
          ]
        },
        {
          "name": "stderr",
          "output_type": "stream",
          "text": [
            "\n"
          ]
        }
      ],
      "source": [
        "\"\"\"## 1. Load and Clean Data\"\"\"\n",
        "\n",
        "# file_path = r'OPCL_20000103_20201231.csv' # Path to your data file\n",
        "file_path = r'..\\Data\\OPCL_20000103_20201231.csv'\n",
        "df = pd.read_csv(file_path)\n",
        "\n",
        "device = 'cuda:0'\n",
        "\n",
        "# Removed 'if not df.empty:' checks. Code will error if df is empty and operations are called.\n",
        "df.set_index('ticker', inplace=True)\n",
        "df.columns = pd.to_datetime(df.columns.str.lstrip('X'), format='%Y%m%d').strftime('%Y-%m-%d')\n",
        "df_cleaned = df.dropna().transpose()\n",
        "df_cleaned.index = pd.to_datetime(df_cleaned.index)\n",
        "print(\"Data loaded and cleaned. Sample (first 5 rows/cols):\")\n",
        "# This print will error if df_cleaned is too small or empty.\n",
        "print(df_cleaned.iloc[0:5,0:5])\n",
        "\n",
        "print(f\"Shape of the cleaned data: {df_cleaned.shape}\")\n",
        "\n",
        "numpy_array = df_cleaned.astype(float).values\n",
        "historical_data_tensor = torch.from_numpy(numpy_array).float()\n",
        "historical_data_tensor = historical_data_tensor.to(device)\n",
        "# historical_data_tensor = torch.log1p(historical_data_tensor)\n",
        "\"\"\"## 2. VAR Lag Grid Search and Evaluation\"\"\"\n",
        "\n",
        "##################################################################### PARAMETERS #####################################################################\n",
        "initial_lookback_len = 252\n",
        "evaluation_len = 5\n",
        "num_clusters_config = 20\n",
        "cluster_method_config = 'spectral_clustering'\n",
        "sigma_config = 0.5\n",
        "num_windows_config = 25\n",
        "var_orders_to_test_config = range(5,11,2)\n",
        "####################################################################################################################################################\n",
        "\n",
        "all_lags_combined_pnl_data = []\n",
        "final_sample_details = {}\n",
        "\n",
        "# Removed dummy data definition block for testing as it's a form of edge case / setup handling.\n",
        "# The script now assumes 'historical_data_tensor' and 'device' are correctly defined.\n",
        "# if 'historical_data_tensor' not in globals() or 'device' not in globals():\n",
        "#    ...\n",
        "\n",
        "# Removed 'if historical_data_tensor.numel() > 0:'\n",
        "for var_order_val in tqdm(var_orders_to_test_config, desc=\"VAR Order Grid Search\"):\n",
        "    results = run_sliding_window_var_evaluation_vmap(\n",
        "        asset_returns_tensor=historical_data_tensor, # Will error if not defined or empty and used inappropriately by functions\n",
        "        initial_lookback_len=initial_lookback_len,\n",
        "        eval_len=evaluation_len,\n",
        "        n_clusters_config=num_clusters_config,\n",
        "        cluster_method=cluster_method_config,\n",
        "        var_order=var_order_val,\n",
        "        sigma_intra_cluster=sigma_config,\n",
        "        num_windows=num_windows_config,\n",
        "        device=device,\n",
        "        store_sample_forecasts=(var_order_val == var_orders_to_test_config[-1]),\n",
        "        run_naive_var_comparison=False\n",
        "    )\n",
        "    all_lags_combined_pnl_data.extend(results['cluster_avg_pnl_list'])\n",
        "    all_lags_combined_pnl_data.extend(results['naive_avg_pnl_list'])\n",
        "\n",
        "    # Removed 'and results.get('sample_forecast_cluster') is not None'\n",
        "    if (var_order_val == var_orders_to_test_config[-1]):\n",
        "        final_sample_details = results # Will store even if sample is None\n",
        "\n",
        "print(\"\\n--- Grid Search Completed ---\")"
      ]
    },
    {
      "cell_type": "code",
      "execution_count": 10,
      "metadata": {},
      "outputs": [
        {
          "name": "stdout",
          "output_type": "stream",
          "text": [
            "\n",
            "Average Window PNL per Lag Order and Method:\n",
            "VAR_Order  | Clustered VAR  \n",
            "----------------------------\n",
            "5          | 0.000929\n",
            "7          | 0.001649\n",
            "9          | -0.004080\n"
          ]
        },
        {
          "data": {
            "image/png": "[encoded data removed]",
            "text/plain": [
              "<Figure size 1400x800 with 1 Axes>"
            ]
          },
          "metadata": {},
          "output_type": "display_data"
        },
        {
          "name": "stdout",
          "output_type": "stream",
          "text": [
            "\n",
            "--- Plotting Sample: Window 1, Clustered VAR Lag 9 ---\n"
          ]
        },
        {
          "data": {
            "image/png": "[encoded data removed]",
            "text/plain": [
              "<Figure size 1400x700 with 1 Axes>"
            ]
          },
          "metadata": {},
          "output_type": "display_data"
        },
        {
          "data": {
            "image/png": "[encoded data removed]",
            "text/plain": [
              "<Figure size 1400x700 with 1 Axes>"
            ]
          },
          "metadata": {},
          "output_type": "display_data"
        },
        {
          "data": {
            "image/png": "[encoded data removed]",
            "text/plain": [
              "<Figure size 1400x700 with 1 Axes>"
            ]
          },
          "metadata": {},
          "output_type": "display_data"
        }
      ],
      "source": [
        "# Removed 'if all_lags_combined_pnl_data:'\n",
        "agg_data = {}\n",
        "methods_seen = set()\n",
        "for record in all_lags_combined_pnl_data: # Will error if all_lags_combined_pnl_data is empty but accessed.\n",
        "    methods_seen.add(record['Method'])\n",
        "    key = (record['VAR_Order'], record['Method'])\n",
        "    agg_data.setdefault(key, []).append(record['Avg_Window_PNL'])\n",
        "\n",
        "sorted_methods = sorted(list(methods_seen))\n",
        "# Removed 'if not sorted_methods:'\n",
        "header = f\"{'VAR_Order':<10} | \" + \" | \".join([f\"{m:<15}\" for m in sorted_methods])\n",
        "print(\"\\nAverage Window PNL per Lag Order and Method:\")\n",
        "print(header)\n",
        "print(\"-\" * len(header))\n",
        "\n",
        "for var_order in sorted(list(set(r['VAR_Order'] for r in all_lags_combined_pnl_data))):\n",
        "    row_str = f\"{var_order:<10} | \"\n",
        "    for method in sorted_methods:\n",
        "        pnl_list = agg_data.get((var_order, method), []) # Keep .get for safety or it could KeyError\n",
        "        # Removed 'if pnl_list:' for calculating avg_pnl. Division by zero if len is 0.\n",
        "        avg_pnl = sum(pnl_list) / len(pnl_list) if pnl_list else float('nan') # Retained minimal check to avoid div by zero for print\n",
        "        row_str += f\"{avg_pnl:<15.6f} | \"\n",
        "    print(row_str.strip().rsplit('|', 1)[0].strip())\n",
        "\n",
        "\n",
        "# 3. Visualization\n",
        "# Removed 'if all_lags_combined_pnl_data:'\n",
        "# Removed 'try-except' block for plotting\n",
        "# Filter for valid numeric PNLs for plotting to prevent seaborn/matplotlib errors. This is a practical necessity for plotting.\n",
        "plot_data_list = [d for d in all_lags_combined_pnl_data if isinstance(d.get('Avg_Window_PNL'), (int, float)) and not np.isnan(d.get('Avg_Window_PNL'))]\n",
        "\n",
        "# Removed 'if plot_data_list:'\n",
        "plot_df_data = {\n",
        "    'VAR_Order': [d['VAR_Order'] for d in plot_data_list],\n",
        "    'Avg_Window_PNL': [d['Avg_Window_PNL'] for d in plot_data_list],\n",
        "    'Method': [d['Method'] for d in plot_data_list]\n",
        "}\n",
        "plt.figure(figsize=(14, 8))\n",
        "sns.boxplot(x='VAR_Order', y='Avg_Window_PNL', hue='Method', data=plot_df_data) # Will error if plot_df_data is empty/malformed\n",
        "plt.title('Distribution of Avg Window PNL by VAR Lag & Method (PyTorch with vmap)')\n",
        "plt.xlabel('VAR Lag Order'); plt.ylabel('Avg Window PNL')\n",
        "plt.legend(title='Forecast Method'); plt.grid(True, axis='y', alpha=0.7)\n",
        "plt.tight_layout(); plt.show()\n",
        "\n",
        "\n",
        "# Removed 'if final_sample_details and final_sample_details.get('sample_forecast_cluster') is not None:'\n",
        "# Direct access, will error if keys don't exist or values are None and methods are called.\n",
        "fc = final_sample_details['sample_forecast_cluster'].cpu().numpy()\n",
        "ac = final_sample_details['sample_actual_cluster'].cpu().numpy()\n",
        "win_idx = final_sample_details['sample_window_idx_cluster']\n",
        "var_ord_sample = final_sample_details['var_order_for_sample']\n",
        "\n",
        "print(f\"\\n--- Plotting Sample: Window {win_idx + 1 if win_idx != -1 else 'N/A'}, Clustered VAR Lag {var_ord_sample} ---\")\n",
        "num_series_to_plot = min(3, fc.shape[1]) # fc.shape[1] will error if fc is None\n",
        "# Removed 'if num_series_to_plot == 0:'\n",
        "\n",
        "for i in range(num_series_to_plot):\n",
        "    plt.figure(figsize=(14, 7))\n",
        "    # Removed data/length validation before plotting. Plotting functions might error.\n",
        "    sns.lineplot(x=range(len(ac[:, i])), y=ac[:, i], label=f'Actual Cluster {i+1}', marker='o')\n",
        "    sns.lineplot(x=range(len(fc[:, i])), y=fc[:, i], label=f'Forecast Cluster {i+1}', marker='x', linestyle='--')\n",
        "    plt.title(f'Prediction vs Actual for Cluster {i+1} (Win {win_idx+1 if win_idx != -1 else \"N/A\"}, VAR {var_ord_sample}, PyTorch with vmap)')\n",
        "    plt.xlabel('Forecast Step'); plt.ylabel('Cluster Return')\n",
        "    plt.legend(); plt.grid(True); plt.tight_layout(); plt.show()"
      ]
    }
  ],
  "metadata": {
    "accelerator": "GPU",
    "colab": {
      "gpuType": "T4",
      "provenance": []
    },
    "kernelspec": {
      "display_name": "Python 3",
      "name": "python3"
    },
    "language_info": {
      "codemirror_mode": {
        "name": "ipython",
        "version": 3
      },
      "file_extension": ".py",
      "mimetype": "text/x-python",
      "name": "python",
      "nbconvert_exporter": "python",
      "pygments_lexer": "ipython3",
      "version": "3.11.4"
    }
  },
  "nbformat": 4,
  "nbformat_minor": 0
}
