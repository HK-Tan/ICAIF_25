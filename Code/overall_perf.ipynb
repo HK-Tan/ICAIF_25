{
 "cells": [
  {
   "cell_type": "code",
   "execution_count": 9,
   "metadata": {},
   "outputs": [
    {
     "name": "stdout",
     "output_type": "stream",
     "text": [
      "There are no NaN values in the dataframe\n"
     ]
    }
   ],
   "source": [
    "import process \n",
    "import pandas as pd\n",
    "import numpy as np\n",
    "\n",
    "\n",
    "# Nail path : '/Users/khelifanail/Documents/GitHub/Portfolio_clustering_project/Data/DATA_Statapp.csv'\n",
    "# Jerome path : 'C:\\Users\\33640\\OneDrive\\Documents\\GitHub\\Portfolio_clustering_project\\Data\\DATA_Statapp.csv'\n",
    "# Mohamed path : '/Users/khelifanail/Documents/GitHub/Portfolio_clustering_project/Data/DATA_Statapp.csv'\n",
    "df = pd.read_csv('/Users/khelifanail/Documents/GitHub/Portfolio_clustering_project/Data/DATA_Statapp.csv')\n",
    "\n",
    "# Apply conversion function to 'open' and 'close' columns\n",
    "df['open'] = df['open'].apply(process.safe_literal_eval)\n",
    "df['close'] = df['close'].apply(process.safe_literal_eval)\n",
    "\n",
    "# Calculate returns for each line\n",
    "df['return'] = df.apply(lambda row: [(close - open) / open for open, close in zip(row['open'], row['close'])], axis=1)\n",
    "\n",
    "new_df = df[['ticker', 'return']] # create a new data frame with the column ticker and return \n",
    "\n",
    "# Créons le DataFrame à partir des listes dans 'return'\n",
    "# On suppose ici que 'new_df' est déjà défini et contient la colonne 'return'\n",
    "\n",
    "# Convertir chaque liste dans la colonne 'return' en plusieurs colonnes dans le nouveau DataFrame\n",
    "returns_df = pd.DataFrame(new_df['return'].tolist())\n",
    "\n",
    "# Ajouter la colonne 'ticker' du 'new_df' au début de 'returns_df'\n",
    "returns_df.insert(0, 'ticker', new_df['ticker'])\n",
    "\n",
    "# Renommer les colonnes pour refléter qu'elles sont des rendements\n",
    "returns_df.columns = ['ticker'] + [f'return_{i}' for i in range(len(returns_df.columns) - 1)]\n",
    "\n",
    "df_cleaned = process.remove_rows_with_nan(returns_df)\n",
    "df_cleaned.reset_index(drop=True, inplace=True)\n",
    "\n",
    "process.check_nan_inf(df_cleaned)\n",
    "\n",
    "df_cleaned.set_index('ticker', inplace=True) ## ces deux lignes sont fondamentales, ne pas les retirer !!\n",
    "df.set_index('ticker', inplace=True)"
   ]
  },
  {
   "cell_type": "code",
   "execution_count": 10,
   "metadata": {},
   "outputs": [
    {
     "name": "stdout",
     "output_type": "stream",
     "text": [
      "*\n",
      "1.0104862196460573\n",
      "**\n",
      "1.0067285942814654\n"
     ]
    },
    {
     "ename": "OptimizationError",
     "evalue": "('Please check your objectives/constraints or use a different solver.', 'Solver status: unbounded')",
     "output_type": "error",
     "traceback": [
      "\u001b[0;31m---------------------------------------------------------------------------\u001b[0m",
      "\u001b[0;31mOptimizationError\u001b[0m                         Traceback (most recent call last)",
      "\u001b[1;32m/Users/khelifanail/Documents/GitHub/Portfolio_clustering_project/Code/overall_perf.ipynb Cell 2\u001b[0m line \u001b[0;36m1\n\u001b[1;32m     <a href='vscode-notebook-cell:/Users/khelifanail/Documents/GitHub/Portfolio_clustering_project/Code/overall_perf.ipynb#W1sZmlsZQ%3D%3D?line=12'>13</a>\u001b[0m portfolio_value\u001b[39m=\u001b[39m[\u001b[39m1\u001b[39m] \u001b[39m#we start with a value of 1, the list contain : the porfolio value at the start of each evaluation period\u001b[39;00m\n\u001b[1;32m     <a href='vscode-notebook-cell:/Users/khelifanail/Documents/GitHub/Portfolio_clustering_project/Code/overall_perf.ipynb#W1sZmlsZQ%3D%3D?line=14'>15</a>\u001b[0m \u001b[39mfor\u001b[39;00m i \u001b[39min\u001b[39;00m \u001b[39mrange\u001b[39m(\u001b[39m1\u001b[39m, \u001b[39m21\u001b[39m):\n\u001b[0;32m---> <a href='vscode-notebook-cell:/Users/khelifanail/Documents/GitHub/Portfolio_clustering_project/Code/overall_perf.ipynb#W1sZmlsZQ%3D%3D?line=16'>17</a>\u001b[0m     consolidated_W \u001b[39m=\u001b[39m process\u001b[39m.\u001b[39;49mconsolidated_W(number_of_repetitions\u001b[39m=\u001b[39;49mnumber_of_repetition, lookback_window\u001b[39m=\u001b[39;49mlookback_window, df_cleaned\u001b[39m=\u001b[39;49mdf_cleaned, number_of_clusters\u001b[39m=\u001b[39;49mnumber_of_clusters, sigma\u001b[39m=\u001b[39;49msigma, df\u001b[39m=\u001b[39;49mdf)\n\u001b[1;32m     <a href='vscode-notebook-cell:/Users/khelifanail/Documents/GitHub/Portfolio_clustering_project/Code/overall_perf.ipynb#W1sZmlsZQ%3D%3D?line=18'>19</a>\u001b[0m     portfolio_return \u001b[39m=\u001b[39m process\u001b[39m.\u001b[39mportfolio_returns(evaluation_window\u001b[39m=\u001b[39mevaluation_window, df_cleaned\u001b[39m=\u001b[39mdf_cleaned, lookback_window\u001b[39m=\u001b[39mlookback_window, consolidated_W\u001b[39m=\u001b[39mconsolidated_W)\n\u001b[1;32m     <a href='vscode-notebook-cell:/Users/khelifanail/Documents/GitHub/Portfolio_clustering_project/Code/overall_perf.ipynb#W1sZmlsZQ%3D%3D?line=20'>21</a>\u001b[0m     overall_return \u001b[39m=\u001b[39m pd\u001b[39m.\u001b[39mconcat([overall_return, portfolio_return])\n",
      "File \u001b[0;32m~/Documents/GitHub/Portfolio_clustering_project/Code/process.py:526\u001b[0m, in \u001b[0;36mconsolidated_W\u001b[0;34m(number_of_repetitions, lookback_window, df_cleaned, number_of_clusters, sigma, df, clustering_method)\u001b[0m\n\u001b[1;32m    523\u001b[0m history \u001b[39m=\u001b[39m []\n\u001b[1;32m    525\u001b[0m \u001b[39mfor\u001b[39;00m _ \u001b[39min\u001b[39;00m \u001b[39mrange\u001b[39m(number_of_repetitions):\n\u001b[0;32m--> 526\u001b[0m     W \u001b[39m=\u001b[39m training_phase(lookback_window\u001b[39m=\u001b[39;49mlookback_window, df_cleaned\u001b[39m=\u001b[39;49mdf_cleaned, number_of_clusters\u001b[39m=\u001b[39;49mnumber_of_clusters, sigma\u001b[39m=\u001b[39;49msigma, df\u001b[39m=\u001b[39;49mdf, clustering_method\u001b[39m=\u001b[39;49mclustering_method)\n\u001b[1;32m    527\u001b[0m     history\u001b[39m.\u001b[39mappend(W)\n\u001b[1;32m    529\u001b[0m consolidated_W \u001b[39m=\u001b[39m pd\u001b[39m.\u001b[39mDataFrame(index\u001b[39m=\u001b[39mdf_cleaned\u001b[39m.\u001b[39mindex, columns\u001b[39m=\u001b[39m[\u001b[39m'\u001b[39m\u001b[39mweight\u001b[39m\u001b[39m'\u001b[39m])\n",
      "File \u001b[0;32m~/Documents/GitHub/Portfolio_clustering_project/Code/process.py:473\u001b[0m, in \u001b[0;36mtraining_phase\u001b[0;34m(lookback_window, df_cleaned, number_of_clusters, sigma, df, clustering_method)\u001b[0m\n\u001b[1;32m    470\u001b[0m cluster_return_res \u001b[39m=\u001b[39m cluster_return(constituent_weights\u001b[39m=\u001b[39mconstituent_weights_res, df_cleaned\u001b[39m=\u001b[39mdf_cleaned, df\u001b[39m=\u001b[39mdf, lookback_window\u001b[39m=\u001b[39mlookback_window) \n\u001b[1;32m    472\u001b[0m \u001b[39m## ÉTAPE 5 : on obtient les poids de markowitz de chaque cluster\u001b[39;00m\n\u001b[0;32m--> 473\u001b[0m markowitz_weights_res \u001b[39m=\u001b[39m markowitz_weights(cluster_return\u001b[39m=\u001b[39;49mcluster_return_res)\n\u001b[1;32m    475\u001b[0m \u001b[39m## ÉTAPE 6 : on remonte aux poids de chaque actif dans l'ensemble\u001b[39;00m\n\u001b[1;32m    476\u001b[0m W \u001b[39m=\u001b[39m final_weights(markowitz_weights\u001b[39m=\u001b[39mmarkowitz_weights_res, constituent_weights\u001b[39m=\u001b[39mconstituent_weights_res)\n",
      "File \u001b[0;32m~/Documents/GitHub/Portfolio_clustering_project/Code/process.py:379\u001b[0m, in \u001b[0;36mmarkowitz_weights\u001b[0;34m(cluster_return)\u001b[0m\n\u001b[1;32m    376\u001b[0m expected_returns \u001b[39m=\u001b[39m (\u001b[39m1\u001b[39m\u001b[39m+\u001b[39m cluster_return\u001b[39m.\u001b[39mmean(axis\u001b[39m=\u001b[39m\u001b[39m1\u001b[39m))\u001b[39m*\u001b[39m\u001b[39m*\u001b[39m\u001b[39m252\u001b[39m \u001b[39m-\u001b[39m \u001b[39m1\u001b[39m \u001b[39m## on fait ici le choix de prendre le rendement moyen comme objectif\u001b[39;00m\n\u001b[1;32m    378\u001b[0m ef \u001b[39m=\u001b[39m EfficientFrontier(expected_returns\u001b[39m=\u001b[39mexpected_returns, cov_matrix\u001b[39m=\u001b[39mcov_matrix)\n\u001b[0;32m--> 379\u001b[0m ef\u001b[39m.\u001b[39;49mmax_sharpe()\n\u001b[1;32m    381\u001b[0m markowitz_weights \u001b[39m=\u001b[39m ef\u001b[39m.\u001b[39mclean_weights()\n\u001b[1;32m    383\u001b[0m \u001b[39mreturn\u001b[39;00m markowitz_weights\n",
      "File \u001b[0;32m/usr/local/lib/python3.11/site-packages/pypfopt/efficient_frontier/efficient_frontier.py:290\u001b[0m, in \u001b[0;36mEfficientFrontier.max_sharpe\u001b[0;34m(self, risk_free_rate)\u001b[0m\n\u001b[1;32m    283\u001b[0m \u001b[39m# Transformed max_sharpe convex problem:\u001b[39;00m\n\u001b[1;32m    284\u001b[0m \u001b[39mself\u001b[39m\u001b[39m.\u001b[39m_constraints \u001b[39m=\u001b[39m [\n\u001b[1;32m    285\u001b[0m     (\u001b[39mself\u001b[39m\u001b[39m.\u001b[39mexpected_returns \u001b[39m-\u001b[39m risk_free_rate)\u001b[39m.\u001b[39mT \u001b[39m@\u001b[39m \u001b[39mself\u001b[39m\u001b[39m.\u001b[39m_w \u001b[39m==\u001b[39m \u001b[39m1\u001b[39m,\n\u001b[1;32m    286\u001b[0m     cp\u001b[39m.\u001b[39msum(\u001b[39mself\u001b[39m\u001b[39m.\u001b[39m_w) \u001b[39m==\u001b[39m k,\n\u001b[1;32m    287\u001b[0m     k \u001b[39m>\u001b[39m\u001b[39m=\u001b[39m \u001b[39m0\u001b[39m,\n\u001b[1;32m    288\u001b[0m ] \u001b[39m+\u001b[39m new_constraints\n\u001b[0;32m--> 290\u001b[0m \u001b[39mself\u001b[39;49m\u001b[39m.\u001b[39;49m_solve_cvxpy_opt_problem()\n\u001b[1;32m    291\u001b[0m \u001b[39m# Inverse-transform\u001b[39;00m\n\u001b[1;32m    292\u001b[0m \u001b[39mself\u001b[39m\u001b[39m.\u001b[39mweights \u001b[39m=\u001b[39m (\u001b[39mself\u001b[39m\u001b[39m.\u001b[39m_w\u001b[39m.\u001b[39mvalue \u001b[39m/\u001b[39m k\u001b[39m.\u001b[39mvalue)\u001b[39m.\u001b[39mround(\u001b[39m16\u001b[39m) \u001b[39m+\u001b[39m \u001b[39m0.0\u001b[39m\n",
      "File \u001b[0;32m/usr/local/lib/python3.11/site-packages/pypfopt/base_optimizer.py:313\u001b[0m, in \u001b[0;36mBaseConvexOptimizer._solve_cvxpy_opt_problem\u001b[0;34m(self)\u001b[0m\n\u001b[1;32m    310\u001b[0m     \u001b[39mraise\u001b[39;00m exceptions\u001b[39m.\u001b[39mOptimizationError \u001b[39mfrom\u001b[39;00m \u001b[39me\u001b[39;00m\n\u001b[1;32m    312\u001b[0m \u001b[39mif\u001b[39;00m \u001b[39mself\u001b[39m\u001b[39m.\u001b[39m_opt\u001b[39m.\u001b[39mstatus \u001b[39mnot\u001b[39;00m \u001b[39min\u001b[39;00m {\u001b[39m\"\u001b[39m\u001b[39moptimal\u001b[39m\u001b[39m\"\u001b[39m, \u001b[39m\"\u001b[39m\u001b[39moptimal_inaccurate\u001b[39m\u001b[39m\"\u001b[39m}:\n\u001b[0;32m--> 313\u001b[0m     \u001b[39mraise\u001b[39;00m exceptions\u001b[39m.\u001b[39mOptimizationError(\n\u001b[1;32m    314\u001b[0m         \u001b[39m\"\u001b[39m\u001b[39mSolver status: \u001b[39m\u001b[39m{}\u001b[39;00m\u001b[39m\"\u001b[39m\u001b[39m.\u001b[39mformat(\u001b[39mself\u001b[39m\u001b[39m.\u001b[39m_opt\u001b[39m.\u001b[39mstatus)\n\u001b[1;32m    315\u001b[0m     )\n\u001b[1;32m    316\u001b[0m \u001b[39mself\u001b[39m\u001b[39m.\u001b[39mweights \u001b[39m=\u001b[39m \u001b[39mself\u001b[39m\u001b[39m.\u001b[39m_w\u001b[39m.\u001b[39mvalue\u001b[39m.\u001b[39mround(\u001b[39m16\u001b[39m) \u001b[39m+\u001b[39m \u001b[39m0.0\u001b[39m  \u001b[39m# +0.0 removes signed zero\u001b[39;00m\n\u001b[1;32m    317\u001b[0m \u001b[39mreturn\u001b[39;00m \u001b[39mself\u001b[39m\u001b[39m.\u001b[39m_make_output_weights()\n",
      "\u001b[0;31mOptimizationError\u001b[0m: ('Please check your objectives/constraints or use a different solver.', 'Solver status: unbounded')"
     ]
    }
   ],
   "source": [
    "import warnings \n",
    "\n",
    "warnings.filterwarnings(\"ignore\") ## so that there are no polluting warnings as output of this cell\n",
    "\n",
    "lookback_window = [4000, 4750]\n",
    "number_of_clusters = 20\n",
    "sigma = 2\n",
    "clustering_method = 'SPONGE' \n",
    "number_of_repetition = 20\n",
    "evaluation_window = 7\n",
    "PnL = []\n",
    "overall_return = pd.DataFrame()\n",
    "portfolio_value=[1] #we start with a value of 1, the list contain : the porfolio value at the start of each evaluation period\n",
    "\n",
    "for i in range(1, 21):\n",
    "\n",
    "    consolidated_W = process.consolidated_W(number_of_repetitions=number_of_repetition, lookback_window=lookback_window, df_cleaned=df_cleaned, number_of_clusters=number_of_clusters, sigma=sigma, df=df)\n",
    "\n",
    "    portfolio_return = process.portfolio_returns(evaluation_window=evaluation_window, df_cleaned=df_cleaned, lookback_window=lookback_window, consolidated_W=consolidated_W)\n",
    "\n",
    "    overall_return = pd.concat([overall_return, portfolio_return])\n",
    "\n",
    "    lookback_window = [lookback_window[0] + evaluation_window*i, lookback_window[1] + evaluation_window*i]\n",
    "\n",
    "    PnL = np.concatenate((PnL, np.reshape(np.cumprod(1 + portfolio_return)*portfolio_value[-1] - portfolio_value[-1], (evaluation_window,))))## car on réinvestit immédiatement après\n",
    "    portfolio_value.append(portfolio_value[-1]+PnL[-1])\n",
    "    print('*'*i)\n",
    "    print(portfolio_value[-1])\n",
    "        "
   ]
  },
  {
   "cell_type": "code",
   "execution_count": 27,
   "metadata": {},
   "outputs": [
    {
     "data": {
      "application/vnd.plotly.v1+json": {
       "config": {
        "plotlyServerURL": "https://plot.ly"
       },
       "data": [
        {
         "hovertemplate": "Time Period=%{x}<br>Portfolio Return=%{y}<extra></extra>",
         "legendgroup": "portfolio return",
         "line": {
          "color": "#636efa",
          "dash": "solid"
         },
         "marker": {
          "symbol": "circle"
         },
         "mode": "lines",
         "name": "portfolio return",
         "orientation": "v",
         "showlegend": true,
         "type": "scatter",
         "x": [
          "return_3250",
          "return_3251",
          "return_3252",
          "return_3253",
          "return_3254",
          "return_3255",
          "return_3256",
          "return_3257",
          "return_3258",
          "return_3259",
          "return_3260",
          "return_3261",
          "return_3262",
          "return_3263",
          "return_3264",
          "return_3265",
          "return_3266",
          "return_3267",
          "return_3268",
          "return_3269",
          "return_3280",
          "return_3281",
          "return_3282",
          "return_3283",
          "return_3284",
          "return_3285",
          "return_3286",
          "return_3287",
          "return_3288",
          "return_3289",
          "return_3310",
          "return_3311",
          "return_3312",
          "return_3313",
          "return_3314",
          "return_3315",
          "return_3316",
          "return_3317",
          "return_3318",
          "return_3319",
          "return_3350",
          "return_3351",
          "return_3352",
          "return_3353",
          "return_3354",
          "return_3355",
          "return_3356",
          "return_3357",
          "return_3358",
          "return_3359",
          "return_3400",
          "return_3401",
          "return_3402",
          "return_3403",
          "return_3404",
          "return_3405",
          "return_3406",
          "return_3407",
          "return_3408",
          "return_3409",
          "return_3460",
          "return_3461",
          "return_3462",
          "return_3463",
          "return_3464",
          "return_3465",
          "return_3466",
          "return_3467",
          "return_3468",
          "return_3469",
          "return_3530",
          "return_3531",
          "return_3532",
          "return_3533",
          "return_3534",
          "return_3535",
          "return_3536",
          "return_3537",
          "return_3538",
          "return_3539",
          "return_3610",
          "return_3611",
          "return_3612",
          "return_3613",
          "return_3614",
          "return_3615",
          "return_3616",
          "return_3617",
          "return_3618",
          "return_3619",
          "return_3700",
          "return_3701",
          "return_3702",
          "return_3703",
          "return_3704",
          "return_3705",
          "return_3706",
          "return_3707",
          "return_3708",
          "return_3709",
          "return_3800",
          "return_3801",
          "return_3802",
          "return_3803",
          "return_3804",
          "return_3805",
          "return_3806",
          "return_3807",
          "return_3808",
          "return_3809",
          "return_3910",
          "return_3911",
          "return_3912",
          "return_3913",
          "return_3914",
          "return_3915",
          "return_3916",
          "return_3917",
          "return_3918",
          "return_3919",
          "return_4030",
          "return_4031",
          "return_4032",
          "return_4033",
          "return_4034",
          "return_4035",
          "return_4036",
          "return_4037",
          "return_4038",
          "return_4039",
          "return_4160",
          "return_4161",
          "return_4162",
          "return_4163",
          "return_4164",
          "return_4165",
          "return_4166",
          "return_4167",
          "return_4168",
          "return_4169",
          "return_4300",
          "return_4301",
          "return_4302",
          "return_4303",
          "return_4304",
          "return_4305",
          "return_4306",
          "return_4307",
          "return_4308",
          "return_4309"
         ],
         "xaxis": "x",
         "y": [
          -0.003923536172552605,
          -0.0010453111528912354,
          -0.002696240485772756,
          -0.007364412952421015,
          -0.01206578853395015,
          -0.01661019092850925,
          -0.014832699575479578,
          -0.01204716482172479,
          -0.009459156357842393,
          -0.0025260604265455724,
          -0.0028982027640228705,
          -0.008062044509029387,
          -0.012062480661569055,
          -0.01092612824683303,
          -0.00235894922733439,
          0.00721406333605883,
          0.010390815429654452,
          0.014767100065969103,
          0.01589056985936123,
          0.017242061144767926,
          0.018303423977891517,
          0.017720734535797072,
          0.011032785416292334,
          0.011258140261329406,
          0.011966626655360512,
          0.013286406991053656,
          0.01297026941305578,
          0.010592987328190775,
          0.011081396158181059,
          0.014676936658374048,
          0.01370752580603639,
          0.011572208494832613,
          0.010616973912612189,
          0.007896513358785159,
          0.0032574068761748055,
          0.0020121962665324974,
          0.01188239584469367,
          0.013966413585584774,
          0.019727343137929818,
          0.01929347283413806,
          0.0171952461631652,
          0.02007510823917952,
          0.021446467312630963,
          0.016651181130617768,
          0.019177692769063073,
          0.0169701510864538,
          0.020583579405587405,
          0.022624303988808377,
          0.020571869867561123,
          0.022433887945959394,
          0.023184079787809387,
          0.024721568639692285,
          0.025918603359721876,
          0.024720083359798622,
          0.026915856331680046,
          0.017943866457972617,
          0.020990687689047226,
          0.02572643660750433,
          0.023489765796069137,
          0.023224736446365163,
          0.02874904270640187,
          0.03512503998236675,
          0.03994567717980964,
          0.03668438228275444,
          0.04258901170221843,
          0.05592683736860022,
          0.054118316503386166,
          0.0530064553592605,
          0.05484076614111082,
          0.05547633782975842,
          0.05789107196869139,
          0.06212979086553858,
          0.052271869580036524,
          0.04433194998573239,
          0.046405925275232844,
          0.042907029316459275,
          0.04554551936478363,
          0.05058341586000532,
          0.03658895603204029,
          0.04039005435127395,
          0.03967968944878403,
          0.04550733282236834,
          0.04460071475750682,
          0.04619121579920702,
          0.04792637596461251,
          0.046760581135600984,
          0.04627700769714149,
          0.046602651453966686,
          0.04864231800278496,
          0.04884348093483936,
          0.04892746889423351,
          0.047229950632588995,
          0.04840230869568298,
          0.051518091765469495,
          0.05412328343211048,
          0.056352827526732444,
          0.05711394799457863,
          0.061129916783890584,
          0.06376661598994085,
          0.06339479596645095,
          0.06956994612778837,
          0.06839040803052651,
          0.0699543462710184,
          0.06997985901029928,
          0.07104763624243378,
          0.07104003185530076,
          0.07031965539442611,
          0.07263123304527387,
          0.0722079240141522,
          0.07345985275999425,
          0.07513381894453897,
          0.07417329580157891,
          0.07611470582020907,
          0.07667822402784712,
          0.07735787891450849,
          0.07650329354839995,
          0.078706786494858,
          0.0808149733219744,
          0.08197751638087658,
          0.08242694407255328,
          0.08653475416103272,
          0.07930575828713733,
          0.07584710702446758,
          0.07795711672691398,
          0.07858879696822643,
          0.07416831582802391,
          0.08313903440053873,
          0.07888173646224578,
          0.0821055737120537,
          0.08672602128917904,
          0.08841994525633214,
          0.08698645346058428,
          0.08537646294683804,
          0.08474912748110097,
          0.08571711210302832,
          0.0873566487251867,
          0.0870916219541697,
          0.08384876795869259,
          0.08579836041180444,
          0.08694654350933557,
          0.08698704460016696,
          0.08869060312799165,
          0.08950252529819545,
          0.0909684257075908,
          0.09073991372080528,
          0.09079826092634391,
          0.09329648987479035,
          0.09378941114363708,
          0.09314191822276935,
          0.09533084142773265
         ],
         "yaxis": "y"
        }
       ],
       "layout": {
        "legend": {
         "title": {
          "text": "Time Period"
         },
         "tracegroupgap": 0
        },
        "template": {
         "data": {
          "bar": [
           {
            "error_x": {
             "color": "#f2f5fa"
            },
            "error_y": {
             "color": "#f2f5fa"
            },
            "marker": {
             "line": {
              "color": "rgb(17,17,17)",
              "width": 0.5
             },
             "pattern": {
              "fillmode": "overlay",
              "size": 10,
              "solidity": 0.2
             }
            },
            "type": "bar"
           }
          ],
          "barpolar": [
           {
            "marker": {
             "line": {
              "color": "rgb(17,17,17)",
              "width": 0.5
             },
             "pattern": {
              "fillmode": "overlay",
              "size": 10,
              "solidity": 0.2
             }
            },
            "type": "barpolar"
           }
          ],
          "carpet": [
           {
            "aaxis": {
             "endlinecolor": "#A2B1C6",
             "gridcolor": "#506784",
             "linecolor": "#506784",
             "minorgridcolor": "#506784",
             "startlinecolor": "#A2B1C6"
            },
            "baxis": {
             "endlinecolor": "#A2B1C6",
             "gridcolor": "#506784",
             "linecolor": "#506784",
             "minorgridcolor": "#506784",
             "startlinecolor": "#A2B1C6"
            },
            "type": "carpet"
           }
          ],
          "choropleth": [
           {
            "colorbar": {
             "outlinewidth": 0,
             "ticks": ""
            },
            "type": "choropleth"
           }
          ],
          "contour": [
           {
            "colorbar": {
             "outlinewidth": 0,
             "ticks": ""
            },
            "colorscale": [
             [
              0,
              "#0d0887"
             ],
             [
              0.1111111111111111,
              "#46039f"
             ],
             [
              0.2222222222222222,
              "#7201a8"
             ],
             [
              0.3333333333333333,
              "#9c179e"
             ],
             [
              0.4444444444444444,
              "#bd3786"
             ],
             [
              0.5555555555555556,
              "#d8576b"
             ],
             [
              0.6666666666666666,
              "#ed7953"
             ],
             [
              0.7777777777777778,
              "#fb9f3a"
             ],
             [
              0.8888888888888888,
              "#fdca26"
             ],
             [
              1,
              "#f0f921"
             ]
            ],
            "type": "contour"
           }
          ],
          "contourcarpet": [
           {
            "colorbar": {
             "outlinewidth": 0,
             "ticks": ""
            },
            "type": "contourcarpet"
           }
          ],
          "heatmap": [
           {
            "colorbar": {
             "outlinewidth": 0,
             "ticks": ""
            },
            "colorscale": [
             [
              0,
              "#0d0887"
             ],
             [
              0.1111111111111111,
              "#46039f"
             ],
             [
              0.2222222222222222,
              "#7201a8"
             ],
             [
              0.3333333333333333,
              "#9c179e"
             ],
             [
              0.4444444444444444,
              "#bd3786"
             ],
             [
              0.5555555555555556,
              "#d8576b"
             ],
             [
              0.6666666666666666,
              "#ed7953"
             ],
             [
              0.7777777777777778,
              "#fb9f3a"
             ],
             [
              0.8888888888888888,
              "#fdca26"
             ],
             [
              1,
              "#f0f921"
             ]
            ],
            "type": "heatmap"
           }
          ],
          "heatmapgl": [
           {
            "colorbar": {
             "outlinewidth": 0,
             "ticks": ""
            },
            "colorscale": [
             [
              0,
              "#0d0887"
             ],
             [
              0.1111111111111111,
              "#46039f"
             ],
             [
              0.2222222222222222,
              "#7201a8"
             ],
             [
              0.3333333333333333,
              "#9c179e"
             ],
             [
              0.4444444444444444,
              "#bd3786"
             ],
             [
              0.5555555555555556,
              "#d8576b"
             ],
             [
              0.6666666666666666,
              "#ed7953"
             ],
             [
              0.7777777777777778,
              "#fb9f3a"
             ],
             [
              0.8888888888888888,
              "#fdca26"
             ],
             [
              1,
              "#f0f921"
             ]
            ],
            "type": "heatmapgl"
           }
          ],
          "histogram": [
           {
            "marker": {
             "pattern": {
              "fillmode": "overlay",
              "size": 10,
              "solidity": 0.2
             }
            },
            "type": "histogram"
           }
          ],
          "histogram2d": [
           {
            "colorbar": {
             "outlinewidth": 0,
             "ticks": ""
            },
            "colorscale": [
             [
              0,
              "#0d0887"
             ],
             [
              0.1111111111111111,
              "#46039f"
             ],
             [
              0.2222222222222222,
              "#7201a8"
             ],
             [
              0.3333333333333333,
              "#9c179e"
             ],
             [
              0.4444444444444444,
              "#bd3786"
             ],
             [
              0.5555555555555556,
              "#d8576b"
             ],
             [
              0.6666666666666666,
              "#ed7953"
             ],
             [
              0.7777777777777778,
              "#fb9f3a"
             ],
             [
              0.8888888888888888,
              "#fdca26"
             ],
             [
              1,
              "#f0f921"
             ]
            ],
            "type": "histogram2d"
           }
          ],
          "histogram2dcontour": [
           {
            "colorbar": {
             "outlinewidth": 0,
             "ticks": ""
            },
            "colorscale": [
             [
              0,
              "#0d0887"
             ],
             [
              0.1111111111111111,
              "#46039f"
             ],
             [
              0.2222222222222222,
              "#7201a8"
             ],
             [
              0.3333333333333333,
              "#9c179e"
             ],
             [
              0.4444444444444444,
              "#bd3786"
             ],
             [
              0.5555555555555556,
              "#d8576b"
             ],
             [
              0.6666666666666666,
              "#ed7953"
             ],
             [
              0.7777777777777778,
              "#fb9f3a"
             ],
             [
              0.8888888888888888,
              "#fdca26"
             ],
             [
              1,
              "#f0f921"
             ]
            ],
            "type": "histogram2dcontour"
           }
          ],
          "mesh3d": [
           {
            "colorbar": {
             "outlinewidth": 0,
             "ticks": ""
            },
            "type": "mesh3d"
           }
          ],
          "parcoords": [
           {
            "line": {
             "colorbar": {
              "outlinewidth": 0,
              "ticks": ""
             }
            },
            "type": "parcoords"
           }
          ],
          "pie": [
           {
            "automargin": true,
            "type": "pie"
           }
          ],
          "scatter": [
           {
            "marker": {
             "line": {
              "color": "#283442"
             }
            },
            "type": "scatter"
           }
          ],
          "scatter3d": [
           {
            "line": {
             "colorbar": {
              "outlinewidth": 0,
              "ticks": ""
             }
            },
            "marker": {
             "colorbar": {
              "outlinewidth": 0,
              "ticks": ""
             }
            },
            "type": "scatter3d"
           }
          ],
          "scattercarpet": [
           {
            "marker": {
             "colorbar": {
              "outlinewidth": 0,
              "ticks": ""
             }
            },
            "type": "scattercarpet"
           }
          ],
          "scattergeo": [
           {
            "marker": {
             "colorbar": {
              "outlinewidth": 0,
              "ticks": ""
             }
            },
            "type": "scattergeo"
           }
          ],
          "scattergl": [
           {
            "marker": {
             "line": {
              "color": "#283442"
             }
            },
            "type": "scattergl"
           }
          ],
          "scattermapbox": [
           {
            "marker": {
             "colorbar": {
              "outlinewidth": 0,
              "ticks": ""
             }
            },
            "type": "scattermapbox"
           }
          ],
          "scatterpolar": [
           {
            "marker": {
             "colorbar": {
              "outlinewidth": 0,
              "ticks": ""
             }
            },
            "type": "scatterpolar"
           }
          ],
          "scatterpolargl": [
           {
            "marker": {
             "colorbar": {
              "outlinewidth": 0,
              "ticks": ""
             }
            },
            "type": "scatterpolargl"
           }
          ],
          "scatterternary": [
           {
            "marker": {
             "colorbar": {
              "outlinewidth": 0,
              "ticks": ""
             }
            },
            "type": "scatterternary"
           }
          ],
          "surface": [
           {
            "colorbar": {
             "outlinewidth": 0,
             "ticks": ""
            },
            "colorscale": [
             [
              0,
              "#0d0887"
             ],
             [
              0.1111111111111111,
              "#46039f"
             ],
             [
              0.2222222222222222,
              "#7201a8"
             ],
             [
              0.3333333333333333,
              "#9c179e"
             ],
             [
              0.4444444444444444,
              "#bd3786"
             ],
             [
              0.5555555555555556,
              "#d8576b"
             ],
             [
              0.6666666666666666,
              "#ed7953"
             ],
             [
              0.7777777777777778,
              "#fb9f3a"
             ],
             [
              0.8888888888888888,
              "#fdca26"
             ],
             [
              1,
              "#f0f921"
             ]
            ],
            "type": "surface"
           }
          ],
          "table": [
           {
            "cells": {
             "fill": {
              "color": "#506784"
             },
             "line": {
              "color": "rgb(17,17,17)"
             }
            },
            "header": {
             "fill": {
              "color": "#2a3f5f"
             },
             "line": {
              "color": "rgb(17,17,17)"
             }
            },
            "type": "table"
           }
          ]
         },
         "layout": {
          "annotationdefaults": {
           "arrowcolor": "#f2f5fa",
           "arrowhead": 0,
           "arrowwidth": 1
          },
          "autotypenumbers": "strict",
          "coloraxis": {
           "colorbar": {
            "outlinewidth": 0,
            "ticks": ""
           }
          },
          "colorscale": {
           "diverging": [
            [
             0,
             "#8e0152"
            ],
            [
             0.1,
             "#c51b7d"
            ],
            [
             0.2,
             "#de77ae"
            ],
            [
             0.3,
             "#f1b6da"
            ],
            [
             0.4,
             "#fde0ef"
            ],
            [
             0.5,
             "#f7f7f7"
            ],
            [
             0.6,
             "#e6f5d0"
            ],
            [
             0.7,
             "#b8e186"
            ],
            [
             0.8,
             "#7fbc41"
            ],
            [
             0.9,
             "#4d9221"
            ],
            [
             1,
             "#276419"
            ]
           ],
           "sequential": [
            [
             0,
             "#0d0887"
            ],
            [
             0.1111111111111111,
             "#46039f"
            ],
            [
             0.2222222222222222,
             "#7201a8"
            ],
            [
             0.3333333333333333,
             "#9c179e"
            ],
            [
             0.4444444444444444,
             "#bd3786"
            ],
            [
             0.5555555555555556,
             "#d8576b"
            ],
            [
             0.6666666666666666,
             "#ed7953"
            ],
            [
             0.7777777777777778,
             "#fb9f3a"
            ],
            [
             0.8888888888888888,
             "#fdca26"
            ],
            [
             1,
             "#f0f921"
            ]
           ],
           "sequentialminus": [
            [
             0,
             "#0d0887"
            ],
            [
             0.1111111111111111,
             "#46039f"
            ],
            [
             0.2222222222222222,
             "#7201a8"
            ],
            [
             0.3333333333333333,
             "#9c179e"
            ],
            [
             0.4444444444444444,
             "#bd3786"
            ],
            [
             0.5555555555555556,
             "#d8576b"
            ],
            [
             0.6666666666666666,
             "#ed7953"
            ],
            [
             0.7777777777777778,
             "#fb9f3a"
            ],
            [
             0.8888888888888888,
             "#fdca26"
            ],
            [
             1,
             "#f0f921"
            ]
           ]
          },
          "colorway": [
           "#636efa",
           "#EF553B",
           "#00cc96",
           "#ab63fa",
           "#FFA15A",
           "#19d3f3",
           "#FF6692",
           "#B6E880",
           "#FF97FF",
           "#FECB52"
          ],
          "font": {
           "color": "#f2f5fa"
          },
          "geo": {
           "bgcolor": "rgb(17,17,17)",
           "lakecolor": "rgb(17,17,17)",
           "landcolor": "rgb(17,17,17)",
           "showlakes": true,
           "showland": true,
           "subunitcolor": "#506784"
          },
          "hoverlabel": {
           "align": "left"
          },
          "hovermode": "closest",
          "mapbox": {
           "style": "dark"
          },
          "paper_bgcolor": "rgb(17,17,17)",
          "plot_bgcolor": "rgb(17,17,17)",
          "polar": {
           "angularaxis": {
            "gridcolor": "#506784",
            "linecolor": "#506784",
            "ticks": ""
           },
           "bgcolor": "rgb(17,17,17)",
           "radialaxis": {
            "gridcolor": "#506784",
            "linecolor": "#506784",
            "ticks": ""
           }
          },
          "scene": {
           "xaxis": {
            "backgroundcolor": "rgb(17,17,17)",
            "gridcolor": "#506784",
            "gridwidth": 2,
            "linecolor": "#506784",
            "showbackground": true,
            "ticks": "",
            "zerolinecolor": "#C8D4E3"
           },
           "yaxis": {
            "backgroundcolor": "rgb(17,17,17)",
            "gridcolor": "#506784",
            "gridwidth": 2,
            "linecolor": "#506784",
            "showbackground": true,
            "ticks": "",
            "zerolinecolor": "#C8D4E3"
           },
           "zaxis": {
            "backgroundcolor": "rgb(17,17,17)",
            "gridcolor": "#506784",
            "gridwidth": 2,
            "linecolor": "#506784",
            "showbackground": true,
            "ticks": "",
            "zerolinecolor": "#C8D4E3"
           }
          },
          "shapedefaults": {
           "line": {
            "color": "#f2f5fa"
           }
          },
          "sliderdefaults": {
           "bgcolor": "#C8D4E3",
           "bordercolor": "rgb(17,17,17)",
           "borderwidth": 1,
           "tickwidth": 0
          },
          "ternary": {
           "aaxis": {
            "gridcolor": "#506784",
            "linecolor": "#506784",
            "ticks": ""
           },
           "baxis": {
            "gridcolor": "#506784",
            "linecolor": "#506784",
            "ticks": ""
           },
           "bgcolor": "rgb(17,17,17)",
           "caxis": {
            "gridcolor": "#506784",
            "linecolor": "#506784",
            "ticks": ""
           }
          },
          "title": {
           "x": 0.05
          },
          "updatemenudefaults": {
           "bgcolor": "#506784",
           "borderwidth": 0
          },
          "xaxis": {
           "automargin": true,
           "gridcolor": "#283442",
           "linecolor": "#506784",
           "ticks": "",
           "title": {
            "standoff": 15
           },
           "zerolinecolor": "#283442",
           "zerolinewidth": 2
          },
          "yaxis": {
           "automargin": true,
           "gridcolor": "#283442",
           "linecolor": "#506784",
           "ticks": "",
           "title": {
            "standoff": 15
           },
           "zerolinecolor": "#283442",
           "zerolinewidth": 2
          }
         }
        },
        "title": {
         "text": "Portfolio Returns Over Time"
        },
        "xaxis": {
         "anchor": "y",
         "domain": [
          0,
          1
         ],
         "tickmode": "array",
         "ticktext": [
          "return_return_3250",
          "return_return_3251",
          "return_return_3252",
          "return_return_3253",
          "return_return_3254",
          "return_return_3255",
          "return_return_3256",
          "return_return_3257",
          "return_return_3258",
          "return_return_3259",
          "return_return_3260",
          "return_return_3261",
          "return_return_3262",
          "return_return_3263",
          "return_return_3264",
          "return_return_3265",
          "return_return_3266",
          "return_return_3267",
          "return_return_3268",
          "return_return_3269",
          "return_return_3280",
          "return_return_3281",
          "return_return_3282",
          "return_return_3283",
          "return_return_3284",
          "return_return_3285",
          "return_return_3286",
          "return_return_3287",
          "return_return_3288",
          "return_return_3289",
          "return_return_3310",
          "return_return_3311",
          "return_return_3312",
          "return_return_3313",
          "return_return_3314",
          "return_return_3315",
          "return_return_3316",
          "return_return_3317",
          "return_return_3318",
          "return_return_3319",
          "return_return_3350",
          "return_return_3351",
          "return_return_3352",
          "return_return_3353",
          "return_return_3354",
          "return_return_3355",
          "return_return_3356",
          "return_return_3357",
          "return_return_3358",
          "return_return_3359",
          "return_return_3400",
          "return_return_3401",
          "return_return_3402",
          "return_return_3403",
          "return_return_3404",
          "return_return_3405",
          "return_return_3406",
          "return_return_3407",
          "return_return_3408",
          "return_return_3409",
          "return_return_3460",
          "return_return_3461",
          "return_return_3462",
          "return_return_3463",
          "return_return_3464",
          "return_return_3465",
          "return_return_3466",
          "return_return_3467",
          "return_return_3468",
          "return_return_3469",
          "return_return_3530",
          "return_return_3531",
          "return_return_3532",
          "return_return_3533",
          "return_return_3534",
          "return_return_3535",
          "return_return_3536",
          "return_return_3537",
          "return_return_3538",
          "return_return_3539",
          "return_return_3610",
          "return_return_3611",
          "return_return_3612",
          "return_return_3613",
          "return_return_3614",
          "return_return_3615",
          "return_return_3616",
          "return_return_3617",
          "return_return_3618",
          "return_return_3619",
          "return_return_3700",
          "return_return_3701",
          "return_return_3702",
          "return_return_3703",
          "return_return_3704",
          "return_return_3705",
          "return_return_3706",
          "return_return_3707",
          "return_return_3708",
          "return_return_3709",
          "return_return_3800",
          "return_return_3801",
          "return_return_3802",
          "return_return_3803",
          "return_return_3804",
          "return_return_3805",
          "return_return_3806",
          "return_return_3807",
          "return_return_3808",
          "return_return_3809",
          "return_return_3910",
          "return_return_3911",
          "return_return_3912",
          "return_return_3913",
          "return_return_3914",
          "return_return_3915",
          "return_return_3916",
          "return_return_3917",
          "return_return_3918",
          "return_return_3919",
          "return_return_4030",
          "return_return_4031",
          "return_return_4032",
          "return_return_4033",
          "return_return_4034",
          "return_return_4035",
          "return_return_4036",
          "return_return_4037",
          "return_return_4038",
          "return_return_4039",
          "return_return_4160",
          "return_return_4161",
          "return_return_4162",
          "return_return_4163",
          "return_return_4164",
          "return_return_4165",
          "return_return_4166",
          "return_return_4167",
          "return_return_4168",
          "return_return_4169",
          "return_return_4300",
          "return_return_4301",
          "return_return_4302",
          "return_return_4303",
          "return_return_4304",
          "return_return_4305",
          "return_return_4306",
          "return_return_4307",
          "return_return_4308",
          "return_return_4309"
         ],
         "tickvals": [
          "return_3250",
          "return_3251",
          "return_3252",
          "return_3253",
          "return_3254",
          "return_3255",
          "return_3256",
          "return_3257",
          "return_3258",
          "return_3259",
          "return_3260",
          "return_3261",
          "return_3262",
          "return_3263",
          "return_3264",
          "return_3265",
          "return_3266",
          "return_3267",
          "return_3268",
          "return_3269",
          "return_3280",
          "return_3281",
          "return_3282",
          "return_3283",
          "return_3284",
          "return_3285",
          "return_3286",
          "return_3287",
          "return_3288",
          "return_3289",
          "return_3310",
          "return_3311",
          "return_3312",
          "return_3313",
          "return_3314",
          "return_3315",
          "return_3316",
          "return_3317",
          "return_3318",
          "return_3319",
          "return_3350",
          "return_3351",
          "return_3352",
          "return_3353",
          "return_3354",
          "return_3355",
          "return_3356",
          "return_3357",
          "return_3358",
          "return_3359",
          "return_3400",
          "return_3401",
          "return_3402",
          "return_3403",
          "return_3404",
          "return_3405",
          "return_3406",
          "return_3407",
          "return_3408",
          "return_3409",
          "return_3460",
          "return_3461",
          "return_3462",
          "return_3463",
          "return_3464",
          "return_3465",
          "return_3466",
          "return_3467",
          "return_3468",
          "return_3469",
          "return_3530",
          "return_3531",
          "return_3532",
          "return_3533",
          "return_3534",
          "return_3535",
          "return_3536",
          "return_3537",
          "return_3538",
          "return_3539",
          "return_3610",
          "return_3611",
          "return_3612",
          "return_3613",
          "return_3614",
          "return_3615",
          "return_3616",
          "return_3617",
          "return_3618",
          "return_3619",
          "return_3700",
          "return_3701",
          "return_3702",
          "return_3703",
          "return_3704",
          "return_3705",
          "return_3706",
          "return_3707",
          "return_3708",
          "return_3709",
          "return_3800",
          "return_3801",
          "return_3802",
          "return_3803",
          "return_3804",
          "return_3805",
          "return_3806",
          "return_3807",
          "return_3808",
          "return_3809",
          "return_3910",
          "return_3911",
          "return_3912",
          "return_3913",
          "return_3914",
          "return_3915",
          "return_3916",
          "return_3917",
          "return_3918",
          "return_3919",
          "return_4030",
          "return_4031",
          "return_4032",
          "return_4033",
          "return_4034",
          "return_4035",
          "return_4036",
          "return_4037",
          "return_4038",
          "return_4039",
          "return_4160",
          "return_4161",
          "return_4162",
          "return_4163",
          "return_4164",
          "return_4165",
          "return_4166",
          "return_4167",
          "return_4168",
          "return_4169",
          "return_4300",
          "return_4301",
          "return_4302",
          "return_4303",
          "return_4304",
          "return_4305",
          "return_4306",
          "return_4307",
          "return_4308",
          "return_4309"
         ],
         "title": {
          "text": "Time Period"
         }
        },
        "yaxis": {
         "anchor": "x",
         "domain": [
          0,
          1
         ],
         "title": {
          "text": "Portfolio Return"
         }
        }
       }
      }
     },
     "metadata": {},
     "output_type": "display_data"
    }
   ],
   "source": [
    "import plotly.express as px\n",
    "\n",
    "cumulated_return = overall_return.cumsum()\n",
    "\n",
    "df = pd.DataFrame(cumulated_return)\n",
    "\n",
    "# Melt the DataFrame for easier plotting\n",
    "df_melted = df.reset_index().melt(id_vars='index', var_name='Time Period', value_name='Portfolio Return')\n",
    "\n",
    "# Plotting with Plotly\n",
    "fig = px.line(df_melted, x='index', y='Portfolio Return', color='Time Period',\n",
    "              labels={'index': 'Time Period', 'Portfolio Return': 'Portfolio Return'},\n",
    "              title='Portfolio Returns Over Time',\n",
    "              template='plotly_dark')\n",
    "\n",
    "# Customize x-axis tick labels\n",
    "fig.update_layout(xaxis=dict(tickmode='array', tickvals=df.index, ticktext=['return_' + str(i) for i in df.index]))\n",
    "\n",
    "# Show the plot\n",
    "fig.show()\n"
   ]
  },
  {
   "cell_type": "code",
   "execution_count": 14,
   "metadata": {},
   "outputs": [
    {
     "data": {
      "image/png": "[encoded data removed]",
      "text/plain": [
       "<Figure size 1000x600 with 1 Axes>"
      ]
     },
     "metadata": {},
     "output_type": "display_data"
    }
   ],
   "source": [
    "import matplotlib.pyplot as plt \n",
    "\n",
    "# Tracé du PnL cumulatif\n",
    "plt.figure(figsize=(10, 6))\n",
    "plt.plot(portfolio_value, label='Cumulative PnL')\n",
    "plt.title('Cumulative Profit and Loss (PnL) of the Portfolio')\n",
    "plt.xlabel('Time')\n",
    "plt.ylabel('Cumulative PnL')\n",
    "plt.legend()\n",
    "plt.grid(True)\n",
    "\n",
    "plt.xticks(rotation=90, ha='right')\n",
    "\n",
    "plt.show()\n"
   ]
  },
  {
   "cell_type": "code",
   "execution_count": 21,
   "metadata": {},
   "outputs": [
    {
     "data": {
      "image/png": "[encoded data removed]",
      "text/plain": [
       "<Figure size 1000x600 with 1 Axes>"
      ]
     },
     "metadata": {},
     "output_type": "display_data"
    }
   ],
   "source": [
    "import matplotlib.pyplot as plt \n",
    "\n",
    "# Tracé du PnL cumulatif\n",
    "plt.figure(figsize=(10, 6))\n",
    "plt.plot(overall_return.cumsum(), label='Cumulative PnL')\n",
    "plt.title('Cumulative Profit and Loss (PnL) of the Portfolio')\n",
    "plt.xlabel('Time')\n",
    "plt.ylabel('Cumulative PnL')\n",
    "plt.legend()\n",
    "plt.grid(True)\n",
    "\n",
    "plt.xticks(rotation=90)\n",
    "plt.xticks(fontsize=6)\n",
    "plt.grid(True, linestyle='--', linewidth=0.5, alpha=0.7)\n",
    "\n",
    "plt.show()"
   ]
  },
  {
   "cell_type": "code",
   "execution_count": null,
   "metadata": {},
   "outputs": [],
   "source": []
  },
  {
   "cell_type": "code",
   "execution_count": 32,
   "metadata": {},
   "outputs": [
    {
     "data": {
      "image/png": "[encoded data removed]",
      "text/plain": [
       "<Figure size 1000x600 with 1 Axes>"
      ]
     },
     "metadata": {},
     "output_type": "display_data"
    }
   ],
   "source": [
    "plt.figure(figsize=(10, 6))\n",
    "plt.bar(range(len(PnL)), PnL, color='blue', alpha=0.7)\n",
    "\n",
    "# Customize the plot\n",
    "plt.xlabel('Time Period')\n",
    "plt.ylabel('Portfolio Return')\n",
    "plt.title('Portfolio Returns Over Time')\n",
    "plt.xticks(range(len(PnL)), ['return_{}'.format(i) for i in range(len(PnL))], rotation=45, ha='right')\n",
    "\n",
    "# Show the plot\n",
    "plt.tight_layout()\n",
    "plt.show()"
   ]
  }
 ],
 "metadata": {
  "kernelspec": {
   "display_name": "Python 3",
   "language": "python",
   "name": "python3"
  },
  "language_info": {
   "codemirror_mode": {
    "name": "ipython",
    "version": 3
   },
   "file_extension": ".py",
   "mimetype": "text/x-python",
   "name": "python",
   "nbconvert_exporter": "python",
   "pygments_lexer": "ipython3",
   "version": "3.11.5"
  },
  "orig_nbformat": 4
 },
 "nbformat": 4,
 "nbformat_minor": 2
}
