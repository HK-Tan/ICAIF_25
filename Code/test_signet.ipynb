{
 "cells": [
  {
   "cell_type": "markdown",
   "metadata": {},
   "source": [
    "## SigNet Package test\n",
    "\n",
    "**General idea** : test the functions defined in the module1.py file and make a first application.\n",
    "\n",
    "**General plan** : \n",
    "1. Import the data using the DropBox dataset\n",
    "\n",
    "2. Repeat the clustering several times to get several clustering outcomes\n",
    "\n",
    "3. Compute the weights of each stocks within each cluster \n",
    "\n",
    "4. Compute the returns of each portfolio, where one portfolio corresponds to one clustering and is composed of 5 big assets (which are the 5 clusters) **in this notebook, we first fix the number of clusters to be equal to 5**"
   ]
  },
  {
   "cell_type": "markdown",
   "metadata": {},
   "source": [
    "Here are the main package we use in this notebook"
   ]
  },
  {
   "cell_type": "code",
   "execution_count": 1,
   "metadata": {},
   "outputs": [],
   "source": [
    "import pandas as pd\n",
    "import numpy as np\n",
    "import yfinance as yf\n",
    "from sklearn.pipeline import Pipeline\n",
    "from sklearn.cluster import KMeans\n",
    "from sklearn.preprocessing import StandardScaler\n",
    "from bs4 import BeautifulSoup\n",
    "import requests \n",
    "from pypfopt.efficient_frontier import EfficientFrontier"
   ]
  },
  {
   "cell_type": "code",
   "execution_count": 2,
   "metadata": {},
   "outputs": [
    {
     "name": "stdout",
     "output_type": "stream",
     "text": [
      "Note: you may need to restart the kernel to use updated packages.\n"
     ]
    }
   ],
   "source": [
    "pip -q install git+https://github.com/robertmartin8/PyPortfolioOpt.git"
   ]
  },
  {
   "cell_type": "markdown",
   "metadata": {},
   "source": [
    "We also import the module1.py file to use the function we defined there."
   ]
  },
  {
   "cell_type": "code",
   "execution_count": 3,
   "metadata": {},
   "outputs": [],
   "source": [
    "## we make some manipulations to correctly import module1\n",
    "\n",
    "import os\n",
    "import sys\n",
    "\n",
    "# on a obtenu le chemin absolu vers notre répertoire en utilisant\n",
    "# le terminal (ls, pwd, cd)\n",
    "module_1_directory = '/Users/khelifanail/Documents/GitHub/Portfolio_clustering_project/code'\n",
    "\n",
    "# Ajouter le chemin du répertoire 'code' au chemin de recherche Python\n",
    "sys.path.append(module_1_directory)\n",
    "\n",
    "# Maintenant, vous pouvez importer module1\n",
    "import module1"
   ]
  },
  {
   "cell_type": "markdown",
   "metadata": {},
   "source": [
    "### 1. Importation of data\n",
    "\n",
    "We download various types of data (Open, High, Low, Close, Adj Close, Volume) for **496** assets between two periods (start, end) into a pandas dataframe denoted as df.\n",
    "\n",
    "We then store the returns of each of these assets in the 'data'."
   ]
  },
  {
   "cell_type": "code",
   "execution_count": 51,
   "metadata": {},
   "outputs": [],
   "source": [
    "df = pd.read_csv('/Users/khelifanail/Documents/GitHub/Portfolio_clustering_project/Data/DATA_Statapp.csv')"
   ]
  },
  {
   "cell_type": "code",
   "execution_count": 53,
   "metadata": {},
   "outputs": [],
   "source": [
    "data = df[['ticker', 'open', 'close']]"
   ]
  },
  {
   "cell_type": "code",
   "execution_count": 54,
   "metadata": {},
   "outputs": [
    {
     "data": {
      "text/html": [
       "<div>\n",
       "<style scoped>\n",
       "    .dataframe tbody tr th:only-of-type {\n",
       "        vertical-align: middle;\n",
       "    }\n",
       "\n",
       "    .dataframe tbody tr th {\n",
       "        vertical-align: top;\n",
       "    }\n",
       "\n",
       "    .dataframe thead th {\n",
       "        text-align: right;\n",
       "    }\n",
       "</style>\n",
       "<table border=\"1\" class=\"dataframe\">\n",
       "  <thead>\n",
       "    <tr style=\"text-align: right;\">\n",
       "      <th></th>\n",
       "      <th>open</th>\n",
       "      <th>close</th>\n",
       "    </tr>\n",
       "    <tr>\n",
       "      <th>ticker</th>\n",
       "      <th></th>\n",
       "      <th></th>\n",
       "    </tr>\n",
       "  </thead>\n",
       "  <tbody>\n",
       "    <tr>\n",
       "      <th>AA</th>\n",
       "      <td>[82.0, 80.5, 82.0, 85.875, 86.0, 87.125, 82.0,...</td>\n",
       "      <td>[80.9375, 81.3125, 86.0, 84.875, 84.625, 84.37...</td>\n",
       "    </tr>\n",
       "    <tr>\n",
       "      <th>ABM</th>\n",
       "      <td>[20.5, 20.125, 20.25, 20.1875, 20.1875, 20.25,...</td>\n",
       "      <td>[20.3125, 20.375, 20.125, 20.1875, 20.25, 20.2...</td>\n",
       "    </tr>\n",
       "    <tr>\n",
       "      <th>ABT</th>\n",
       "      <td>[35.25, 34.4375, 33.5625, 34.0, 34.5, 36.0, 34...</td>\n",
       "      <td>[35.0, 34.0, 33.9375, 35.125, 35.5, 35.25, 34....</td>\n",
       "    </tr>\n",
       "    <tr>\n",
       "      <th>ADI</th>\n",
       "      <td>[93.5, 89.5, 85.625, 86.875, 84.0, 90.0, 93.5,...</td>\n",
       "      <td>[90.1875, 85.625, 86.875, 84.5, 86.875, 94.437...</td>\n",
       "    </tr>\n",
       "    <tr>\n",
       "      <th>ADM</th>\n",
       "      <td>[12.0, 11.8125, 11.875, 11.625, 11.875, 12.0, ...</td>\n",
       "      <td>[12.0, 11.875, 11.6875, 11.75, 11.9375, 11.937...</td>\n",
       "    </tr>\n",
       "    <tr>\n",
       "      <th>...</th>\n",
       "      <td>...</td>\n",
       "      <td>...</td>\n",
       "    </tr>\n",
       "    <tr>\n",
       "      <th>XLY</th>\n",
       "      <td>[31.0, 29.6875, 29.34375, 29.04688, 29.5, 30.5...</td>\n",
       "      <td>[30.125, 29.21875, 28.85938, 29.1875, 30.5625,...</td>\n",
       "    </tr>\n",
       "    <tr>\n",
       "      <th>XOM</th>\n",
       "      <td>[79.5, 77.375, 78.0, 80.625, 85.9375, 84.1875,...</td>\n",
       "      <td>[78.1875, 76.8125, 81.0, 85.0, 84.9375, 83.75,...</td>\n",
       "    </tr>\n",
       "    <tr>\n",
       "      <th>XRX</th>\n",
       "      <td>[23.375, 24.1875, 23.0, 23.5625, 23.75, 24.75,...</td>\n",
       "      <td>[24.1875, 23.0625, 23.5, 23.75, 24.3125, 23.75...</td>\n",
       "    </tr>\n",
       "    <tr>\n",
       "      <th>YUM</th>\n",
       "      <td>[38.5625, 37.0, 36.75, 36.5, 36.4375, 35.5625,...</td>\n",
       "      <td>[37.3125, 36.5625, 36.75, 36.4375, 35.625, 37....</td>\n",
       "    </tr>\n",
       "    <tr>\n",
       "      <th>ZTR</th>\n",
       "      <td>[6.625, 6.5625, 6.5625, 6.625, 6.75, 6.75, 6.8...</td>\n",
       "      <td>[6.625, 6.6875, 6.625, 6.6875, 6.8125, 6.8125,...</td>\n",
       "    </tr>\n",
       "  </tbody>\n",
       "</table>\n",
       "<p>664 rows × 2 columns</p>\n",
       "</div>"
      ],
      "text/plain": [
       "                                                     open  \\\n",
       "ticker                                                      \n",
       "AA      [82.0, 80.5, 82.0, 85.875, 86.0, 87.125, 82.0,...   \n",
       "ABM     [20.5, 20.125, 20.25, 20.1875, 20.1875, 20.25,...   \n",
       "ABT     [35.25, 34.4375, 33.5625, 34.0, 34.5, 36.0, 34...   \n",
       "ADI     [93.5, 89.5, 85.625, 86.875, 84.0, 90.0, 93.5,...   \n",
       "ADM     [12.0, 11.8125, 11.875, 11.625, 11.875, 12.0, ...   \n",
       "...                                                   ...   \n",
       "XLY     [31.0, 29.6875, 29.34375, 29.04688, 29.5, 30.5...   \n",
       "XOM     [79.5, 77.375, 78.0, 80.625, 85.9375, 84.1875,...   \n",
       "XRX     [23.375, 24.1875, 23.0, 23.5625, 23.75, 24.75,...   \n",
       "YUM     [38.5625, 37.0, 36.75, 36.5, 36.4375, 35.5625,...   \n",
       "ZTR     [6.625, 6.5625, 6.5625, 6.625, 6.75, 6.75, 6.8...   \n",
       "\n",
       "                                                    close  \n",
       "ticker                                                     \n",
       "AA      [80.9375, 81.3125, 86.0, 84.875, 84.625, 84.37...  \n",
       "ABM     [20.3125, 20.375, 20.125, 20.1875, 20.25, 20.2...  \n",
       "ABT     [35.0, 34.0, 33.9375, 35.125, 35.5, 35.25, 34....  \n",
       "ADI     [90.1875, 85.625, 86.875, 84.5, 86.875, 94.437...  \n",
       "ADM     [12.0, 11.875, 11.6875, 11.75, 11.9375, 11.937...  \n",
       "...                                                   ...  \n",
       "XLY     [30.125, 29.21875, 28.85938, 29.1875, 30.5625,...  \n",
       "XOM     [78.1875, 76.8125, 81.0, 85.0, 84.9375, 83.75,...  \n",
       "XRX     [24.1875, 23.0625, 23.5, 23.75, 24.3125, 23.75...  \n",
       "YUM     [37.3125, 36.5625, 36.75, 36.4375, 35.625, 37....  \n",
       "ZTR     [6.625, 6.6875, 6.625, 6.6875, 6.8125, 6.8125,...  \n",
       "\n",
       "[664 rows x 2 columns]"
      ]
     },
     "execution_count": 54,
     "metadata": {},
     "output_type": "execute_result"
    }
   ],
   "source": [
    "list = data['ticker']\n",
    "data = data.drop(data.columns[0], axis=1)\n",
    "data.set_index(list)"
   ]
  },
  {
   "cell_type": "code",
   "execution_count": 114,
   "metadata": {},
   "outputs": [
    {
     "name": "stderr",
     "output_type": "stream",
     "text": [
      "/var/folders/q2/wg5gyfhj2r9cd97zfmckktvw0000gn/T/ipykernel_30968/109333977.py:1: FutureWarning: Series.__getitem__ treating keys as positions is deprecated. In a future version, integer keys will always be treated as labels (consistent with DataFrame behavior). To access a value by position, use `ser.iloc[pos]`\n",
      "  x = np.array(data.iloc[0][0].replace('[', '').replace(']', '').split(', '), dtype=float)\n",
      "/var/folders/q2/wg5gyfhj2r9cd97zfmckktvw0000gn/T/ipykernel_30968/109333977.py:2: FutureWarning: Series.__getitem__ treating keys as positions is deprecated. In a future version, integer keys will always be treated as labels (consistent with DataFrame behavior). To access a value by position, use `ser.iloc[pos]`\n",
      "  y = np.array(data.iloc[0][1].replace('[', '').replace(']', '').split(', '), dtype=float)\n"
     ]
    }
   ],
   "source": [
    "x = np.array(data.iloc[0][0].replace('[', '').replace(']', '').split(', '), dtype=float)\n",
    "y = np.array(data.iloc[0][1].replace('[', '').replace(']', '').split(', '), dtype=float)\n",
    "z = pd.DataFrame((x - y)/x)"
   ]
  },
  {
   "cell_type": "code",
   "execution_count": 129,
   "metadata": {},
   "outputs": [
    {
     "data": {
      "text/html": [
       "<div>\n",
       "<style scoped>\n",
       "    .dataframe tbody tr th:only-of-type {\n",
       "        vertical-align: middle;\n",
       "    }\n",
       "\n",
       "    .dataframe tbody tr th {\n",
       "        vertical-align: top;\n",
       "    }\n",
       "\n",
       "    .dataframe thead th {\n",
       "        text-align: right;\n",
       "    }\n",
       "</style>\n",
       "<table border=\"1\" class=\"dataframe\">\n",
       "  <thead>\n",
       "    <tr style=\"text-align: right;\">\n",
       "      <th></th>\n",
       "      <th>0</th>\n",
       "    </tr>\n",
       "  </thead>\n",
       "  <tbody>\n",
       "    <tr>\n",
       "      <th>0</th>\n",
       "      <td>0.000000</td>\n",
       "    </tr>\n",
       "    <tr>\n",
       "      <th>1</th>\n",
       "      <td>0.019048</td>\n",
       "    </tr>\n",
       "    <tr>\n",
       "      <th>2</th>\n",
       "      <td>0.009524</td>\n",
       "    </tr>\n",
       "    <tr>\n",
       "      <th>3</th>\n",
       "      <td>0.009434</td>\n",
       "    </tr>\n",
       "    <tr>\n",
       "      <th>4</th>\n",
       "      <td>0.009259</td>\n",
       "    </tr>\n",
       "    <tr>\n",
       "      <th>...</th>\n",
       "      <td>...</td>\n",
       "    </tr>\n",
       "    <tr>\n",
       "      <th>5526</th>\n",
       "      <td>-0.003158</td>\n",
       "    </tr>\n",
       "    <tr>\n",
       "      <th>5527</th>\n",
       "      <td>-0.005252</td>\n",
       "    </tr>\n",
       "    <tr>\n",
       "      <th>5528</th>\n",
       "      <td>-0.001052</td>\n",
       "    </tr>\n",
       "    <tr>\n",
       "      <th>5529</th>\n",
       "      <td>0.001057</td>\n",
       "    </tr>\n",
       "    <tr>\n",
       "      <th>5530</th>\n",
       "      <td>0.004233</td>\n",
       "    </tr>\n",
       "  </tbody>\n",
       "</table>\n",
       "<p>5531 rows × 1 columns</p>\n",
       "</div>"
      ],
      "text/plain": [
       "             0\n",
       "0     0.000000\n",
       "1     0.019048\n",
       "2     0.009524\n",
       "3     0.009434\n",
       "4     0.009259\n",
       "...        ...\n",
       "5526 -0.003158\n",
       "5527 -0.005252\n",
       "5528 -0.001052\n",
       "5529  0.001057\n",
       "5530  0.004233\n",
       "\n",
       "[5531 rows x 1 columns]"
      ]
     },
     "execution_count": 129,
     "metadata": {},
     "output_type": "execute_result"
    }
   ],
   "source": [
    "z"
   ]
  },
  {
   "cell_type": "code",
   "execution_count": 133,
   "metadata": {},
   "outputs": [
    {
     "name": "stderr",
     "output_type": "stream",
     "text": [
      "/var/folders/q2/wg5gyfhj2r9cd97zfmckktvw0000gn/T/ipykernel_30968/1938803176.py:5: FutureWarning: Series.__getitem__ treating keys as positions is deprecated. In a future version, integer keys will always be treated as labels (consistent with DataFrame behavior). To access a value by position, use `ser.iloc[pos]`\n",
      "  x = np.array(data.iloc[i][0].replace('[', '').replace(']', '').split(', '), dtype=float)## open\n",
      "/var/folders/q2/wg5gyfhj2r9cd97zfmckktvw0000gn/T/ipykernel_30968/1938803176.py:6: FutureWarning: Series.__getitem__ treating keys as positions is deprecated. In a future version, integer keys will always be treated as labels (consistent with DataFrame behavior). To access a value by position, use `ser.iloc[pos]`\n",
      "  y = np.array(data.iloc[i][1].replace('[', '').replace(']', '').split(', '), dtype=float) ## close\n",
      "/var/folders/q2/wg5gyfhj2r9cd97zfmckktvw0000gn/T/ipykernel_30968/1938803176.py:8: FutureWarning: Series.__setitem__ treating keys as positions is deprecated. In a future version, integer keys will always be treated as labels (consistent with DataFrame behavior). To set a value by position, use `ser.iloc[pos] = value`\n",
      "  df2.iloc[i][0] = z\n"
     ]
    }
   ],
   "source": [
    "n, p = df.shape\n",
    "\n",
    "df2 = pd.DataFrame(index=data.index, columns=['return'])\n",
    "for i in range(n):\n",
    "    x = np.array(data.iloc[i][0].replace('[', '').replace(']', '').split(', '), dtype=float)## open\n",
    "    y = np.array(data.iloc[i][1].replace('[', '').replace(']', '').split(', '), dtype=float) ## close\n",
    "    z = np.array((y - x) / x)\n",
    "    df2.iloc[i][0] = z"
   ]
  },
  {
   "cell_type": "code",
   "execution_count": 137,
   "metadata": {},
   "outputs": [
    {
     "data": {
      "text/plain": [
       "array([-0.01295732,  0.01009317,  0.04878049, ...,  0.00845594,\n",
       "       -0.00787534,  0.00709939])"
      ]
     },
     "execution_count": 137,
     "metadata": {},
     "output_type": "execute_result"
    }
   ],
   "source": [
    "df2.iloc[0, 0]"
   ]
  },
  {
   "cell_type": "code",
   "execution_count": 136,
   "metadata": {},
   "outputs": [
    {
     "data": {
      "text/plain": [
       "nan"
      ]
     },
     "execution_count": 136,
     "metadata": {},
     "output_type": "execute_result"
    }
   ],
   "source": [
    "df.iloc[i, 0]"
   ]
  },
  {
   "cell_type": "code",
   "execution_count": null,
   "metadata": {},
   "outputs": [],
   "source": []
  }
 ],
 "metadata": {
  "kernelspec": {
   "display_name": "Python 3",
   "language": "python",
   "name": "python3"
  },
  "language_info": {
   "codemirror_mode": {
    "name": "ipython",
    "version": 3
   },
   "file_extension": ".py",
   "mimetype": "text/x-python",
   "name": "python",
   "nbconvert_exporter": "python",
   "pygments_lexer": "ipython3",
   "version": "3.11.5"
  },
  "orig_nbformat": 4
 },
 "nbformat": 4,
 "nbformat_minor": 2
}
