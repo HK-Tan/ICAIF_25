{
 "cells": [
  {
   "cell_type": "markdown",
   "metadata": {},
   "source": [
    "## SigNet Package test\n",
    "\n",
    "**General idea** : test the functions defined in the module1.py file and make a first application.\n",
    "\n",
    "**General plan** : \n",
    "1. Import the data using the DropBox dataset\n",
    "\n",
    "2. Repeat the clustering several times to get several clustering outcomes\n",
    "\n",
    "3. Compute the weights of each stocks within each cluster \n",
    "\n",
    "4. Compute the returns of each portfolio, where one portfolio corresponds to one clustering and is composed of 5 big assets (which are the 5 clusters) **in this notebook, we first fix the number of clusters to be equal to 5**"
   ]
  },
  {
   "cell_type": "markdown",
   "metadata": {},
   "source": [
    "Here are the main package we use in this notebook"
   ]
  },
  {
   "cell_type": "code",
   "execution_count": 1,
   "metadata": {},
   "outputs": [],
   "source": [
    "import pandas as pd\n",
    "import numpy as np\n",
    "import yfinance as yf\n",
    "from sklearn.pipeline import Pipeline\n",
    "from sklearn.cluster import KMeans\n",
    "from sklearn.preprocessing import StandardScaler\n",
    "from bs4 import BeautifulSoup\n",
    "import requests \n",
    "from pypfopt.efficient_frontier import EfficientFrontier"
   ]
  },
  {
   "cell_type": "code",
   "execution_count": 2,
   "metadata": {},
   "outputs": [
    {
     "name": "stdout",
     "output_type": "stream",
     "text": [
      "Note: you may need to restart the kernel to use updated packages.\n"
     ]
    }
   ],
   "source": [
    "pip -q install git+https://github.com/robertmartin8/PyPortfolioOpt.git"
   ]
  },
  {
   "cell_type": "markdown",
   "metadata": {},
   "source": [
    "We also import the module1.py file to use the function we defined there."
   ]
  },
  {
   "cell_type": "code",
   "execution_count": 3,
   "metadata": {},
   "outputs": [],
   "source": [
    "## we make some manipulations to correctly import module1\n",
    "\n",
    "import os\n",
    "import sys\n",
    "\n",
    "# on a obtenu le chemin absolu vers notre répertoire en utilisant\n",
    "# le terminal (ls, pwd, cd)\n",
    "module_1_directory = '/Users/khelifanail/Documents/GitHub/Portfolio_clustering_project/code'\n",
    "\n",
    "# Ajouter le chemin du répertoire 'code' au chemin de recherche Python\n",
    "sys.path.append(module_1_directory)\n",
    "\n",
    "# Maintenant, vous pouvez importer module1\n",
    "import module1"
   ]
  },
  {
   "cell_type": "markdown",
   "metadata": {},
   "source": [
    "We also import the adjency.py file to use the function we defined there."
   ]
  },
  {
   "cell_type": "code",
   "execution_count": 4,
   "metadata": {},
   "outputs": [],
   "source": [
    "## we make some manipulations to correctly import module1\n",
    "\n",
    "import os\n",
    "import sys\n",
    "\n",
    "# on a obtenu le chemin absolu vers notre répertoire en utilisant\n",
    "# le terminal (ls, pwd, cd)\n",
    "adjency_directory = '/Users/khelifanail/Documents/GitHub/Portfolio_clustering_project/code'\n",
    "\n",
    "# Ajouter le chemin du répertoire 'code' au chemin de recherche Python\n",
    "sys.path.append(adjency_directory)\n",
    "\n",
    "# Maintenant, vous pouvez importer module1\n",
    "from adjency import Adjency"
   ]
  },
  {
   "cell_type": "markdown",
   "metadata": {},
   "source": [
    "### 1. Importation of data\n",
    "\n",
    "We download various types of data (Open, High, Low, Close, Adj Close, Volume) for **496** assets between two periods (start, end) into a pandas dataframe denoted as df.\n",
    "\n",
    "We then store the returns of each of these assets in the 'data'."
   ]
  },
  {
   "cell_type": "code",
   "execution_count": 5,
   "metadata": {},
   "outputs": [],
   "source": [
    "## beware of the path if Jerome or Mohamed use it \n",
    "\n",
    "adjency = Adjency(pd.read_csv('/Users/khelifanail/Documents/GitHub/Portfolio_clustering_project/Data/DATA_Statapp.csv'))"
   ]
  },
  {
   "cell_type": "code",
   "execution_count": 6,
   "metadata": {},
   "outputs": [
    {
     "name": "stderr",
     "output_type": "stream",
     "text": [
      "/Users/khelifanail/Documents/GitHub/Portfolio_clustering_project/Code/adjency.py:61: FutureWarning: Series.__getitem__ treating keys as positions is deprecated. In a future version, integer keys will always be treated as labels (consistent with DataFrame behavior). To access a value by position, use `ser.iloc[pos]`\n",
      "  x = np.array(data.iloc[i][0].replace('[', '').replace(']', '').split(', '), dtype=float)## open\n",
      "/Users/khelifanail/Documents/GitHub/Portfolio_clustering_project/Code/adjency.py:62: FutureWarning: Series.__getitem__ treating keys as positions is deprecated. In a future version, integer keys will always be treated as labels (consistent with DataFrame behavior). To access a value by position, use `ser.iloc[pos]`\n",
      "  y = np.array(data.iloc[i][1].replace('[', '').replace(']', '').split(', '), dtype=float) ## close\n"
     ]
    }
   ],
   "source": [
    "adjency.clean_data()"
   ]
  },
  {
   "cell_type": "markdown",
   "metadata": {},
   "source": [
    "#### Idea - Similarity\n",
    "\n",
    "A popular similarity measure in the literature is given by the **Pearson correlation coefficient** that measures linear dependence between variables and takes values in [−1, 1]. By interpreting the correlation matrix as a weighted network whose (signed) edge weights capture the pairwise correlations, we cluster the multivariate time series by clustering the underlying signed network. \n",
    "\n",
    "Pearson's correlation coefficient, when applied to a [[sample (statistics)|sample]], is commonly represented by $r_{xy}$ and may be referred to as the ''sample correlation coefficient'' or the ''sample Pearson correlation coefficient''. We can obtain a formula for $r_{xy}$ by substituting estimates of the covariances and variances based on a sample into the formula above. Given paired data $\\left\\{ (x_1,y_1),\\ldots,(x_n,y_n) \\right\\}$ consisting of $n$ pairs, $r_{xy}$ is defined as\n",
    "\n",
    "\\begin{align}\n",
    "r_{xy} =\\frac{\\sum ^n _{i=1}(x_i - \\bar{x})(y_i - \\bar{y})}{\\sqrt{\\sum ^n _{i=1}(x_i - \\bar{x})^2} \\sqrt{\\sum ^n _{i=1}(y_i - \\bar{y})^2}}\n",
    "\\end{align}\n",
    "\n",
    "where\n",
    "- $n$ is sample size\n",
    "- $x_i, y_i$ are the individual sample points indexed with $i$\n",
    "- $\\bar{x} = \\frac{1}{n} \\sum_{i=1}^n x_i$ (the sample mean); and analogously for $\\bar{y}$."
   ]
  },
  {
   "cell_type": "code",
   "execution_count": 7,
   "metadata": {},
   "outputs": [
    {
     "data": {
      "text/html": [
       "<div>\n",
       "<style scoped>\n",
       "    .dataframe tbody tr th:only-of-type {\n",
       "        vertical-align: middle;\n",
       "    }\n",
       "\n",
       "    .dataframe tbody tr th {\n",
       "        vertical-align: top;\n",
       "    }\n",
       "\n",
       "    .dataframe thead th {\n",
       "        text-align: right;\n",
       "    }\n",
       "</style>\n",
       "<table border=\"1\" class=\"dataframe\">\n",
       "  <thead>\n",
       "    <tr style=\"text-align: right;\">\n",
       "      <th></th>\n",
       "      <th>return</th>\n",
       "      <th>volume</th>\n",
       "    </tr>\n",
       "  </thead>\n",
       "  <tbody>\n",
       "    <tr>\n",
       "      <th>0</th>\n",
       "      <td>[-0.01295732  0.01009317  0.04878049 ...  0.00...</td>\n",
       "      <td>[1551299, 2234799, 3121599, 4494699, 4534699, ...</td>\n",
       "    </tr>\n",
       "    <tr>\n",
       "      <th>1</th>\n",
       "      <td>[-0.00914634  0.01242236 -0.00617284 ... -0.00...</td>\n",
       "      <td>[120800, 62400, 27400, 63900, 60500, 113100, 3...</td>\n",
       "    </tr>\n",
       "    <tr>\n",
       "      <th>2</th>\n",
       "      <td>[-0.0070922  -0.01270417  0.01117318 ...  0.00...</td>\n",
       "      <td>[4774099, 4818899, 5262299, 7846599, 7072899, ...</td>\n",
       "    </tr>\n",
       "    <tr>\n",
       "      <th>3</th>\n",
       "      <td>[-0.03542781 -0.04329609  0.01459854 ...  0.00...</td>\n",
       "      <td>[1827799, 1266599, 1614000, 1300500, 945300, 1...</td>\n",
       "    </tr>\n",
       "    <tr>\n",
       "      <th>4</th>\n",
       "      <td>[ 0.          0.00529101 -0.01578947 ... -0.00...</td>\n",
       "      <td>[893200, 986900, 986800, 816300, 1076000, 1346...</td>\n",
       "    </tr>\n",
       "    <tr>\n",
       "      <th>...</th>\n",
       "      <td>...</td>\n",
       "      <td>...</td>\n",
       "    </tr>\n",
       "    <tr>\n",
       "      <th>659</th>\n",
       "      <td>[-0.02822581 -0.01578947 -0.01650675 ... -0.00...</td>\n",
       "      <td>[212900, 177200, 124600, 135800, 69400, 41900,...</td>\n",
       "    </tr>\n",
       "    <tr>\n",
       "      <th>660</th>\n",
       "      <td>[-0.01650943 -0.00726979  0.03846154 ... -0.00...</td>\n",
       "      <td>[6728599, 7255399, 8742500, 9730699, 8302799, ...</td>\n",
       "    </tr>\n",
       "    <tr>\n",
       "      <th>661</th>\n",
       "      <td>[ 0.03475936 -0.04651163  0.02173913 ...  0.01...</td>\n",
       "      <td>[8772500, 6223899, 6259099, 4348299, 6237000, ...</td>\n",
       "    </tr>\n",
       "    <tr>\n",
       "      <th>662</th>\n",
       "      <td>[-0.03241491 -0.01182432  0.         ...  0.00...</td>\n",
       "      <td>[545200, 595800, 833400, 709500, 1089299, 9941...</td>\n",
       "    </tr>\n",
       "    <tr>\n",
       "      <th>663</th>\n",
       "      <td>[ 0.          0.01904762  0.00952381 ... -0.00...</td>\n",
       "      <td>[306900, 196700, 225400, 210700, 320600, 37670...</td>\n",
       "    </tr>\n",
       "  </tbody>\n",
       "</table>\n",
       "<p>664 rows × 2 columns</p>\n",
       "</div>"
      ],
      "text/plain": [
       "                                                return  \\\n",
       "0    [-0.01295732  0.01009317  0.04878049 ...  0.00...   \n",
       "1    [-0.00914634  0.01242236 -0.00617284 ... -0.00...   \n",
       "2    [-0.0070922  -0.01270417  0.01117318 ...  0.00...   \n",
       "3    [-0.03542781 -0.04329609  0.01459854 ...  0.00...   \n",
       "4    [ 0.          0.00529101 -0.01578947 ... -0.00...   \n",
       "..                                                 ...   \n",
       "659  [-0.02822581 -0.01578947 -0.01650675 ... -0.00...   \n",
       "660  [-0.01650943 -0.00726979  0.03846154 ... -0.00...   \n",
       "661  [ 0.03475936 -0.04651163  0.02173913 ...  0.01...   \n",
       "662  [-0.03241491 -0.01182432  0.         ...  0.00...   \n",
       "663  [ 0.          0.01904762  0.00952381 ... -0.00...   \n",
       "\n",
       "                                                volume  \n",
       "0    [1551299, 2234799, 3121599, 4494699, 4534699, ...  \n",
       "1    [120800, 62400, 27400, 63900, 60500, 113100, 3...  \n",
       "2    [4774099, 4818899, 5262299, 7846599, 7072899, ...  \n",
       "3    [1827799, 1266599, 1614000, 1300500, 945300, 1...  \n",
       "4    [893200, 986900, 986800, 816300, 1076000, 1346...  \n",
       "..                                                 ...  \n",
       "659  [212900, 177200, 124600, 135800, 69400, 41900,...  \n",
       "660  [6728599, 7255399, 8742500, 9730699, 8302799, ...  \n",
       "661  [8772500, 6223899, 6259099, 4348299, 6237000, ...  \n",
       "662  [545200, 595800, 833400, 709500, 1089299, 9941...  \n",
       "663  [306900, 196700, 225400, 210700, 320600, 37670...  \n",
       "\n",
       "[664 rows x 2 columns]"
      ]
     },
     "execution_count": 7,
     "metadata": {},
     "output_type": "execute_result"
    }
   ],
   "source": [
    "adjency.data"
   ]
  },
  {
   "cell_type": "code",
   "execution_count": 10,
   "metadata": {},
   "outputs": [],
   "source": [
    "adjency.pearson_corr_volume()"
   ]
  },
  {
   "cell_type": "code",
   "execution_count": null,
   "metadata": {},
   "outputs": [],
   "source": []
  }
 ],
 "metadata": {
  "kernelspec": {
   "display_name": "Python 3",
   "language": "python",
   "name": "python3"
  },
  "language_info": {
   "codemirror_mode": {
    "name": "ipython",
    "version": 3
   },
   "file_extension": ".py",
   "mimetype": "text/x-python",
   "name": "python",
   "nbconvert_exporter": "python",
   "pygments_lexer": "ipython3",
   "version": "3.11.5"
  },
  "orig_nbformat": 4
 },
 "nbformat": 4,
 "nbformat_minor": 2
}
