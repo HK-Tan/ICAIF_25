{
 "cells": [
  {
   "cell_type": "markdown",
   "metadata": {},
   "source": [
    "## SigNet Package test\n",
    "\n",
    "**General idea** : test the functions defined in the module1.py file and make a first application.\n",
    "\n",
    "**General plan** : \n",
    "1. Import the data using the DropBox dataset\n",
    "\n",
    "2. Repeat the clustering several times to get several clustering outcomes\n",
    "\n",
    "3. Compute the weights of each stocks within each cluster \n",
    "\n",
    "4. Compute the returns of each portfolio, where one portfolio corresponds to one clustering and is composed of 5 big assets (which are the 5 clusters) **in this notebook, we first fix the number of clusters to be equal to 5**"
   ]
  },
  {
   "cell_type": "markdown",
   "metadata": {},
   "source": [
    "Here are the main package we use in this notebook"
   ]
  },
  {
   "cell_type": "code",
   "execution_count": 1,
   "metadata": {},
   "outputs": [],
   "source": [
    "import pandas as pd\n",
    "import numpy as np\n",
    "import yfinance as yf\n",
    "from sklearn.pipeline import Pipeline\n",
    "from sklearn.cluster import KMeans\n",
    "from sklearn.preprocessing import StandardScaler\n",
    "from bs4 import BeautifulSoup\n",
    "import requests \n",
    "from pypfopt.efficient_frontier import EfficientFrontier"
   ]
  },
  {
   "cell_type": "code",
   "execution_count": 2,
   "metadata": {},
   "outputs": [
    {
     "name": "stdout",
     "output_type": "stream",
     "text": [
      "Note: you may need to restart the kernel to use updated packages.\n"
     ]
    }
   ],
   "source": [
    "pip -q install git+https://github.com/robertmartin8/PyPortfolioOpt.git"
   ]
  },
  {
   "cell_type": "markdown",
   "metadata": {},
   "source": [
    "We also import the module1.py file to use the function we defined there."
   ]
  },
  {
   "cell_type": "code",
   "execution_count": 3,
   "metadata": {},
   "outputs": [],
   "source": [
    "## we make some manipulations to correctly import module1\n",
    "\n",
    "import os\n",
    "import sys\n",
    "\n",
    "# on a obtenu le chemin absolu vers notre répertoire en utilisant\n",
    "# le terminal (ls, pwd, cd)\n",
    "module_1_directory = '/Users/khelifanail/Documents/GitHub/Portfolio_clustering_project/code'\n",
    "\n",
    "# Ajouter le chemin du répertoire 'code' au chemin de recherche Python\n",
    "sys.path.append(module_1_directory)\n",
    "\n",
    "# Maintenant, vous pouvez importer module1\n",
    "import module1"
   ]
  },
  {
   "cell_type": "markdown",
   "metadata": {},
   "source": [
    "We also import the adjency.py file to use the function we defined there."
   ]
  },
  {
   "cell_type": "code",
   "execution_count": 4,
   "metadata": {},
   "outputs": [],
   "source": [
    "## we make some manipulations to correctly import module1\n",
    "\n",
    "import os\n",
    "import sys\n",
    "\n",
    "# on a obtenu le chemin absolu vers notre répertoire en utilisant\n",
    "# le terminal (ls, pwd, cd)\n",
    "adjency_directory = '/Users/khelifanail/Documents/GitHub/Portfolio_clustering_project/code'\n",
    "\n",
    "# Ajouter le chemin du répertoire 'code' au chemin de recherche Python\n",
    "sys.path.append(adjency_directory)\n",
    "\n",
    "# Maintenant, vous pouvez importer module1\n",
    "from adjency import Adjency"
   ]
  },
  {
   "cell_type": "markdown",
   "metadata": {},
   "source": [
    "### 1. Importation of data\n",
    "\n",
    "We download various types of data (Open, High, Low, Close, Adj Close, Volume) for **496** assets between two periods (start, end) into a pandas dataframe denoted as df.\n",
    "\n",
    "We then store the returns of each of these assets in the 'data'."
   ]
  },
  {
   "cell_type": "code",
   "execution_count": 5,
   "metadata": {},
   "outputs": [],
   "source": [
    "## beware of the path if Jerome or Mohamed use it \n",
    "\n",
    "adjency = Adjency(pd.read_csv('/Users/khelifanail/Documents/GitHub/Portfolio_clustering_project/Data/DATA_Statapp.csv'))"
   ]
  },
  {
   "cell_type": "code",
   "execution_count": 6,
   "metadata": {},
   "outputs": [
    {
     "name": "stderr",
     "output_type": "stream",
     "text": [
      "/Users/khelifanail/Documents/GitHub/Portfolio_clustering_project/Code/adjency.py:61: FutureWarning: Series.__getitem__ treating keys as positions is deprecated. In a future version, integer keys will always be treated as labels (consistent with DataFrame behavior). To access a value by position, use `ser.iloc[pos]`\n",
      "  x = np.array(data.iloc[i][0].replace('[', '').replace(']', '').split(', '), dtype=float)## open\n",
      "/Users/khelifanail/Documents/GitHub/Portfolio_clustering_project/Code/adjency.py:62: FutureWarning: Series.__getitem__ treating keys as positions is deprecated. In a future version, integer keys will always be treated as labels (consistent with DataFrame behavior). To access a value by position, use `ser.iloc[pos]`\n",
      "  y = np.array(data.iloc[i][1].replace('[', '').replace(']', '').split(', '), dtype=float) ## close\n"
     ]
    }
   ],
   "source": [
    "adjency.clean_data()"
   ]
  },
  {
   "cell_type": "markdown",
   "metadata": {},
   "source": [
    "#### Idea - Similarity\n",
    "\n",
    "A popular similarity measure in the literature is given by the **Pearson correlation coefficient** that measures linear dependence between variables and takes values in [−1, 1]. By interpreting the correlation matrix as a weighted network whose (signed) edge weights capture the pairwise correlations, we cluster the multivariate time series by clustering the underlying signed network. \n",
    "\n",
    "Pearson's correlation coefficient, when applied to a [[sample (statistics)|sample]], is commonly represented by $r_{xy}$ and may be referred to as the ''sample correlation coefficient'' or the ''sample Pearson correlation coefficient''. We can obtain a formula for $r_{xy}$ by substituting estimates of the covariances and variances based on a sample into the formula above. Given paired data $\\left\\{ (x_1,y_1),\\ldots,(x_n,y_n) \\right\\}$ consisting of $n$ pairs, $r_{xy}$ is defined as\n",
    "\n",
    "\\begin{align}\n",
    "r_{xy} =\\frac{\\sum ^n _{i=1}(x_i - \\bar{x})(y_i - \\bar{y})}{\\sqrt{\\sum ^n _{i=1}(x_i - \\bar{x})^2} \\sqrt{\\sum ^n _{i=1}(y_i - \\bar{y})^2}}\n",
    "\\end{align}\n",
    "\n",
    "where\n",
    "- $n$ is sample size\n",
    "- $x_i, y_i$ are the individual sample points indexed with $i$\n",
    "- $\\bar{x} = \\frac{1}{n} \\sum_{i=1}^n x_i$ (the sample mean); and analogously for $\\bar{y}$."
   ]
  },
  {
   "cell_type": "code",
   "execution_count": 11,
   "metadata": {},
   "outputs": [
    {
     "data": {
      "text/html": [
       "<div>\n",
       "<style scoped>\n",
       "    .dataframe tbody tr th:only-of-type {\n",
       "        vertical-align: middle;\n",
       "    }\n",
       "\n",
       "    .dataframe tbody tr th {\n",
       "        vertical-align: top;\n",
       "    }\n",
       "\n",
       "    .dataframe thead th {\n",
       "        text-align: right;\n",
       "    }\n",
       "</style>\n",
       "<table border=\"1\" class=\"dataframe\">\n",
       "  <thead>\n",
       "    <tr style=\"text-align: right;\">\n",
       "      <th></th>\n",
       "      <th>return</th>\n",
       "      <th>volume</th>\n",
       "    </tr>\n",
       "  </thead>\n",
       "  <tbody>\n",
       "    <tr>\n",
       "      <th>0</th>\n",
       "      <td>[-0.01295732  0.01009317  0.04878049 ...  0.00...</td>\n",
       "      <td>[1551299, 2234799, 3121599, 4494699, 4534699, ...</td>\n",
       "    </tr>\n",
       "    <tr>\n",
       "      <th>1</th>\n",
       "      <td>[-0.00914634  0.01242236 -0.00617284 ... -0.00...</td>\n",
       "      <td>[120800, 62400, 27400, 63900, 60500, 113100, 3...</td>\n",
       "    </tr>\n",
       "    <tr>\n",
       "      <th>2</th>\n",
       "      <td>[-0.0070922  -0.01270417  0.01117318 ...  0.00...</td>\n",
       "      <td>[4774099, 4818899, 5262299, 7846599, 7072899, ...</td>\n",
       "    </tr>\n",
       "    <tr>\n",
       "      <th>3</th>\n",
       "      <td>[-0.03542781 -0.04329609  0.01459854 ...  0.00...</td>\n",
       "      <td>[1827799, 1266599, 1614000, 1300500, 945300, 1...</td>\n",
       "    </tr>\n",
       "    <tr>\n",
       "      <th>4</th>\n",
       "      <td>[ 0.          0.00529101 -0.01578947 ... -0.00...</td>\n",
       "      <td>[893200, 986900, 986800, 816300, 1076000, 1346...</td>\n",
       "    </tr>\n",
       "  </tbody>\n",
       "</table>\n",
       "</div>"
      ],
      "text/plain": [
       "                                              return  \\\n",
       "0  [-0.01295732  0.01009317  0.04878049 ...  0.00...   \n",
       "1  [-0.00914634  0.01242236 -0.00617284 ... -0.00...   \n",
       "2  [-0.0070922  -0.01270417  0.01117318 ...  0.00...   \n",
       "3  [-0.03542781 -0.04329609  0.01459854 ...  0.00...   \n",
       "4  [ 0.          0.00529101 -0.01578947 ... -0.00...   \n",
       "\n",
       "                                              volume  \n",
       "0  [1551299, 2234799, 3121599, 4494699, 4534699, ...  \n",
       "1  [120800, 62400, 27400, 63900, 60500, 113100, 3...  \n",
       "2  [4774099, 4818899, 5262299, 7846599, 7072899, ...  \n",
       "3  [1827799, 1266599, 1614000, 1300500, 945300, 1...  \n",
       "4  [893200, 986900, 986800, 816300, 1076000, 1346...  "
      ]
     },
     "execution_count": 11,
     "metadata": {},
     "output_type": "execute_result"
    }
   ],
   "source": [
    "adjency.data.head()"
   ]
  },
  {
   "cell_type": "code",
   "execution_count": 9,
   "metadata": {},
   "outputs": [
    {
     "ename": "ValueError",
     "evalue": "could not convert string to float: '-0.01295732  0.01009317  0.04878049 ...  0.00845594 -0.00787534\\n  0.00709939'",
     "output_type": "error",
     "traceback": [
      "\u001b[0;31m---------------------------------------------------------------------------\u001b[0m",
      "\u001b[0;31mValueError\u001b[0m                                Traceback (most recent call last)",
      "\u001b[1;32m/Users/khelifanail/Documents/GitHub/Portfolio_clustering_project/Code/test_signet.ipynb Cell 13\u001b[0m line \u001b[0;36m1\n\u001b[0;32m----> <a href='vscode-notebook-cell:/Users/khelifanail/Documents/GitHub/Portfolio_clustering_project/Code/test_signet.ipynb#X15sZmlsZQ%3D%3D?line=0'>1</a>\u001b[0m B \u001b[39m=\u001b[39m adjency\u001b[39m.\u001b[39;49mpearson_corr_volume(\u001b[39mtype\u001b[39;49m\u001b[39m=\u001b[39;49m\u001b[39m'\u001b[39;49m\u001b[39mreturns\u001b[39;49m\u001b[39m'\u001b[39;49m)\n",
      "File \u001b[0;32m~/Documents/GitHub/Portfolio_clustering_project/Code/adjency.py:151\u001b[0m, in \u001b[0;36mAdjency.pearson_corr_volume\u001b[0;34m(self, type)\u001b[0m\n\u001b[1;32m    148\u001b[0m     A[i, j] \u001b[39m=\u001b[39m \u001b[39m1\u001b[39m\n\u001b[1;32m    150\u001b[0m \u001b[39melse\u001b[39;00m: \n\u001b[0;32m--> 151\u001b[0m     x \u001b[39m=\u001b[39m np\u001b[39m.\u001b[39marray(\u001b[39mself\u001b[39m\u001b[39m.\u001b[39mdata\u001b[39m.\u001b[39miloc[i,\u001b[39m0\u001b[39m]\u001b[39m.\u001b[39mreplace(\u001b[39m'\u001b[39m\u001b[39m[\u001b[39m\u001b[39m'\u001b[39m, \u001b[39m'\u001b[39m\u001b[39m'\u001b[39m)\u001b[39m.\u001b[39mreplace(\u001b[39m'\u001b[39m\u001b[39m]\u001b[39m\u001b[39m'\u001b[39m, \u001b[39m'\u001b[39m\u001b[39m'\u001b[39m)\u001b[39m.\u001b[39msplit(\u001b[39m'\u001b[39m\u001b[39m, \u001b[39m\u001b[39m'\u001b[39m), dtype\u001b[39m=\u001b[39m\u001b[39mfloat\u001b[39m)\n\u001b[1;32m    152\u001b[0m     y \u001b[39m=\u001b[39m np\u001b[39m.\u001b[39marray(\u001b[39mself\u001b[39m\u001b[39m.\u001b[39mdata\u001b[39m.\u001b[39miloc[j,\u001b[39m0\u001b[39m]\u001b[39m.\u001b[39mreplace(\u001b[39m'\u001b[39m\u001b[39m[\u001b[39m\u001b[39m'\u001b[39m, \u001b[39m'\u001b[39m\u001b[39m'\u001b[39m)\u001b[39m.\u001b[39mreplace(\u001b[39m'\u001b[39m\u001b[39m]\u001b[39m\u001b[39m'\u001b[39m, \u001b[39m'\u001b[39m\u001b[39m'\u001b[39m)\u001b[39m.\u001b[39msplit(\u001b[39m'\u001b[39m\u001b[39m, \u001b[39m\u001b[39m'\u001b[39m), dtype\u001b[39m=\u001b[39m\u001b[39mfloat\u001b[39m)\n\u001b[1;32m    153\u001b[0m     A[i, j] \u001b[39m=\u001b[39m np\u001b[39m.\u001b[39mcorrcoef(x, y)[\u001b[39m0\u001b[39m, \u001b[39m1\u001b[39m]\n",
      "\u001b[0;31mValueError\u001b[0m: could not convert string to float: '-0.01295732  0.01009317  0.04878049 ...  0.00845594 -0.00787534\\n  0.00709939'"
     ]
    }
   ],
   "source": [
    "B = adjency.pearson_corr_volume(type='returns')"
   ]
  },
  {
   "cell_type": "code",
   "execution_count": 18,
   "metadata": {},
   "outputs": [],
   "source": [
    "## n_stocks = B.shape[0]\n",
    "\n",
    "n_stocks = 100\n",
    "\n",
    "A = np.zeros((n_stocks, n_stocks))\n",
    "\n",
    "for i in range(n_stocks):\n",
    "       \n",
    "       for j in range(i, n_stocks):\n",
    "            if i == j: \n",
    "                A[i, j] = 1\n",
    "            \n",
    "            else: \n",
    "                x = np.array(B.iloc[i,1].replace('[', '').replace(']', '').split(', '), dtype=float)\n",
    "                y = np.array(B.iloc[j,1].replace('[', '').replace(']', '').split(', '), dtype=float)\n",
    "                A[i, j] = np.corrcoef(x, y)[0, 1]\n"
   ]
  },
  {
   "cell_type": "code",
   "execution_count": 20,
   "metadata": {},
   "outputs": [],
   "source": [
    "B = pd.DataFrame(A + A.transpose() - np.eye(n_stocks))"
   ]
  },
  {
   "cell_type": "code",
   "execution_count": 24,
   "metadata": {},
   "outputs": [],
   "source": [
    "l = B[B <= 0].index"
   ]
  },
  {
   "cell_type": "code",
   "execution_count": 25,
   "metadata": {},
   "outputs": [
    {
     "data": {
      "text/plain": [
       "RangeIndex(start=0, stop=100, step=1)"
      ]
     },
     "execution_count": 25,
     "metadata": {},
     "output_type": "execute_result"
    }
   ],
   "source": [
    "l"
   ]
  },
  {
   "cell_type": "code",
   "execution_count": null,
   "metadata": {},
   "outputs": [],
   "source": []
  }
 ],
 "metadata": {
  "kernelspec": {
   "display_name": "Python 3",
   "language": "python",
   "name": "python3"
  },
  "language_info": {
   "codemirror_mode": {
    "name": "ipython",
    "version": 3
   },
   "file_extension": ".py",
   "mimetype": "text/x-python",
   "name": "python",
   "nbconvert_exporter": "python",
   "pygments_lexer": "ipython3",
   "version": "3.11.5"
  },
  "orig_nbformat": 4
 },
 "nbformat": 4,
 "nbformat_minor": 2
}
