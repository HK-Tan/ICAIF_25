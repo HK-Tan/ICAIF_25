{
 "cells": [
  {
   "cell_type": "code",
   "execution_count": 31,
   "metadata": {},
   "outputs": [],
   "source": [
    "import pandas as pd \n",
    "import numpy as np \n",
    "\n",
    "import os \n",
    "import sys \n",
    "\n",
    "module_path = os.path.abspath(os.path.join(os.getcwd(), '../Main_modules'))\n",
    "sys.path.append(module_path)\n",
    "\n",
    "import warnings \n",
    "import process \n",
    "from PyFolioC_classes import PyFolioC\n",
    "warnings.filterwarnings(\"ignore\") ## so that there are no polluting warnings as output of this cell"
   ]
  },
  {
   "cell_type": "code",
   "execution_count": 23,
   "metadata": {},
   "outputs": [
    {
     "data": {
      "text/plain": [
       "ticker\n",
       "AA     0.006530\n",
       "ABM   -0.010814\n",
       "ABT    0.004153\n",
       "ADI    0.000168\n",
       "ADM    0.008015\n",
       "         ...   \n",
       "XLY    0.003114\n",
       "XOM    0.010951\n",
       "XRX    0.002444\n",
       "YUM    0.000596\n",
       "ZTR    0.000000\n",
       "Name: 31/12/2019, Length: 663, dtype: float64"
      ]
     },
     "execution_count": 23,
     "metadata": {},
     "output_type": "execute_result"
    }
   ],
   "source": [
    "# Jerome path : r'C:\\Users\\33640\\OneDrive\\Documents\\GitHub\\Portfolio_clustering_project\\Data\\DataBase.csv'\n",
    "# Nail path : '/Users/khelifanail/Documents/GitHub/Portfolio_clustering_project/Data/DataBase.csv'\n",
    "df = pd.read_csv('/Users/khelifanail/Documents/GitHub/Portfolio_clustering_project/Data/DataBase.csv')\n",
    "\n",
    "df.set_index('ticker', inplace=True)\n",
    "\n",
    "df.columns = pd.to_datetime(df.columns.str[1:], format='%Y%m%d').strftime('%d/%m/%Y')\n",
    "\n",
    "df_cleaned = df.dropna() # Utilisez la méthode fillna(0) pour remplacer les NaN par 0\n",
    "\n",
    "df_cleaned = df_cleaned.transpose() ## WE WANT COLUMNS TO BE VECTOR OF RETURN FOR A GIVEN TICKER\n",
    "\n",
    "df_cleaned.iloc[5025,:]"
   ]
  },
  {
   "cell_type": "code",
   "execution_count": 24,
   "metadata": {},
   "outputs": [],
   "source": [
    "##################################################################### PARAMETERS #####################################################################\n",
    "historical_data = df_cleaned\n",
    "number_of_repetitions = 10\n",
    "lookback_window = [3190,3265]  ## new lookback_window\n",
    "evaluation_window = 5\n",
    "number_of_clusters = 24\n",
    "cov_method = 'SPONGE'\n",
    "sigma = 0.01 ## on a fait bouger sigma ici\n",
    "eta = 0.01\n",
    "markowitz_type = 'expected_returns'\n",
    "beta = 0.9\n",
    "K = 4  # Number of fold for the cross validation\n",
    "tc=0.0001\n",
    "\n",
    "##################################################################### PORTFOLIO ######################################################################\n",
    "portfolio = PyFolioC(number_of_repetitions=number_of_repetitions, historical_data=historical_data, lookback_window=lookback_window, evaluation_window=evaluation_window, number_of_clusters=number_of_clusters, sigma=sigma, eta=eta, EWA_cov=True, beta=beta, short_selling=True, cov_method=cov_method, markowitz_type=markowitz_type, transaction_cost_rate=tc)\n",
    "## year 2008-2009 ==> 2007:2262 if evaluation_window == 2\n",
    "## year 2008-2009 ==> 2007:2265 if evaluation_window == 5\n",
    "## year 2012-2013 ==> 3016:3265\n",
    "## year 2018-2019 ==> 4524:4774\n",
    "## year 2016-2019 ==> 4021:4774\n",
    "## year 2010-2020 ==> 2512:5279 (we go until 5277 to have a multiple of 5 for the difference)\n",
    "######### year 2013-2019 ==> 3265:5025 352 window of 5"
   ]
  },
  {
   "cell_type": "code",
   "execution_count": 25,
   "metadata": {},
   "outputs": [],
   "source": [
    "def calculate_mean_correlation(df):\n",
    "    \"\"\"\n",
    "    Calculate the average correlation between columns of a DataFrame and optionally plot a heatmap.\n",
    "\n",
    "    Args:\n",
    "        df (pd.DataFrame): The DataFrame containing the data to analyze.\n",
    "    Returns:\n",
    "        float: The average correlation between columns of the DataFrame.\n",
    "    \"\"\"\n",
    "    # Check if the DataFrame is empty\n",
    "    if df.empty:\n",
    "        raise ValueError(\"The DataFrame is empty. Please provide a valid DataFrame.\")\n",
    "    \n",
    "    # Compute the Pearson correlation matrix\n",
    "    correlation_matrix = df.corr()\n",
    "\n",
    "\n",
    "    # Extraire les valeurs de la matrice de corrélation, en excluant la diagonale\n",
    "    correlation_values = correlation_matrix.values\n",
    "    n = correlation_values.shape[0]  # Nombre de colonnes\n",
    "\n",
    "    # Accumuler la somme des coefficients de corrélation (hors diagonale)\n",
    "    total_correlation = 0\n",
    "    count = 0\n",
    "    \n",
    "    for i in range(n):\n",
    "        for j in range(i + 1, n):\n",
    "            total_correlation += correlation_values[i, j]\n",
    "            count += 1\n",
    "\n",
    "        # Calculer la corrélation moyenne\n",
    "    mean_correlation = total_correlation / count if count != 0 else 0\n",
    "\n",
    "    return mean_correlation"
   ]
  },
  {
   "cell_type": "code",
   "execution_count": 42,
   "metadata": {},
   "outputs": [],
   "source": [
    "def most_corr_cluster(portfolio, lookback_window, df_cleaned, strat='correlation'):\n",
    "    mean_corr_list = []\n",
    "\n",
    "    for name, cluster in portfolio.cluster_composition.items():\n",
    "        # on récupère les tickers des actifs au sein de chaque cluster\n",
    "        tickers = cluster['tickers']\n",
    "        # we look at the most correlated cluster after the training (so on the lookback window)\n",
    "        tickers_df = df_cleaned[tickers].iloc[lookback_window[0]:lookback_window[1], :]\n",
    "        mean_corr = calculate_mean_correlation(tickers_df)\n",
    "        mean_corr_list.append((name, mean_corr, tickers))\n",
    "\n",
    "    sorted_cluster_corr_list = sorted(mean_corr_list, key=lambda x: x[1])\n",
    "\n",
    "    # on récupère le nom du cluster le plus corrélé \n",
    "    most_corr_cluster = sorted_cluster_corr_list[-1]\n",
    "\n",
    "    return most_corr_cluster"
   ]
  },
  {
   "cell_type": "code",
   "execution_count": 43,
   "metadata": {},
   "outputs": [],
   "source": [
    "def most_corr_returns(portfolio, lookback_window, evaluation_window, df_cleaned):\n",
    "    \n",
    "    mean_corr_list = []\n",
    "\n",
    "    for name, cluster in portfolio.cluster_composition.items():\n",
    "        # on récupère les tickers des actifs au sein de chaque cluster\n",
    "        tickers = cluster['tickers']\n",
    "        tickers_df = df_cleaned[tickers].iloc[lookback_window[0]:lookback_window[1], :]\n",
    "        mean_corr = calculate_mean_correlation(tickers_df)\n",
    "        mean_corr_list.append((name, mean_corr, tickers))\n",
    "\n",
    "    sorted_cluster_corr_list = sorted(mean_corr_list, key=lambda x: x[1])\n",
    "\n",
    "    # on récupère le nom du cluster le plus corrélé \n",
    "    most_corr_cluster = sorted_cluster_corr_list[-1]\n",
    "\n",
    "    # we compute the returns of the cluster on the evaluation period \n",
    "    most_corr_cluster_returns = pd.DataFrame(index = df_cleaned.index[lookback_window[1]:lookback_window[1]+evaluation_window], columns=[most_corr_cluster[0]], data = np.zeros((evaluation_window, 1)))\n",
    "\n",
    "    for ticker, weight in portfolio.constituent_weights_res[most_corr_cluster[0]].items():\n",
    "\n",
    "        ## we transpose df_cleaned to have columns for each ticker\n",
    "        most_corr_cluster_returns[most_corr_cluster[0]] = most_corr_cluster_returns[most_corr_cluster[0]] + df_cleaned[ticker][lookback_window[1]:lookback_window[1]+evaluation_window]*weight\n",
    "\n",
    "    most_corr_cluster_returns\n",
    "\n",
    "    return most_corr_cluster_returns"
   ]
  },
  {
   "cell_type": "code",
   "execution_count": null,
   "metadata": {},
   "outputs": [],
   "source": []
  }
 ],
 "metadata": {
  "kernelspec": {
   "display_name": "Python 3",
   "language": "python",
   "name": "python3"
  },
  "language_info": {
   "codemirror_mode": {
    "name": "ipython",
    "version": 3
   },
   "file_extension": ".py",
   "mimetype": "text/x-python",
   "name": "python",
   "nbconvert_exporter": "python",
   "pygments_lexer": "ipython3",
   "version": "3.9.6"
  },
  "orig_nbformat": 4
 },
 "nbformat": 4,
 "nbformat_minor": 2
}
