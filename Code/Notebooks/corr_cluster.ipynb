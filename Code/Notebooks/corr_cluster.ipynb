{
 "cells": [
  {
   "cell_type": "code",
   "execution_count": 1,
   "metadata": {},
   "outputs": [
    {
     "name": "stderr",
     "output_type": "stream",
     "text": [
      "/Users/khelifanail/Library/Python/3.9/lib/python/site-packages/urllib3/__init__.py:35: NotOpenSSLWarning: urllib3 v2 only supports OpenSSL 1.1.1+, currently the 'ssl' module is compiled with 'LibreSSL 2.8.3'. See: https://github.com/urllib3/urllib3/issues/3020\n",
      "  warnings.warn(\n"
     ]
    }
   ],
   "source": [
    "import pandas as pd \n",
    "import numpy as np \n",
    "\n",
    "import os \n",
    "import sys \n",
    "\n",
    "module_path = os.path.abspath(os.path.join(os.getcwd(), '../Main_modules'))\n",
    "sys.path.append(module_path)\n",
    "\n",
    "import warnings \n",
    "import process \n",
    "from PyFolioC_classes import PyFolioC\n",
    "warnings.filterwarnings(\"ignore\") ## so that there are no polluting warnings as output of this cell"
   ]
  },
  {
   "cell_type": "code",
   "execution_count": 2,
   "metadata": {},
   "outputs": [
    {
     "data": {
      "text/plain": [
       "ticker\n",
       "AA     0.006530\n",
       "ABM   -0.010814\n",
       "ABT    0.004153\n",
       "ADI    0.000168\n",
       "ADM    0.008015\n",
       "         ...   \n",
       "XLY    0.003114\n",
       "XOM    0.010951\n",
       "XRX    0.002444\n",
       "YUM    0.000596\n",
       "ZTR    0.000000\n",
       "Name: 31/12/2019, Length: 663, dtype: float64"
      ]
     },
     "execution_count": 2,
     "metadata": {},
     "output_type": "execute_result"
    }
   ],
   "source": [
    "# Jerome path : r'C:\\Users\\33640\\OneDrive\\Documents\\GitHub\\Portfolio_clustering_project\\Data\\DataBase.csv'\n",
    "# Nail path : '/Users/khelifanail/Documents/GitHub/Portfolio_clustering_project/Data/DataBase.csv'\n",
    "df = pd.read_csv('/Users/khelifanail/Documents/GitHub/Portfolio_clustering_project/Data/DataBase.csv')\n",
    "\n",
    "df.set_index('ticker', inplace=True)\n",
    "\n",
    "df.columns = pd.to_datetime(df.columns.str[1:], format='%Y%m%d').strftime('%d/%m/%Y')\n",
    "\n",
    "df_cleaned = df.dropna() # Utilisez la méthode fillna(0) pour remplacer les NaN par 0\n",
    "\n",
    "df_cleaned = df_cleaned.transpose() ## WE WANT COLUMNS TO BE VECTOR OF RETURN FOR A GIVEN TICKER\n",
    "\n",
    "df_cleaned.iloc[5025,:]"
   ]
  },
  {
   "cell_type": "code",
   "execution_count": 3,
   "metadata": {},
   "outputs": [],
   "source": [
    "##################################################################### PARAMETERS #####################################################################\n",
    "historical_data = df_cleaned\n",
    "number_of_repetitions = 10\n",
    "lookback_window = [3190,3265]  ## new lookback_window\n",
    "evaluation_window = 5\n",
    "number_of_clusters = 24\n",
    "cov_method = 'SPONGE'\n",
    "sigma = 0.01 ## on a fait bouger sigma ici\n",
    "eta = 0.01\n",
    "markowitz_type = 'expected_returns'\n",
    "beta = 0.9\n",
    "K = 4  # Number of fold for the cross validation\n",
    "tc=0.0001\n",
    "\n",
    "##################################################################### PORTFOLIO ######################################################################\n",
    "portfolio = PyFolioC(number_of_repetitions=number_of_repetitions, historical_data=historical_data, lookback_window=lookback_window, evaluation_window=evaluation_window, number_of_clusters=number_of_clusters, sigma=sigma, eta=eta, EWA_cov=True, beta=beta, short_selling=True, cov_method=cov_method, markowitz_type=markowitz_type, transaction_cost_rate=tc)\n",
    "## year 2008-2009 ==> 2007:2262 if evaluation_window == 2\n",
    "## year 2008-2009 ==> 2007:2265 if evaluation_window == 5\n",
    "## year 2012-2013 ==> 3016:3265\n",
    "## year 2018-2019 ==> 4524:4774\n",
    "## year 2016-2019 ==> 4021:4774\n",
    "## year 2010-2020 ==> 2512:5279 (we go until 5277 to have a multiple of 5 for the difference)\n",
    "######### year 2013-2019 ==> 3265:5025 352 window of 5"
   ]
  },
  {
   "cell_type": "code",
   "execution_count": 6,
   "metadata": {},
   "outputs": [],
   "source": [
    "def calculate_mean_correlation(df):\n",
    "    \"\"\"\n",
    "    Calculate the average correlation between columns of a DataFrame and optionally plot a heatmap.\n",
    "    Args:\n",
    "        df (pd.DataFrame): The DataFrame containing the data to analyze.\n",
    "    Returns:\n",
    "        float: The average correlation between columns of the DataFrame.\n",
    "    \"\"\"\n",
    "    if df.empty:\n",
    "        raise ValueError(\"The DataFrame is empty. Please provide a valid DataFrame.\")\n",
    "    \n",
    "    correlation_matrix = df.corr()\n",
    "    correlation_values = correlation_matrix.values\n",
    "    n = correlation_values.shape[0]\n",
    "\n",
    "    total_correlation = 0\n",
    "    count = 0\n",
    "    \n",
    "    for i in range(n):\n",
    "        for j in range(i + 1, n):\n",
    "            total_correlation += correlation_values[i, j]\n",
    "            count += 1\n",
    "\n",
    "    mean_correlation = total_correlation / count if count != 0 else 0\n",
    "    return mean_correlation\n",
    "\n",
    "def get_most_corr_cluster(portfolio, lookback_window, df_cleaned, number=1, strat='correlation'):\n",
    "\n",
    "    '''\n",
    "    return the number-th most correlated cluster\n",
    "    '''\n",
    "\n",
    "    mean_corr_list = []\n",
    "\n",
    "    for name, cluster in portfolio.cluster_composition.items():\n",
    "        tickers = cluster['tickers']\n",
    "        tickers_df = df_cleaned[tickers].iloc[lookback_window[0]:lookback_window[1], :]\n",
    "        mean_corr = calculate_mean_correlation(tickers_df)\n",
    "        mean_corr_list.append((name, mean_corr, tickers))\n",
    "\n",
    "    sorted_cluster_corr_list = sorted(mean_corr_list, key=lambda x: x[1])\n",
    "    most_corr_cluster = sorted_cluster_corr_list[-number]\n",
    "\n",
    "    return most_corr_cluster\n",
    "\n",
    "def most_corr_returns(portfolio, lookback_window, evaluation_window, df_cleaned, number=1):\n",
    "    \n",
    "    # tuple of length 3: (cluster name, average correlation, cluster composition)\n",
    "    most_corr_cluster = get_most_corr_cluster(portfolio, lookback_window, df_cleaned, number)\n",
    "    cluster_name = most_corr_cluster[0]\n",
    "    ticker_list = most_corr_cluster[2]\n",
    "\n",
    "    # we prepare an empty dataset\n",
    "    most_corr_cluster_returns = pd.DataFrame(\n",
    "        index=df_cleaned.index[lookback_window[1]:lookback_window[1]+evaluation_window], \n",
    "        columns=[cluster_name], \n",
    "        data=np.zeros((evaluation_window, 1))\n",
    "    )\n",
    "\n",
    "    for ticker in ticker_list:\n",
    "        most_corr_cluster_returns[cluster_name] += df_cleaned[ticker][lookback_window[1]:lookback_window[1]+evaluation_window] * portfolio.consolidated_weight[ticker].values[0]\n",
    "\n",
    "    return most_corr_cluster_returns\n",
    "\n",
    "def most_corr_PnL(consolidated_portfolio, lookback_window, evaluation_window, df_cleaned, number=1):\n",
    "\n",
    "    most_corr_return = most_corr_returns(consolidated_portfolio, lookback_window, evaluation_window, df_cleaned, number)\n",
    "\n",
    "    cumulative_returns = np.cumprod(1 + most_corr_return) * 1 - 1\n",
    "\n",
    "    return cumulative_returns.iloc[-1][0]\n"
   ]
  },
  {
   "cell_type": "code",
   "execution_count": 7,
   "metadata": {},
   "outputs": [],
   "source": [
    "x = most_corr_PnL(portfolio, lookback_window, evaluation_window, df_cleaned)"
   ]
  },
  {
   "cell_type": "code",
   "execution_count": 8,
   "metadata": {},
   "outputs": [],
   "source": [
    "non_adjusted_returns = np.cumprod(portfolio.portfolio_return['return'] + 1) - 1 "
   ]
  },
  {
   "cell_type": "code",
   "execution_count": 13,
   "metadata": {},
   "outputs": [
    {
     "data": {
      "text/plain": [
       "0.003704408560364042"
      ]
     },
     "execution_count": 13,
     "metadata": {},
     "output_type": "execute_result"
    }
   ],
   "source": [
    "x/non_adjusted_returns[-1]"
   ]
  },
  {
   "cell_type": "code",
   "execution_count": null,
   "metadata": {},
   "outputs": [],
   "source": []
  }
 ],
 "metadata": {
  "kernelspec": {
   "display_name": "Python 3",
   "language": "python",
   "name": "python3"
  },
  "language_info": {
   "codemirror_mode": {
    "name": "ipython",
    "version": 3
   },
   "file_extension": ".py",
   "mimetype": "text/x-python",
   "name": "python",
   "nbconvert_exporter": "python",
   "pygments_lexer": "ipython3",
   "version": "3.9.6"
  },
  "orig_nbformat": 4
 },
 "nbformat": 4,
 "nbformat_minor": 2
}
