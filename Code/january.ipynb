{
 "cells": [
  {
   "cell_type": "markdown",
   "metadata": {},
   "source": [
    "**ÉTAPE 0** : préparation des données"
   ]
  },
  {
   "cell_type": "code",
   "execution_count": 3,
   "metadata": {},
   "outputs": [
    {
     "name": "stdout",
     "output_type": "stream",
     "text": [
      "There are no NaN values in the dataframe\n"
     ]
    },
    {
     "data": {
      "text/plain": [
       "(632, 5532)"
      ]
     },
     "execution_count": 3,
     "metadata": {},
     "output_type": "execute_result"
    }
   ],
   "source": [
    "import process \n",
    "# Nail path : '/Users/khelifanail/Documents/GitHub/Portfolio_clustering_project/Data/DATA_Statapp.csv'\n",
    "# Jerome path : 'C:\\Users\\33640\\OneDrive\\Documents\\GitHub\\Portfolio_clustering_project\\Data\\DATA_Statapp.csv'\n",
    "# Mohamed path : '/Users/khelifanail/Documents/GitHub/Portfolio_clustering_project/Data/DATA_Statapp.csv'\n",
    "df = pd.read_csv('/Users/khelifanail/Documents/GitHub/Portfolio_clustering_project/Data/DATA_Statapp.csv')\n",
    "\n",
    "# Apply conversion function to 'open' and 'close' columns\n",
    "df['open'] = df['open'].apply(process.safe_literal_eval)\n",
    "df['close'] = df['close'].apply(process.safe_literal_eval)\n",
    "\n",
    "# Calculate returns for each line\n",
    "df['return'] = df.apply(lambda row: [(close - open) / open for open, close in zip(row['open'], row['close'])], axis=1)\n",
    "\n",
    "new_df = df[['ticker', 'return']] # create a new data frame with the column ticker and return \n",
    "\n",
    "# Créons le DataFrame à partir des listes dans 'return'\n",
    "# On suppose ici que 'new_df' est déjà défini et contient la colonne 'return'\n",
    "\n",
    "# Convertir chaque liste dans la colonne 'return' en plusieurs colonnes dans le nouveau DataFrame\n",
    "returns_df = pd.DataFrame(new_df['return'].tolist())\n",
    "\n",
    "# Ajouter la colonne 'ticker' du 'new_df' au début de 'returns_df'\n",
    "returns_df.insert(0, 'ticker', new_df['ticker'])\n",
    "\n",
    "# Renommer les colonnes pour refléter qu'elles sont des rendements\n",
    "returns_df.columns = ['ticker'] + [f'return_{i}' for i in range(len(returns_df.columns) - 1)]\n",
    "\n",
    "df_cleaned = process.remove_rows_with_nan(returns_df)\n",
    "df_cleaned.reset_index(drop=True, inplace=True)\n",
    "\n",
    "process.check_nan_inf(df_cleaned)\n",
    "\n",
    "df_cleaned.shape"
   ]
  },
  {
   "cell_type": "markdown",
   "metadata": {},
   "source": [
    "**ÉTAPE 1** : Phase d'entraînement"
   ]
  },
  {
   "cell_type": "markdown",
   "metadata": {},
   "source": [
    "1. Obtention de la matrice de corrélation des actifs sur une fenêtre arrière de 30 jours (1 mois)"
   ]
  },
  {
   "cell_type": "code",
   "execution_count": 5,
   "metadata": {},
   "outputs": [],
   "source": [
    "lookback_window = 30\n",
    "correlation_matrix = process.correlation_matrix(lookback_window, df_cleaned)"
   ]
  },
  {
   "cell_type": "code",
   "execution_count": 17,
   "metadata": {},
   "outputs": [
    {
     "name": "stderr",
     "output_type": "stream",
     "text": [
      "/Users/khelifanail/Documents/GitHub/Portfolio_clustering_project/Code/process.py:43: FutureWarning: DataFrame.applymap has been deprecated. Use DataFrame.map instead.\n",
      "  A_pos = mat.applymap(lambda x: x if x >= 0 else 0)\n",
      "/Users/khelifanail/Documents/GitHub/Portfolio_clustering_project/Code/process.py:44: FutureWarning: DataFrame.applymap has been deprecated. Use DataFrame.map instead.\n",
      "  A_neg = mat.applymap(lambda x: abs(x) if x < 0 else 0)\n",
      "/Users/khelifanail/Documents/GitHub/Portfolio_clustering_project/signet/cluster.py:525: UserWarning: The problem size 30 minus the constraints size 0 is too small relative to the block size 19. Using a dense eigensolver instead of LOBPCG iterations.No output of the history of the iterations.\n",
      "  (w, v) = ss.linalg.lobpcg(matrix1, v0, B=matrix2, maxiter=mi, largest=False)\n",
      "/usr/local/lib/python3.11/site-packages/sklearn/cluster/_kmeans.py:1416: FutureWarning: The default value of `n_init` will change from 10 to 'auto' in 1.4. Set the value of `n_init` explicitly to suppress the warning\n",
      "  super()._check_params_vs_input(X, default_n_init=10)\n",
      "/Users/khelifanail/Documents/GitHub/Portfolio_clustering_project/Code/process.py:43: FutureWarning: DataFrame.applymap has been deprecated. Use DataFrame.map instead.\n",
      "  A_pos = mat.applymap(lambda x: x if x >= 0 else 0)\n",
      "/Users/khelifanail/Documents/GitHub/Portfolio_clustering_project/Code/process.py:44: FutureWarning: DataFrame.applymap has been deprecated. Use DataFrame.map instead.\n",
      "  A_neg = mat.applymap(lambda x: abs(x) if x < 0 else 0)\n",
      "/Users/khelifanail/Documents/GitHub/Portfolio_clustering_project/signet/cluster.py:525: UserWarning: The problem size 30 minus the constraints size 0 is too small relative to the block size 19. Using a dense eigensolver instead of LOBPCG iterations.No output of the history of the iterations.\n",
      "  (w, v) = ss.linalg.lobpcg(matrix1, v0, B=matrix2, maxiter=mi, largest=False)\n",
      "/usr/local/lib/python3.11/site-packages/sklearn/cluster/_kmeans.py:1416: FutureWarning: The default value of `n_init` will change from 10 to 'auto' in 1.4. Set the value of `n_init` explicitly to suppress the warning\n",
      "  super()._check_params_vs_input(X, default_n_init=10)\n"
     ]
    },
    {
     "data": {
      "text/plain": [
       "30"
      ]
     },
     "execution_count": 17,
     "metadata": {},
     "output_type": "execute_result"
    }
   ],
   "source": [
    "number_of_clusters = 20\n",
    "result1 = process.apply_SPONGE(correlation_matrix, number_of_clusters)\n",
    "result2 = process.apply_SPONGE(correlation_matrix, number_of_clusters)\n",
    "len(result1)"
   ]
  },
  {
   "cell_type": "code",
   "execution_count": null,
   "metadata": {},
   "outputs": [],
   "source": [
    "import numpy as np\n",
    "\n",
    "def M_average(n_repeat, n_cluster, correlation_matrix):\n",
    "    M_average = pd.DataFrame(index=[])"
   ]
  }
 ],
 "metadata": {
  "kernelspec": {
   "display_name": "Python 3",
   "language": "python",
   "name": "python3"
  },
  "language_info": {
   "codemirror_mode": {
    "name": "ipython",
    "version": 3
   },
   "file_extension": ".py",
   "mimetype": "text/x-python",
   "name": "python",
   "nbconvert_exporter": "python",
   "pygments_lexer": "ipython3",
   "version": "3.11.5"
  },
  "orig_nbformat": 4
 },
 "nbformat": 4,
 "nbformat_minor": 2
}
