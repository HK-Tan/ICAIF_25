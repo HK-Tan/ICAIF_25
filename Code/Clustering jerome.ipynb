{
 "cells": [
  {
   "cell_type": "code",
   "execution_count": 2,
   "metadata": {},
   "outputs": [
    {
     "name": "stdout",
     "output_type": "stream",
     "text": [
      "['ticker', 'open', 'high', 'low', 'close', 'volume', 'OPCL', 'pvCLCL', 'prevAdjClose', 'SPpvCLCL', 'sharesOut', 'PERMNO', 'SICCD', 'PERMCO', 'prevRawOpen', 'prevRawClose', 'prevAdjOpen']\n"
     ]
    }
   ],
   "source": [
    "import pandas as pd\n",
    "import numpy as np\n",
    "\n",
    "# Put your own path \n",
    "df = pd.read_csv(r'C:\\Users\\33640\\OneDrive\\Documents\\GitHub\\Portfolio_clustering_project\\Data\\DATA_Statapp.csv')\n",
    "\n",
    "print(df.columns.tolist())"
   ]
  },
  {
   "cell_type": "markdown",
   "metadata": {},
   "source": [
    "We first prepare the dataframe we will use to construct the portfolio: df_cleaned which contains the 5531 returns of 632 assets"
   ]
  },
  {
   "cell_type": "code",
   "execution_count": 3,
   "metadata": {},
   "outputs": [],
   "source": [
    "import pandas as pd\n",
    "import ast\n",
    "\n",
    "# Function to safely convert a string into a list\n",
    "def safe_literal_eval(s):\n",
    "    try:\n",
    "        # Tries to convert the string into a list\n",
    "        return ast.literal_eval(s)\n",
    "    except (ValueError, SyntaxError):\n",
    "        # If an error occurs, returns a default value, e.g. an empty list\n",
    "        return []\n",
    "\n",
    "# Apply conversion function to 'open' and 'close' columns\n",
    "df['open'] = df['open'].apply(safe_literal_eval)\n",
    "df['close'] = df['close'].apply(safe_literal_eval)\n",
    "\n",
    "# Calculate returns for each line\n",
    "df['return'] = df.apply(lambda row: [(close - open) / open for open, close in zip(row['open'], row['close'])], axis=1)\n",
    "\n"
   ]
  },
  {
   "cell_type": "code",
   "execution_count": 5,
   "metadata": {},
   "outputs": [],
   "source": [
    "new_df = df[['ticker', 'return']] # creat a new data frame with the column ticker and return "
   ]
  },
  {
   "cell_type": "code",
   "execution_count": 6,
   "metadata": {},
   "outputs": [
    {
     "name": "stdout",
     "output_type": "stream",
     "text": [
      "Il n'y a pas de valeurs NaN dans le DataFrame\n"
     ]
    },
    {
     "data": {
      "text/plain": [
       "(632, 5532)"
      ]
     },
     "execution_count": 6,
     "metadata": {},
     "output_type": "execute_result"
    }
   ],
   "source": [
    "# Créons le DataFrame à partir des listes dans 'return'\n",
    "# On suppose ici que 'new_df' est déjà défini et contient la colonne 'return'\n",
    "\n",
    "# Convertir chaque liste dans la colonne 'return' en plusieurs colonnes dans le nouveau DataFrame\n",
    "returns_df = pd.DataFrame(new_df['return'].tolist())\n",
    "\n",
    "# Ajouter la colonne 'ticker' du 'new_df' au début de 'returns_df'\n",
    "returns_df.insert(0, 'ticker', new_df['ticker'])\n",
    "\n",
    "# Renommer les colonnes pour refléter qu'elles sont des rendements\n",
    "returns_df.columns = ['ticker'] + [f'return_{i}' for i in range(len(returns_df.columns) - 1)]\n",
    "\n",
    "def check_nan_inf(df):\n",
    "    # Vérification des valeurs NaN\n",
    "    if df.isna().any().any():\n",
    "        print(\"Il y a des valeurs NaN dans le DataFrame\")\n",
    "    else:\n",
    "        print(\"Il n'y a pas de valeurs NaN dans le DataFrame\")\n",
    "\n",
    "def remove_rows_with_nan(df):\n",
    "    return df.dropna()\n",
    "\n",
    "df_cleaned = remove_rows_with_nan(returns_df)\n",
    "df_cleaned.reset_index(drop=True, inplace=True)\n",
    "\n",
    "check_nan_inf(df_cleaned)\n",
    "\n",
    "df_cleaned.shape"
   ]
  },
  {
   "cell_type": "markdown",
   "metadata": {},
   "source": [
    "Now we get a clustering with SPONGE algorithm"
   ]
  },
  {
   "cell_type": "code",
   "execution_count": 81,
   "metadata": {},
   "outputs": [],
   "source": [
    "import sys\n",
    "\n",
    "sys.path.append('C:/Users/33640/OneDrive/Documents/GitHub/Portfolio_clustering_project')  # Ajoute le chemin parent\n",
    "\n",
    "from signet.cluster import Cluster \n",
    "from scipy import sparse\n",
    "def signed_adjency(mat):\n",
    "    '''\n",
    "    L'idée est ici, à partir d'une matrice de corrélation mat, de renvoyer deux matrices \n",
    "    A_positive et A_negative qui correspondraient aux matrices des corrélations positives et négatives \n",
    "    associées  \n",
    "    '''\n",
    "\n",
    "    A_pos = mat.applymap(lambda x: x if x >= 0 else 0)\n",
    "    A_neg = mat.applymap(lambda x: abs(x) if x < 0 else 0)\n",
    "    \n",
    "    return A_pos, A_neg\n",
    "def apply_SPONGE(correlation_matrix, k): \n",
    "\n",
    "    '''\n",
    "    IDÉE : étant donné une matrice de correlation obtenue à partir d'une base de donnée et de la similarité de pearson, renvoyer un vecteur associant \n",
    "           à chaque actif le numéro du cluster auquel il appartient une fois qu'on lui a appliqué SPONGE (à partir du package signet)\n",
    "\n",
    "    PARAMS : \n",
    "\n",
    "    - correlation_matrix : a square dataframe of size (number_of_stocks, number_of_stocks)\n",
    "    - k : the number of clusters to identify. If a list is given, the output is a corresponding list\n",
    "\n",
    "    RETURNS : array of int, or list of array of int: Output assignment to clusters.\n",
    "\n",
    "    '''\n",
    "    \n",
    "    ## On respecte le format imposé par signet. Pour cela il faut changer le type des matrices A_pos et A_neg, qui ne peuvent pas rester des dataframes \n",
    "\n",
    "    A_pos, A_neg = signed_adjency(correlation_matrix)\n",
    "\n",
    "    A_pos_sparse = sparse.csc_matrix(A_pos.values)\n",
    "    A_neg_sparse = sparse.csc_matrix(A_neg.values)\n",
    "\n",
    "    data = (A_pos_sparse, A_neg_sparse)\n",
    "\n",
    "    cluster = Cluster(data)\n",
    "\n",
    "    ## On applique la méthode SPONGE : clusters the graph using the Signed Positive Over Negative Generalised Eigenproblem (SPONGE) clustering.\n",
    "\n",
    "    return cluster.SPONGE(k )"
   ]
  },
  {
   "cell_type": "markdown",
   "metadata": {},
   "source": [
    "we divide the timeframe in 28 periods of 200 days (the last one is 132 days only) and run SPONGE to make 28 clusterings"
   ]
  },
  {
   "cell_type": "code",
   "execution_count": 104,
   "metadata": {},
   "outputs": [],
   "source": [
    "\n",
    "data_period=[]\n",
    "result=[]\n",
    "for i in range(28):\n",
    "    start_col = i * 200 + 1  # Commence à partir de la deuxième colonne\n",
    "    end_col = start_col + 200\n",
    "\n",
    "    # Vérifie si la fin de la tranche dépasse le nombre de colonnes\n",
    "    if end_col > len(df_cleaned.columns):\n",
    "        end_col = len(df_cleaned.columns)  # Ajuste pour ne pas dépasser\n",
    "    \n",
    "    data_period.append(df_cleaned.iloc[:, start_col:end_col]) \n",
    "\n",
    "    returns_transposed = data_period[i].transpose()\n",
    "\n",
    "    # Calculer la matrice de corrélation sur les actifs transposés\n",
    "    correlation_matrix = returns_transposed.corr(method='pearson')\n",
    "    result.append(apply_SPONGE(correlation_matrix, k=9))\n",
    "\n"
   ]
  },
  {
   "cell_type": "markdown",
   "metadata": {},
   "source": [
    "Now we use  hierarchical clustering to construct a clustering from the 28 clusterings we made"
   ]
  },
  {
   "cell_type": "code",
   "execution_count": 105,
   "metadata": {},
   "outputs": [
    {
     "name": "stdout",
     "output_type": "stream",
     "text": [
      "[0 0 1 0 1 0 4 0 8 4 2 0 0 0 0 0 5 1 0 0 0 0 0 0 0 2 0 0 0 6 0 0 5 0 8 0 2\n",
      " 0 5 0 8 5 5 0 0 7 5 0 0 1 0 0 0 0 1 0 0 0 5 1 0 1 5 0 0 0 0 5 3 3 0 0 0 1\n",
      " 0 8 0 0 0 1 1 0 0 5 0 4 0 0 0 0 8 0 4 0 0 1 0 0 7 7 4 6 2 0 4 0 0 4 3 0 0\n",
      " 6 0 2 0 4 6 5 5 0 0 6 0 2 0 0 0 5 1 0 5 0 3 4 2 0 0 0 0 7 0 0 7 0 0 7 0 0\n",
      " 5 0 6 3 8 4 4 6 0 0 0 0 4 0 5 4 1 0 0 0 0 0 6 6 5 5 6 0 5 0 4 7 0 0 0 0 0\n",
      " 0 0 0 2 0 2 2 2 0 0 4 0 0 0 1 0 0 5 5 0 8 2 0 0 0 0 0 0 0 0 0 0 0 0 0 0 7\n",
      " 4 0 0 0 0 0 0 8 0 0 2 6 0 5 0 4 0 0 7 5 7 8 0 0 0 0 6 0 0 5 0 4 0 4 1 0 0\n",
      " 7 0 4 0 0 2 0 0 0 2 6 0 0 3 2 0 0 0 0 0 1 0 0 0 0 0 4 0 0 0 0 5 4 0 0 4 2\n",
      " 1 5 3 0 3 2 0 0 3 2 1 0 1 0 0 0 4 0 0 5 2 0 5 0 5 5 0 0 0 0 0 3 2 1 7 0 0\n",
      " 0 1 5 0 3 3 0 3 3 0 3 3 3 4 0 0 0 0 7 3 4 0 3 3 3 1 6 7 0 0 0 0 0 0 0 0 3\n",
      " 3 3 6 3 3 0 3 3 0 3 3 3 3 3 6 0 3 0 8 6 5 4 5 0 0 5 5 0 0 0 6 0 7 0 0 3 1\n",
      " 0 0 3 0 5 2 0 0 4 5 0 3 6 6 0 0 0 0 6 0 8 4 4 5 6 4 7 1 7 4 1 0 0 2 0 0 7\n",
      " 0 0 0 5 3 3 0 4 0 4 0 4 7 5 5 0 0 6 0 2 0 7 0 0 5 0 0 0 0 6 0 0 2 2 0 0 0\n",
      " 2 0 0 6 0 0 0 0 0 0 2 8 0 0 0 7 0 5 4 0 8 0 5 0 6 5 0 0 0 0 4 0 0 5 8 0 4\n",
      " 2 0 0 2 0 0 6 5 0 0 0 6 5 0 0 1 1 0 0 2 6 0 0 8 0 2 0 0 0 0 0 0 0 6 0 0 0\n",
      " 0 2 0 6 0 1 0 6 0 0 2 0 0 2 5 0 5 0 5 0 1 0 1 0 0 0 0 0 2 0 3 0 3 6 0 0 3\n",
      " 5 0 0 5 0 8 0 0 0 0 4 0 0 0 0 6 0 1 0 5 0 0 2 0 0 0 0 0 6 0 0 0 4 4 1 0 6\n",
      " 0 0 8]\n"
     ]
    },
    {
     "name": "stderr",
     "output_type": "stream",
     "text": [
      "C:\\Users\\33640\\AppData\\Local\\Temp/ipykernel_25820/2933028627.py:31: ClusterWarning: scipy.cluster: The symmetric non-negative hollow observation matrix looks suspiciously like an uncondensed distance matrix\n",
      "  Z = linkage(squareform(distance_condensed), method='average')\n"
     ]
    }
   ],
   "source": [
    "import numpy as np\n",
    "from scipy.cluster.hierarchy import linkage, fcluster\n",
    "from scipy.spatial.distance import squareform\n",
    "\n",
    "# Supposons que vous avez une liste de listes, où chaque sous-liste est un des 28 clusterings\n",
    "# Chaque sous-liste contient 632 éléments avec des valeurs de 0 à 9\n",
    "clusterings = result  # Remplacez ceci par vos données de clustering\n",
    "\n",
    "# Convertir les résultats de clustering en une matrice de co-occurrence\n",
    "n_data = 632\n",
    "co_occurrence_matrix = np.zeros((n_data, n_data))\n",
    "\n",
    "for clustering in clusterings:\n",
    "    for i in range(n_data):\n",
    "        for j in range(n_data):\n",
    "            if clustering[i] == clustering[j]:\n",
    "                co_occurrence_matrix[i, j] += 1\n",
    "\n",
    "# Convertir en matrice de similarité\n",
    "similarity_matrix = co_occurrence_matrix / len(clusterings)\n",
    "\n",
    "# Convertir la matrice de similarité en matrice de distance\n",
    "distance_matrix = 1 - similarity_matrix\n",
    "\n",
    "# Convertir la matrice de distance en format condensé pour la fonction linkage\n",
    "# car linkage attend une matrice de distance condensée pour les données non euclidiennes\n",
    "tri_upper_idx = np.triu_indices(n_data, k=1)\n",
    "distance_condensed = distance_matrix[tri_upper_idx]\n",
    "\n",
    "# Effectuer le clustering hiérarchique\n",
    "Z = linkage(squareform(distance_condensed), method='average')\n",
    "\n",
    "# Former des clusters\n",
    "# Vous pouvez ajuster le 't' pour obtenir le nombre de clusters souhaité\n",
    "clusters = fcluster(Z, t=9, criterion='maxclust')\n",
    "clusters=clusters-1\n",
    "# Afficher les clusters\n",
    "print(clusters)"
   ]
  },
  {
   "cell_type": "markdown",
   "metadata": {},
   "source": [
    "Now we want to run markowitz on our portfolio, we need to get the returns and the covariance matrix of the returns of each asset, but before we need to get the composition of each cluster which is a combination of multiple assets. "
   ]
  },
  {
   "cell_type": "code",
   "execution_count": 106,
   "metadata": {},
   "outputs": [
    {
     "name": "stdout",
     "output_type": "stream",
     "text": [
      "[68, 69, 108, 132, 151, 272, 298, 300, 304, 327, 337, 338, 340, 341, 343, 344, 345, 352, 355, 356, 357, 369, 370, 371, 373, 374, 376, 377, 379, 380, 381, 382, 383, 386, 405, 409, 418, 448, 449, 585, 587, 591]\n"
     ]
    }
   ],
   "source": [
    "cluster_comp=[[],[],[],[],[],[],[],[],[]]\n",
    "cluster_comp2=[]\n",
    "for c in range(632):\n",
    "    cluster_comp[clusters[c]].append(df_cleaned.iloc[c, 0])\n",
    "for cluster in cluster_comp:\n",
    "    cluster_indices = [df_cleaned.index[df_cleaned['ticker'] == element].tolist() for element in cluster]\n",
    "    cluster_comp2.append([index for sublist in cluster_indices for index in sublist])\n",
    "\n",
    "\n",
    "\n",
    "print(cluster_comp2[3])"
   ]
  },
  {
   "cell_type": "markdown",
   "metadata": {},
   "source": [
    "Now we compute the intracluster weights with gaussianweight"
   ]
  },
  {
   "cell_type": "code",
   "execution_count": 107,
   "metadata": {},
   "outputs": [],
   "source": [
    "\n",
    "# Fonction pour calculer la distance gaussienne\n",
    "def gaussian_distance(x, y, sigma):\n",
    "    return np.exp(-np.linalg.norm(x - y)**2 / (2 * sigma**2))\n",
    "\n",
    "\n",
    "# Paramètre sigma pour la distance gaussienne\n",
    "sigma = 1.0  # vous pouvez ajuster cette valeur\n",
    "\n",
    "# Calculer les poids pour chaque élément dans chaque cluster\n",
    "cluster_weights = []\n",
    "for cluster in cluster_comp2:\n",
    "    cluster_data = df_without_first_column.iloc[cluster, :]\n",
    "    cluster_center = cluster_data.mean()  # Calcul du centre du cluster\n",
    "    if isinstance(cluster_data, pd.Series):\n",
    "        cluster_data = pd.DataFrame([cluster_data])\n",
    "    weights = np.array([np.exp(- 2*(gaussian_distance(row, cluster_center, sigma)**2)) for _, row in cluster_data.iterrows()])\n",
    "    weights_normalized = weights / weights.sum()\n",
    "    cluster_weights.append(weights_normalized)"
   ]
  },
  {
   "cell_type": "code",
   "execution_count": 108,
   "metadata": {},
   "outputs": [
    {
     "name": "stdout",
     "output_type": "stream",
     "text": [
      "[0.00342803346626694, 0.0027003325337977137, 0.024925983147876613, 0.003430287296109731, 0.03760080276408378, 0.0010265756490040838, 0.016869428660835444, 0.0018268497260530935, 0.07165328426391877, 0.021620976204285623, 0.03242293646691621, 0.0023666535669290565, 0.0025489996670799266, 0.004335329375009703, 0.0030412777794537327, 0.004101761640541757, 0.0190881519086567, 0.033088466664930975, 0.002694799277105192, 0.0037703298255496024, 0.002103114286262196, 0.0018792229011134656, 0.004353588279805855, 0.0018534965239900502, 0.0028442606924653745, 0.031126461917735698, 0.0032505420345885546, 0.004023369797315107, 0.002536511374164698, 0.022392000184836093, 0.0018316797922898552, 0.0025901537444293363, 0.012483841006891346, 0.002750559743771264, 0.04595203361268621, 0.0020273619893994574, 0.03306195699511693, 0.0024763817543921323, 0.019722187129342126, 0.0019333981616588428, 0.0682284995085667, 0.028018474079050008, 0.011708798593968462, 0.003017888442775482, 0.0018654726930022304, 0.03408271156117704, 0.024436045091697986, 0.004424543417937309, 0.002112753353157583, 0.02039269824155912, 0.0023369890180334435, 0.0027464441200715753, 0.002341252525899034, 0.0030970352720032152, 0.027859702055959026, 0.0035044006792615675, 0.003867474764457205, 0.002048825063258783, 0.020518702257409725, 0.027702033670127784, 0.0020732898170945906, 0.02863898420514327, 0.01862831518459206, 0.0036414212388677096, 0.0016867893458041535, 0.00246597012168697, 0.003646585004235358, 0.02068045661691445, 0.03144708914147416, 0.023881431541610446, 0.0025750261086725716, 0.002076969202953427, 0.0016876776284772228, 0.030395355535697163, 0.0020616749523214095, 0.08347841236790358, 0.0025059993071782217, 0.0018746292454197492, 0.0019836079636009365, 0.04840380167656681, 0.02443610193278271, 0.0019596755323872494, 0.002647230296802778, 0.011505686570010583, 0.004189212726439477, 0.028930695496207137, 0.001806064449227273, 0.0019218441824348613, 0.0025569007720342538, 0.00423381664376751, 0.08967773742954505, 0.0020204070183153194, 0.030841675326486295, 0.0028543648172506806, 0.002321620941515582, 0.04671844190014155, 0.004316827006822739, 0.0043727703017637475, 0.05712641041233459, 0.04968491113210399, 0.022547210178351155, 0.03064430616867795, 0.03354130657842991, 0.004021102546456748, 0.02726762941889606, 0.002729368934750956, 0.0035068361988083137, 0.03118622508796275, 0.033511887723384225, 0.0025593887573110733, 0.0018571442450967255, 0.03696356644252166, 0.003463263712787621, 0.02180911734384232, 0.002196719087865572, 0.02650557094829149, 0.03907495104735733, 0.023006974791950616, 0.011497561569487478, 0.001833324349420365, 0.0043988381156570165, 0.03910664925188328, 0.0035768550670028736, 0.033532054107465945, 0.001945593634069137, 0.002226780979836911, 0.00408334175514991, 0.019406897060033235, 0.033939567659131184, 0.0019127839305832237, 0.02416333615278143, 0.0037095134294807372, 0.028961653459092136, 0.018028960618086592, 0.029591993632639466, 0.0017961067685359744, 0.0024658418119653846, 0.004293083095938966, 0.0022176312639566563, 0.041350388985068924, 0.0038117090660897343, 0.0017111031071547788, 0.0568437967344823, 0.0018717312402599228, 0.0029986975524560686, 0.04013377740025266, 0.0016512377320667512, 0.0031689658563624815, 0.019742514032737645, 0.0027907100088796653, 0.0302665993488965, 0.022722257722081404, 0.045574580292843024, 0.018097275986906726, 0.021122719124427366, 0.01902963579055651, 0.004136849933377088, 0.003747605037854814, 0.0031405834475999976, 0.0016797220193531049, 0.015900194000680903, 0.0020076802446257185, 0.012900466987021261, 0.04314787164180856, 0.03371032426611928, 0.00347406279216403, 0.002123045792230687, 0.001913550974484771, 0.001614005436986516, 0.00441313186120942, 0.0191744402087314, 0.02455588784141529, 0.02168478881240229, 0.012437540921931329, 0.029734986816301684, 0.002661416112324364, 0.011732450551952673, 0.0016528336618699714, 0.022613387073245613, 0.03832537564475357, 0.001220773981846177, 0.0010746451007693954, 0.0010723109954362518, 0.0014015160061147988, 0.0011289350957377434, 0.003475517313909833, 0.0031914115377372795, 0.004319280930101445, 0.03351479523909303, 0.0032609497084420663, 0.027531557470908654, 0.030709969030019862, 0.029012410453595948, 0.00279637843573093, 0.0018666277776630384, 0.02484246749255366, 0.004007750054877385, 0.0029675778230517248, 0.0023641035579614095, 0.020908906989362864, 0.003109086676679777, 0.004089607874086494, 0.028095202154157835, 0.011319670475438434, 0.003209330083465262, 0.04028889131097722, 0.024080454051374357, 0.0017522291688009724, 0.0010639772496607836, 0.0037523137813659075, 0.004313007498335744, 0.004098988508806765, 0.0019245287025157988, 0.00220622410837089, 0.004299015441595376, 0.0017017953383031445, 0.0036135940300634473, 0.0018465721917256019, 0.0021083308195026795, 0.0036172684409472985, 0.0034264625338781473, 0.03730553574928355, 0.02137901174452866, 0.0031069360584952362, 0.0038743986288801205, 0.0015361213882665935, 0.004105144084982235, 0.0023508464845518316, 0.0039021384263951504, 0.05387296035451235, 0.0034621195362298453, 0.0019636405868757732, 0.021420101259631886, 0.02540735959650829, 0.0026108848787450537, 0.013240908140964514, 0.0019363101046042548, 0.020862077116329984, 0.0035022811613738517, 0.004096908207111432, 0.03804761750747463, 0.012072585569906804, 0.03568229138865609, 0.08951948127654054, 0.001253725513723987, 0.0028861412377893876, 0.002931442516346805, 0.001844199061691044, 0.02373678128040768, 0.002195373072840168, 0.002263777163610593, 0.013719332450486885, 0.0029132323068303827, 0.02871643183965602, 0.0034857098843130247, 0.02495587558409922, 0.05716681293356791, 0.00395789442443225, 0.004073108470713607, 0.050420602667502167, 0.0017087402759781481, 0.021673996436510835, 0.0018052315729670959, 0.002220960737003404, 0.028343215836801564, 0.002273314067252705, 0.004412561728835874, 0.0016312335428105035, 0.02842474333549979, 0.03917244784955075, 0.002442169084396755, 0.003358013705227745, 0.018926514748556573, 0.01871915148162661, 0.0032886859657377423, 0.0015214436612078, 0.004119900589373527, 0.0038338513884904877, 0.0020285639931745085, 0.018183345789735857, 0.0029864227780356713, 0.002442127758250103, 0.002387249947533763, 0.0024789836232650135, 0.0034799990484447353, 0.025635776672947266, 0.003969600079233049, 0.00194787870174573, 0.00260418661467239, 0.0037810504618801576, 0.017098635759207663, 0.02277790103077433, 0.0025066030504339904, 0.00385769117569988, 0.021384989271178396, 0.021467534908528235, 0.03882127782703098, 0.0124061687733957, 0.02210062833685725, 0.0031725766973923967, 0.0220899469619578, 0.033892968718292116, 0.0019114044622518004, 0.0038909650268017996, 0.0222353436305171, 0.03246374828925088, 0.03750106025416853, 0.002832973705454343, 0.027535835927880323, 0.0023865282769391255, 0.0038519280298565436, 0.0037027486013680375, 0.019501586179235055, 0.002340420399352161, 0.004141120866217907, 0.02323252981661516, 0.033399283786635064, 0.002945920234641784, 0.023584827975795156, 0.004157569443797661, 0.011828855260355637, 0.027981692596053223, 0.0025453646102389735, 0.002300673216945136, 0.0026862856593481096, 0.0030504511157791445, 0.004387987088995353, 0.019084307872193847, 0.015444829789085455, 0.03494000614768663, 0.02872604692286466, 0.004119997096140714, 0.0020943185830273993, 0.003442121256229607, 0.025765433129201796, 0.020326336325041265, 0.0022416156418844967, 0.020499870528548323, 0.029488226560793522, 0.0023865586600967546, 0.024986203538807216, 0.028580774290119928, 0.0027397688185794274, 0.0202996965183443, 0.02293527788664918, 0.018831498331397627, 0.02493284457685079, 0.002383592713684113, 0.002073624107225053, 0.0014787320830147307, 0.002862957672773576, 0.038830025710419123, 0.025039613893492605, 0.030621079615245655, 0.0027979520159167283, 0.0198641537162979, 0.02202159659491458, 0.021410244886401572, 0.02567777266349132, 0.01984593365338383, 0.033367952154004725, 0.002892946186761797, 0.002395029081461486, 0.004421745069446889, 0.003171030249928515, 0.003999650276189728, 0.0020130147634375415, 0.004332493181945979, 0.004222814255258829, 0.02282359670038336, 0.022355961140876644, 0.01972166163217037, 0.02122865163384593, 0.02634919546618428, 0.02286377278371367, 0.001969040052815532, 0.020428219185733416, 0.02089873249201069, 0.00396045064240465, 0.023028146491040374, 0.049097641843150804, 0.01916336193644148, 0.021358609511280248, 0.019281606587355508, 0.03726428183158068, 0.00404482281290159, 0.026293573234551063, 0.003233441207956951, 0.054257809306620615, 0.02177209086120209, 0.02109807338053196, 0.0235493551601448, 0.01907767693572661, 0.0020979505053608286, 0.004388799920546007, 0.020881871217090144, 0.012305748398680259, 0.0022570396747954935, 0.002719611101457215, 0.002481814821811744, 0.03865936052241336, 0.0022316222516301104, 0.03961897665510417, 0.0028788204462615024, 0.004029616358373541, 0.019847177185543213, 0.022273012027637387, 0.002607944856005705, 0.003511104072176697, 0.025162682379891537, 0.003311263771225468, 0.011585093076224682, 0.033711282919534805, 0.004329236832864415, 0.004109557035298025, 0.021691007497688024, 0.03284369470227322, 0.004059157938737767, 0.02757785794775482, 0.03157958028005578, 0.02395432775606489, 0.00320388180220888, 0.0019847927073391378, 0.003964760867667909, 0.002549741456296368, 0.017914857026432772, 0.003962362069035093, 0.045974985626631895, 0.06324770222385132, 0.021827276926779646, 0.03742279193626209, 0.01358853929249055, 0.021222939106708093, 0.07196206304238108, 0.025091824664914757, 0.06314056646615183, 0.021434651638827244, 0.03568605690615168, 0.0018963623124596538, 0.0015218199969114713, 0.018380956698295595, 0.0037897717282363227, 0.002869419371405236, 0.03727606889328794, 0.0034713471885614074, 0.0031944758689390223, 0.001999708449138189, 0.027790655152130424, 0.025119540143630936, 0.019339807717357497, 0.002623974217589975, 0.034612018291169895, 0.002028017985227092, 0.0193169779263717, 0.0016172986367025137, 0.02233131284939126, 0.03469513072255186, 0.011869292829262202, 0.01328189516788539, 0.003404395270580965, 0.0039997754558601046, 0.02405910611071898, 0.002576911539079775, 0.03385323582901868, 0.0036074377654456177, 0.052149925354369124, 0.004419150328586555, 0.0023441470613495045, 0.012985735793354193, 0.004417187528383406, 0.0022337488766314344, 0.00400307434063753, 0.002539732702629928, 0.033802499258398726, 0.002671816201534115, 0.00294959264526565, 0.014477849299170691, 0.021843144072447876, 0.0025075636185061707, 0.0033963785224703246, 0.0022250367954473895, 0.021388554645933713, 0.0020723311792189597, 0.002216001851757659, 0.03577801728248234, 0.00303231761979566, 0.0022034148399347427, 0.0012781780126849738, 0.0015940088977558756, 0.0021143309385171483, 0.0043575279542820014, 0.02635904032928249, 0.062077695439280184, 0.003377391966274996, 0.0027025169881614215, 0.004405150883599454, 0.12122982489577615, 0.002163137632282333, 0.019172380822274213, 0.03005074523890849, 0.0025396986805576735, 0.07852807821075951, 0.00225885948748207, 0.020656029963049705, 0.004176690803574294, 0.01704860897520691, 0.022050988799180896, 0.0037995501581674336, 0.0025650953596938536, 0.001699659713477667, 0.0039288444179855705, 0.017147248078017156, 0.0018397896262400937, 0.001706718351455889, 0.015803938298718234, 0.052916130636041066, 0.0008276107200501584, 0.024551470604380066, 0.033596879698841384, 0.0025032239567643385, 0.004248673517781913, 0.02100650340266502, 0.0022452120801894518, 0.0028462431777366024, 0.022544465581179587, 0.016102107659083768, 0.004120751669515153, 0.001826597001881094, 0.003289199812120573, 0.036941493594694105, 0.01954428704447264, 0.001557867163226871, 0.0032877648981318093, 0.030406767281071563, 0.032295885544797905, 0.0015651376275615109, 0.001987937782673528, 0.022920662599914068, 0.03612452755132524, 0.0034862031666559627, 0.0014605064880306058, 0.03969856593870834, 0.004414425570713639, 0.032963521495449594, 0.00394334117397089, 0.003967115703782663, 0.002099709854804695, 0.0036718297618539074, 0.004009541463275129, 0.0034906043377877964, 0.0022963355769862245, 0.035858394444931566, 0.0027487799343854234, 0.002576809117239573, 0.0022899831472987407, 0.0034368474430203286, 0.016318697179065318, 0.0031470297155091202, 0.025030003162530144, 0.0028815233286639008, 0.053565833551816676, 0.002103427328456892, 0.03868512430915604, 0.004077707769682931, 0.0032044759982419115, 0.03379733232602859, 0.0027957763848948085, 0.0010863906780577601, 0.03201320508890953, 0.01366839609823974, 0.00438993964661634, 0.020398335238357518, 0.002973103431575117, 0.02007549112832908, 0.00433531418380217, 0.01622789106763218, 0.004193365277402186, 0.03744823669116398, 0.0031146908070974815, 0.0018619734023740848, 0.001561491226812451, 0.0040231881519361325, 0.001976162536159851, 0.025822978043984732, 0.0027750358256946705, 0.026843979366919287, 0.002132243780722913, 0.022651268546957523, 0.02732578039099778, 0.002064664963608337, 0.0025639106708142114, 0.020875389823561692, 0.012963469522449958, 0.0016668347382672887, 0.0036023531103891344, 0.027864389175293786, 0.0033763551977598087, 0.04227120034072701, 0.002867238551415529, 0.0029803302600027544, 0.003817795554570224, 0.004290060522769943, 0.017486801003868572, 0.0031039301081764526, 0.0025036047851067778, 0.004166939050771421, 0.0027401834764177162, 0.03639168947160362, 0.0027272650854279763, 0.02706670176406193, 0.0044111970376726276, 0.012287723044879776, 0.0036465241808361962, 0.0026421890551836967, 0.018035565678968097, 0.0028035157549505117, 0.0032493876537758952, 0.002244556909180311, 0.004177027828605747, 0.0010960718187742985, 0.008885786365634302, 0.0012226211305578002, 0.0008797643473186375, 0.0013699377228580992, 0.015298304505540318, 0.014268331621971742, 0.01562507511850637, 0.0009937580357015992, 0.016457268816026407, 0.003601948076430906, 0.0022084786940444892, 0.036029654083737914]\n"
     ]
    }
   ],
   "source": [
    "normalized_weights=[0 for i in range(632)]\n",
    "for i in range(len(cluster_comp2)):\n",
    "    for j in range(len(cluster_comp2[i])):\n",
    "        normalized_weights[cluster_comp2[i][j]]=cluster_weights[i][j]\n",
    "\n",
    "print(normalized_weights)"
   ]
  },
  {
   "cell_type": "markdown",
   "metadata": {},
   "source": [
    "We get the means of the returns of each cluster, and the covariance of the returns of the clusters."
   ]
  },
  {
   "cell_type": "code",
   "execution_count": 109,
   "metadata": {},
   "outputs": [
    {
     "name": "stdout",
     "output_type": "stream",
     "text": [
      "(9, 5531)\n",
      "          0         1         2         3         4         5         6  \\\n",
      "0  0.002496  0.001268  0.002016  0.000240  0.000928  0.002145  0.002363   \n",
      "1  0.001268  0.001172  0.001083  0.000154  0.000818  0.001144  0.001176   \n",
      "2  0.002016  0.001083  0.002048  0.000206  0.000838  0.001780  0.002157   \n",
      "3  0.000240  0.000154  0.000206  0.000405  0.000156  0.000279  0.000289   \n",
      "4  0.000928  0.000818  0.000838  0.000156  0.001199  0.001096  0.000944   \n",
      "5  0.002145  0.001144  0.001780  0.000279  0.001096  0.003091  0.001981   \n",
      "6  0.002363  0.001176  0.002157  0.000289  0.000944  0.001981  0.005126   \n",
      "7  0.000701  0.000384  0.000596  0.000320  0.000324  0.000727  0.000809   \n",
      "8  0.001086  0.000557  0.001059  0.000273  0.000510  0.001030  0.001974   \n",
      "\n",
      "          7         8  \n",
      "0  0.000701  0.001086  \n",
      "1  0.000384  0.000557  \n",
      "2  0.000596  0.001059  \n",
      "3  0.000320  0.000273  \n",
      "4  0.000324  0.000510  \n",
      "5  0.000727  0.001030  \n",
      "6  0.000809  0.001974  \n",
      "7  0.000848  0.000571  \n",
      "8  0.000571  0.002699  \n",
      "0    1.854111\n",
      "1    9.336844\n",
      "2    1.654973\n",
      "3    0.170749\n",
      "4    8.864064\n",
      "5    5.015114\n",
      "6   -0.719469\n",
      "7    0.726881\n",
      "8   -0.877521\n",
      "dtype: float64\n"
     ]
    }
   ],
   "source": [
    "return_clusters = pd.DataFrame(columns=df_cleaned.columns[1:])\n",
    "\n",
    "# Remplissage du nouveau DataFrame avec les moyennes des colonnes pour chaque cluster\n",
    "for k in range(9):\n",
    "    # Sélection des lignes appartenant au cluster k\n",
    "    rows_in_cluster = df_cleaned.iloc[cluster_comp2[k]]\n",
    "\n",
    "    # Calcul de la moyenne pour chaque colonne, en excluant la première colonne\n",
    "    mean_values = (rows_in_cluster.iloc[:, 1:].mul(cluster_weights[k], axis=0)).sum()\n",
    "\n",
    "    # Ajout des moyennes calculées au nouveau DataFrame\n",
    "    return_clusters.loc[k] = mean_values\n",
    "\n",
    "print(return_clusters.shape)\n",
    "returns_transposed = return_clusters.transpose()\n",
    "\n",
    "# Calculer la matrice de corrélation sur les actifs transposés\n",
    "correlation_matrix = returns_transposed.cov()*np.sqrt(252)\n",
    "\n",
    "\n",
    "annual_expected_returns=(return_clusters + 1).prod(axis=1)-1\n",
    "\n",
    "# Afficher la matrice de corrélation\n",
    "print(correlation_matrix)\n",
    "print(annual_expected_returns)"
   ]
  },
  {
   "cell_type": "markdown",
   "metadata": {},
   "source": [
    "We run Markowitz"
   ]
  },
  {
   "cell_type": "code",
   "execution_count": 110,
   "metadata": {},
   "outputs": [
    {
     "name": "stdout",
     "output_type": "stream",
     "text": [
      "OrderedDict([(0, 0.0), (1, 0.58907), (2, 0.0), (3, 0.0), (4, 0.41093), (5, 0.0), (6, 0.0), (7, 0.0), (8, 0.0)])\n"
     ]
    }
   ],
   "source": [
    "from module1 import markowitz\n",
    "\n",
    "weights=markowitz(annual_expected_returns, correlation_matrix)\n",
    "\n",
    "print(weights)"
   ]
  },
  {
   "cell_type": "markdown",
   "metadata": {},
   "source": [
    "Our final cumulated(daily) PnL and our Sharpe Ratio "
   ]
  },
  {
   "cell_type": "code",
   "execution_count": 111,
   "metadata": {},
   "outputs": [
    {
     "data": {
      "text/plain": [
       "(return_0        0.985690\n",
       " return_1        0.984650\n",
       " return_2        1.001461\n",
       " return_3        1.015362\n",
       " return_4        1.038689\n",
       "                  ...    \n",
       " return_5526    10.377445\n",
       " return_5527    10.430285\n",
       " return_5528    10.457851\n",
       " return_5529    10.436657\n",
       " return_5530    10.458868\n",
       " Length: 5531, dtype: float64,\n",
       " 0.6724493231615052)"
      ]
     },
     "execution_count": 111,
     "metadata": {},
     "output_type": "execute_result"
    }
   ],
   "source": [
    "from module1 import portfolio_pnl_sharpe\n",
    "portfolio_pnl_sharpe(returns_transposed, weights, risk_free_rate=0.03)"
   ]
  }
 ],
 "metadata": {
  "kernelspec": {
   "display_name": "base",
   "language": "python",
   "name": "python3"
  },
  "language_info": {
   "codemirror_mode": {
    "name": "ipython",
    "version": 3
   },
   "file_extension": ".py",
   "mimetype": "text/x-python",
   "name": "python",
   "nbconvert_exporter": "python",
   "pygments_lexer": "ipython3",
   "version": "3.9.7"
  }
 },
 "nbformat": 4,
 "nbformat_minor": 2
}
