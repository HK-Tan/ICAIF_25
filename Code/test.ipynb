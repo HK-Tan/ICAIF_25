{
 "cells": [
  {
   "cell_type": "code",
   "execution_count": 1,
   "metadata": {},
   "outputs": [],
   "source": [
    "import pandas as pd \n",
    "import process\n",
    "import numpy as np \n",
    "# Jerome path : r'C:\\Users\\33640\\OneDrive\\Documents\\GitHub\\Portfolio_clustering_project\\Data\\DataBase.csv'\n",
    "# Nail path : '/Users/khelifanail/Documents/GitHub/Portfolio_clustering_project/Data/DataBase.csv'\n",
    "df = pd.read_csv(r'/Users/khelifanail/Documents/GitHub/Portfolio_clustering_project/Data/DataBase.csv')\n",
    "\n",
    "df.set_index('ticker', inplace=True)\n",
    "\n",
    "df.columns = pd.to_datetime(df.columns.str[1:], format='%Y%m%d').strftime('%d/%m/%Y')\n",
    "\n",
    "df_cleaned = df.fillna(0) # Utilisez la méthode fillna(0) pour remplacer les NaN par 0\n",
    "\n",
    "df_cleaned = df_cleaned.transpose() ## WE WANT COLUMNS TO BE VECTOR OF RETURN FOR A GIVEN TICKER"
   ]
  },
  {
   "cell_type": "code",
   "execution_count": 4,
   "metadata": {},
   "outputs": [],
   "source": [
    "from PyFolioC import PyFolio\n",
    "from PyFolioC import PyFolioC\n",
    "\n",
    "historical_data = df_cleaned\n",
    "number_of_repetitions = 10\n",
    "lookback_window = [0, 50]\n",
    "evaluation_window = 1\n",
    "number_of_clusters = 38\n",
    "clustering_method = 'SPONGE'\n",
    "sigma = 0.1\n",
    "eta = 0.1\n",
    "\n",
    "consolidated_W = PyFolioC(number_of_repetitions=number_of_repetitions, historical_data=df_cleaned, lookback_window=lookback_window, evaluation_window=evaluation_window, number_of_clusters=number_of_clusters, sigma=sigma, eta=eta, clustering_method=clustering_method)"
   ]
  },
  {
   "cell_type": "code",
   "execution_count": 6,
   "metadata": {},
   "outputs": [
    {
     "ename": "AttributeError",
     "evalue": "'PyFolioC' object has no attribute 'lookback_window_0'",
     "output_type": "error",
     "traceback": [
      "\u001b[0;31m---------------------------------------------------------------------------\u001b[0m",
      "\u001b[0;31mAttributeError\u001b[0m                            Traceback (most recent call last)",
      "\u001b[1;32m/Users/khelifanail/Documents/GitHub/Portfolio_clustering_project/Code/test.ipynb Cell 3\u001b[0m line \u001b[0;36m3\n\u001b[1;32m      <a href='vscode-notebook-cell:/Users/khelifanail/Documents/GitHub/Portfolio_clustering_project/Code/test.ipynb#W6sZmlsZQ%3D%3D?line=0'>1</a>\u001b[0m number_of_windows \u001b[39m=\u001b[39m \u001b[39m10\u001b[39m\n\u001b[0;32m----> <a href='vscode-notebook-cell:/Users/khelifanail/Documents/GitHub/Portfolio_clustering_project/Code/test.ipynb#W6sZmlsZQ%3D%3D?line=2'>3</a>\u001b[0m consolidated_W\u001b[39m.\u001b[39;49msliding_window(number_of_window\u001b[39m=\u001b[39;49mnumber_of_windows)\n",
      "File \u001b[0;32m~/Documents/GitHub/Portfolio_clustering_project/Code/PyFolioC.py:716\u001b[0m, in \u001b[0;36mPyFolioC.sliding_window\u001b[0;34m(self, number_of_window)\u001b[0m\n\u001b[1;32m    712\u001b[0m consolidated_portfolio \u001b[39m=\u001b[39m PyFolioC(number_of_repetitions\u001b[39m=\u001b[39m\u001b[39mself\u001b[39m\u001b[39m.\u001b[39mnumber_of_repetitions, historical_data\u001b[39m=\u001b[39m\u001b[39mself\u001b[39m\u001b[39m.\u001b[39mhistorical_data, lookback_window\u001b[39m=\u001b[39mlookback_window_0, evaluation_window\u001b[39m=\u001b[39m\u001b[39mself\u001b[39m\u001b[39m.\u001b[39mevaluation_window, number_of_clusters\u001b[39m=\u001b[39m\u001b[39mself\u001b[39m\u001b[39m.\u001b[39mnumber_of_clusters, sigma\u001b[39m=\u001b[39m\u001b[39mself\u001b[39m\u001b[39m.\u001b[39msigma, eta\u001b[39m=\u001b[39m\u001b[39mself\u001b[39m\u001b[39m.\u001b[39meta, clustering_method\u001b[39m=\u001b[39m\u001b[39mself\u001b[39m\u001b[39m.\u001b[39mclustering_method)\n\u001b[1;32m    714\u001b[0m overall_return \u001b[39m=\u001b[39m pd\u001b[39m.\u001b[39mconcat([overall_return, consolidated_portfolio\u001b[39m.\u001b[39mportfolio_return])\n\u001b[0;32m--> 716\u001b[0m lookback_window_0 \u001b[39m=\u001b[39m [\u001b[39mself\u001b[39m\u001b[39m.\u001b[39mlookback_window[\u001b[39m0\u001b[39m] \u001b[39m+\u001b[39m \u001b[39mself\u001b[39m\u001b[39m.\u001b[39mevaluation_window\u001b[39m*\u001b[39mi, \u001b[39mself\u001b[39;49m\u001b[39m.\u001b[39;49mlookback_window_0[\u001b[39m1\u001b[39m] \u001b[39m+\u001b[39m \u001b[39mself\u001b[39m\u001b[39m.\u001b[39mevaluation_window\u001b[39m*\u001b[39mi]\n\u001b[1;32m    718\u001b[0m PnL \u001b[39m=\u001b[39m np\u001b[39m.\u001b[39mconcatenate((PnL, np\u001b[39m.\u001b[39mreshape(np\u001b[39m.\u001b[39mcumprod(\u001b[39m1\u001b[39m \u001b[39m+\u001b[39m consolidated_portfolio\u001b[39m.\u001b[39mportfolio_return)\u001b[39m*\u001b[39mportfolio_value[\u001b[39m-\u001b[39m\u001b[39m1\u001b[39m] \u001b[39m-\u001b[39m portfolio_value[\u001b[39m-\u001b[39m\u001b[39m1\u001b[39m], (\u001b[39mself\u001b[39m\u001b[39m.\u001b[39mevaluation_window,))))\u001b[39m## car on réinvestit immédiatement après\u001b[39;00m\n\u001b[1;32m    719\u001b[0m daily_PnL \u001b[39m=\u001b[39m np\u001b[39m.\u001b[39mconcatenate((daily_PnL, np\u001b[39m.\u001b[39mreshape(np\u001b[39m.\u001b[39mcumprod(\u001b[39m1\u001b[39m \u001b[39m+\u001b[39m consolidated_portfolio\u001b[39m.\u001b[39mportfolio_return)\u001b[39m*\u001b[39mportfolio_value[\u001b[39m-\u001b[39m\u001b[39m1\u001b[39m] \u001b[39m-\u001b[39m portfolio_value[\u001b[39m-\u001b[39m\u001b[39m1\u001b[39m], (\u001b[39mself\u001b[39m\u001b[39m.\u001b[39mevaluation_window,))))\u001b[39m## car on réinvestit immédiatement après\u001b[39;00m\n",
      "\u001b[0;31mAttributeError\u001b[0m: 'PyFolioC' object has no attribute 'lookback_window_0'"
     ]
    }
   ],
   "source": [
    "number_of_windows = 10\n",
    "\n",
    "consolidated_W.sliding_window(number_of_window=number_of_windows)"
   ]
  },
  {
   "cell_type": "code",
   "execution_count": null,
   "metadata": {},
   "outputs": [],
   "source": []
  }
 ],
 "metadata": {
  "kernelspec": {
   "display_name": "Python 3",
   "language": "python",
   "name": "python3"
  },
  "language_info": {
   "codemirror_mode": {
    "name": "ipython",
    "version": 3
   },
   "file_extension": ".py",
   "mimetype": "text/x-python",
   "name": "python",
   "nbconvert_exporter": "python",
   "pygments_lexer": "ipython3",
   "version": "3.11.5"
  },
  "orig_nbformat": 4
 },
 "nbformat": 4,
 "nbformat_minor": 2
}
