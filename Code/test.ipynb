{
 "cells": [
  {
   "cell_type": "code",
   "execution_count": 1,
   "metadata": {},
   "outputs": [],
   "source": [
    "import pandas as pd \n",
    "import process\n",
    "import numpy as np \n",
    "# Jerome path : r'C:\\Users\\33640\\OneDrive\\Documents\\GitHub\\Portfolio_clustering_project\\Data\\DataBase.csv'\n",
    "# Nail path : '/Users/khelifanail/Documents/GitHub/Portfolio_clustering_project/Data/DataBase.csv'\n",
    "df = pd.read_csv(r'/Users/khelifanail/Documents/GitHub/Portfolio_clustering_project/Data/DataBase.csv')\n",
    "\n",
    "df.set_index('ticker', inplace=True)\n",
    "\n",
    "df.columns = pd.to_datetime(df.columns.str[1:], format='%Y%m%d').strftime('%d/%m/%Y')\n",
    "\n",
    "df_cleaned = df.fillna(0) # Utilisez la méthode fillna(0) pour remplacer les NaN par 0\n",
    "\n",
    "df_cleaned = df_cleaned.transpose() ## WE WANT COLUMNS TO BE VECTOR OF RETURN FOR A GIVEN TICKER"
   ]
  },
  {
   "cell_type": "code",
   "execution_count": 2,
   "metadata": {},
   "outputs": [],
   "source": [
    "from PyFolioC import PyFolio\n",
    "from PyFolioC import PyFolioC\n",
    "\n",
    "historical_data = df_cleaned\n",
    "number_of_repetitions = 10\n",
    "lookback_window = [0, 50]\n",
    "evaluation_window = 1\n",
    "number_of_clusters = 38\n",
    "cov_method = 'forecast'\n",
    "sigma = 0.1\n",
    "eta = 0.1\n",
    "lookback_window = [0, 200]\n",
    "evaluation_window = 1\n",
    "beta = 0.95\n",
    "K = 4  # Number of fold for the cross validation\n",
    "\n",
    "portfolio = PyFolioC(number_of_repetitions=number_of_repetitions, historical_data=historical_data, lookback_window=lookback_window, evaluation_window=evaluation_window, number_of_clusters=number_of_clusters, sigma=sigma, eta=eta, short_selling=True, cov_method=cov_method, beta=beta, number_folds=K)"
   ]
  },
  {
   "cell_type": "code",
   "execution_count": 6,
   "metadata": {},
   "outputs": [
    {
     "data": {
      "text/html": [
       "<div>\n",
       "<style scoped>\n",
       "    .dataframe tbody tr th:only-of-type {\n",
       "        vertical-align: middle;\n",
       "    }\n",
       "\n",
       "    .dataframe tbody tr th {\n",
       "        vertical-align: top;\n",
       "    }\n",
       "\n",
       "    .dataframe thead th {\n",
       "        text-align: right;\n",
       "    }\n",
       "</style>\n",
       "<table border=\"1\" class=\"dataframe\">\n",
       "  <thead>\n",
       "    <tr style=\"text-align: right;\">\n",
       "      <th>ticker</th>\n",
       "      <th>AA</th>\n",
       "      <th>ABM</th>\n",
       "      <th>ABT</th>\n",
       "      <th>ADI</th>\n",
       "      <th>ADM</th>\n",
       "      <th>ADX</th>\n",
       "      <th>AEE</th>\n",
       "      <th>AEG</th>\n",
       "      <th>AEM</th>\n",
       "      <th>AEP</th>\n",
       "      <th>...</th>\n",
       "      <th>XLI</th>\n",
       "      <th>XLK</th>\n",
       "      <th>XLP</th>\n",
       "      <th>XLU</th>\n",
       "      <th>XLV</th>\n",
       "      <th>XLY</th>\n",
       "      <th>XOM</th>\n",
       "      <th>XRX</th>\n",
       "      <th>YUM</th>\n",
       "      <th>ZTR</th>\n",
       "    </tr>\n",
       "  </thead>\n",
       "  <tbody>\n",
       "    <tr>\n",
       "      <th>weight</th>\n",
       "      <td>-0.00076</td>\n",
       "      <td>0.00155</td>\n",
       "      <td>0.0016</td>\n",
       "      <td>-0.00571</td>\n",
       "      <td>0.00284</td>\n",
       "      <td>0.0008</td>\n",
       "      <td>0.00025</td>\n",
       "      <td>0.00244</td>\n",
       "      <td>0.00439</td>\n",
       "      <td>-0.00032</td>\n",
       "      <td>...</td>\n",
       "      <td>0.00187</td>\n",
       "      <td>0.00123</td>\n",
       "      <td>0.00355</td>\n",
       "      <td>0.00116</td>\n",
       "      <td>0.00221</td>\n",
       "      <td>0.0</td>\n",
       "      <td>0.00296</td>\n",
       "      <td>0.00155</td>\n",
       "      <td>0.00019</td>\n",
       "      <td>0.00282</td>\n",
       "    </tr>\n",
       "  </tbody>\n",
       "</table>\n",
       "<p>1 rows × 695 columns</p>\n",
       "</div>"
      ],
      "text/plain": [
       "ticker       AA      ABM     ABT      ADI      ADM     ADX      AEE      AEG  \\\n",
       "weight -0.00076  0.00155  0.0016 -0.00571  0.00284  0.0008  0.00025  0.00244   \n",
       "\n",
       "ticker      AEM      AEP  ...      XLI      XLK      XLP      XLU      XLV  \\\n",
       "weight  0.00439 -0.00032  ...  0.00187  0.00123  0.00355  0.00116  0.00221   \n",
       "\n",
       "ticker  XLY      XOM      XRX      YUM      ZTR  \n",
       "weight  0.0  0.00296  0.00155  0.00019  0.00282  \n",
       "\n",
       "[1 rows x 695 columns]"
      ]
     },
     "execution_count": 6,
     "metadata": {},
     "output_type": "execute_result"
    }
   ],
   "source": [
    "portfolio.final_weights\n"
   ]
  },
  {
   "cell_type": "code",
   "execution_count": 46,
   "metadata": {},
   "outputs": [
    {
     "data": {
      "text/plain": [
       "False"
      ]
     },
     "execution_count": 46,
     "metadata": {},
     "output_type": "execute_result"
    }
   ],
   "source": [
    "consolidated_W = PyFolioC(number_of_repetitions=number_of_repetitions, historical_data=df_cleaned, lookback_window=lookback_window, evaluation_window=evaluation_window, number_of_clusters=number_of_clusters, sigma=sigma, eta=eta, clustering_method=clustering_method)"
   ]
  },
  {
   "cell_type": "code",
   "execution_count": null,
   "metadata": {},
   "outputs": [],
   "source": [
    "def calcul_somme(beta):\n",
    "\n",
    "    T = len(consolidated_W.historical_data.columns)\n",
    "    \n",
    "    res = np.zeros((len(df_column[0]), len(df_column[0])))\n",
    "\n",
    "    res = (1 - beta) / (1 - beta**T) * np.sum([(beta**(T-(t+1))) * np.outer(consolidated_W.historical_data[ticker], consolidated_W.historical_data[ticker]) for t, ticker in enumerate(consolidated_W.historical_data.columns)])\n",
    "\n",
    "    return res\n",
    "\n",
    "beta = 0.5\n",
    "\n",
    "res = calcul_somme(beta=beta)\n",
    "res \n"
   ]
  },
  {
   "cell_type": "code",
   "execution_count": null,
   "metadata": {},
   "outputs": [],
   "source": []
  }
 ],
 "metadata": {
  "kernelspec": {
   "display_name": "Python 3",
   "language": "python",
   "name": "python3"
  },
  "language_info": {
   "codemirror_mode": {
    "name": "ipython",
    "version": 3
   },
   "file_extension": ".py",
   "mimetype": "text/x-python",
   "name": "python",
   "nbconvert_exporter": "python",
   "pygments_lexer": "ipython3",
   "version": "3.11.5"
  },
  "orig_nbformat": 4
 },
 "nbformat": 4,
 "nbformat_minor": 2
}
