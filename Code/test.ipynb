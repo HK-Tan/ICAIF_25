{
 "cells": [
  {
   "cell_type": "code",
   "execution_count": 1,
   "metadata": {},
   "outputs": [],
   "source": [
    "import pandas as pd \n",
    "import process\n",
    "import numpy as np \n",
    "# Jerome path : r'C:\\Users\\33640\\OneDrive\\Documents\\GitHub\\Portfolio_clustering_project\\Data\\DataBase.csv'\n",
    "# Nail path : '/Users/khelifanail/Documents/GitHub/Portfolio_clustering_project/Data/DataBase.csv'\n",
    "df = pd.read_csv(r'/Users/khelifanail/Documents/GitHub/Portfolio_clustering_project/Data/DataBase.csv')\n",
    "\n",
    "df.set_index('ticker', inplace=True)\n",
    "\n",
    "df.columns = pd.to_datetime(df.columns.str[1:], format='%Y%m%d').strftime('%d/%m/%Y')\n",
    "\n",
    "df_cleaned = df.fillna(0) # Utilisez la méthode fillna(0) pour remplacer les NaN par 0\n",
    "\n",
    "df_cleaned = df_cleaned.transpose() ## WE WANT COLUMNS TO BE VECTOR OF RETURN FOR A GIVEN TICKER"
   ]
  },
  {
   "cell_type": "code",
   "execution_count": 2,
   "metadata": {},
   "outputs": [],
   "source": [
    "from PyFolioC import PyFolio\n",
    "from PyFolioC import PyFolioC\n",
    "\n",
    "historical_data = df_cleaned\n",
    "number_of_repetitions = 10\n",
    "lookback_window = [0, 50]\n",
    "evaluation_window = 1\n",
    "number_of_clusters = 38\n",
    "clustering_method = 'SPONGE'\n",
    "sigma = 0.1\n",
    "eta = 0.1\n",
    "\n",
    "consolidated_W = PyFolioC(number_of_repetitions=number_of_repetitions, historical_data=df_cleaned, lookback_window=lookback_window, evaluation_window=evaluation_window, number_of_clusters=number_of_clusters, sigma=sigma, eta=eta, clustering_method=clustering_method)"
   ]
  },
  {
   "cell_type": "code",
   "execution_count": 3,
   "metadata": {},
   "outputs": [
    {
     "name": "stdout",
     "output_type": "stream",
     "text": [
      "1.0050760388949835\n",
      "step 1\n",
      "1.0174667206497396\n",
      "step 2\n",
      "1.0204374643549046\n",
      "step 3\n",
      "1.0214975558848025\n",
      "step 4\n",
      "1.0268644685099002\n",
      "step 5\n",
      "1.0289464849451995\n",
      "step 6\n",
      "1.0316781275532032\n",
      "step 7\n",
      "1.030647349805002\n",
      "step 8\n",
      "1.031364100418817\n",
      "step 9\n",
      "1.0322720470544686\n",
      "step 10\n"
     ]
    },
    {
     "data": {
      "text/plain": [
       "(              return\n",
       " 15/03/2000  0.005076\n",
       " 16/03/2000  0.012328\n",
       " 17/03/2000  0.002920\n",
       " 20/03/2000  0.001039\n",
       " 21/03/2000  0.005254\n",
       " 22/03/2000  0.002028\n",
       " 23/03/2000  0.002655\n",
       " 24/03/2000 -0.000999\n",
       " 27/03/2000  0.000695\n",
       " 28/03/2000  0.000880,\n",
       " array([0.01, 0.02, 0.02, 0.02, 0.03, 0.03, 0.03, 0.03, 0.03, 0.03]),\n",
       " [1,\n",
       "  1.0050760388949835,\n",
       "  1.0174667206497396,\n",
       "  1.0204374643549046,\n",
       "  1.0214975558848025,\n",
       "  1.0268644685099002,\n",
       "  1.0289464849451995,\n",
       "  1.0316781275532032,\n",
       "  1.030647349805002,\n",
       "  1.031364100418817,\n",
       "  1.0322720470544686],\n",
       " array([ 0.01,  0.01,  0.  ,  0.  ,  0.01,  0.  ,  0.  , -0.  ,  0.  ,\n",
       "         0.  ]))"
      ]
     },
     "execution_count": 3,
     "metadata": {},
     "output_type": "execute_result"
    }
   ],
   "source": [
    "number_of_windows = 10\n",
    "\n",
    "consolidated_W.sliding_window(number_of_window=number_of_windows)"
   ]
  },
  {
   "cell_type": "code",
   "execution_count": null,
   "metadata": {},
   "outputs": [],
   "source": []
  }
 ],
 "metadata": {
  "kernelspec": {
   "display_name": "Python 3",
   "language": "python",
   "name": "python3"
  },
  "language_info": {
   "codemirror_mode": {
    "name": "ipython",
    "version": 3
   },
   "file_extension": ".py",
   "mimetype": "text/x-python",
   "name": "python",
   "nbconvert_exporter": "python",
   "pygments_lexer": "ipython3",
   "version": "3.11.5"
  },
  "orig_nbformat": 4
 },
 "nbformat": 4,
 "nbformat_minor": 2
}
