{
 "cells": [
  {
   "cell_type": "code",
   "execution_count": 1,
   "metadata": {},
   "outputs": [],
   "source": [
    "import pandas as pd \n",
    "import process\n",
    "import numpy as np \n",
    "# Jerome path : r'C:\\Users\\33640\\OneDrive\\Documents\\GitHub\\Portfolio_clustering_project\\Data\\DataBase.csv'\n",
    "# Nail path : '/Users/khelifanail/Documents/GitHub/Portfolio_clustering_project/Data/DataBase.csv'\n",
    "df = pd.read_csv(r'/Users/khelifanail/Documents/GitHub/Portfolio_clustering_project/Data/DataBase.csv')\n",
    "\n",
    "df.set_index('ticker', inplace=True)\n",
    "\n",
    "df.columns = pd.to_datetime(df.columns.str[1:], format='%Y%m%d').strftime('%d/%m/%Y')\n",
    "\n",
    "df_cleaned = df.fillna(0) # Utilisez la méthode fillna(0) pour remplacer les NaN par 0\n",
    "\n",
    "df_cleaned = df_cleaned.transpose() ## WE WANT COLUMNS TO BE VECTOR OF RETURN FOR A GIVEN TICKER"
   ]
  },
  {
   "cell_type": "code",
   "execution_count": 2,
   "metadata": {},
   "outputs": [],
   "source": [
    "from PyFolioC import PyFolio\n",
    "from PyFolioC import PyFolioC\n",
    "\n",
    "historical_data = df_cleaned\n",
    "number_of_repetitions = 10\n",
    "lookback_window = [0, 50]\n",
    "evaluation_window = 1\n",
    "number_of_clusters = 38\n",
    "clustering_method = 'SPONGE'\n",
    "sigma = 0.1\n",
    "eta = 0.1\n",
    "\n",
    "portfolio = PyFolio(historical_data=df_cleaned, lookback_window=lookback_window, evaluation_window=evaluation_window, number_of_clusters=number_of_clusters, sigma=sigma, eta=eta, clustering_method=clustering_method)"
   ]
  },
  {
   "cell_type": "code",
   "execution_count": 6,
   "metadata": {},
   "outputs": [
    {
     "data": {
      "text/html": [
       "<div>\n",
       "<style scoped>\n",
       "    .dataframe tbody tr th:only-of-type {\n",
       "        vertical-align: middle;\n",
       "    }\n",
       "\n",
       "    .dataframe tbody tr th {\n",
       "        vertical-align: top;\n",
       "    }\n",
       "\n",
       "    .dataframe thead th {\n",
       "        text-align: right;\n",
       "    }\n",
       "</style>\n",
       "<table border=\"1\" class=\"dataframe\">\n",
       "  <thead>\n",
       "    <tr style=\"text-align: right;\">\n",
       "      <th>ticker</th>\n",
       "      <th>BA</th>\n",
       "      <th>COHU</th>\n",
       "      <th>DY</th>\n",
       "      <th>LPX</th>\n",
       "      <th>MQY</th>\n",
       "      <th>MVF</th>\n",
       "      <th>MYD</th>\n",
       "      <th>MYI</th>\n",
       "      <th>O</th>\n",
       "      <th>PKI</th>\n",
       "      <th>...</th>\n",
       "      <th>BDX</th>\n",
       "      <th>DSU</th>\n",
       "      <th>IMAX</th>\n",
       "      <th>KFY</th>\n",
       "      <th>MHK</th>\n",
       "      <th>PBI</th>\n",
       "      <th>RHI</th>\n",
       "      <th>TK</th>\n",
       "      <th>UNM</th>\n",
       "      <th>VVI</th>\n",
       "    </tr>\n",
       "  </thead>\n",
       "  <tbody>\n",
       "    <tr>\n",
       "      <th>weight</th>\n",
       "      <td>0.000964</td>\n",
       "      <td>0.0</td>\n",
       "      <td>0.0</td>\n",
       "      <td>0.000242</td>\n",
       "      <td>0.000528</td>\n",
       "      <td>0.004011</td>\n",
       "      <td>0.002479</td>\n",
       "      <td>0.004569</td>\n",
       "      <td>0.002259</td>\n",
       "      <td>0.000004</td>\n",
       "      <td>...</td>\n",
       "      <td>0.000522</td>\n",
       "      <td>0.0024</td>\n",
       "      <td>0.000277</td>\n",
       "      <td>0.000386</td>\n",
       "      <td>0.000284</td>\n",
       "      <td>0.00016</td>\n",
       "      <td>0.000221</td>\n",
       "      <td>0.000393</td>\n",
       "      <td>0.000334</td>\n",
       "      <td>0.00056</td>\n",
       "    </tr>\n",
       "  </tbody>\n",
       "</table>\n",
       "<p>1 rows × 695 columns</p>\n",
       "</div>"
      ],
      "text/plain": [
       "ticker        BA  COHU   DY       LPX       MQY       MVF       MYD       MYI  \\\n",
       "weight  0.000964   0.0  0.0  0.000242  0.000528  0.004011  0.002479  0.004569   \n",
       "\n",
       "ticker         O       PKI  ...       BDX     DSU      IMAX       KFY  \\\n",
       "weight  0.002259  0.000004  ...  0.000522  0.0024  0.000277  0.000386   \n",
       "\n",
       "ticker       MHK      PBI       RHI        TK       UNM      VVI  \n",
       "weight  0.000284  0.00016  0.000221  0.000393  0.000334  0.00056  \n",
       "\n",
       "[1 rows x 695 columns]"
      ]
     },
     "execution_count": 6,
     "metadata": {},
     "output_type": "execute_result"
    }
   ],
   "source": [
    "consolidated_W"
   ]
  }
 ],
 "metadata": {
  "kernelspec": {
   "display_name": "Python 3",
   "language": "python",
   "name": "python3"
  },
  "language_info": {
   "codemirror_mode": {
    "name": "ipython",
    "version": 3
   },
   "file_extension": ".py",
   "mimetype": "text/x-python",
   "name": "python",
   "nbconvert_exporter": "python",
   "pygments_lexer": "ipython3",
   "version": "3.11.5"
  },
  "orig_nbformat": 4
 },
 "nbformat": 4,
 "nbformat_minor": 2
}
