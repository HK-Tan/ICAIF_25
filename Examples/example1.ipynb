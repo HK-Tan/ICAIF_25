{
 "cells": [
  {
   "cell_type": "code",
   "execution_count": 1,
   "metadata": {},
   "outputs": [],
   "source": [
    "import pandas as pd\n",
    "import numpy as np\n",
    "import yfinance as yf\n",
    "from sklearn.pipeline import Pipeline\n",
    "from sklearn.cluster import KMeans\n",
    "from sklearn.preprocessing import StandardScaler"
   ]
  },
  {
   "cell_type": "code",
   "execution_count": 2,
   "metadata": {},
   "outputs": [
    {
     "name": "stdout",
     "output_type": "stream",
     "text": [
      "[*********************100%%**********************]  198 of 198 completed\n"
     ]
    }
   ],
   "source": [
    "stock_symbols = [\"AAPL\", \"MSFT\", \"AMZN\", \"NVDA\", \"GOOGL\", \"TSLA\", \"META\", \"UNH\", \"JPM\", \"JNJ\", \"XOM\", \"V\", \"PG\", \"AVGO\", \"LLY\", \"HD\", \"MA\", \"CVX\", \"MRK\", \"ABBV\", \"PEP\", \"COST\", \"ADBE\", \"KO\", \"WMT\", \"BAC\", \"CSCO\", \"MCD\", \"TMO\", \"CRM\", \"ACN\", \"PFE\", \"NFLX\", \"CMCSA\", \"ABT\", \"LIN\", \"AMD\", \"ORCL\", \"DHR\", \"WFC\", \"DIS\", \"TXN\", \"PM\", \"CAT\", \"INTC\", \"NEE\", \"UNP\", \"INTU\", \"COP\", \"VZ\", \"LOW\", \"NKE\", \"QCOM\", \"UPS\", \"IBM\", \"BA\", \"BMY\", \"HON\", \"SPGI\", \"AMAT\", \"RTX\", \"AMGN\", \"GE\", \"SBUX\", \"GS\", \"MS\", \"DE\", \"NOW\", \"PLD\", \"MDT\", \"ELV\", \"ISRG\", \"BLK\", \"BKNG\", \"ADP\", \"MDLZ\", \"LMT\", \"T\", \"TJX\", \"AXP\", \"SCHW\", \"ADI\", \"CVS\", \"MMC\", \"GILD\", \"LRCX\", \"SYK\", \"VRTX\", \"C\", \"AMT\", \"ETN\", \"CI\", \"CB\", \"ZTS\", \"REGN\", \"SLB\", \"MO\", \"TMUS\", \"FI\", \"EOG\", \"BDX\", \"MU\", \"PGR\", \"SO\", \"BSX\", \"CME\", \"PANW\", \"PYPL\", \"EQIX\", \"DUK\", \"ITW\", \"KLAC\", \"SNPS\", \"CSX\", \"ATVI\", \"AON\", \"SHW\", \"CL\", \"NOC\", \"CDNS\", \"ICE\", \"APD\", \"FCX\", \"FDX\", \"TGT\", \"HUM\", \"WM\", \"MMM\", \"MCK\", \"MPC\", \"ORLY\", \"HCA\", \"NXPI\", \"USB\", \"EMR\", \"PXD\", \"PH\", \"PNC\", \"CMG\", \"MCO\", \"APH\", \"ROP\", \"MAR\", \"NSC\", \"GM\", \"F\", \"GD\", \"PSX\", \"MCHP\", \"FTNT\", \"CARR\", \"EW\", \"MSI\", \"AJG\", \"TT\", \"DXCM\", \"ADM\", \"TDG\", \"AZO\", \"VLO\", \"CCI\", \"PSA\", \"OXY\", \"SRE\", \"ECL\", \"TEL\", \"AIG\", \"ON\", \"PCAR\", \"MNST\", \"ANET\", \"CHTR\", \"GIS\", \"ADSK\", \"STZ\", \"NUE\", \"MSCI\", \"KMB\", \"CTAS\", \"COF\", \"TFC\", \"JCI\", \"AFL\", \"D\", \"IDXX\", \"AEP\", \"WMB\", \"WELL\", \"MET\", \"EXC\", \"HLT\", \"IQV\", \"PAYX\", \"EL\", \"CTVA\", \"O\", \"TRV\", \"ROST\"]\n",
    "\n",
    "n_stocks = len(stock_symbols) # number of stocks = 198\n",
    "\n",
    "start = \"2022-01-01\" # start date\n",
    "end = \"2022-12-01\" # end date\n",
    "\n",
    "df = pd.DataFrame(yf.download(stock_symbols, start, end)) # data on the 198 assets\n",
    "data = np.log(df[\"Close\"]/df[\"Open\"]).transpose() # compute the returns of these assets\n",
    "data = data.dropna()"
   ]
  },
  {
   "cell_type": "code",
   "execution_count": 3,
   "metadata": {},
   "outputs": [
    {
     "name": "stderr",
     "output_type": "stream",
     "text": [
      "/usr/local/lib/python3.11/site-packages/sklearn/cluster/_kmeans.py:1416: FutureWarning: The default value of `n_init` will change from 10 to 'auto' in 1.4. Set the value of `n_init` explicitly to suppress the warning\n",
      "  super()._check_params_vs_input(X, default_n_init=10)\n"
     ]
    },
    {
     "data": {
      "text/html": [
       "<style>#sk-container-id-1 {color: black;}#sk-container-id-1 pre{padding: 0;}#sk-container-id-1 div.sk-toggleable {background-color: white;}#sk-container-id-1 label.sk-toggleable__label {cursor: pointer;display: block;width: 100%;margin-bottom: 0;padding: 0.3em;box-sizing: border-box;text-align: center;}#sk-container-id-1 label.sk-toggleable__label-arrow:before {content: \"▸\";float: left;margin-right: 0.25em;color: #696969;}#sk-container-id-1 label.sk-toggleable__label-arrow:hover:before {color: black;}#sk-container-id-1 div.sk-estimator:hover label.sk-toggleable__label-arrow:before {color: black;}#sk-container-id-1 div.sk-toggleable__content {max-height: 0;max-width: 0;overflow: hidden;text-align: left;background-color: #f0f8ff;}#sk-container-id-1 div.sk-toggleable__content pre {margin: 0.2em;color: black;border-radius: 0.25em;background-color: #f0f8ff;}#sk-container-id-1 input.sk-toggleable__control:checked~div.sk-toggleable__content {max-height: 200px;max-width: 100%;overflow: auto;}#sk-container-id-1 input.sk-toggleable__control:checked~label.sk-toggleable__label-arrow:before {content: \"▾\";}#sk-container-id-1 div.sk-estimator input.sk-toggleable__control:checked~label.sk-toggleable__label {background-color: #d4ebff;}#sk-container-id-1 div.sk-label input.sk-toggleable__control:checked~label.sk-toggleable__label {background-color: #d4ebff;}#sk-container-id-1 input.sk-hidden--visually {border: 0;clip: rect(1px 1px 1px 1px);clip: rect(1px, 1px, 1px, 1px);height: 1px;margin: -1px;overflow: hidden;padding: 0;position: absolute;width: 1px;}#sk-container-id-1 div.sk-estimator {font-family: monospace;background-color: #f0f8ff;border: 1px dotted black;border-radius: 0.25em;box-sizing: border-box;margin-bottom: 0.5em;}#sk-container-id-1 div.sk-estimator:hover {background-color: #d4ebff;}#sk-container-id-1 div.sk-parallel-item::after {content: \"\";width: 100%;border-bottom: 1px solid gray;flex-grow: 1;}#sk-container-id-1 div.sk-label:hover label.sk-toggleable__label {background-color: #d4ebff;}#sk-container-id-1 div.sk-serial::before {content: \"\";position: absolute;border-left: 1px solid gray;box-sizing: border-box;top: 0;bottom: 0;left: 50%;z-index: 0;}#sk-container-id-1 div.sk-serial {display: flex;flex-direction: column;align-items: center;background-color: white;padding-right: 0.2em;padding-left: 0.2em;position: relative;}#sk-container-id-1 div.sk-item {position: relative;z-index: 1;}#sk-container-id-1 div.sk-parallel {display: flex;align-items: stretch;justify-content: center;background-color: white;position: relative;}#sk-container-id-1 div.sk-item::before, #sk-container-id-1 div.sk-parallel-item::before {content: \"\";position: absolute;border-left: 1px solid gray;box-sizing: border-box;top: 0;bottom: 0;left: 50%;z-index: -1;}#sk-container-id-1 div.sk-parallel-item {display: flex;flex-direction: column;z-index: 1;position: relative;background-color: white;}#sk-container-id-1 div.sk-parallel-item:first-child::after {align-self: flex-end;width: 50%;}#sk-container-id-1 div.sk-parallel-item:last-child::after {align-self: flex-start;width: 50%;}#sk-container-id-1 div.sk-parallel-item:only-child::after {width: 0;}#sk-container-id-1 div.sk-dashed-wrapped {border: 1px dashed gray;margin: 0 0.4em 0.5em 0.4em;box-sizing: border-box;padding-bottom: 0.4em;background-color: white;}#sk-container-id-1 div.sk-label label {font-family: monospace;font-weight: bold;display: inline-block;line-height: 1.2em;}#sk-container-id-1 div.sk-label-container {text-align: center;}#sk-container-id-1 div.sk-container {/* jupyter's `normalize.less` sets `[hidden] { display: none; }` but bootstrap.min.css set `[hidden] { display: none !important; }` so we also need the `!important` here to be able to override the default hidden behavior on the sphinx rendered scikit-learn.org. See: https://github.com/scikit-learn/scikit-learn/issues/21755 */display: inline-block !important;position: relative;}#sk-container-id-1 div.sk-text-repr-fallback {display: none;}</style><div id=\"sk-container-id-1\" class=\"sk-top-container\"><div class=\"sk-text-repr-fallback\"><pre>Pipeline(steps=[(&#x27;scaler&#x27;, StandardScaler()), (&#x27;kmeans&#x27;, KMeans(n_clusters=5))])</pre><b>In a Jupyter environment, please rerun this cell to show the HTML representation or trust the notebook. <br />On GitHub, the HTML representation is unable to render, please try loading this page with nbviewer.org.</b></div><div class=\"sk-container\" hidden><div class=\"sk-item sk-dashed-wrapped\"><div class=\"sk-label-container\"><div class=\"sk-label sk-toggleable\"><input class=\"sk-toggleable__control sk-hidden--visually\" id=\"sk-estimator-id-1\" type=\"checkbox\" ><label for=\"sk-estimator-id-1\" class=\"sk-toggleable__label sk-toggleable__label-arrow\">Pipeline</label><div class=\"sk-toggleable__content\"><pre>Pipeline(steps=[(&#x27;scaler&#x27;, StandardScaler()), (&#x27;kmeans&#x27;, KMeans(n_clusters=5))])</pre></div></div></div><div class=\"sk-serial\"><div class=\"sk-item\"><div class=\"sk-estimator sk-toggleable\"><input class=\"sk-toggleable__control sk-hidden--visually\" id=\"sk-estimator-id-2\" type=\"checkbox\" ><label for=\"sk-estimator-id-2\" class=\"sk-toggleable__label sk-toggleable__label-arrow\">StandardScaler</label><div class=\"sk-toggleable__content\"><pre>StandardScaler()</pre></div></div></div><div class=\"sk-item\"><div class=\"sk-estimator sk-toggleable\"><input class=\"sk-toggleable__control sk-hidden--visually\" id=\"sk-estimator-id-3\" type=\"checkbox\" ><label for=\"sk-estimator-id-3\" class=\"sk-toggleable__label sk-toggleable__label-arrow\">KMeans</label><div class=\"sk-toggleable__content\"><pre>KMeans(n_clusters=5)</pre></div></div></div></div></div></div></div>"
      ],
      "text/plain": [
       "Pipeline(steps=[('scaler', StandardScaler()), ('kmeans', KMeans(n_clusters=5))])"
      ]
     },
     "execution_count": 3,
     "metadata": {},
     "output_type": "execute_result"
    }
   ],
   "source": [
    "pipeline = Pipeline([\n",
    "    ('scaler', StandardScaler()),   # Étape de standardisation\n",
    "    ('kmeans', KMeans(n_clusters=5)) # Étape K-Means avec 3 clusters\n",
    "])\n",
    "\n",
    "pipeline.fit(data)"
   ]
  },
  {
   "cell_type": "code",
   "execution_count": 4,
   "metadata": {},
   "outputs": [
    {
     "name": "stderr",
     "output_type": "stream",
     "text": [
      "/var/folders/q2/wg5gyfhj2r9cd97zfmckktvw0000gn/T/ipykernel_30665/1173553783.py:2: FutureWarning: pandas.value_counts is deprecated and will be removed in a future version. Use pd.Series(obj).value_counts() instead.\n",
      "  pd.value_counts(labels)\n"
     ]
    },
    {
     "data": {
      "text/plain": [
       "2    83\n",
       "1    67\n",
       "4    23\n",
       "3    14\n",
       "0    11\n",
       "Name: count, dtype: int64"
      ]
     },
     "execution_count": 4,
     "metadata": {},
     "output_type": "execute_result"
    }
   ],
   "source": [
    "labels = pipeline.named_steps['kmeans'].labels_\n",
    "pd.value_counts(labels)"
   ]
  },
  {
   "cell_type": "code",
   "execution_count": null,
   "metadata": {},
   "outputs": [],
   "source": [
    "model = KMeans(n_clusters=5)\n",
    "A = multiple_clusterings(n_repeat=100, data=data, model=model)"
   ]
  }
 ],
 "metadata": {
  "kernelspec": {
   "display_name": "Python 3",
   "language": "python",
   "name": "python3"
  },
  "language_info": {
   "codemirror_mode": {
    "name": "ipython",
    "version": 3
   },
   "file_extension": ".py",
   "mimetype": "text/x-python",
   "name": "python",
   "nbconvert_exporter": "python",
   "pygments_lexer": "ipython3",
   "version": "3.11.5"
  },
  "orig_nbformat": 4
 },
 "nbformat": 4,
 "nbformat_minor": 2
}
